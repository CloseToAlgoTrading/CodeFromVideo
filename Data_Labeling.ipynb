{
 "cells": [
  {
   "cell_type": "code",
   "execution_count": 1,
   "metadata": {},
   "outputs": [
    {
     "name": "stdout",
     "output_type": "stream",
     "text": [
      "Populating the interactive namespace from numpy and matplotlib\n"
     ]
    }
   ],
   "source": [
    "import pandas_datareader as pdr\n",
    "import matplotlib.pyplot as plt\n",
    "import pandas as pd\n",
    "import datetime \n",
    "#from tqdm import tqdm_notebook as tqdm\n",
    "from tqdm import tqdm\n",
    "# This line is necessary for the plot to appear in a Jupyter notebook\n",
    "%matplotlib inline\n",
    "# Control the default size of figures in this Jupyter notebook\n",
    "%pylab inline\n",
    "pylab.rcParams['figure.figsize'] = (14, 9)   # Change the size of plots"
   ]
  },
  {
   "cell_type": "code",
   "execution_count": 2,
   "metadata": {},
   "outputs": [],
   "source": [
    "start_date = datetime.datetime(2000, 10, 1)\n",
    "end_date = datetime.datetime(2019, 10, 1)\n",
    "aapl = pdr.get_data_yahoo('AAPL', start=start_date, end=end_date)"
   ]
  },
  {
   "cell_type": "code",
   "execution_count": 3,
   "metadata": {},
   "outputs": [
    {
     "data": {
      "text/html": [
       "<div>\n",
       "<style scoped>\n",
       "    .dataframe tbody tr th:only-of-type {\n",
       "        vertical-align: middle;\n",
       "    }\n",
       "\n",
       "    .dataframe tbody tr th {\n",
       "        vertical-align: top;\n",
       "    }\n",
       "\n",
       "    .dataframe thead th {\n",
       "        text-align: right;\n",
       "    }\n",
       "</style>\n",
       "<table border=\"1\" class=\"dataframe\">\n",
       "  <thead>\n",
       "    <tr style=\"text-align: right;\">\n",
       "      <th></th>\n",
       "      <th>High</th>\n",
       "      <th>Low</th>\n",
       "      <th>Open</th>\n",
       "      <th>Close</th>\n",
       "      <th>Volume</th>\n",
       "      <th>Adj Close</th>\n",
       "    </tr>\n",
       "    <tr>\n",
       "      <th>Date</th>\n",
       "      <th></th>\n",
       "      <th></th>\n",
       "      <th></th>\n",
       "      <th></th>\n",
       "      <th></th>\n",
       "      <th></th>\n",
       "    </tr>\n",
       "  </thead>\n",
       "  <tbody>\n",
       "    <tr>\n",
       "      <th>2000-10-02</th>\n",
       "      <td>1.910714</td>\n",
       "      <td>1.678571</td>\n",
       "      <td>1.906250</td>\n",
       "      <td>1.732143</td>\n",
       "      <td>606197200.0</td>\n",
       "      <td>1.511664</td>\n",
       "    </tr>\n",
       "    <tr>\n",
       "      <th>2000-10-03</th>\n",
       "      <td>1.785714</td>\n",
       "      <td>1.584821</td>\n",
       "      <td>1.781250</td>\n",
       "      <td>1.593750</td>\n",
       "      <td>509530000.0</td>\n",
       "      <td>1.390887</td>\n",
       "    </tr>\n",
       "    <tr>\n",
       "      <th>2000-10-04</th>\n",
       "      <td>1.696429</td>\n",
       "      <td>1.562500</td>\n",
       "      <td>1.598214</td>\n",
       "      <td>1.687500</td>\n",
       "      <td>366506000.0</td>\n",
       "      <td>1.472704</td>\n",
       "    </tr>\n",
       "    <tr>\n",
       "      <th>2000-10-05</th>\n",
       "      <td>1.750000</td>\n",
       "      <td>1.571429</td>\n",
       "      <td>1.678571</td>\n",
       "      <td>1.575893</td>\n",
       "      <td>218251600.0</td>\n",
       "      <td>1.375302</td>\n",
       "    </tr>\n",
       "    <tr>\n",
       "      <th>2000-10-06</th>\n",
       "      <td>1.638393</td>\n",
       "      <td>1.500000</td>\n",
       "      <td>1.620536</td>\n",
       "      <td>1.584821</td>\n",
       "      <td>153164200.0</td>\n",
       "      <td>1.383095</td>\n",
       "    </tr>\n",
       "  </tbody>\n",
       "</table>\n",
       "</div>"
      ],
      "text/plain": [
       "                High       Low      Open     Close       Volume  Adj Close\n",
       "Date                                                                      \n",
       "2000-10-02  1.910714  1.678571  1.906250  1.732143  606197200.0   1.511664\n",
       "2000-10-03  1.785714  1.584821  1.781250  1.593750  509530000.0   1.390887\n",
       "2000-10-04  1.696429  1.562500  1.598214  1.687500  366506000.0   1.472704\n",
       "2000-10-05  1.750000  1.571429  1.678571  1.575893  218251600.0   1.375302\n",
       "2000-10-06  1.638393  1.500000  1.620536  1.584821  153164200.0   1.383095"
      ]
     },
     "execution_count": 3,
     "metadata": {},
     "output_type": "execute_result"
    }
   ],
   "source": [
    "aapl.head()"
   ]
  },
  {
   "cell_type": "code",
   "execution_count": 4,
   "metadata": {},
   "outputs": [
    {
     "data": {
      "text/plain": [
       "<matplotlib.axes._subplots.AxesSubplot at 0x1e7d8420898>"
      ]
     },
     "execution_count": 4,
     "metadata": {},
     "output_type": "execute_result"
    },
    {
     "data": {
      "image/png": "[encoded data removed]",
      "text/plain": [
       "<Figure size 432x288 with 1 Axes>"
      ]
     },
     "metadata": {
      "needs_background": "light"
     },
     "output_type": "display_data"
    }
   ],
   "source": [
    "aapl['Adj Close'].plot(grid = True) # Plot the adjusted closing price of AAPL\n"
   ]
  },
  {
   "cell_type": "code",
   "execution_count": 5,
   "metadata": {},
   "outputs": [],
   "source": [
    "# Short moving window rolling mean\n",
    "aapl['fast'] = aapl['Adj Close'].rolling(window=5).mean()\n",
    "# Short moving window rolling mean\n",
    "aapl['slow'] = aapl['Adj Close'].rolling(window=10).mean()\n"
   ]
  },
  {
   "cell_type": "code",
   "execution_count": 6,
   "metadata": {},
   "outputs": [],
   "source": [
    "def get_up_cross(df):\n",
    "    crit1 = df.fast.shift(1) < df.slow.shift(1)\n",
    "    crit2 = df.fast > df.slow\n",
    "    return df.fast[(crit1) & (crit2)]\n",
    "\n",
    "def get_down_cross(df):\n",
    "    crit1 = df.fast.shift(1) > df.slow.shift(1)\n",
    "    crit2 = df.fast < df.slow\n",
    "    return df.fast[(crit1) & (crit2)]"
   ]
  },
  {
   "cell_type": "code",
   "execution_count": 7,
   "metadata": {},
   "outputs": [
    {
     "data": {
      "text/plain": [
       "<matplotlib.legend.Legend at 0x1e7d879c208>"
      ]
     },
     "execution_count": 7,
     "metadata": {},
     "output_type": "execute_result"
    },
    {
     "data": {
      "image/png": "[encoded data removed]",
      "text/plain": [
       "<Figure size 792x576 with 1 Axes>"
      ]
     },
     "metadata": {
      "needs_background": "light"
     },
     "output_type": "display_data"
    }
   ],
   "source": [
    "up = get_up_cross(aapl)\n",
    "down = get_down_cross(aapl)\n",
    "\n",
    "f, ax = plt.subplots(figsize=(11,8))\n",
    "\n",
    "# Plot the adjusted closing price, the short and long windows of rolling means\n",
    "aapl[['Adj Close', 'fast', 'slow']].plot(ax=ax, grid=True)\n",
    "\n",
    "up.plot(ax=ax,ls='',marker='^', markersize=7,\n",
    "                     alpha=0.75, label='upcross', color='g')\n",
    "down.plot(ax=ax,ls='',marker='v', markersize=7, \n",
    "                       alpha=0.75, label='downcross', color='r')\n",
    "\n",
    "ax.legend()"
   ]
  },
  {
   "cell_type": "code",
   "execution_count": 8,
   "metadata": {},
   "outputs": [
    {
     "data": {
      "text/plain": [
       "243"
      ]
     },
     "metadata": {},
     "output_type": "display_data"
    },
    {
     "data": {
      "text/plain": [
       "242"
      ]
     },
     "metadata": {},
     "output_type": "display_data"
    }
   ],
   "source": [
    "display(len(up.index), len(down.index))"
   ]
  },
  {
   "cell_type": "code",
   "execution_count": 9,
   "metadata": {},
   "outputs": [
    {
     "data": {
      "text/plain": [
       "Date\n",
       "2000-11-01    1\n",
       "2000-11-10   -1\n",
       "2000-12-27    1\n",
       "2001-02-07   -1\n",
       "2001-03-02    1\n",
       "dtype: int64"
      ]
     },
     "metadata": {},
     "output_type": "display_data"
    },
    {
     "data": {
      "text/plain": [
       "(485,)"
      ]
     },
     "metadata": {},
     "output_type": "display_data"
    }
   ],
   "source": [
    "# Creates a labebls\n",
    "side_up = pd.Series(1, index=up.index).dropna()\n",
    "side_down = pd.Series(-1, index=down.index).dropna()\n",
    "side = pd.concat([side_up,side_down]).sort_index()\n",
    "display(side[:5], side.shape)"
   ]
  },
  {
   "cell_type": "code",
   "execution_count": 10,
   "metadata": {},
   "outputs": [
    {
     "data": {
      "text/plain": [
       "DatetimeIndex(['2000-11-01', '2000-11-10', '2000-12-27', '2001-02-07',\n",
       "               '2001-03-02'],\n",
       "              dtype='datetime64[ns]', name='Date', freq=None)"
      ]
     },
     "execution_count": 10,
     "metadata": {},
     "output_type": "execute_result"
    }
   ],
   "source": [
    "crossEvents = side.index\n",
    "crossEvents[:5]"
   ]
  },
  {
   "cell_type": "code",
   "execution_count": 11,
   "metadata": {},
   "outputs": [
    {
     "data": {
      "text/plain": [
       "Date\n",
       "2000-10-02    1.511664\n",
       "2000-10-03    1.390887\n",
       "2000-10-04    1.472704\n",
       "2000-10-05    1.375302\n",
       "2000-10-06    1.383095\n",
       "Name: Adj Close, dtype: float64"
      ]
     },
     "execution_count": 11,
     "metadata": {},
     "output_type": "execute_result"
    }
   ],
   "source": [
    "adj_close = aapl['Adj Close']\n",
    "adj_close[:5]"
   ]
  },
  {
   "cell_type": "code",
   "execution_count": 12,
   "metadata": {},
   "outputs": [],
   "source": [
    "def metaLabling(close, startEvents, side, verticalBarrier = None, SL = None, TP = None):\n",
    "    if verticalBarrier is None:\n",
    "        verticalBarrier = pd.Series(close.index[-1], index=startEvents)\n",
    "        \n",
    "    if TP is None:\n",
    "        TP = 10.0\n",
    "\n",
    "    if SL is None:\n",
    "        SL = 10.0\n",
    "\n",
    "    ret = pd.DataFrame(columns=['touch_tp', 'raw_return', 'p_return', 'side'], index=startEvents)\n",
    "    t_touch = 0\n",
    "    r_ret = 0\n",
    "    p_ret = 0\n",
    "    \n",
    "    for t0 in tqdm(startEvents):\n",
    "   # for t0 in startEvents:\n",
    "        window=close[t0:verticalBarrier[t0]]\n",
    "        \n",
    "        if(side[t0] == 1):\n",
    "            trgHi = close[t0] * TP\n",
    "            trgLow = close[t0] * SL\n",
    "        else:\n",
    "            trgHi = close[t0] * SL\n",
    "            trgLow = close[t0] * TP\n",
    "        \n",
    "        fabove = window >= (trgHi+close[t0])\n",
    "        fbelow = window <= (close[t0]-trgLow)\n",
    "        \n",
    "        hiTouch = window[fabove].index.min()\n",
    "        lowTouch = window[fbelow].index.min()\n",
    "        \n",
    "        #print('ht',(hiTouch))\n",
    "        #print('lt',(lowTouch))\n",
    "        \n",
    "        if ((pd.isnull(hiTouch)) and (pd.isnull(lowTouch))):\n",
    "            #display('vertical barrier or infinit')\n",
    "            t_touch = 0\n",
    "            r_ret = close[verticalBarrier[t0]]\n",
    "            \n",
    "        elif (pd.isnull(hiTouch) and (not pd.isnull(lowTouch))):\n",
    "            #display('low touch')\n",
    "            t_touch = -1 \n",
    "            r_ret = close[lowTouch]\n",
    "        elif (not pd.isnull(hiTouch) and (pd.isnull(lowTouch))):\n",
    "            #display('hi touch')\n",
    "            t_touch = 1 \n",
    "            r_ret = close[hiTouch]\n",
    "        elif(hiTouch < lowTouch):\n",
    "            #display('HI')\n",
    "            t_touch = 1\n",
    "            r_ret = close[hiTouch]\n",
    "        else:\n",
    "           # display('LOW')\n",
    "            t_touch = -1\n",
    "            r_ret = close[lowTouch]\n",
    "\n",
    "            \n",
    "        ret.loc[t0].touch_tp = t_touch * side[t0]\n",
    "        ret.loc[t0].raw_return = abs(r_ret - close[t0]) * ret.loc[t0].touch_tp\n",
    "        ret.loc[t0].p_return = abs(r_ret / close[t0] - 1 ) * ret.loc[t0].touch_tp\n",
    "        ret.loc[t0].side = side[t0]\n",
    "\n",
    "        \n",
    "    return ret\n",
    "    "
   ]
  },
  {
   "cell_type": "code",
   "execution_count": 13,
   "metadata": {},
   "outputs": [
    {
     "name": "stderr",
     "output_type": "stream",
     "text": [
      "100%|████████████████████████████████████████████████████████████████████████████████| 485/485 [00:06<00:00, 74.22it/s]\n"
     ]
    },
    {
     "data": {
      "text/html": [
       "<div>\n",
       "<style scoped>\n",
       "    .dataframe tbody tr th:only-of-type {\n",
       "        vertical-align: middle;\n",
       "    }\n",
       "\n",
       "    .dataframe tbody tr th {\n",
       "        vertical-align: top;\n",
       "    }\n",
       "\n",
       "    .dataframe thead th {\n",
       "        text-align: right;\n",
       "    }\n",
       "</style>\n",
       "<table border=\"1\" class=\"dataframe\">\n",
       "  <thead>\n",
       "    <tr style=\"text-align: right;\">\n",
       "      <th></th>\n",
       "      <th>touch_tp</th>\n",
       "      <th>raw_return</th>\n",
       "      <th>p_return</th>\n",
       "      <th>side</th>\n",
       "    </tr>\n",
       "    <tr>\n",
       "      <th>Date</th>\n",
       "      <th></th>\n",
       "      <th></th>\n",
       "      <th></th>\n",
       "      <th></th>\n",
       "    </tr>\n",
       "  </thead>\n",
       "  <tbody>\n",
       "    <tr>\n",
       "      <th>2000-11-01</th>\n",
       "      <td>1</td>\n",
       "      <td>0.112985</td>\n",
       "      <td>0.0884147</td>\n",
       "      <td>1</td>\n",
       "    </tr>\n",
       "    <tr>\n",
       "      <th>2000-11-10</th>\n",
       "      <td>-1</td>\n",
       "      <td>-0.0194805</td>\n",
       "      <td>-0.0163937</td>\n",
       "      <td>-1</td>\n",
       "    </tr>\n",
       "    <tr>\n",
       "      <th>2000-12-27</th>\n",
       "      <td>1</td>\n",
       "      <td>0.0974008</td>\n",
       "      <td>0.105485</td>\n",
       "      <td>1</td>\n",
       "    </tr>\n",
       "    <tr>\n",
       "      <th>2001-02-07</th>\n",
       "      <td>1</td>\n",
       "      <td>0.101297</td>\n",
       "      <td>0.078313</td>\n",
       "      <td>-1</td>\n",
       "    </tr>\n",
       "    <tr>\n",
       "      <th>2001-03-02</th>\n",
       "      <td>1</td>\n",
       "      <td>0.0701286</td>\n",
       "      <td>0.0584414</td>\n",
       "      <td>1</td>\n",
       "    </tr>\n",
       "    <tr>\n",
       "      <th>2001-03-14</th>\n",
       "      <td>1</td>\n",
       "      <td>0.0467522</td>\n",
       "      <td>0.036697</td>\n",
       "      <td>-1</td>\n",
       "    </tr>\n",
       "    <tr>\n",
       "      <th>2001-03-21</th>\n",
       "      <td>1</td>\n",
       "      <td>0.0935049</td>\n",
       "      <td>0.0745341</td>\n",
       "      <td>1</td>\n",
       "    </tr>\n",
       "    <tr>\n",
       "      <th>2001-04-03</th>\n",
       "      <td>1</td>\n",
       "      <td>0.0461287</td>\n",
       "      <td>0.036561</td>\n",
       "      <td>-1</td>\n",
       "    </tr>\n",
       "    <tr>\n",
       "      <th>2001-04-12</th>\n",
       "      <td>-1</td>\n",
       "      <td>-0.0610901</td>\n",
       "      <td>-0.0437111</td>\n",
       "      <td>1</td>\n",
       "    </tr>\n",
       "    <tr>\n",
       "      <th>2001-05-08</th>\n",
       "      <td>1</td>\n",
       "      <td>0.0367788</td>\n",
       "      <td>0.0240131</td>\n",
       "      <td>-1</td>\n",
       "    </tr>\n",
       "  </tbody>\n",
       "</table>\n",
       "</div>"
      ],
      "text/plain": [
       "           touch_tp raw_return   p_return side\n",
       "Date                                          \n",
       "2000-11-01        1   0.112985  0.0884147    1\n",
       "2000-11-10       -1 -0.0194805 -0.0163937   -1\n",
       "2000-12-27        1  0.0974008   0.105485    1\n",
       "2001-02-07        1   0.101297   0.078313   -1\n",
       "2001-03-02        1  0.0701286  0.0584414    1\n",
       "2001-03-14        1  0.0467522   0.036697   -1\n",
       "2001-03-21        1  0.0935049  0.0745341    1\n",
       "2001-04-03        1  0.0461287   0.036561   -1\n",
       "2001-04-12       -1 -0.0610901 -0.0437111    1\n",
       "2001-05-08        1  0.0367788  0.0240131   -1"
      ]
     },
     "execution_count": 13,
     "metadata": {},
     "output_type": "execute_result"
    }
   ],
   "source": [
    "df_met = metaLabling(adj_close, crossEvents, side, None, 0.010, 0.015)\n",
    "df_met.head(10)"
   ]
  },
  {
   "cell_type": "code",
   "execution_count": 14,
   "metadata": {},
   "outputs": [
    {
     "data": {
      "text/html": [
       "<div>\n",
       "<style scoped>\n",
       "    .dataframe tbody tr th:only-of-type {\n",
       "        vertical-align: middle;\n",
       "    }\n",
       "\n",
       "    .dataframe tbody tr th {\n",
       "        vertical-align: top;\n",
       "    }\n",
       "\n",
       "    .dataframe thead th {\n",
       "        text-align: right;\n",
       "    }\n",
       "</style>\n",
       "<table border=\"1\" class=\"dataframe\">\n",
       "  <thead>\n",
       "    <tr style=\"text-align: right;\">\n",
       "      <th></th>\n",
       "      <th>High</th>\n",
       "      <th>Low</th>\n",
       "      <th>Open</th>\n",
       "      <th>Close</th>\n",
       "      <th>Volume</th>\n",
       "      <th>Adj Close</th>\n",
       "      <th>fast</th>\n",
       "      <th>slow</th>\n",
       "      <th>touch_tp</th>\n",
       "      <th>raw_return</th>\n",
       "      <th>p_return</th>\n",
       "      <th>side</th>\n",
       "    </tr>\n",
       "    <tr>\n",
       "      <th>Date</th>\n",
       "      <th></th>\n",
       "      <th></th>\n",
       "      <th></th>\n",
       "      <th></th>\n",
       "      <th></th>\n",
       "      <th></th>\n",
       "      <th></th>\n",
       "      <th></th>\n",
       "      <th></th>\n",
       "      <th></th>\n",
       "      <th></th>\n",
       "      <th></th>\n",
       "    </tr>\n",
       "  </thead>\n",
       "  <tbody>\n",
       "    <tr>\n",
       "      <th>2000-11-01</th>\n",
       "      <td>1.491071</td>\n",
       "      <td>1.388393</td>\n",
       "      <td>1.388393</td>\n",
       "      <td>1.464286</td>\n",
       "      <td>143841600.0</td>\n",
       "      <td>1.277901</td>\n",
       "      <td>1.202318</td>\n",
       "      <td>1.200760</td>\n",
       "      <td>1</td>\n",
       "      <td>0.112985</td>\n",
       "      <td>0.0884147</td>\n",
       "      <td>1</td>\n",
       "    </tr>\n",
       "    <tr>\n",
       "      <th>2000-11-10</th>\n",
       "      <td>1.419643</td>\n",
       "      <td>1.361607</td>\n",
       "      <td>1.382812</td>\n",
       "      <td>1.361607</td>\n",
       "      <td>105562800.0</td>\n",
       "      <td>1.188292</td>\n",
       "      <td>1.272447</td>\n",
       "      <td>1.284135</td>\n",
       "      <td>-1</td>\n",
       "      <td>-0.0194805</td>\n",
       "      <td>-0.0163937</td>\n",
       "      <td>-1</td>\n",
       "    </tr>\n",
       "    <tr>\n",
       "      <th>2000-12-27</th>\n",
       "      <td>1.058036</td>\n",
       "      <td>1.013393</td>\n",
       "      <td>1.024554</td>\n",
       "      <td>1.058036</td>\n",
       "      <td>81366600.0</td>\n",
       "      <td>0.923362</td>\n",
       "      <td>0.909336</td>\n",
       "      <td>0.901934</td>\n",
       "      <td>1</td>\n",
       "      <td>0.0974008</td>\n",
       "      <td>0.105485</td>\n",
       "      <td>1</td>\n",
       "    </tr>\n",
       "    <tr>\n",
       "      <th>2001-02-07</th>\n",
       "      <td>1.491071</td>\n",
       "      <td>1.415179</td>\n",
       "      <td>1.475446</td>\n",
       "      <td>1.482143</td>\n",
       "      <td>98471800.0</td>\n",
       "      <td>1.293485</td>\n",
       "      <td>1.294265</td>\n",
       "      <td>1.298940</td>\n",
       "      <td>1</td>\n",
       "      <td>0.101297</td>\n",
       "      <td>0.078313</td>\n",
       "      <td>-1</td>\n",
       "    </tr>\n",
       "    <tr>\n",
       "      <th>2001-03-02</th>\n",
       "      <td>1.459821</td>\n",
       "      <td>1.303571</td>\n",
       "      <td>1.308036</td>\n",
       "      <td>1.375000</td>\n",
       "      <td>101550400.0</td>\n",
       "      <td>1.199981</td>\n",
       "      <td>1.185955</td>\n",
       "      <td>1.177773</td>\n",
       "      <td>1</td>\n",
       "      <td>0.0701286</td>\n",
       "      <td>0.0584414</td>\n",
       "      <td>1</td>\n",
       "    </tr>\n",
       "  </tbody>\n",
       "</table>\n",
       "</div>"
      ],
      "text/plain": [
       "                High       Low      Open     Close       Volume  Adj Close  \\\n",
       "Date                                                                         \n",
       "2000-11-01  1.491071  1.388393  1.388393  1.464286  143841600.0   1.277901   \n",
       "2000-11-10  1.419643  1.361607  1.382812  1.361607  105562800.0   1.188292   \n",
       "2000-12-27  1.058036  1.013393  1.024554  1.058036   81366600.0   0.923362   \n",
       "2001-02-07  1.491071  1.415179  1.475446  1.482143   98471800.0   1.293485   \n",
       "2001-03-02  1.459821  1.303571  1.308036  1.375000  101550400.0   1.199981   \n",
       "\n",
       "                fast      slow touch_tp raw_return   p_return side  \n",
       "Date                                                                \n",
       "2000-11-01  1.202318  1.200760        1   0.112985  0.0884147    1  \n",
       "2000-11-10  1.272447  1.284135       -1 -0.0194805 -0.0163937   -1  \n",
       "2000-12-27  0.909336  0.901934        1  0.0974008   0.105485    1  \n",
       "2001-02-07  1.294265  1.298940        1   0.101297   0.078313   -1  \n",
       "2001-03-02  1.185955  1.177773        1  0.0701286  0.0584414    1  "
      ]
     },
     "execution_count": 14,
     "metadata": {},
     "output_type": "execute_result"
    }
   ],
   "source": [
    "aapl_f = pd.merge(aapl, df_met, left_index=True, right_index=True)\n",
    "aapl_f.head()"
   ]
  },
  {
   "cell_type": "code",
   "execution_count": 15,
   "metadata": {},
   "outputs": [
    {
     "data": {
      "text/plain": [
       "'before:'"
      ]
     },
     "metadata": {},
     "output_type": "display_data"
    },
    {
     "data": {
      "text/plain": [
       "-1    254\n",
       " 1    231\n",
       "Name: touch_tp, dtype: int64"
      ]
     },
     "metadata": {},
     "output_type": "display_data"
    },
    {
     "data": {
      "text/plain": [
       "'after:'"
      ]
     },
     "metadata": {},
     "output_type": "display_data"
    },
    {
     "data": {
      "text/plain": [
       "0    307\n",
       "1    178\n",
       "Name: touch_tp, dtype: int64"
      ]
     },
     "metadata": {},
     "output_type": "display_data"
    }
   ],
   "source": [
    "display(\"before:\", aapl_f.touch_tp.value_counts())\n",
    "f = aapl_f.raw_return < 0.10\n",
    "aapl_f.loc[f,'touch_tp'] = 0\n",
    "f = aapl_f.touch_tp == -1\n",
    "aapl_f.loc[f,'touch_tp'] = 0\n",
    "aapl_f[f].head()\n",
    "display(\"after:\", aapl_f.touch_tp.value_counts())"
   ]
  },
  {
   "cell_type": "code",
   "execution_count": 16,
   "metadata": {},
   "outputs": [
    {
     "data": {
      "text/plain": [
       "(485, 5)"
      ]
     },
     "execution_count": 16,
     "metadata": {},
     "output_type": "execute_result"
    }
   ],
   "source": [
    "X = aapl_f[['Volume', 'Adj Close', 'fast', 'slow', 'side']]\n",
    "y = aapl_f.touch_tp\n",
    "X.shape"
   ]
  },
  {
   "cell_type": "code",
   "execution_count": null,
   "metadata": {},
   "outputs": [],
   "source": []
  }
 ],
 "metadata": {
  "kernelspec": {
   "display_name": "Python (tf20)",
   "language": "python",
   "name": "tf20"
  },
  "language_info": {
   "codemirror_mode": {
    "name": "ipython",
    "version": 3
   },
   "file_extension": ".py",
   "mimetype": "text/x-python",
   "name": "python",
   "nbconvert_exporter": "python",
   "pygments_lexer": "ipython3",
   "version": "3.6.7"
  }
 },
 "nbformat": 4,
 "nbformat_minor": 2
}
