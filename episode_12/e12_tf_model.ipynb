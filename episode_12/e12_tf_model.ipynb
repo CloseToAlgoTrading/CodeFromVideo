{
 "nbformat": 4,
 "nbformat_minor": 2,
 "metadata": {
  "language_info": {
   "name": "python",
   "codemirror_mode": {
    "name": "ipython",
    "version": 3
   },
   "version": "3.7.6-final"
  },
  "orig_nbformat": 2,
  "file_extension": ".py",
  "mimetype": "text/x-python",
  "name": "python",
  "npconvert_exporter": "python",
  "pygments_lexer": "ipython3",
  "version": 3,
  "kernelspec": {
   "name": "python37664bittfxenvconda0aad0caa31dd4e6fadffbfaa0eb9db92",
   "display_name": "Python 3.7.6 64-bit ('tfx_env': conda)"
  }
 },
 "cells": [
  {
   "cell_type": "markdown",
   "metadata": {},
   "source": [
    "# Train Model"
   ]
  },
  {
   "cell_type": "code",
   "execution_count": 32,
   "metadata": {},
   "outputs": [],
   "source": [
    "from __future__ import absolute_import, division, print_function, unicode_literals\n",
    "import tensorflow as tf\n",
    "\n",
    "import mydatalabeling as mdl\n",
    "import myplotlib as mpl\n",
    "import mytalib as mtal\n",
    "\n",
    "%matplotlib inline\n",
    "import matplotlib.pyplot as plt\n",
    "import plotly.offline as py\n",
    "import plotly.graph_objs as go\n",
    "import plotly.express as px\n",
    "import plotly.figure_factory as ff\n",
    "from plotly.subplots import make_subplots\n",
    "\n",
    "from datetime import datetime, timedelta\n",
    "import types\n",
    "import pandas as pd\n",
    "import numpy as np\n",
    "import multiprocessing as mp"
   ]
  },
  {
   "cell_type": "code",
   "execution_count": 33,
   "metadata": {},
   "outputs": [
    {
     "output_type": "display_data",
     "data": {
      "text/plain": "Index(['Nr', 'date', 'open', 'high', 'low', 'close', 'sum_vol', 'time',\n       'fastma', 'slowema', 'RSI_close_30', 'dir', 'touch_tp', 'cross_idx',\n       'raw_return'],\n      dtype='object')"
     },
     "metadata": {}
    },
    {
     "output_type": "execute_result",
     "data": {
      "text/plain": "   Nr       date    open    high     low   close  sum_vol      time  fastma  \\\n0   0 2017-01-03  0.0000  0.0000 -0.0100  0.0000     1232  09:30:08  0.0000   \n1   5 2017-01-03 -0.0195  0.0400 -0.0195  0.0000     1062  09:30:15  0.0000   \n2  11 2017-01-03 -0.0200 -0.0200 -0.1299 -0.1299     1196  09:31:04 -0.1299   \n3  16 2017-01-03 -0.1102 -0.1092 -0.1102 -0.1092     1066  09:32:07 -0.1092   \n4  18 2017-01-03 -0.1200 -0.0950 -0.1200 -0.0991     1319  09:32:08 -0.0991   \n\n   slowema  RSI_close_30  dir  touch_tp  cross_idx raw_return  \n0   0.0000        0.0000  0.0       0.0        0.0        NaN  \n1   0.0000        0.0000  0.0       0.0        0.0        NaN  \n2  -0.1299       -0.1299  0.0       0.0        0.0        NaN  \n3  -0.1092       -0.1092  0.0       0.0        0.0        NaN  \n4  -0.0991       -0.0991  0.0       0.0        0.0        NaN  ",
      "text/html": "<div>\n<style scoped>\n    .dataframe tbody tr th:only-of-type {\n        vertical-align: middle;\n    }\n\n    .dataframe tbody tr th {\n        vertical-align: top;\n    }\n\n    .dataframe thead th {\n        text-align: right;\n    }\n</style>\n<table border=\"1\" class=\"dataframe\">\n  <thead>\n    <tr style=\"text-align: right;\">\n      <th></th>\n      <th>Nr</th>\n      <th>date</th>\n      <th>open</th>\n      <th>high</th>\n      <th>low</th>\n      <th>close</th>\n      <th>sum_vol</th>\n      <th>time</th>\n      <th>fastma</th>\n      <th>slowema</th>\n      <th>RSI_close_30</th>\n      <th>dir</th>\n      <th>touch_tp</th>\n      <th>cross_idx</th>\n      <th>raw_return</th>\n    </tr>\n  </thead>\n  <tbody>\n    <tr>\n      <th>0</th>\n      <td>0</td>\n      <td>2017-01-03</td>\n      <td>0.0000</td>\n      <td>0.0000</td>\n      <td>-0.0100</td>\n      <td>0.0000</td>\n      <td>1232</td>\n      <td>09:30:08</td>\n      <td>0.0000</td>\n      <td>0.0000</td>\n      <td>0.0000</td>\n      <td>0.0</td>\n      <td>0.0</td>\n      <td>0.0</td>\n      <td>NaN</td>\n    </tr>\n    <tr>\n      <th>1</th>\n      <td>5</td>\n      <td>2017-01-03</td>\n      <td>-0.0195</td>\n      <td>0.0400</td>\n      <td>-0.0195</td>\n      <td>0.0000</td>\n      <td>1062</td>\n      <td>09:30:15</td>\n      <td>0.0000</td>\n      <td>0.0000</td>\n      <td>0.0000</td>\n      <td>0.0</td>\n      <td>0.0</td>\n      <td>0.0</td>\n      <td>NaN</td>\n    </tr>\n    <tr>\n      <th>2</th>\n      <td>11</td>\n      <td>2017-01-03</td>\n      <td>-0.0200</td>\n      <td>-0.0200</td>\n      <td>-0.1299</td>\n      <td>-0.1299</td>\n      <td>1196</td>\n      <td>09:31:04</td>\n      <td>-0.1299</td>\n      <td>-0.1299</td>\n      <td>-0.1299</td>\n      <td>0.0</td>\n      <td>0.0</td>\n      <td>0.0</td>\n      <td>NaN</td>\n    </tr>\n    <tr>\n      <th>3</th>\n      <td>16</td>\n      <td>2017-01-03</td>\n      <td>-0.1102</td>\n      <td>-0.1092</td>\n      <td>-0.1102</td>\n      <td>-0.1092</td>\n      <td>1066</td>\n      <td>09:32:07</td>\n      <td>-0.1092</td>\n      <td>-0.1092</td>\n      <td>-0.1092</td>\n      <td>0.0</td>\n      <td>0.0</td>\n      <td>0.0</td>\n      <td>NaN</td>\n    </tr>\n    <tr>\n      <th>4</th>\n      <td>18</td>\n      <td>2017-01-03</td>\n      <td>-0.1200</td>\n      <td>-0.0950</td>\n      <td>-0.1200</td>\n      <td>-0.0991</td>\n      <td>1319</td>\n      <td>09:32:08</td>\n      <td>-0.0991</td>\n      <td>-0.0991</td>\n      <td>-0.0991</td>\n      <td>0.0</td>\n      <td>0.0</td>\n      <td>0.0</td>\n      <td>NaN</td>\n    </tr>\n  </tbody>\n</table>\n</div>"
     },
     "metadata": {},
     "execution_count": 33
    }
   ],
   "source": [
    "df_all = pd.read_pickle('final_ds_labeled_small.pkl')\n",
    "display(df_all.columns)\n",
    "df_all.head()"
   ]
  },
  {
   "cell_type": "markdown",
   "metadata": {},
   "source": [
    "# Prepare dataset"
   ]
  },
  {
   "cell_type": "code",
   "execution_count": 34,
   "metadata": {},
   "outputs": [
    {
     "output_type": "display_data",
     "data": {
      "text/plain": "(229, 15)"
     },
     "metadata": {}
    },
    {
     "output_type": "display_data",
     "data": {
      "text/plain": "                                                open  \\\n0  [[0.0], [0.0], [0.0], [0.0], [0.0], [0.0], [0....   \n1  [[0.0], [0.0], [0.0], [0.0], [0.0], [0.0], [0....   \n2  [[0.0], [0.0], [0.0], [0.0], [0.0], [0.0], [0....   \n3  [[0.0], [0.0], [0.0], [0.0], [0.0], [0.0], [0....   \n4  [[0.0], [0.0], [0.0], [0.0], [0.0], [0.0099999...   \n5  [[0.0], [0.0], [0.0], [0.0], [0.00999999999999...   \n6  [[0.0], [0.0], [0.0], [0.009999999999990905], ...   \n7  [[0.0], [0.0], [0.009999999999990905], [0.0067...   \n8  [[0.0], [0.009999999999990905], [0.00679999999...   \n9  [[0.009999999999990905], [0.006799999999998363...   \n\n                                                high  \\\n0  [[0.0], [0.0], [0.0], [0.0], [0.0], [0.0], [0....   \n1  [[0.0], [0.0], [0.0], [0.0], [0.0], [0.0], [0....   \n2  [[0.0], [0.0], [0.0], [0.0], [0.0], [0.0], [0....   \n3  [[0.0], [0.0], [0.0], [0.0], [0.0], [0.0300000...   \n4  [[0.0], [0.0], [0.0], [0.0], [0.03000000000000...   \n5  [[0.0], [0.0], [0.0], [0.030000000000001137], ...   \n6  [[0.0], [0.0], [0.030000000000001137], [0.0300...   \n7  [[0.0], [0.030000000000001137], [0.03000000000...   \n8  [[0.030000000000001137], [0.030000000000001137...   \n9  [[0.030000000000001137], [0.027999999999991587...   \n\n                                                 low  \\\n0  [[0.0], [0.0], [0.0], [0.0], [0.0], [0.0], [0....   \n1  [[0.0], [0.0], [0.0], [0.0], [0.0], [0.0], [0....   \n2  [[0.0], [0.0], [0.0], [0.0], [0.0], [0.0], [-0...   \n3  [[0.0], [0.0], [0.0], [0.0], [0.0], [-0.030000...   \n4  [[0.0], [0.0], [0.0], [0.0], [-0.0300000000000...   \n5  [[0.0], [0.0], [0.0], [-0.030000000000001137],...   \n6  [[0.0], [0.0], [-0.030000000000001137], [0.009...   \n7  [[0.0], [-0.030000000000001137], [0.0099999999...   \n8  [[-0.030000000000001137], [0.00999999999999090...   \n9  [[0.009999999999990905], [0.006799999999998363...   \n\n                                               close  \\\n0  [[0.0], [0.0], [0.0], [0.0], [0.0], [0.0], [0....   \n1  [[0.0], [0.0], [0.0], [0.0], [0.0], [0.0], [0....   \n2  [[0.0], [0.0], [0.0], [0.0], [0.0], [0.0], [0....   \n3  [[0.0], [0.0], [0.0], [0.0], [0.0], [0.0010000...   \n4  [[0.0], [0.0], [0.0], [0.0], [0.00100000000000...   \n5  [[0.0], [0.0], [0.0], [0.0010000000000047748],...   \n6  [[0.0], [0.0], [0.0010000000000047748], [0.030...   \n7  [[0.0], [0.0010000000000047748], [0.0300000000...   \n8  [[0.0010000000000047748], [0.03000000000000113...   \n9  [[0.030000000000001137], [0.027999999999991587...   \n\n                                             sum_vol  \\\n0  [[0.0], [0.0], [0.0], [0.0], [0.0], [0.0], [0....   \n1  [[0.0], [0.0], [0.0], [0.0], [0.0], [0.0], [0....   \n2  [[0.0], [0.0], [0.0], [0.0], [0.0], [0.0], [11...   \n3  [[0.0], [0.0], [0.0], [0.0], [0.0], [1100.0], ...   \n4  [[0.0], [0.0], [0.0], [0.0], [1100.0], [2500.0...   \n5  [[0.0], [0.0], [0.0], [1100.0], [2500.0], [233...   \n6  [[0.0], [0.0], [1100.0], [2500.0], [2332.0], [...   \n7  [[0.0], [1100.0], [2500.0], [2332.0], [2150.0]...   \n8  [[1100.0], [2500.0], [2332.0], [2150.0], [1180...   \n9  [[2500.0], [2332.0], [2150.0], [1180.0], [1400...   \n\n                                              fastma  \\\n0  [[0.0], [0.0], [0.0], [0.0], [0.0], [0.0], [0....   \n1  [[0.0], [0.0], [0.0], [0.0], [0.0], [0.0], [0....   \n2  [[0.0], [0.0], [0.0], [0.0], [0.0], [0.0], [0....   \n3  [[0.0], [0.0], [0.0], [0.0], [0.0], [0.1022599...   \n4  [[0.0], [0.0], [0.0], [0.0], [0.10225999999999...   \n5  [[0.0], [0.0], [0.0], [0.10225999999999687], [...   \n6  [[0.0], [0.0], [0.10225999999999687], [0.09440...   \n7  [[0.0], [0.10225999999999687], [0.094409999999...   \n8  [[0.10225999999999687], [0.09440999999999775],...   \n9  [[0.09440999999999775], [0.08685999999999723],...   \n\n                                             slowema  \\\n0  [[0.0], [0.0], [0.0], [0.0], [0.0], [0.0], [0....   \n1  [[0.0], [0.0], [0.0], [0.0], [0.0], [0.0], [0....   \n2  [[0.0], [0.0], [0.0], [0.0], [0.0], [0.0], [0....   \n3  [[0.0], [0.0], [0.0], [0.0], [0.0], [0.1149667...   \n4  [[0.0], [0.0], [0.0], [0.0], [0.11496670833863...   \n5  [[0.0], [0.0], [0.0], [0.11496670833863286], [...   \n6  [[0.0], [0.0], [0.11496670833863286], [0.10948...   \n7  [[0.0], [0.11496670833863286], [0.109484985220...   \n8  [[0.11496670833863286], [0.10948498522001146],...   \n9  [[0.10948498522001146], [0.10422788939936502],...   \n\n                                        RSI_close_30  touch_tp    Nr  \\\n0  [[0.0], [0.0], [0.0], [0.0], [0.0], [0.0], [0....       0.0   6.0   \n1  [[0.0], [0.0], [0.0], [0.0], [0.0], [0.0], [0....       0.0  10.0   \n2  [[0.0], [0.0], [0.0], [0.0], [0.0], [0.0], [33...       0.0  13.0   \n3  [[0.0], [0.0], [0.0], [0.0], [0.0], [33.350584...       0.0  18.0   \n4  [[0.0], [0.0], [0.0], [0.0], [33.3505848631215...       0.0  25.0   \n5  [[0.0], [0.0], [0.0], [33.35058486312158], [37...       0.0  27.0   \n6  [[0.0], [0.0], [33.35058486312158], [37.632228...       0.0  34.0   \n7  [[0.0], [33.35058486312158], [37.6322283787844...       0.0  37.0   \n8  [[33.35058486312158], [37.632228378784475], [3...       0.0  40.0   \n9  [[37.632228378784475], [37.46053899599863], [3...       0.0  48.0   \n\n        date      time  dir  \n0 2017-06-07  09:32:44  0.0  \n1 2017-06-07  09:32:46  0.0  \n2 2017-06-07  09:33:05  0.0  \n3 2017-06-07  09:33:11  0.0  \n4 2017-06-07  09:33:21  0.0  \n5 2017-06-07  09:33:22  0.0  \n6 2017-06-07  09:33:36  0.0  \n7 2017-06-07  09:33:41  0.0  \n8 2017-06-07  09:33:41  0.0  \n9 2017-06-07  09:40:26  0.0  ",
      "text/html": "<div>\n<style scoped>\n    .dataframe tbody tr th:only-of-type {\n        vertical-align: middle;\n    }\n\n    .dataframe tbody tr th {\n        vertical-align: top;\n    }\n\n    .dataframe thead th {\n        text-align: right;\n    }\n</style>\n<table border=\"1\" class=\"dataframe\">\n  <thead>\n    <tr style=\"text-align: right;\">\n      <th></th>\n      <th>open</th>\n      <th>high</th>\n      <th>low</th>\n      <th>close</th>\n      <th>sum_vol</th>\n      <th>fastma</th>\n      <th>slowema</th>\n      <th>RSI_close_30</th>\n      <th>touch_tp</th>\n      <th>Nr</th>\n      <th>date</th>\n      <th>time</th>\n      <th>dir</th>\n    </tr>\n  </thead>\n  <tbody>\n    <tr>\n      <th>0</th>\n      <td>[[0.0], [0.0], [0.0], [0.0], [0.0], [0.0], [0....</td>\n      <td>[[0.0], [0.0], [0.0], [0.0], [0.0], [0.0], [0....</td>\n      <td>[[0.0], [0.0], [0.0], [0.0], [0.0], [0.0], [0....</td>\n      <td>[[0.0], [0.0], [0.0], [0.0], [0.0], [0.0], [0....</td>\n      <td>[[0.0], [0.0], [0.0], [0.0], [0.0], [0.0], [0....</td>\n      <td>[[0.0], [0.0], [0.0], [0.0], [0.0], [0.0], [0....</td>\n      <td>[[0.0], [0.0], [0.0], [0.0], [0.0], [0.0], [0....</td>\n      <td>[[0.0], [0.0], [0.0], [0.0], [0.0], [0.0], [0....</td>\n      <td>0.0</td>\n      <td>6.0</td>\n      <td>2017-06-07</td>\n      <td>09:32:44</td>\n      <td>0.0</td>\n    </tr>\n    <tr>\n      <th>1</th>\n      <td>[[0.0], [0.0], [0.0], [0.0], [0.0], [0.0], [0....</td>\n      <td>[[0.0], [0.0], [0.0], [0.0], [0.0], [0.0], [0....</td>\n      <td>[[0.0], [0.0], [0.0], [0.0], [0.0], [0.0], [0....</td>\n      <td>[[0.0], [0.0], [0.0], [0.0], [0.0], [0.0], [0....</td>\n      <td>[[0.0], [0.0], [0.0], [0.0], [0.0], [0.0], [0....</td>\n      <td>[[0.0], [0.0], [0.0], [0.0], [0.0], [0.0], [0....</td>\n      <td>[[0.0], [0.0], [0.0], [0.0], [0.0], [0.0], [0....</td>\n      <td>[[0.0], [0.0], [0.0], [0.0], [0.0], [0.0], [0....</td>\n      <td>0.0</td>\n      <td>10.0</td>\n      <td>2017-06-07</td>\n      <td>09:32:46</td>\n      <td>0.0</td>\n    </tr>\n    <tr>\n      <th>2</th>\n      <td>[[0.0], [0.0], [0.0], [0.0], [0.0], [0.0], [0....</td>\n      <td>[[0.0], [0.0], [0.0], [0.0], [0.0], [0.0], [0....</td>\n      <td>[[0.0], [0.0], [0.0], [0.0], [0.0], [0.0], [-0...</td>\n      <td>[[0.0], [0.0], [0.0], [0.0], [0.0], [0.0], [0....</td>\n      <td>[[0.0], [0.0], [0.0], [0.0], [0.0], [0.0], [11...</td>\n      <td>[[0.0], [0.0], [0.0], [0.0], [0.0], [0.0], [0....</td>\n      <td>[[0.0], [0.0], [0.0], [0.0], [0.0], [0.0], [0....</td>\n      <td>[[0.0], [0.0], [0.0], [0.0], [0.0], [0.0], [33...</td>\n      <td>0.0</td>\n      <td>13.0</td>\n      <td>2017-06-07</td>\n      <td>09:33:05</td>\n      <td>0.0</td>\n    </tr>\n    <tr>\n      <th>3</th>\n      <td>[[0.0], [0.0], [0.0], [0.0], [0.0], [0.0], [0....</td>\n      <td>[[0.0], [0.0], [0.0], [0.0], [0.0], [0.0300000...</td>\n      <td>[[0.0], [0.0], [0.0], [0.0], [0.0], [-0.030000...</td>\n      <td>[[0.0], [0.0], [0.0], [0.0], [0.0], [0.0010000...</td>\n      <td>[[0.0], [0.0], [0.0], [0.0], [0.0], [1100.0], ...</td>\n      <td>[[0.0], [0.0], [0.0], [0.0], [0.0], [0.1022599...</td>\n      <td>[[0.0], [0.0], [0.0], [0.0], [0.0], [0.1149667...</td>\n      <td>[[0.0], [0.0], [0.0], [0.0], [0.0], [33.350584...</td>\n      <td>0.0</td>\n      <td>18.0</td>\n      <td>2017-06-07</td>\n      <td>09:33:11</td>\n      <td>0.0</td>\n    </tr>\n    <tr>\n      <th>4</th>\n      <td>[[0.0], [0.0], [0.0], [0.0], [0.0], [0.0099999...</td>\n      <td>[[0.0], [0.0], [0.0], [0.0], [0.03000000000000...</td>\n      <td>[[0.0], [0.0], [0.0], [0.0], [-0.0300000000000...</td>\n      <td>[[0.0], [0.0], [0.0], [0.0], [0.00100000000000...</td>\n      <td>[[0.0], [0.0], [0.0], [0.0], [1100.0], [2500.0...</td>\n      <td>[[0.0], [0.0], [0.0], [0.0], [0.10225999999999...</td>\n      <td>[[0.0], [0.0], [0.0], [0.0], [0.11496670833863...</td>\n      <td>[[0.0], [0.0], [0.0], [0.0], [33.3505848631215...</td>\n      <td>0.0</td>\n      <td>25.0</td>\n      <td>2017-06-07</td>\n      <td>09:33:21</td>\n      <td>0.0</td>\n    </tr>\n    <tr>\n      <th>5</th>\n      <td>[[0.0], [0.0], [0.0], [0.0], [0.00999999999999...</td>\n      <td>[[0.0], [0.0], [0.0], [0.030000000000001137], ...</td>\n      <td>[[0.0], [0.0], [0.0], [-0.030000000000001137],...</td>\n      <td>[[0.0], [0.0], [0.0], [0.0010000000000047748],...</td>\n      <td>[[0.0], [0.0], [0.0], [1100.0], [2500.0], [233...</td>\n      <td>[[0.0], [0.0], [0.0], [0.10225999999999687], [...</td>\n      <td>[[0.0], [0.0], [0.0], [0.11496670833863286], [...</td>\n      <td>[[0.0], [0.0], [0.0], [33.35058486312158], [37...</td>\n      <td>0.0</td>\n      <td>27.0</td>\n      <td>2017-06-07</td>\n      <td>09:33:22</td>\n      <td>0.0</td>\n    </tr>\n    <tr>\n      <th>6</th>\n      <td>[[0.0], [0.0], [0.0], [0.009999999999990905], ...</td>\n      <td>[[0.0], [0.0], [0.030000000000001137], [0.0300...</td>\n      <td>[[0.0], [0.0], [-0.030000000000001137], [0.009...</td>\n      <td>[[0.0], [0.0], [0.0010000000000047748], [0.030...</td>\n      <td>[[0.0], [0.0], [1100.0], [2500.0], [2332.0], [...</td>\n      <td>[[0.0], [0.0], [0.10225999999999687], [0.09440...</td>\n      <td>[[0.0], [0.0], [0.11496670833863286], [0.10948...</td>\n      <td>[[0.0], [0.0], [33.35058486312158], [37.632228...</td>\n      <td>0.0</td>\n      <td>34.0</td>\n      <td>2017-06-07</td>\n      <td>09:33:36</td>\n      <td>0.0</td>\n    </tr>\n    <tr>\n      <th>7</th>\n      <td>[[0.0], [0.0], [0.009999999999990905], [0.0067...</td>\n      <td>[[0.0], [0.030000000000001137], [0.03000000000...</td>\n      <td>[[0.0], [-0.030000000000001137], [0.0099999999...</td>\n      <td>[[0.0], [0.0010000000000047748], [0.0300000000...</td>\n      <td>[[0.0], [1100.0], [2500.0], [2332.0], [2150.0]...</td>\n      <td>[[0.0], [0.10225999999999687], [0.094409999999...</td>\n      <td>[[0.0], [0.11496670833863286], [0.109484985220...</td>\n      <td>[[0.0], [33.35058486312158], [37.6322283787844...</td>\n      <td>0.0</td>\n      <td>37.0</td>\n      <td>2017-06-07</td>\n      <td>09:33:41</td>\n      <td>0.0</td>\n    </tr>\n    <tr>\n      <th>8</th>\n      <td>[[0.0], [0.009999999999990905], [0.00679999999...</td>\n      <td>[[0.030000000000001137], [0.030000000000001137...</td>\n      <td>[[-0.030000000000001137], [0.00999999999999090...</td>\n      <td>[[0.0010000000000047748], [0.03000000000000113...</td>\n      <td>[[1100.0], [2500.0], [2332.0], [2150.0], [1180...</td>\n      <td>[[0.10225999999999687], [0.09440999999999775],...</td>\n      <td>[[0.11496670833863286], [0.10948498522001146],...</td>\n      <td>[[33.35058486312158], [37.632228378784475], [3...</td>\n      <td>0.0</td>\n      <td>40.0</td>\n      <td>2017-06-07</td>\n      <td>09:33:41</td>\n      <td>0.0</td>\n    </tr>\n    <tr>\n      <th>9</th>\n      <td>[[0.009999999999990905], [0.006799999999998363...</td>\n      <td>[[0.030000000000001137], [0.027999999999991587...</td>\n      <td>[[0.009999999999990905], [0.006799999999998363...</td>\n      <td>[[0.030000000000001137], [0.027999999999991587...</td>\n      <td>[[2500.0], [2332.0], [2150.0], [1180.0], [1400...</td>\n      <td>[[0.09440999999999775], [0.08685999999999723],...</td>\n      <td>[[0.10948498522001146], [0.10422788939936502],...</td>\n      <td>[[37.632228378784475], [37.46053899599863], [3...</td>\n      <td>0.0</td>\n      <td>48.0</td>\n      <td>2017-06-07</td>\n      <td>09:40:26</td>\n      <td>0.0</td>\n    </tr>\n  </tbody>\n</table>\n</div>"
     },
     "metadata": {}
    },
    {
     "output_type": "stream",
     "name": "stdout",
     "text": "CPU times: user 221 ms, sys: 155 ms, total: 376 ms\nWall time: 488 ms\n"
    }
   ],
   "source": [
    "%%time\n",
    "past_history = 10\n",
    "target_col = ['touch_tp']\n",
    "index_col = ['Nr', 'date', 'time', 'dir']\n",
    "gname = '2017-06-07'\n",
    "grby = ['date']\n",
    "used_col = ['open', 'high', 'low', 'close', 'sum_vol', 'fastma', 'slowema', 'RSI_close_30']\n",
    "#used_col = ['close']\n",
    "\n",
    "grp = df_all.groupby(grby).get_group(gname)#.drop(grby, axis=1)\n",
    "display(grp.shape)\n",
    "\n",
    "rdf = mdl.create_rnn_data_mp(dataset=grp, start_index=0, end_index=None, history_size=past_history, target_col=target_col, index_col=index_col, grby=grby, used_col=used_col, isPadding=True)\n",
    "display(rdf.head(10))"
   ]
  },
  {
   "cell_type": "code",
   "execution_count": 35,
   "metadata": {},
   "outputs": [],
   "source": [
    "#f = grp.touch_tp != 0\n",
    "#display(grp[f][['close','touch_tp','Nr']])\n",
    "#f = rdf.touch_tp != 0\n",
    "#display(rdf[f])"
   ]
  },
  {
   "cell_type": "code",
   "execution_count": 36,
   "metadata": {},
   "outputs": [],
   "source": [
    "#rdf[f].close.iloc[0]"
   ]
  },
  {
   "cell_type": "code",
   "execution_count": 37,
   "metadata": {},
   "outputs": [
    {
     "output_type": "stream",
     "name": "stdout",
     "text": "CPU times: user 2.43 s, sys: 266 ms, total: 2.7 s\nWall time: 4.94 s\n"
    }
   ],
   "source": [
    "%%time\n",
    "rdf = df_all.copy()\n",
    "rdf = mdl.create_rnn_data_mp(dataset=rdf, start_index=0, end_index=None, history_size=past_history, target_col=target_col, index_col=index_col, grby=grby, used_col=used_col)"
   ]
  },
  {
   "cell_type": "code",
   "execution_count": 38,
   "metadata": {},
   "outputs": [
    {
     "output_type": "execute_result",
     "data": {
      "text/plain": " 1.0    2197\n-1.0     700\nName: touch_tp, dtype: int64"
     },
     "metadata": {},
     "execution_count": 38
    }
   ],
   "source": [
    "#only events\n",
    "f = rdf.touch_tp != 0.0\n",
    "rdf = rdf[f]\n",
    "rdf.touch_tp.value_counts()"
   ]
  },
  {
   "cell_type": "code",
   "execution_count": 39,
   "metadata": {},
   "outputs": [],
   "source": [
    "#replace labels -1 -> 0\n",
    "rdf.loc[:,'touch_tp']= rdf.loc[:,'touch_tp'].replace([-1.0], 0.0)"
   ]
  },
  {
   "cell_type": "markdown",
   "metadata": {},
   "source": [
    "# Create dataset for RNN Model"
   ]
  },
  {
   "cell_type": "code",
   "execution_count": 40,
   "metadata": {},
   "outputs": [
    {
     "output_type": "execute_result",
     "data": {
      "text/plain": "                                                open  \\\n4  [[-0.13049999999999784], [-0.1700000000000017]...   \n\n                                                high  \\\n4  [[-0.13000000000000966], [-0.0799999999999983]...   \n\n                                                 low  \\\n4  [[-0.13049999999999784], [-0.1700000000000017]...   \n\n                                               close  \\\n4  [[-0.13000000000000966], [-0.0799999999999983]...   \n\n                                             sum_vol  \\\n4  [[1181], [1100], [1100], [1800], [1000], [1100...   \n\n                                              fastma  \\\n4  [[-0.13000000000000966], [-0.0799999999999983]...   \n\n                                             slowema  \\\n4  [[-0.13000000000000966], [-0.0799999999999983]...   \n\n                                        RSI_close_30  touch_tp  Nr       date  \\\n4  [[-0.13000000000000966], [-0.0799999999999983]...       1.0  80 2017-01-03   \n\n       time  dir  \n4  09:37:00  1.0  ",
      "text/html": "<div>\n<style scoped>\n    .dataframe tbody tr th:only-of-type {\n        vertical-align: middle;\n    }\n\n    .dataframe tbody tr th {\n        vertical-align: top;\n    }\n\n    .dataframe thead th {\n        text-align: right;\n    }\n</style>\n<table border=\"1\" class=\"dataframe\">\n  <thead>\n    <tr style=\"text-align: right;\">\n      <th></th>\n      <th>open</th>\n      <th>high</th>\n      <th>low</th>\n      <th>close</th>\n      <th>sum_vol</th>\n      <th>fastma</th>\n      <th>slowema</th>\n      <th>RSI_close_30</th>\n      <th>touch_tp</th>\n      <th>Nr</th>\n      <th>date</th>\n      <th>time</th>\n      <th>dir</th>\n    </tr>\n  </thead>\n  <tbody>\n    <tr>\n      <th>4</th>\n      <td>[[-0.13049999999999784], [-0.1700000000000017]...</td>\n      <td>[[-0.13000000000000966], [-0.0799999999999983]...</td>\n      <td>[[-0.13049999999999784], [-0.1700000000000017]...</td>\n      <td>[[-0.13000000000000966], [-0.0799999999999983]...</td>\n      <td>[[1181], [1100], [1100], [1800], [1000], [1100...</td>\n      <td>[[-0.13000000000000966], [-0.0799999999999983]...</td>\n      <td>[[-0.13000000000000966], [-0.0799999999999983]...</td>\n      <td>[[-0.13000000000000966], [-0.0799999999999983]...</td>\n      <td>1.0</td>\n      <td>80</td>\n      <td>2017-01-03</td>\n      <td>09:37:00</td>\n      <td>1.0</td>\n    </tr>\n  </tbody>\n</table>\n</div>"
     },
     "metadata": {},
     "execution_count": 40
    }
   ],
   "source": [
    "rdf.head(1)"
   ]
  },
  {
   "cell_type": "code",
   "execution_count": 41,
   "metadata": {},
   "outputs": [],
   "source": [
    "#print(rdf.date.min(), rdf.date.max())"
   ]
  },
  {
   "cell_type": "code",
   "execution_count": 42,
   "metadata": {},
   "outputs": [
    {
     "output_type": "stream",
     "name": "stdout",
     "text": "weight_for_0 2.17\nweight_for_1 0.65\n"
    }
   ],
   "source": [
    "#select columns \n",
    "y_col = 'touch_tp'\n",
    "x_cols = ['Nr', 'open', 'high', 'low', 'close', 'sum_vol', 'fastma', 'slowema', 'RSI_close_30', 'dir']\n",
    "#x_cols = ['close', 'Nr']\n",
    "\n",
    "#split to train test dataset\n",
    "#train dataset from 2009 to 2017\n",
    "f_train = rdf.date < \"2017-07-01\"\n",
    "x_train_df = rdf.loc[f_train, x_cols]\n",
    "y_train_df = rdf.loc[f_train, y_col]\n",
    "\n",
    "#validation from 2018 to 2019\n",
    "f_val = (rdf.date > \"2017-09-01\") \n",
    "\n",
    "x_val_df = rdf.loc[f_val,x_cols]\n",
    "y_val_df = rdf.loc[f_val,y_col]\n",
    "\n",
    "#test from 2017 to 2018\n",
    "f_test = (rdf.date > \"2017-07-01\") & (rdf.date < \"2017-09-01\")\n",
    "\n",
    "x_test_df = rdf.loc[f_test,x_cols]\n",
    "y_test_df = rdf.loc[f_test,y_col]\n",
    "\n",
    "\n",
    "#calculate weight\n",
    "wc = y_train_df.value_counts()\n",
    "\n",
    "weight_for_0 = (1 / wc[0])*(wc[0]+wc[1])/2.0\n",
    "weight_for_1 = (1 / wc[1])*(wc[0]+wc[1])/2.0\n",
    "\n",
    "print('weight_for_0 {:.2f}'.format(weight_for_0))\n",
    "print('weight_for_1 {:.2f}'.format(weight_for_1))\n",
    "\n",
    "class_weight = {0: weight_for_0, 1: weight_for_1}"
   ]
  },
  {
   "cell_type": "code",
   "execution_count": 43,
   "metadata": {},
   "outputs": [
    {
     "output_type": "stream",
     "name": "stdout",
     "text": "x_train_df.shape: (1715, 10)\ny_train_df.shape: (1715,)\nx_val_df.shape  : (775, 10)\ny_val_df.shape  : (775,)\nx_test_df.shape : (403, 10)\ny_test_df.shape : (403,)\n"
    },
    {
     "output_type": "execute_result",
     "data": {
      "text/plain": "1.0    1319\n0.0     396\nName: touch_tp, dtype: int64"
     },
     "metadata": {},
     "execution_count": 43
    }
   ],
   "source": [
    "print('x_train_df.shape:',x_train_df.shape)\n",
    "print('y_train_df.shape:',y_train_df.shape)\n",
    "print('x_val_df.shape  :',x_val_df.shape  )\n",
    "print('y_val_df.shape  :',y_val_df.shape  )\n",
    "print('x_test_df.shape :',x_test_df.shape )\n",
    "print('y_test_df.shape :',y_test_df.shape )\n",
    "wc"
   ]
  },
  {
   "cell_type": "markdown",
   "metadata": {},
   "source": [
    "#### Next code is a magic.. because I'm to stupid for tensorflow %)\n",
    "#### The way that I found to convert my data is very strange"
   ]
  },
  {
   "cell_type": "code",
   "execution_count": 44,
   "metadata": {},
   "outputs": [],
   "source": [
    "def _to_tensor(arg): \n",
    "  arg = tf.convert_to_tensor(arg, dtype=tf.float32) \n",
    "  return arg \n",
    "\n",
    "def my_scale_0_to_1(x):\n",
    "    current_min = tf.reduce_min(x)\n",
    "    current_max = tf.reduce_max(x)\n",
    "    return tf.divide(tf.subtract(x, current_min), tf.subtract(current_max, current_min))\n",
    ""
   ]
  },
  {
   "cell_type": "code",
   "execution_count": 45,
   "metadata": {},
   "outputs": [
    {
     "output_type": "stream",
     "name": "stdout",
     "text": "close\nfastma\nslowema\nRSI_close_30\nNr\n"
    }
   ],
   "source": [
    "dx_train = {}\n",
    "dx_eval = {}\n",
    "dx_test = {}\n",
    "\n",
    "#x_rnn_cols = ['open', 'high', 'low', 'close', 'sum_vol', 'fastma', 'slowema', 'RSI_close_30']\n",
    "x_rnn_cols = ['close', 'fastma', 'slowema', 'RSI_close_30']\n",
    "#x_rnn_cols = [ 'close']\n",
    "x_cols = ['Nr']\n",
    "\n",
    "#WRONG SCALING!!! Min and max value calculation performs on every dataset!\n",
    "for c in x_rnn_cols:\n",
    "    print(c)\n",
    "    dx_train[c] = my_scale_0_to_1(tf.squeeze(_to_tensor(list(x_train_df.loc[:,[c]].values)),1))\n",
    "    dx_eval[c] = my_scale_0_to_1(tf.squeeze(_to_tensor(list(x_val_df.loc[:,[c]].values)),1))\n",
    "    dx_test[c] = my_scale_0_to_1(tf.squeeze(_to_tensor(list(x_test_df.loc[:,[c]].values)),1))\n",
    "\n",
    "for c in x_cols:\n",
    "    print(c)\n",
    "    dx_train[c] = my_scale_0_to_1(my_scale_0_to_1(_to_tensor(list(x_train_df[c].values))))\n",
    "    dx_eval[c] = my_scale_0_to_1(my_scale_0_to_1(_to_tensor(list(x_val_df[c].values))))\n",
    "    dx_test[c] = my_scale_0_to_1(my_scale_0_to_1(_to_tensor(list(x_test_df[c].values))))\n",
    "\n",
    "ty_train = _to_tensor(y_train_df.values)\n",
    "ty_eval = _to_tensor(y_val_df.values)\n",
    "ty_test = _to_tensor(y_test_df.values)"
   ]
  },
  {
   "cell_type": "code",
   "execution_count": 46,
   "metadata": {},
   "outputs": [],
   "source": [
    "BATCH_SIZE = 1000\n",
    "BUFFER_SIZE = 10000\n",
    "\n",
    "train_tf = tf.data.Dataset.from_tensor_slices((dx_train, ty_train))\n",
    "train_tf = train_tf.cache().shuffle(BUFFER_SIZE).batch(BATCH_SIZE).repeat()\n",
    "\n",
    "val_tf = tf.data.Dataset.from_tensor_slices((dx_eval,ty_eval))\n",
    "val_tf = val_tf.batch(BATCH_SIZE).repeat()\n",
    "\n",
    "#test_tf = tf.data.Dataset.from_tensor_slices((dx_test, ty_test))\n",
    "#test_tf = test_tf.batch(len(list(test_tf)))\n",
    "test_tf = tf.data.Dataset.from_tensor_slices(dx_test)"
   ]
  },
  {
   "cell_type": "code",
   "execution_count": 47,
   "metadata": {},
   "outputs": [
    {
     "output_type": "stream",
     "name": "stdout",
     "text": "{'close': TensorShape([10, 1]), 'fastma': TensorShape([10, 1]), 'slowema': TensorShape([10, 1]), 'RSI_close_30': TensorShape([10, 1]), 'Nr': TensorShape([1000])}\n"
    }
   ],
   "source": [
    "dx_shapes = {}\n",
    "for feature_batch, y in train_tf.take(1):\n",
    "  for key, value in feature_batch.items():\n",
    "    #print(\"{}: {} -> {}\".format(key, value.shape[-2:],y.shape))\n",
    "    dx_shapes[key] = value.shape[-2:]\n",
    "print(dx_shapes)"
   ]
  },
  {
   "cell_type": "markdown",
   "metadata": {},
   "source": [
    "# Create RNN Model"
   ]
  },
  {
   "cell_type": "code",
   "execution_count": 48,
   "metadata": {},
   "outputs": [
    {
     "output_type": "stream",
     "name": "stdout",
     "text": "Tensor(\"close_1:0\", shape=(None, 10, 1), dtype=float32)\nTensor(\"fastma_1:0\", shape=(None, 10, 1), dtype=float32)\nTensor(\"slowema_1:0\", shape=(None, 10, 1), dtype=float32)\nTensor(\"RSI_close_30_1:0\", shape=(None, 10, 1), dtype=float32)\nTensor(\"Nr_1:0\", shape=(None, 1), dtype=float32)\n---input rnn [<tf.Tensor 'close_1:0' shape=(None, 10, 1) dtype=float32>, <tf.Tensor 'fastma_1:0' shape=(None, 10, 1) dtype=float32>, <tf.Tensor 'slowema_1:0' shape=(None, 10, 1) dtype=float32>, <tf.Tensor 'RSI_close_30_1:0' shape=(None, 10, 1) dtype=float32>]\n---input [<tf.Tensor 'Nr_1:0' shape=(None, 1) dtype=float32>]\n(None, 10, 4)\n(None, 1)\n"
    }
   ],
   "source": [
    "#inputs \n",
    "#feature_columns = []\n",
    "feature_layer_inputs_rnn = {}\n",
    "feature_layer_inputs = {}\n",
    "\n",
    "\n",
    "for key in x_rnn_cols:#dx_shapes.keys():\n",
    "    #feature_columns.append(tf.feature_column.numeric_column(key))\n",
    "    feature_layer_inputs_rnn[key] = tf.keras.Input(shape=dx_shapes[key], name=key)\n",
    "    print(feature_layer_inputs_rnn[key])\n",
    "    \n",
    "for key in x_cols:#dx_shapes.keys():\n",
    "    #feature_columns.append(tf.feature_column.numeric_column(key))\n",
    "    feature_layer_inputs[key] = tf.keras.Input(shape=(1,), name=key)\n",
    "    print(feature_layer_inputs[key])\n",
    "    \n",
    "list_of_lstm_inputs = [v for v in feature_layer_inputs_rnn.values()]\n",
    "list_of_Num_inputs = [v for v in feature_layer_inputs.values()]\n",
    "all_inputs = list_of_lstm_inputs + list_of_Num_inputs\n",
    "\n",
    "opt = tf.keras.optimizers\n",
    "l = tf.keras.layers\n",
    "\n",
    "#feature_columns_input = tf.keras.layers.DenseFeatures(feature_columns)\n",
    "#feature_layer_outputs = feature_columns_input(feature_layer_inputs)\n",
    "#print('f',feature_columns_input)\n",
    "#print(feature_layer_outputs)\n",
    "print('---input rnn', list_of_lstm_inputs)\n",
    "print('---input', list_of_Num_inputs)\n",
    "\n",
    "all_tstm_inputs = tf.concat(values=list_of_lstm_inputs, axis=-1, name='all_tstm_inputs')\n",
    "print(all_tstm_inputs.shape)\n",
    "all_num_inputs = tf.concat(values=list_of_Num_inputs, axis=-1, name='all_num_inputs')\n",
    "print(all_num_inputs.shape)\n",
    "\n",
    "d1 = l.LSTM(20, activation='relu')(all_tstm_inputs)\n",
    "d2 = l.Dense(10, activation='relu')(all_num_inputs)\n",
    "#d2 = l.Dense(5, activation='relu')(d2)\n",
    "d1_d2_conc = tf.concat(values=[d1,d2], axis=-1, name = 'd1_d2_conc')\n",
    "#output = l.Dense(2, activation='softmax')(d1_d2_conc)\n",
    "output = l.Dense(1, activation='sigmoid')(d1_d2_conc)\n",
    "\n",
    "\n",
    "model = tf.keras.Model(inputs=all_inputs, outputs=output)\n",
    "\n",
    "\n",
    "METRICS = [\n",
    "      #tf.keras.metrics.TruePositives(name='tp'),\n",
    "      #tf.keras.metrics.FalsePositives(name='fp'),\n",
    "      #tf.keras.metrics.TrueNegatives(name='tn'),\n",
    "      #tf.keras.metrics.FalseNegatives(name='fn'), \n",
    "      #tf.keras.metrics.BinaryAccuracy(name='accuracy'),\n",
    "      #tf.keras.metrics.Precision(name='precision'),\n",
    "      #tf.keras.metrics.Recall(name='recall'),\n",
    "      tf.keras.metrics.AUC(name='auc'),\n",
    "      tf.keras.metrics.SparseCategoricalAccuracy(name='accuracy')\n",
    "]\n",
    "# + [tf.keras.metrics.Recall(class_id=i) for i in range(2)]\n",
    "\n",
    "\n",
    "\n",
    "model.compile(\n",
    "    #loss='sparse_categorical_crossentropy',\n",
    "    loss='binary_crossentropy',\n",
    "    optimizer=opt.Adam(lr=0.001),\n",
    "    metrics=METRICS)"
   ]
  },
  {
   "cell_type": "code",
   "execution_count": 49,
   "metadata": {},
   "outputs": [
    {
     "output_type": "stream",
     "name": "stdout",
     "text": "Model: \"model_1\"\n__________________________________________________________________________________________________\nLayer (type)                    Output Shape         Param #     Connected to                     \n==================================================================================================\nclose (InputLayer)              [(None, 10, 1)]      0                                            \n__________________________________________________________________________________________________\nfastma (InputLayer)             [(None, 10, 1)]      0                                            \n__________________________________________________________________________________________________\nslowema (InputLayer)            [(None, 10, 1)]      0                                            \n__________________________________________________________________________________________________\nRSI_close_30 (InputLayer)       [(None, 10, 1)]      0                                            \n__________________________________________________________________________________________________\nNr (InputLayer)                 [(None, 1)]          0                                            \n__________________________________________________________________________________________________\ntf_op_layer_all_tstm_inputs_1 ( [(None, 10, 4)]      0           close[0][0]                      \n                                                                 fastma[0][0]                     \n                                                                 slowema[0][0]                    \n                                                                 RSI_close_30[0][0]               \n__________________________________________________________________________________________________\ntf_op_layer_all_num_inputs_1 (T [(None, 1)]          0           Nr[0][0]                         \n__________________________________________________________________________________________________\nlstm_1 (LSTM)                   (None, 20)           2000        tf_op_layer_all_tstm_inputs_1[0][\n__________________________________________________________________________________________________\ndense_2 (Dense)                 (None, 10)           20          tf_op_layer_all_num_inputs_1[0][0\n__________________________________________________________________________________________________\ntf_op_layer_d1_d2_conc_1 (Tenso [(None, 30)]         0           lstm_1[0][0]                     \n                                                                 dense_2[0][0]                    \n__________________________________________________________________________________________________\ndense_3 (Dense)                 (None, 1)            31          tf_op_layer_d1_d2_conc_1[0][0]   \n==================================================================================================\nTotal params: 2,051\nTrainable params: 2,051\nNon-trainable params: 0\n__________________________________________________________________________________________________\n"
    }
   ],
   "source": [
    "model.summary()"
   ]
  },
  {
   "cell_type": "code",
   "execution_count": 50,
   "metadata": {},
   "outputs": [
    {
     "output_type": "execute_result",
     "data": {
      "image/png": "[encoded data removed]",
      "text/plain": "<IPython.core.display.Image object>"
     },
     "metadata": {},
     "execution_count": 50
    }
   ],
   "source": [
    "tf.keras.utils.plot_model(model, show_shapes=True,show_layer_names=True,)"
   ]
  },
  {
   "cell_type": "code",
   "execution_count": 51,
   "metadata": {},
   "outputs": [
    {
     "output_type": "stream",
     "name": "stdout",
     "text": "(775, 1)\n[0 0 0 0 0 0 0 0 0 0 0 0 0 0 0 0 0 0 0 0 0 0 0 0 0 0 0 0 0 0 0 0 0 0 0 0 0\n 0 0 0 0 0 0 0 0 0 0 0 0 0 0 0 0 0 0 0 0 0 0 0 0 0 0 0 0 0 0 0 0 0 0 0 0 0\n 0 0 0 0 0 0 0 0 0 0 0 0 0 0 0 0 0 0 0 0 0 0 0 0 0 0 0 0 0 0 0 0 0 0 0 0 0\n 0 0 0 0 0 0 0 0 0 0 0 0 0 0 0 0 0 0 0 0 0 0 0 0 0 0 0 0 0 0 0 0 0 0 0 0 0\n 0 0 0 0 0 0 0 0 0 0 0 0 0 0 0 0 0 0 0 0 0 0 0 0 0 0 0 0 0 0 0 0 0 0 0 0 0\n 0 0 0 0 0 0 0 0 0 0 0 0 0 0 0 0 0 0 0 0 0 0 0 0 0 0 0 0 0 0 0 0 0 0 0 0 0\n 0 0 0 0 0 0 0 0 0 0 0 0 0 0 0 0 0 0 0 0 0 0 0 0 0 0 0 0 0 0 0 0 0 0 0 0 0\n 0 0 0 0 0 0 0 0 0 0 0 0 0 0 0 0 0 0 0 0 0 0 0 0 0 0 0 0 0 0 0 0 0 0 0 0 0\n 0 0 0 0 0 0 0 0 0 0 0 0 0 0 0 0 0 0 0 0 0 0 0 0 0 0 0 0 0 0 0 0 0 0 0 0 0\n 0 0 0 0 0 0 0 0 0 0 0 0 0 0 0 0 0 0 0 0 0 0 0 0 0 0 0 0 0 0 0 0 0 0 0 0 0\n 0 0 0 0 0 0 0 0 0 0 0 0 0 0 0 0 0 0 0 0 0 0 0 0 0 0 0 0 0 0 0 0 0 0 0 0 0\n 0 0 0 0 0 0 0 0 0 0 0 0 0 0 0 0 0 0 0 0 0 0 0 0 0 0 0 0 0 0 0 0 0 0 0 0 0\n 0 0 0 0 0 0 0 0 0 0 0 0 0 0 0 0 0 0 0 0 0 0 0 0 0 0 0 0 0 0 0 0 0 0 0 0 0\n 0 0 0 0 0 0 0 0 0 0 0 0 0 0 0 0 0 0 0 0 0 0 0 0 0 0 0 0 0 0 0 0 0 0 0 0 0\n 0 0 0 0 0 0 0 0 0 0 0 0 0 0 0 0 0 0 0 0 0 0 0 0 0 0 0 0 0 0 0 0 0 0 0 0 0\n 0 0 0 0 0 0 0 0 0 0 0 0 0 0 0 0 0 0 0 0 0 0 0 0 0 0 0 0 0 0 0 0 0 0 0 0 0\n 0 0 0 0 0 0 0 0 0 0 0 0 0 0 0 0 0 0 0 0 0 0 0 0 0 0 0 0 0 0 0 0 0 0 0 0 0\n 0 0 0 0 0 0 0 0 0 0 0 0 0 0 0 0 0 0 0 0 0 0 0 0 0 0 0 0 0 0 0 0 0 0 0 0 0\n 0 0 0 0 0 0 0 0 0 0 0 0 0 0 0 0 0 0 0 0 0 0 0 0 0 0 0 0 0 0 0 0 0 0 0 0 0\n 0 0 0 0 0 0 0 0 0 0 0 0 0 0 0 0 0 0 0 0 0 0 0 0 0 0 0 0 0 0 0 0 0 0 0 0 0\n 0 0 0 0 0 0 0 0 0 0 0 0 0 0 0 0 0 0 0 0 0 0 0 0 0 0 0 0 0 0 0 0 0 0 0]\n"
    }
   ],
   "source": [
    "#check if is working\n",
    "for x, y in val_tf.take(1):\n",
    "    #print(x,y)\n",
    "    print(model.predict(x).shape)\n",
    "    y_prob = model.predict(x)\n",
    "    y_classes = y_prob.argmax(axis=-1)\n",
    "    print(y_classes)"
   ]
  },
  {
   "cell_type": "markdown",
   "metadata": {},
   "source": [
    "### Train the model"
   ]
  },
  {
   "cell_type": "code",
   "execution_count": 52,
   "metadata": {},
   "outputs": [
    {
     "output_type": "stream",
     "name": "stdout",
     "text": "Train for 200 steps, validate for 50 steps\nEpoch 1/10\n200/200 [==============================] - 6s 29ms/step - loss: 0.5765 - auc: 0.5461 - accuracy: 0.2309 - val_loss: 0.5618 - val_auc: 0.6543 - val_accuracy: 0.2671\nEpoch 2/10\n200/200 [==============================] - 4s 20ms/step - loss: 0.4889 - auc: 0.7073 - accuracy: 0.2309 - val_loss: 0.5645 - val_auc: 0.6526 - val_accuracy: 0.2671\nEpoch 3/10\n200/200 [==============================] - 4s 20ms/step - loss: 0.4816 - auc: 0.7256 - accuracy: 0.2309 - val_loss: 0.5791 - val_auc: 0.6540 - val_accuracy: 0.2671\nEpoch 4/10\n200/200 [==============================] - 4s 20ms/step - loss: 0.4755 - auc: 0.7383 - accuracy: 0.2309 - val_loss: 0.5943 - val_auc: 0.6639 - val_accuracy: 0.2671\nEpoch 5/10\n200/200 [==============================] - 4s 20ms/step - loss: 0.4704 - auc: 0.7484 - accuracy: 0.2309 - val_loss: 0.5964 - val_auc: 0.6764 - val_accuracy: 0.2671\nEpoch 6/10\n200/200 [==============================] - 4s 20ms/step - loss: 0.4672 - auc: 0.7522 - accuracy: 0.2309 - val_loss: 0.5584 - val_auc: 0.6908 - val_accuracy: 0.2671\nEpoch 7/10\n200/200 [==============================] - 4s 20ms/step - loss: 0.4641 - auc: 0.7555 - accuracy: 0.2309 - val_loss: 0.6023 - val_auc: 0.6628 - val_accuracy: 0.2671\nEpoch 8/10\n200/200 [==============================] - 4s 20ms/step - loss: 0.4624 - auc: 0.7561 - accuracy: 0.2309 - val_loss: 0.5552 - val_auc: 0.6463 - val_accuracy: 0.2671\nEpoch 9/10\n200/200 [==============================] - 4s 20ms/step - loss: 0.4613 - auc: 0.7575 - accuracy: 0.2309 - val_loss: 0.5591 - val_auc: 0.6393 - val_accuracy: 0.2671\nEpoch 10/10\n200/200 [==============================] - 4s 20ms/step - loss: 0.4604 - auc: 0.7588 - accuracy: 0.2309 - val_loss: 0.5662 - val_auc: 0.6198 - val_accuracy: 0.2671\n"
    }
   ],
   "source": [
    "EVALUATION_INTERVAL = 200\n",
    "EPOCHS = 10\n",
    "\n",
    "history = model.fit(train_tf, epochs=EPOCHS,\n",
    "                      steps_per_epoch=EVALUATION_INTERVAL,\n",
    "                      validation_data=val_tf, \n",
    "                      validation_steps=50,\n",
    "                      class_weight=class_weight)"
   ]
  },
  {
   "cell_type": "code",
   "execution_count": 53,
   "metadata": {},
   "outputs": [
    {
     "output_type": "display_data",
     "data": {
      "text/plain": "<Figure size 1080x576 with 1 Axes>",
      "image/svg+xml": "<?xml version=\"1.0\" encoding=\"utf-8\" standalone=\"no\"?>\n<!DOCTYPE svg PUBLIC \"-//W3C//DTD SVG 1.1//EN\"\n  \"http://www.w3.org/Graphics/SVG/1.1/DTD/svg11.dtd\">\n<!-- Created with matplotlib (https://matplotlib.org/) -->\n<svg height=\"469.757344pt\" version=\"1.1\" viewBox=\"0 0 877.484375 469.757344\" width=\"877.484375pt\" xmlns=\"http://www.w3.org/2000/svg\" xmlns:xlink=\"http://www.w3.org/1999/xlink\">\n <defs>\n  <style type=\"text/css\">\n*{stroke-linecap:butt;stroke-linejoin:round;}\n  </style>\n </defs>\n <g id=\"figure_1\">\n  <g id=\"patch_1\">\n   <path d=\"M 0 469.757344 \nL 877.484375 469.757344 \nL 877.484375 0 \nL 0 0 \nz\n\" style=\"fill:none;\"/>\n  </g>\n  <g id=\"axes_1\">\n   <g id=\"patch_2\">\n    <path d=\"M 30.103125 445.879219 \nL 867.103125 445.879219 \nL 867.103125 10.999219 \nL 30.103125 10.999219 \nz\n\" style=\"fill:#ffffff;\"/>\n   </g>\n   <g id=\"matplotlib.axis_1\">\n    <g id=\"xtick_1\">\n     <g id=\"line2d_1\">\n      <path clip-path=\"url(#p97b30affbc)\" d=\"M 30.103125 445.879219 \nL 30.103125 10.999219 \n\" style=\"fill:none;stroke:#b0b0b0;stroke-linecap:square;stroke-width:0.8;\"/>\n     </g>\n     <g id=\"line2d_2\">\n      <defs>\n       <path d=\"M 0 0 \nL 0 3.5 \n\" id=\"m098826c931\" style=\"stroke:#000000;stroke-width:0.8;\"/>\n      </defs>\n      <g>\n       <use style=\"stroke:#000000;stroke-width:0.8;\" x=\"30.103125\" xlink:href=\"#m098826c931\" y=\"445.879219\"/>\n      </g>\n     </g>\n     <g id=\"text_1\">\n      <!-- 0 -->\n      <defs>\n       <path d=\"M 31.78125 66.40625 \nQ 24.171875 66.40625 20.328125 58.90625 \nQ 16.5 51.421875 16.5 36.375 \nQ 16.5 21.390625 20.328125 13.890625 \nQ 24.171875 6.390625 31.78125 6.390625 \nQ 39.453125 6.390625 43.28125 13.890625 \nQ 47.125 21.390625 47.125 36.375 \nQ 47.125 51.421875 43.28125 58.90625 \nQ 39.453125 66.40625 31.78125 66.40625 \nz\nM 31.78125 74.21875 \nQ 44.046875 74.21875 50.515625 64.515625 \nQ 56.984375 54.828125 56.984375 36.375 \nQ 56.984375 17.96875 50.515625 8.265625 \nQ 44.046875 -1.421875 31.78125 -1.421875 \nQ 19.53125 -1.421875 13.0625 8.265625 \nQ 6.59375 17.96875 6.59375 36.375 \nQ 6.59375 54.828125 13.0625 64.515625 \nQ 19.53125 74.21875 31.78125 74.21875 \nz\n\" id=\"DejaVuSans-48\"/>\n      </defs>\n      <g transform=\"translate(26.921875 460.477656)scale(0.1 -0.1)\">\n       <use xlink:href=\"#DejaVuSans-48\"/>\n      </g>\n     </g>\n    </g>\n    <g id=\"xtick_2\">\n     <g id=\"line2d_3\">\n      <path clip-path=\"url(#p97b30affbc)\" d=\"M 123.103125 445.879219 \nL 123.103125 10.999219 \n\" style=\"fill:none;stroke:#b0b0b0;stroke-linecap:square;stroke-width:0.8;\"/>\n     </g>\n     <g id=\"line2d_4\">\n      <g>\n       <use style=\"stroke:#000000;stroke-width:0.8;\" x=\"123.103125\" xlink:href=\"#m098826c931\" y=\"445.879219\"/>\n      </g>\n     </g>\n     <g id=\"text_2\">\n      <!-- 1 -->\n      <defs>\n       <path d=\"M 12.40625 8.296875 \nL 28.515625 8.296875 \nL 28.515625 63.921875 \nL 10.984375 60.40625 \nL 10.984375 69.390625 \nL 28.421875 72.90625 \nL 38.28125 72.90625 \nL 38.28125 8.296875 \nL 54.390625 8.296875 \nL 54.390625 0 \nL 12.40625 0 \nz\n\" id=\"DejaVuSans-49\"/>\n      </defs>\n      <g transform=\"translate(119.921875 460.477656)scale(0.1 -0.1)\">\n       <use xlink:href=\"#DejaVuSans-49\"/>\n      </g>\n     </g>\n    </g>\n    <g id=\"xtick_3\">\n     <g id=\"line2d_5\">\n      <path clip-path=\"url(#p97b30affbc)\" d=\"M 216.103125 445.879219 \nL 216.103125 10.999219 \n\" style=\"fill:none;stroke:#b0b0b0;stroke-linecap:square;stroke-width:0.8;\"/>\n     </g>\n     <g id=\"line2d_6\">\n      <g>\n       <use style=\"stroke:#000000;stroke-width:0.8;\" x=\"216.103125\" xlink:href=\"#m098826c931\" y=\"445.879219\"/>\n      </g>\n     </g>\n     <g id=\"text_3\">\n      <!-- 2 -->\n      <defs>\n       <path d=\"M 19.1875 8.296875 \nL 53.609375 8.296875 \nL 53.609375 0 \nL 7.328125 0 \nL 7.328125 8.296875 \nQ 12.9375 14.109375 22.625 23.890625 \nQ 32.328125 33.6875 34.8125 36.53125 \nQ 39.546875 41.84375 41.421875 45.53125 \nQ 43.3125 49.21875 43.3125 52.78125 \nQ 43.3125 58.59375 39.234375 62.25 \nQ 35.15625 65.921875 28.609375 65.921875 \nQ 23.96875 65.921875 18.8125 64.3125 \nQ 13.671875 62.703125 7.8125 59.421875 \nL 7.8125 69.390625 \nQ 13.765625 71.78125 18.9375 73 \nQ 24.125 74.21875 28.421875 74.21875 \nQ 39.75 74.21875 46.484375 68.546875 \nQ 53.21875 62.890625 53.21875 53.421875 \nQ 53.21875 48.921875 51.53125 44.890625 \nQ 49.859375 40.875 45.40625 35.40625 \nQ 44.1875 33.984375 37.640625 27.21875 \nQ 31.109375 20.453125 19.1875 8.296875 \nz\n\" id=\"DejaVuSans-50\"/>\n      </defs>\n      <g transform=\"translate(212.921875 460.477656)scale(0.1 -0.1)\">\n       <use xlink:href=\"#DejaVuSans-50\"/>\n      </g>\n     </g>\n    </g>\n    <g id=\"xtick_4\">\n     <g id=\"line2d_7\">\n      <path clip-path=\"url(#p97b30affbc)\" d=\"M 309.103125 445.879219 \nL 309.103125 10.999219 \n\" style=\"fill:none;stroke:#b0b0b0;stroke-linecap:square;stroke-width:0.8;\"/>\n     </g>\n     <g id=\"line2d_8\">\n      <g>\n       <use style=\"stroke:#000000;stroke-width:0.8;\" x=\"309.103125\" xlink:href=\"#m098826c931\" y=\"445.879219\"/>\n      </g>\n     </g>\n     <g id=\"text_4\">\n      <!-- 3 -->\n      <defs>\n       <path d=\"M 40.578125 39.3125 \nQ 47.65625 37.796875 51.625 33 \nQ 55.609375 28.21875 55.609375 21.1875 \nQ 55.609375 10.40625 48.1875 4.484375 \nQ 40.765625 -1.421875 27.09375 -1.421875 \nQ 22.515625 -1.421875 17.65625 -0.515625 \nQ 12.796875 0.390625 7.625 2.203125 \nL 7.625 11.71875 \nQ 11.71875 9.328125 16.59375 8.109375 \nQ 21.484375 6.890625 26.8125 6.890625 \nQ 36.078125 6.890625 40.9375 10.546875 \nQ 45.796875 14.203125 45.796875 21.1875 \nQ 45.796875 27.640625 41.28125 31.265625 \nQ 36.765625 34.90625 28.71875 34.90625 \nL 20.21875 34.90625 \nL 20.21875 43.015625 \nL 29.109375 43.015625 \nQ 36.375 43.015625 40.234375 45.921875 \nQ 44.09375 48.828125 44.09375 54.296875 \nQ 44.09375 59.90625 40.109375 62.90625 \nQ 36.140625 65.921875 28.71875 65.921875 \nQ 24.65625 65.921875 20.015625 65.03125 \nQ 15.375 64.15625 9.8125 62.3125 \nL 9.8125 71.09375 \nQ 15.4375 72.65625 20.34375 73.4375 \nQ 25.25 74.21875 29.59375 74.21875 \nQ 40.828125 74.21875 47.359375 69.109375 \nQ 53.90625 64.015625 53.90625 55.328125 \nQ 53.90625 49.265625 50.4375 45.09375 \nQ 46.96875 40.921875 40.578125 39.3125 \nz\n\" id=\"DejaVuSans-51\"/>\n      </defs>\n      <g transform=\"translate(305.921875 460.477656)scale(0.1 -0.1)\">\n       <use xlink:href=\"#DejaVuSans-51\"/>\n      </g>\n     </g>\n    </g>\n    <g id=\"xtick_5\">\n     <g id=\"line2d_9\">\n      <path clip-path=\"url(#p97b30affbc)\" d=\"M 402.103125 445.879219 \nL 402.103125 10.999219 \n\" style=\"fill:none;stroke:#b0b0b0;stroke-linecap:square;stroke-width:0.8;\"/>\n     </g>\n     <g id=\"line2d_10\">\n      <g>\n       <use style=\"stroke:#000000;stroke-width:0.8;\" x=\"402.103125\" xlink:href=\"#m098826c931\" y=\"445.879219\"/>\n      </g>\n     </g>\n     <g id=\"text_5\">\n      <!-- 4 -->\n      <defs>\n       <path d=\"M 37.796875 64.3125 \nL 12.890625 25.390625 \nL 37.796875 25.390625 \nz\nM 35.203125 72.90625 \nL 47.609375 72.90625 \nL 47.609375 25.390625 \nL 58.015625 25.390625 \nL 58.015625 17.1875 \nL 47.609375 17.1875 \nL 47.609375 0 \nL 37.796875 0 \nL 37.796875 17.1875 \nL 4.890625 17.1875 \nL 4.890625 26.703125 \nz\n\" id=\"DejaVuSans-52\"/>\n      </defs>\n      <g transform=\"translate(398.921875 460.477656)scale(0.1 -0.1)\">\n       <use xlink:href=\"#DejaVuSans-52\"/>\n      </g>\n     </g>\n    </g>\n    <g id=\"xtick_6\">\n     <g id=\"line2d_11\">\n      <path clip-path=\"url(#p97b30affbc)\" d=\"M 495.103125 445.879219 \nL 495.103125 10.999219 \n\" style=\"fill:none;stroke:#b0b0b0;stroke-linecap:square;stroke-width:0.8;\"/>\n     </g>\n     <g id=\"line2d_12\">\n      <g>\n       <use style=\"stroke:#000000;stroke-width:0.8;\" x=\"495.103125\" xlink:href=\"#m098826c931\" y=\"445.879219\"/>\n      </g>\n     </g>\n     <g id=\"text_6\">\n      <!-- 5 -->\n      <defs>\n       <path d=\"M 10.796875 72.90625 \nL 49.515625 72.90625 \nL 49.515625 64.59375 \nL 19.828125 64.59375 \nL 19.828125 46.734375 \nQ 21.96875 47.46875 24.109375 47.828125 \nQ 26.265625 48.1875 28.421875 48.1875 \nQ 40.625 48.1875 47.75 41.5 \nQ 54.890625 34.8125 54.890625 23.390625 \nQ 54.890625 11.625 47.5625 5.09375 \nQ 40.234375 -1.421875 26.90625 -1.421875 \nQ 22.3125 -1.421875 17.546875 -0.640625 \nQ 12.796875 0.140625 7.71875 1.703125 \nL 7.71875 11.625 \nQ 12.109375 9.234375 16.796875 8.0625 \nQ 21.484375 6.890625 26.703125 6.890625 \nQ 35.15625 6.890625 40.078125 11.328125 \nQ 45.015625 15.765625 45.015625 23.390625 \nQ 45.015625 31 40.078125 35.4375 \nQ 35.15625 39.890625 26.703125 39.890625 \nQ 22.75 39.890625 18.8125 39.015625 \nQ 14.890625 38.140625 10.796875 36.28125 \nz\n\" id=\"DejaVuSans-53\"/>\n      </defs>\n      <g transform=\"translate(491.921875 460.477656)scale(0.1 -0.1)\">\n       <use xlink:href=\"#DejaVuSans-53\"/>\n      </g>\n     </g>\n    </g>\n    <g id=\"xtick_7\">\n     <g id=\"line2d_13\">\n      <path clip-path=\"url(#p97b30affbc)\" d=\"M 588.103125 445.879219 \nL 588.103125 10.999219 \n\" style=\"fill:none;stroke:#b0b0b0;stroke-linecap:square;stroke-width:0.8;\"/>\n     </g>\n     <g id=\"line2d_14\">\n      <g>\n       <use style=\"stroke:#000000;stroke-width:0.8;\" x=\"588.103125\" xlink:href=\"#m098826c931\" y=\"445.879219\"/>\n      </g>\n     </g>\n     <g id=\"text_7\">\n      <!-- 6 -->\n      <defs>\n       <path d=\"M 33.015625 40.375 \nQ 26.375 40.375 22.484375 35.828125 \nQ 18.609375 31.296875 18.609375 23.390625 \nQ 18.609375 15.53125 22.484375 10.953125 \nQ 26.375 6.390625 33.015625 6.390625 \nQ 39.65625 6.390625 43.53125 10.953125 \nQ 47.40625 15.53125 47.40625 23.390625 \nQ 47.40625 31.296875 43.53125 35.828125 \nQ 39.65625 40.375 33.015625 40.375 \nz\nM 52.59375 71.296875 \nL 52.59375 62.3125 \nQ 48.875 64.0625 45.09375 64.984375 \nQ 41.3125 65.921875 37.59375 65.921875 \nQ 27.828125 65.921875 22.671875 59.328125 \nQ 17.53125 52.734375 16.796875 39.40625 \nQ 19.671875 43.65625 24.015625 45.921875 \nQ 28.375 48.1875 33.59375 48.1875 \nQ 44.578125 48.1875 50.953125 41.515625 \nQ 57.328125 34.859375 57.328125 23.390625 \nQ 57.328125 12.15625 50.6875 5.359375 \nQ 44.046875 -1.421875 33.015625 -1.421875 \nQ 20.359375 -1.421875 13.671875 8.265625 \nQ 6.984375 17.96875 6.984375 36.375 \nQ 6.984375 53.65625 15.1875 63.9375 \nQ 23.390625 74.21875 37.203125 74.21875 \nQ 40.921875 74.21875 44.703125 73.484375 \nQ 48.484375 72.75 52.59375 71.296875 \nz\n\" id=\"DejaVuSans-54\"/>\n      </defs>\n      <g transform=\"translate(584.921875 460.477656)scale(0.1 -0.1)\">\n       <use xlink:href=\"#DejaVuSans-54\"/>\n      </g>\n     </g>\n    </g>\n    <g id=\"xtick_8\">\n     <g id=\"line2d_15\">\n      <path clip-path=\"url(#p97b30affbc)\" d=\"M 681.103125 445.879219 \nL 681.103125 10.999219 \n\" style=\"fill:none;stroke:#b0b0b0;stroke-linecap:square;stroke-width:0.8;\"/>\n     </g>\n     <g id=\"line2d_16\">\n      <g>\n       <use style=\"stroke:#000000;stroke-width:0.8;\" x=\"681.103125\" xlink:href=\"#m098826c931\" y=\"445.879219\"/>\n      </g>\n     </g>\n     <g id=\"text_8\">\n      <!-- 7 -->\n      <defs>\n       <path d=\"M 8.203125 72.90625 \nL 55.078125 72.90625 \nL 55.078125 68.703125 \nL 28.609375 0 \nL 18.3125 0 \nL 43.21875 64.59375 \nL 8.203125 64.59375 \nz\n\" id=\"DejaVuSans-55\"/>\n      </defs>\n      <g transform=\"translate(677.921875 460.477656)scale(0.1 -0.1)\">\n       <use xlink:href=\"#DejaVuSans-55\"/>\n      </g>\n     </g>\n    </g>\n    <g id=\"xtick_9\">\n     <g id=\"line2d_17\">\n      <path clip-path=\"url(#p97b30affbc)\" d=\"M 774.103125 445.879219 \nL 774.103125 10.999219 \n\" style=\"fill:none;stroke:#b0b0b0;stroke-linecap:square;stroke-width:0.8;\"/>\n     </g>\n     <g id=\"line2d_18\">\n      <g>\n       <use style=\"stroke:#000000;stroke-width:0.8;\" x=\"774.103125\" xlink:href=\"#m098826c931\" y=\"445.879219\"/>\n      </g>\n     </g>\n     <g id=\"text_9\">\n      <!-- 8 -->\n      <defs>\n       <path d=\"M 31.78125 34.625 \nQ 24.75 34.625 20.71875 30.859375 \nQ 16.703125 27.09375 16.703125 20.515625 \nQ 16.703125 13.921875 20.71875 10.15625 \nQ 24.75 6.390625 31.78125 6.390625 \nQ 38.8125 6.390625 42.859375 10.171875 \nQ 46.921875 13.96875 46.921875 20.515625 \nQ 46.921875 27.09375 42.890625 30.859375 \nQ 38.875 34.625 31.78125 34.625 \nz\nM 21.921875 38.8125 \nQ 15.578125 40.375 12.03125 44.71875 \nQ 8.5 49.078125 8.5 55.328125 \nQ 8.5 64.0625 14.71875 69.140625 \nQ 20.953125 74.21875 31.78125 74.21875 \nQ 42.671875 74.21875 48.875 69.140625 \nQ 55.078125 64.0625 55.078125 55.328125 \nQ 55.078125 49.078125 51.53125 44.71875 \nQ 48 40.375 41.703125 38.8125 \nQ 48.828125 37.15625 52.796875 32.3125 \nQ 56.78125 27.484375 56.78125 20.515625 \nQ 56.78125 9.90625 50.3125 4.234375 \nQ 43.84375 -1.421875 31.78125 -1.421875 \nQ 19.734375 -1.421875 13.25 4.234375 \nQ 6.78125 9.90625 6.78125 20.515625 \nQ 6.78125 27.484375 10.78125 32.3125 \nQ 14.796875 37.15625 21.921875 38.8125 \nz\nM 18.3125 54.390625 \nQ 18.3125 48.734375 21.84375 45.5625 \nQ 25.390625 42.390625 31.78125 42.390625 \nQ 38.140625 42.390625 41.71875 45.5625 \nQ 45.3125 48.734375 45.3125 54.390625 \nQ 45.3125 60.0625 41.71875 63.234375 \nQ 38.140625 66.40625 31.78125 66.40625 \nQ 25.390625 66.40625 21.84375 63.234375 \nQ 18.3125 60.0625 18.3125 54.390625 \nz\n\" id=\"DejaVuSans-56\"/>\n      </defs>\n      <g transform=\"translate(770.921875 460.477656)scale(0.1 -0.1)\">\n       <use xlink:href=\"#DejaVuSans-56\"/>\n      </g>\n     </g>\n    </g>\n    <g id=\"xtick_10\">\n     <g id=\"line2d_19\">\n      <path clip-path=\"url(#p97b30affbc)\" d=\"M 867.103125 445.879219 \nL 867.103125 10.999219 \n\" style=\"fill:none;stroke:#b0b0b0;stroke-linecap:square;stroke-width:0.8;\"/>\n     </g>\n     <g id=\"line2d_20\">\n      <g>\n       <use style=\"stroke:#000000;stroke-width:0.8;\" x=\"867.103125\" xlink:href=\"#m098826c931\" y=\"445.879219\"/>\n      </g>\n     </g>\n     <g id=\"text_10\">\n      <!-- 9 -->\n      <defs>\n       <path d=\"M 10.984375 1.515625 \nL 10.984375 10.5 \nQ 14.703125 8.734375 18.5 7.8125 \nQ 22.3125 6.890625 25.984375 6.890625 \nQ 35.75 6.890625 40.890625 13.453125 \nQ 46.046875 20.015625 46.78125 33.40625 \nQ 43.953125 29.203125 39.59375 26.953125 \nQ 35.25 24.703125 29.984375 24.703125 \nQ 19.046875 24.703125 12.671875 31.3125 \nQ 6.296875 37.9375 6.296875 49.421875 \nQ 6.296875 60.640625 12.9375 67.421875 \nQ 19.578125 74.21875 30.609375 74.21875 \nQ 43.265625 74.21875 49.921875 64.515625 \nQ 56.59375 54.828125 56.59375 36.375 \nQ 56.59375 19.140625 48.40625 8.859375 \nQ 40.234375 -1.421875 26.421875 -1.421875 \nQ 22.703125 -1.421875 18.890625 -0.6875 \nQ 15.09375 0.046875 10.984375 1.515625 \nz\nM 30.609375 32.421875 \nQ 37.25 32.421875 41.125 36.953125 \nQ 45.015625 41.5 45.015625 49.421875 \nQ 45.015625 57.28125 41.125 61.84375 \nQ 37.25 66.40625 30.609375 66.40625 \nQ 23.96875 66.40625 20.09375 61.84375 \nQ 16.21875 57.28125 16.21875 49.421875 \nQ 16.21875 41.5 20.09375 36.953125 \nQ 23.96875 32.421875 30.609375 32.421875 \nz\n\" id=\"DejaVuSans-57\"/>\n      </defs>\n      <g transform=\"translate(863.921875 460.477656)scale(0.1 -0.1)\">\n       <use xlink:href=\"#DejaVuSans-57\"/>\n      </g>\n     </g>\n    </g>\n   </g>\n   <g id=\"matplotlib.axis_2\">\n    <g id=\"ytick_1\">\n     <g id=\"line2d_21\">\n      <path clip-path=\"url(#p97b30affbc)\" d=\"M 30.103125 445.879219 \nL 867.103125 445.879219 \n\" style=\"fill:none;stroke:#b0b0b0;stroke-linecap:square;stroke-width:0.8;\"/>\n     </g>\n     <g id=\"line2d_22\">\n      <defs>\n       <path d=\"M 0 0 \nL -3.5 0 \n\" id=\"m6c8b9129be\" style=\"stroke:#000000;stroke-width:0.8;\"/>\n      </defs>\n      <g>\n       <use style=\"stroke:#000000;stroke-width:0.8;\" x=\"30.103125\" xlink:href=\"#m6c8b9129be\" y=\"445.879219\"/>\n      </g>\n     </g>\n     <g id=\"text_11\">\n      <!-- 0.0 -->\n      <defs>\n       <path d=\"M 10.6875 12.40625 \nL 21 12.40625 \nL 21 0 \nL 10.6875 0 \nz\n\" id=\"DejaVuSans-46\"/>\n      </defs>\n      <g transform=\"translate(7.2 449.678437)scale(0.1 -0.1)\">\n       <use xlink:href=\"#DejaVuSans-48\"/>\n       <use x=\"63.623047\" xlink:href=\"#DejaVuSans-46\"/>\n       <use x=\"95.410156\" xlink:href=\"#DejaVuSans-48\"/>\n      </g>\n     </g>\n    </g>\n    <g id=\"ytick_2\">\n     <g id=\"line2d_23\">\n      <path clip-path=\"url(#p97b30affbc)\" d=\"M 30.103125 358.903219 \nL 867.103125 358.903219 \n\" style=\"fill:none;stroke:#b0b0b0;stroke-linecap:square;stroke-width:0.8;\"/>\n     </g>\n     <g id=\"line2d_24\">\n      <g>\n       <use style=\"stroke:#000000;stroke-width:0.8;\" x=\"30.103125\" xlink:href=\"#m6c8b9129be\" y=\"358.903219\"/>\n      </g>\n     </g>\n     <g id=\"text_12\">\n      <!-- 0.2 -->\n      <g transform=\"translate(7.2 362.702437)scale(0.1 -0.1)\">\n       <use xlink:href=\"#DejaVuSans-48\"/>\n       <use x=\"63.623047\" xlink:href=\"#DejaVuSans-46\"/>\n       <use x=\"95.410156\" xlink:href=\"#DejaVuSans-50\"/>\n      </g>\n     </g>\n    </g>\n    <g id=\"ytick_3\">\n     <g id=\"line2d_25\">\n      <path clip-path=\"url(#p97b30affbc)\" d=\"M 30.103125 271.927219 \nL 867.103125 271.927219 \n\" style=\"fill:none;stroke:#b0b0b0;stroke-linecap:square;stroke-width:0.8;\"/>\n     </g>\n     <g id=\"line2d_26\">\n      <g>\n       <use style=\"stroke:#000000;stroke-width:0.8;\" x=\"30.103125\" xlink:href=\"#m6c8b9129be\" y=\"271.927219\"/>\n      </g>\n     </g>\n     <g id=\"text_13\">\n      <!-- 0.4 -->\n      <g transform=\"translate(7.2 275.726437)scale(0.1 -0.1)\">\n       <use xlink:href=\"#DejaVuSans-48\"/>\n       <use x=\"63.623047\" xlink:href=\"#DejaVuSans-46\"/>\n       <use x=\"95.410156\" xlink:href=\"#DejaVuSans-52\"/>\n      </g>\n     </g>\n    </g>\n    <g id=\"ytick_4\">\n     <g id=\"line2d_27\">\n      <path clip-path=\"url(#p97b30affbc)\" d=\"M 30.103125 184.951219 \nL 867.103125 184.951219 \n\" style=\"fill:none;stroke:#b0b0b0;stroke-linecap:square;stroke-width:0.8;\"/>\n     </g>\n     <g id=\"line2d_28\">\n      <g>\n       <use style=\"stroke:#000000;stroke-width:0.8;\" x=\"30.103125\" xlink:href=\"#m6c8b9129be\" y=\"184.951219\"/>\n      </g>\n     </g>\n     <g id=\"text_14\">\n      <!-- 0.6 -->\n      <g transform=\"translate(7.2 188.750437)scale(0.1 -0.1)\">\n       <use xlink:href=\"#DejaVuSans-48\"/>\n       <use x=\"63.623047\" xlink:href=\"#DejaVuSans-46\"/>\n       <use x=\"95.410156\" xlink:href=\"#DejaVuSans-54\"/>\n      </g>\n     </g>\n    </g>\n    <g id=\"ytick_5\">\n     <g id=\"line2d_29\">\n      <path clip-path=\"url(#p97b30affbc)\" d=\"M 30.103125 97.975219 \nL 867.103125 97.975219 \n\" style=\"fill:none;stroke:#b0b0b0;stroke-linecap:square;stroke-width:0.8;\"/>\n     </g>\n     <g id=\"line2d_30\">\n      <g>\n       <use style=\"stroke:#000000;stroke-width:0.8;\" x=\"30.103125\" xlink:href=\"#m6c8b9129be\" y=\"97.975219\"/>\n      </g>\n     </g>\n     <g id=\"text_15\">\n      <!-- 0.8 -->\n      <g transform=\"translate(7.2 101.774437)scale(0.1 -0.1)\">\n       <use xlink:href=\"#DejaVuSans-48\"/>\n       <use x=\"63.623047\" xlink:href=\"#DejaVuSans-46\"/>\n       <use x=\"95.410156\" xlink:href=\"#DejaVuSans-56\"/>\n      </g>\n     </g>\n    </g>\n    <g id=\"ytick_6\">\n     <g id=\"line2d_31\">\n      <path clip-path=\"url(#p97b30affbc)\" d=\"M 30.103125 10.999219 \nL 867.103125 10.999219 \n\" style=\"fill:none;stroke:#b0b0b0;stroke-linecap:square;stroke-width:0.8;\"/>\n     </g>\n     <g id=\"line2d_32\">\n      <g>\n       <use style=\"stroke:#000000;stroke-width:0.8;\" x=\"30.103125\" xlink:href=\"#m6c8b9129be\" y=\"10.999219\"/>\n      </g>\n     </g>\n     <g id=\"text_16\">\n      <!-- 1.0 -->\n      <g transform=\"translate(7.2 14.798437)scale(0.1 -0.1)\">\n       <use xlink:href=\"#DejaVuSans-49\"/>\n       <use x=\"63.623047\" xlink:href=\"#DejaVuSans-46\"/>\n       <use x=\"95.410156\" xlink:href=\"#DejaVuSans-48\"/>\n      </g>\n     </g>\n    </g>\n   </g>\n   <g id=\"line2d_33\">\n    <path clip-path=\"url(#p97b30affbc)\" d=\"M 30.103125 195.153637 \nL 123.103125 233.173248 \nL 216.103125 236.517928 \nL 309.103125 239.098593 \nL 402.103125 241.269099 \nL 495.103125 242.795526 \nL 588.103125 244.225376 \nL 681.103125 244.771849 \nL 774.103125 245.254075 \nL 867.103125 245.703655 \n\" style=\"fill:none;stroke:#1f77b4;stroke-linecap:square;stroke-width:1.5;\"/>\n   </g>\n   <g id=\"patch_3\">\n    <path d=\"M 30.103125 445.879219 \nL 30.103125 10.999219 \n\" style=\"fill:none;stroke:#000000;stroke-linecap:square;stroke-linejoin:miter;stroke-width:0.8;\"/>\n   </g>\n   <g id=\"patch_4\">\n    <path d=\"M 867.103125 445.879219 \nL 867.103125 10.999219 \n\" style=\"fill:none;stroke:#000000;stroke-linecap:square;stroke-linejoin:miter;stroke-width:0.8;\"/>\n   </g>\n   <g id=\"patch_5\">\n    <path d=\"M 30.103125 445.879219 \nL 867.103125 445.879219 \n\" style=\"fill:none;stroke:#000000;stroke-linecap:square;stroke-linejoin:miter;stroke-width:0.8;\"/>\n   </g>\n   <g id=\"patch_6\">\n    <path d=\"M 30.103125 10.999219 \nL 867.103125 10.999219 \n\" style=\"fill:none;stroke:#000000;stroke-linecap:square;stroke-linejoin:miter;stroke-width:0.8;\"/>\n   </g>\n   <g id=\"legend_1\">\n    <g id=\"patch_7\">\n     <path d=\"M 808.7875 33.677344 \nL 860.103125 33.677344 \nQ 862.103125 33.677344 862.103125 31.677344 \nL 862.103125 17.999219 \nQ 862.103125 15.999219 860.103125 15.999219 \nL 808.7875 15.999219 \nQ 806.7875 15.999219 806.7875 17.999219 \nL 806.7875 31.677344 \nQ 806.7875 33.677344 808.7875 33.677344 \nz\n\" style=\"fill:#ffffff;opacity:0.8;stroke:#cccccc;stroke-linejoin:miter;\"/>\n    </g>\n    <g id=\"line2d_34\">\n     <path d=\"M 810.7875 24.097656 \nL 830.7875 24.097656 \n\" style=\"fill:none;stroke:#1f77b4;stroke-linecap:square;stroke-width:1.5;\"/>\n    </g>\n    <g id=\"line2d_35\"/>\n    <g id=\"text_17\">\n     <!-- loss -->\n     <defs>\n      <path d=\"M 9.421875 75.984375 \nL 18.40625 75.984375 \nL 18.40625 0 \nL 9.421875 0 \nz\n\" id=\"DejaVuSans-108\"/>\n      <path d=\"M 30.609375 48.390625 \nQ 23.390625 48.390625 19.1875 42.75 \nQ 14.984375 37.109375 14.984375 27.296875 \nQ 14.984375 17.484375 19.15625 11.84375 \nQ 23.34375 6.203125 30.609375 6.203125 \nQ 37.796875 6.203125 41.984375 11.859375 \nQ 46.1875 17.53125 46.1875 27.296875 \nQ 46.1875 37.015625 41.984375 42.703125 \nQ 37.796875 48.390625 30.609375 48.390625 \nz\nM 30.609375 56 \nQ 42.328125 56 49.015625 48.375 \nQ 55.71875 40.765625 55.71875 27.296875 \nQ 55.71875 13.875 49.015625 6.21875 \nQ 42.328125 -1.421875 30.609375 -1.421875 \nQ 18.84375 -1.421875 12.171875 6.21875 \nQ 5.515625 13.875 5.515625 27.296875 \nQ 5.515625 40.765625 12.171875 48.375 \nQ 18.84375 56 30.609375 56 \nz\n\" id=\"DejaVuSans-111\"/>\n      <path d=\"M 44.28125 53.078125 \nL 44.28125 44.578125 \nQ 40.484375 46.53125 36.375 47.5 \nQ 32.28125 48.484375 27.875 48.484375 \nQ 21.1875 48.484375 17.84375 46.4375 \nQ 14.5 44.390625 14.5 40.28125 \nQ 14.5 37.15625 16.890625 35.375 \nQ 19.28125 33.59375 26.515625 31.984375 \nL 29.59375 31.296875 \nQ 39.15625 29.25 43.1875 25.515625 \nQ 47.21875 21.78125 47.21875 15.09375 \nQ 47.21875 7.46875 41.1875 3.015625 \nQ 35.15625 -1.421875 24.609375 -1.421875 \nQ 20.21875 -1.421875 15.453125 -0.5625 \nQ 10.6875 0.296875 5.421875 2 \nL 5.421875 11.28125 \nQ 10.40625 8.6875 15.234375 7.390625 \nQ 20.0625 6.109375 24.8125 6.109375 \nQ 31.15625 6.109375 34.5625 8.28125 \nQ 37.984375 10.453125 37.984375 14.40625 \nQ 37.984375 18.0625 35.515625 20.015625 \nQ 33.0625 21.96875 24.703125 23.78125 \nL 21.578125 24.515625 \nQ 13.234375 26.265625 9.515625 29.90625 \nQ 5.8125 33.546875 5.8125 39.890625 \nQ 5.8125 47.609375 11.28125 51.796875 \nQ 16.75 56 26.8125 56 \nQ 31.78125 56 36.171875 55.265625 \nQ 40.578125 54.546875 44.28125 53.078125 \nz\n\" id=\"DejaVuSans-115\"/>\n     </defs>\n     <g transform=\"translate(838.7875 27.597656)scale(0.1 -0.1)\">\n      <use xlink:href=\"#DejaVuSans-108\"/>\n      <use x=\"27.783203\" xlink:href=\"#DejaVuSans-111\"/>\n      <use x=\"88.964844\" xlink:href=\"#DejaVuSans-115\"/>\n      <use x=\"141.064453\" xlink:href=\"#DejaVuSans-115\"/>\n     </g>\n    </g>\n   </g>\n  </g>\n </g>\n <defs>\n  <clipPath id=\"p97b30affbc\">\n   <rect height=\"434.88\" width=\"837\" x=\"30.103125\" y=\"10.999219\"/>\n  </clipPath>\n </defs>\n</svg>\n",
      "image/png": "[encoded data removed]"
     },
     "metadata": {
      "needs_background": "light"
     }
    }
   ],
   "source": [
    "#plot the history\n",
    "pd.DataFrame.from_dict({'loss':history.history['loss']}).plot(figsize=(15, 8))\n",
    "plt.grid(True)\n",
    "plt.gca().set_ylim(0, 1) # set the vertical range to [0-1]\n",
    "plt.show()"
   ]
  },
  {
   "cell_type": "markdown",
   "metadata": {},
   "source": [
    "### Predict test data"
   ]
  },
  {
   "cell_type": "code",
   "execution_count": 54,
   "metadata": {},
   "outputs": [
    {
     "output_type": "stream",
     "name": "stdout",
     "text": "1/1 [==============================] - 0s 163ms/step\n"
    }
   ],
   "source": [
    "y_prob = model.predict(x=test_tf.batch(batch_size=1000), steps=1, verbose=True)"
   ]
  },
  {
   "cell_type": "code",
   "execution_count": 55,
   "metadata": {},
   "outputs": [
    {
     "output_type": "display_data",
     "data": {
      "application/vnd.plotly.v1+json": {
       "config": {
        "plotlyServerURL": "https://plot.ly"
       },
       "data": [
        {
         "line": {
          "color": "darkorange",
          "width": 2
         },
         "mode": "lines",
         "name": "ROC curve (area = 0.53)",
         "type": "scatter",
         "x": [
          0,
          0.010309278350515464,
          0.010309278350515464,
          0.020618556701030927,
          0.020618556701030927,
          0.030927835051546393,
          0.030927835051546393,
          0.041237113402061855,
          0.041237113402061855,
          0.05154639175257732,
          0.05154639175257732,
          0.061855670103092786,
          0.061855670103092786,
          0.08247422680412371,
          0.08247422680412371,
          0.09278350515463918,
          0.09278350515463918,
          0.10309278350515463,
          0.10309278350515463,
          0.1134020618556701,
          0.1134020618556701,
          0.12371134020618557,
          0.12371134020618557,
          0.13402061855670103,
          0.13402061855670103,
          0.15463917525773196,
          0.15463917525773196,
          0.17525773195876287,
          0.17525773195876287,
          0.18556701030927836,
          0.18556701030927836,
          0.20618556701030927,
          0.20618556701030927,
          0.21649484536082475,
          0.21649484536082475,
          0.2268041237113402,
          0.2268041237113402,
          0.23711340206185566,
          0.23711340206185566,
          0.25773195876288657,
          0.25773195876288657,
          0.27835051546391754,
          0.27835051546391754,
          0.28865979381443296,
          0.28865979381443296,
          0.29896907216494845,
          0.29896907216494845,
          0.30927835051546393,
          0.30927835051546393,
          0.31958762886597936,
          0.31958762886597936,
          0.32989690721649484,
          0.32989690721649484,
          0.3402061855670103,
          0.3402061855670103,
          0.35051546391752575,
          0.35051546391752575,
          0.38144329896907214,
          0.38144329896907214,
          0.4020618556701031,
          0.4020618556701031,
          0.4329896907216495,
          0.4329896907216495,
          0.44329896907216493,
          0.44329896907216493,
          0.4536082474226804,
          0.4536082474226804,
          0.4742268041237113,
          0.4742268041237113,
          0.4845360824742268,
          0.4845360824742268,
          0.4948453608247423,
          0.4948453608247423,
          0.5051546391752577,
          0.5051546391752577,
          0.5154639175257731,
          0.5154639175257731,
          0.5257731958762887,
          0.5257731958762887,
          0.5360824742268041,
          0.5360824742268041,
          0.5463917525773195,
          0.5463917525773195,
          0.5567010309278351,
          0.5567010309278351,
          0.5773195876288659,
          0.5773195876288659,
          0.5979381443298969,
          0.5979381443298969,
          0.6391752577319587,
          0.6391752577319587,
          0.6597938144329897,
          0.6597938144329897,
          0.6701030927835051,
          0.6701030927835051,
          0.6804123711340206,
          0.6804123711340206,
          0.6907216494845361,
          0.6907216494845361,
          0.7010309278350515,
          0.7010309278350515,
          0.711340206185567,
          0.711340206185567,
          0.7216494845360825,
          0.7216494845360825,
          0.7319587628865979,
          0.7319587628865979,
          0.7525773195876289,
          0.7525773195876289,
          0.7628865979381443,
          0.7628865979381443,
          0.7731958762886598,
          0.7731958762886598,
          0.7835051546391752,
          0.7835051546391752,
          0.8041237113402062,
          0.8041237113402062,
          0.8144329896907216,
          0.8144329896907216,
          0.8247422680412371,
          0.8247422680412371,
          0.8350515463917526,
          0.8350515463917526,
          0.845360824742268,
          0.845360824742268,
          0.8556701030927835,
          0.8556701030927835,
          0.8762886597938144,
          0.8762886597938144,
          0.8865979381443299,
          0.8865979381443299,
          0.9072164948453608,
          0.9072164948453608,
          0.9175257731958762,
          0.9175257731958762,
          0.9278350515463918,
          0.9278350515463918,
          0.9484536082474226,
          0.9484536082474226,
          0.9587628865979382,
          0.9587628865979382,
          0.9690721649484536,
          0.9690721649484536,
          0.979381443298969,
          0.979381443298969,
          0.9896907216494846,
          0.9896907216494846,
          1,
          1
         ],
         "y": [
          0,
          0.0032679738562091504,
          0.032679738562091505,
          0.032679738562091505,
          0.03594771241830065,
          0.03594771241830065,
          0.05555555555555555,
          0.05555555555555555,
          0.058823529411764705,
          0.058823529411764705,
          0.06209150326797386,
          0.06209150326797386,
          0.12418300653594772,
          0.12418300653594772,
          0.14052287581699346,
          0.14052287581699346,
          0.14705882352941177,
          0.14705882352941177,
          0.1503267973856209,
          0.1503267973856209,
          0.19281045751633988,
          0.19281045751633988,
          0.19934640522875818,
          0.19934640522875818,
          0.20261437908496732,
          0.20261437908496732,
          0.21895424836601307,
          0.21895424836601307,
          0.2222222222222222,
          0.2222222222222222,
          0.25163398692810457,
          0.25163398692810457,
          0.26143790849673204,
          0.26143790849673204,
          0.27450980392156865,
          0.27450980392156865,
          0.2777777777777778,
          0.2777777777777778,
          0.29411764705882354,
          0.29411764705882354,
          0.2973856209150327,
          0.2973856209150327,
          0.3300653594771242,
          0.3300653594771242,
          0.34967320261437906,
          0.34967320261437906,
          0.35947712418300654,
          0.35947712418300654,
          0.3660130718954248,
          0.3660130718954248,
          0.369281045751634,
          0.369281045751634,
          0.38562091503267976,
          0.38562091503267976,
          0.3888888888888889,
          0.3888888888888889,
          0.39215686274509803,
          0.39215686274509803,
          0.4019607843137255,
          0.4019607843137255,
          0.45098039215686275,
          0.45098039215686275,
          0.4673202614379085,
          0.4673202614379085,
          0.4869281045751634,
          0.4869281045751634,
          0.5065359477124183,
          0.5065359477124183,
          0.5163398692810458,
          0.5163398692810458,
          0.5228758169934641,
          0.5228758169934641,
          0.5359477124183006,
          0.5359477124183006,
          0.5588235294117647,
          0.5588235294117647,
          0.565359477124183,
          0.565359477124183,
          0.5849673202614379,
          0.5849673202614379,
          0.5947712418300654,
          0.5947712418300654,
          0.6111111111111112,
          0.6111111111111112,
          0.6241830065359477,
          0.6241830065359477,
          0.6437908496732027,
          0.6437908496732027,
          0.6470588235294118,
          0.6470588235294118,
          0.6666666666666666,
          0.6666666666666666,
          0.6699346405228758,
          0.6699346405228758,
          0.6862745098039216,
          0.6862745098039216,
          0.7156862745098039,
          0.7156862745098039,
          0.7287581699346405,
          0.7287581699346405,
          0.7320261437908496,
          0.7320261437908496,
          0.7352941176470589,
          0.7352941176470589,
          0.7450980392156863,
          0.7450980392156863,
          0.7549019607843137,
          0.7549019607843137,
          0.7581699346405228,
          0.7581699346405228,
          0.7647058823529411,
          0.7647058823529411,
          0.7777777777777778,
          0.7777777777777778,
          0.7843137254901961,
          0.7843137254901961,
          0.8071895424836601,
          0.8071895424836601,
          0.8104575163398693,
          0.8104575163398693,
          0.8137254901960784,
          0.8137254901960784,
          0.8202614379084967,
          0.8202614379084967,
          0.8398692810457516,
          0.8398692810457516,
          0.8496732026143791,
          0.8496732026143791,
          0.8594771241830066,
          0.8594771241830066,
          0.8627450980392157,
          0.8627450980392157,
          0.9019607843137255,
          0.9019607843137255,
          0.9117647058823529,
          0.9117647058823529,
          0.9215686274509803,
          0.9215686274509803,
          0.9477124183006536,
          0.9477124183006536,
          0.954248366013072,
          0.954248366013072,
          0.9738562091503268,
          0.9738562091503268,
          0.9836601307189542,
          0.9836601307189542,
          0.9967320261437909,
          0.9967320261437909,
          1
         ]
        },
        {
         "line": {
          "color": "navy",
          "dash": "dash",
          "width": 2
         },
         "mode": "lines",
         "showlegend": false,
         "type": "scatter",
         "x": [
          0,
          1
         ],
         "y": [
          0,
          1
         ]
        }
       ],
       "layout": {
        "template": {
         "data": {
          "bar": [
           {
            "error_x": {
             "color": "#2a3f5f"
            },
            "error_y": {
             "color": "#2a3f5f"
            },
            "marker": {
             "line": {
              "color": "#E5ECF6",
              "width": 0.5
             }
            },
            "type": "bar"
           }
          ],
          "barpolar": [
           {
            "marker": {
             "line": {
              "color": "#E5ECF6",
              "width": 0.5
             }
            },
            "type": "barpolar"
           }
          ],
          "carpet": [
           {
            "aaxis": {
             "endlinecolor": "#2a3f5f",
             "gridcolor": "white",
             "linecolor": "white",
             "minorgridcolor": "white",
             "startlinecolor": "#2a3f5f"
            },
            "baxis": {
             "endlinecolor": "#2a3f5f",
             "gridcolor": "white",
             "linecolor": "white",
             "minorgridcolor": "white",
             "startlinecolor": "#2a3f5f"
            },
            "type": "carpet"
           }
          ],
          "choropleth": [
           {
            "colorbar": {
             "outlinewidth": 0,
             "ticks": ""
            },
            "type": "choropleth"
           }
          ],
          "contour": [
           {
            "colorbar": {
             "outlinewidth": 0,
             "ticks": ""
            },
            "colorscale": [
             [
              0,
              "#0d0887"
             ],
             [
              0.1111111111111111,
              "#46039f"
             ],
             [
              0.2222222222222222,
              "#7201a8"
             ],
             [
              0.3333333333333333,
              "#9c179e"
             ],
             [
              0.4444444444444444,
              "#bd3786"
             ],
             [
              0.5555555555555556,
              "#d8576b"
             ],
             [
              0.6666666666666666,
              "#ed7953"
             ],
             [
              0.7777777777777778,
              "#fb9f3a"
             ],
             [
              0.8888888888888888,
              "#fdca26"
             ],
             [
              1,
              "#f0f921"
             ]
            ],
            "type": "contour"
           }
          ],
          "contourcarpet": [
           {
            "colorbar": {
             "outlinewidth": 0,
             "ticks": ""
            },
            "type": "contourcarpet"
           }
          ],
          "heatmap": [
           {
            "colorbar": {
             "outlinewidth": 0,
             "ticks": ""
            },
            "colorscale": [
             [
              0,
              "#0d0887"
             ],
             [
              0.1111111111111111,
              "#46039f"
             ],
             [
              0.2222222222222222,
              "#7201a8"
             ],
             [
              0.3333333333333333,
              "#9c179e"
             ],
             [
              0.4444444444444444,
              "#bd3786"
             ],
             [
              0.5555555555555556,
              "#d8576b"
             ],
             [
              0.6666666666666666,
              "#ed7953"
             ],
             [
              0.7777777777777778,
              "#fb9f3a"
             ],
             [
              0.8888888888888888,
              "#fdca26"
             ],
             [
              1,
              "#f0f921"
             ]
            ],
            "type": "heatmap"
           }
          ],
          "heatmapgl": [
           {
            "colorbar": {
             "outlinewidth": 0,
             "ticks": ""
            },
            "colorscale": [
             [
              0,
              "#0d0887"
             ],
             [
              0.1111111111111111,
              "#46039f"
             ],
             [
              0.2222222222222222,
              "#7201a8"
             ],
             [
              0.3333333333333333,
              "#9c179e"
             ],
             [
              0.4444444444444444,
              "#bd3786"
             ],
             [
              0.5555555555555556,
              "#d8576b"
             ],
             [
              0.6666666666666666,
              "#ed7953"
             ],
             [
              0.7777777777777778,
              "#fb9f3a"
             ],
             [
              0.8888888888888888,
              "#fdca26"
             ],
             [
              1,
              "#f0f921"
             ]
            ],
            "type": "heatmapgl"
           }
          ],
          "histogram": [
           {
            "marker": {
             "colorbar": {
              "outlinewidth": 0,
              "ticks": ""
             }
            },
            "type": "histogram"
           }
          ],
          "histogram2d": [
           {
            "colorbar": {
             "outlinewidth": 0,
             "ticks": ""
            },
            "colorscale": [
             [
              0,
              "#0d0887"
             ],
             [
              0.1111111111111111,
              "#46039f"
             ],
             [
              0.2222222222222222,
              "#7201a8"
             ],
             [
              0.3333333333333333,
              "#9c179e"
             ],
             [
              0.4444444444444444,
              "#bd3786"
             ],
             [
              0.5555555555555556,
              "#d8576b"
             ],
             [
              0.6666666666666666,
              "#ed7953"
             ],
             [
              0.7777777777777778,
              "#fb9f3a"
             ],
             [
              0.8888888888888888,
              "#fdca26"
             ],
             [
              1,
              "#f0f921"
             ]
            ],
            "type": "histogram2d"
           }
          ],
          "histogram2dcontour": [
           {
            "colorbar": {
             "outlinewidth": 0,
             "ticks": ""
            },
            "colorscale": [
             [
              0,
              "#0d0887"
             ],
             [
              0.1111111111111111,
              "#46039f"
             ],
             [
              0.2222222222222222,
              "#7201a8"
             ],
             [
              0.3333333333333333,
              "#9c179e"
             ],
             [
              0.4444444444444444,
              "#bd3786"
             ],
             [
              0.5555555555555556,
              "#d8576b"
             ],
             [
              0.6666666666666666,
              "#ed7953"
             ],
             [
              0.7777777777777778,
              "#fb9f3a"
             ],
             [
              0.8888888888888888,
              "#fdca26"
             ],
             [
              1,
              "#f0f921"
             ]
            ],
            "type": "histogram2dcontour"
           }
          ],
          "mesh3d": [
           {
            "colorbar": {
             "outlinewidth": 0,
             "ticks": ""
            },
            "type": "mesh3d"
           }
          ],
          "parcoords": [
           {
            "line": {
             "colorbar": {
              "outlinewidth": 0,
              "ticks": ""
             }
            },
            "type": "parcoords"
           }
          ],
          "pie": [
           {
            "automargin": true,
            "type": "pie"
           }
          ],
          "scatter": [
           {
            "marker": {
             "colorbar": {
              "outlinewidth": 0,
              "ticks": ""
             }
            },
            "type": "scatter"
           }
          ],
          "scatter3d": [
           {
            "line": {
             "colorbar": {
              "outlinewidth": 0,
              "ticks": ""
             }
            },
            "marker": {
             "colorbar": {
              "outlinewidth": 0,
              "ticks": ""
             }
            },
            "type": "scatter3d"
           }
          ],
          "scattercarpet": [
           {
            "marker": {
             "colorbar": {
              "outlinewidth": 0,
              "ticks": ""
             }
            },
            "type": "scattercarpet"
           }
          ],
          "scattergeo": [
           {
            "marker": {
             "colorbar": {
              "outlinewidth": 0,
              "ticks": ""
             }
            },
            "type": "scattergeo"
           }
          ],
          "scattergl": [
           {
            "marker": {
             "colorbar": {
              "outlinewidth": 0,
              "ticks": ""
             }
            },
            "type": "scattergl"
           }
          ],
          "scattermapbox": [
           {
            "marker": {
             "colorbar": {
              "outlinewidth": 0,
              "ticks": ""
             }
            },
            "type": "scattermapbox"
           }
          ],
          "scatterpolar": [
           {
            "marker": {
             "colorbar": {
              "outlinewidth": 0,
              "ticks": ""
             }
            },
            "type": "scatterpolar"
           }
          ],
          "scatterpolargl": [
           {
            "marker": {
             "colorbar": {
              "outlinewidth": 0,
              "ticks": ""
             }
            },
            "type": "scatterpolargl"
           }
          ],
          "scatterternary": [
           {
            "marker": {
             "colorbar": {
              "outlinewidth": 0,
              "ticks": ""
             }
            },
            "type": "scatterternary"
           }
          ],
          "surface": [
           {
            "colorbar": {
             "outlinewidth": 0,
             "ticks": ""
            },
            "colorscale": [
             [
              0,
              "#0d0887"
             ],
             [
              0.1111111111111111,
              "#46039f"
             ],
             [
              0.2222222222222222,
              "#7201a8"
             ],
             [
              0.3333333333333333,
              "#9c179e"
             ],
             [
              0.4444444444444444,
              "#bd3786"
             ],
             [
              0.5555555555555556,
              "#d8576b"
             ],
             [
              0.6666666666666666,
              "#ed7953"
             ],
             [
              0.7777777777777778,
              "#fb9f3a"
             ],
             [
              0.8888888888888888,
              "#fdca26"
             ],
             [
              1,
              "#f0f921"
             ]
            ],
            "type": "surface"
           }
          ],
          "table": [
           {
            "cells": {
             "fill": {
              "color": "#EBF0F8"
             },
             "line": {
              "color": "white"
             }
            },
            "header": {
             "fill": {
              "color": "#C8D4E3"
             },
             "line": {
              "color": "white"
             }
            },
            "type": "table"
           }
          ]
         },
         "layout": {
          "annotationdefaults": {
           "arrowcolor": "#2a3f5f",
           "arrowhead": 0,
           "arrowwidth": 1
          },
          "coloraxis": {
           "colorbar": {
            "outlinewidth": 0,
            "ticks": ""
           }
          },
          "colorscale": {
           "diverging": [
            [
             0,
             "#8e0152"
            ],
            [
             0.1,
             "#c51b7d"
            ],
            [
             0.2,
             "#de77ae"
            ],
            [
             0.3,
             "#f1b6da"
            ],
            [
             0.4,
             "#fde0ef"
            ],
            [
             0.5,
             "#f7f7f7"
            ],
            [
             0.6,
             "#e6f5d0"
            ],
            [
             0.7,
             "#b8e186"
            ],
            [
             0.8,
             "#7fbc41"
            ],
            [
             0.9,
             "#4d9221"
            ],
            [
             1,
             "#276419"
            ]
           ],
           "sequential": [
            [
             0,
             "#0d0887"
            ],
            [
             0.1111111111111111,
             "#46039f"
            ],
            [
             0.2222222222222222,
             "#7201a8"
            ],
            [
             0.3333333333333333,
             "#9c179e"
            ],
            [
             0.4444444444444444,
             "#bd3786"
            ],
            [
             0.5555555555555556,
             "#d8576b"
            ],
            [
             0.6666666666666666,
             "#ed7953"
            ],
            [
             0.7777777777777778,
             "#fb9f3a"
            ],
            [
             0.8888888888888888,
             "#fdca26"
            ],
            [
             1,
             "#f0f921"
            ]
           ],
           "sequentialminus": [
            [
             0,
             "#0d0887"
            ],
            [
             0.1111111111111111,
             "#46039f"
            ],
            [
             0.2222222222222222,
             "#7201a8"
            ],
            [
             0.3333333333333333,
             "#9c179e"
            ],
            [
             0.4444444444444444,
             "#bd3786"
            ],
            [
             0.5555555555555556,
             "#d8576b"
            ],
            [
             0.6666666666666666,
             "#ed7953"
            ],
            [
             0.7777777777777778,
             "#fb9f3a"
            ],
            [
             0.8888888888888888,
             "#fdca26"
            ],
            [
             1,
             "#f0f921"
            ]
           ]
          },
          "colorway": [
           "#636efa",
           "#EF553B",
           "#00cc96",
           "#ab63fa",
           "#FFA15A",
           "#19d3f3",
           "#FF6692",
           "#B6E880",
           "#FF97FF",
           "#FECB52"
          ],
          "font": {
           "color": "#2a3f5f"
          },
          "geo": {
           "bgcolor": "white",
           "lakecolor": "white",
           "landcolor": "#E5ECF6",
           "showlakes": true,
           "showland": true,
           "subunitcolor": "white"
          },
          "hoverlabel": {
           "align": "left"
          },
          "hovermode": "closest",
          "mapbox": {
           "style": "light"
          },
          "paper_bgcolor": "white",
          "plot_bgcolor": "#E5ECF6",
          "polar": {
           "angularaxis": {
            "gridcolor": "white",
            "linecolor": "white",
            "ticks": ""
           },
           "bgcolor": "#E5ECF6",
           "radialaxis": {
            "gridcolor": "white",
            "linecolor": "white",
            "ticks": ""
           }
          },
          "scene": {
           "xaxis": {
            "backgroundcolor": "#E5ECF6",
            "gridcolor": "white",
            "gridwidth": 2,
            "linecolor": "white",
            "showbackground": true,
            "ticks": "",
            "zerolinecolor": "white"
           },
           "yaxis": {
            "backgroundcolor": "#E5ECF6",
            "gridcolor": "white",
            "gridwidth": 2,
            "linecolor": "white",
            "showbackground": true,
            "ticks": "",
            "zerolinecolor": "white"
           },
           "zaxis": {
            "backgroundcolor": "#E5ECF6",
            "gridcolor": "white",
            "gridwidth": 2,
            "linecolor": "white",
            "showbackground": true,
            "ticks": "",
            "zerolinecolor": "white"
           }
          },
          "shapedefaults": {
           "line": {
            "color": "#2a3f5f"
           }
          },
          "ternary": {
           "aaxis": {
            "gridcolor": "white",
            "linecolor": "white",
            "ticks": ""
           },
           "baxis": {
            "gridcolor": "white",
            "linecolor": "white",
            "ticks": ""
           },
           "bgcolor": "#E5ECF6",
           "caxis": {
            "gridcolor": "white",
            "linecolor": "white",
            "ticks": ""
           }
          },
          "title": {
           "x": 0.05
          },
          "xaxis": {
           "automargin": true,
           "gridcolor": "white",
           "linecolor": "white",
           "ticks": "",
           "title": {
            "standoff": 15
           },
           "zerolinecolor": "white",
           "zerolinewidth": 2
          },
          "yaxis": {
           "automargin": true,
           "gridcolor": "white",
           "linecolor": "white",
           "ticks": "",
           "title": {
            "standoff": 15
           },
           "zerolinecolor": "white",
           "zerolinewidth": 2
          }
         }
        },
        "title": {
         "text": "Receiver operating characteristic example"
        },
        "xaxis": {
         "title": {
          "text": "False Positive Rate"
         }
        },
        "yaxis": {
         "title": {
          "text": "True Positive Rate"
         }
        }
       }
      }
     },
     "metadata": {}
    }
   ],
   "source": [
    "mpl.plotRoc(ty_test.numpy(), y_prob.flatten())"
   ]
  },
  {
   "cell_type": "code",
   "execution_count": 56,
   "metadata": {},
   "outputs": [
    {
     "output_type": "display_data",
     "data": {
      "application/vnd.plotly.v1+json": {
       "config": {
        "plotlyServerURL": "https://plot.ly"
       },
       "data": [
        {
         "line": {
          "color": "darkorange",
          "width": 2
         },
         "mode": "lines",
         "name": "ROC curve (area = 0.46)",
         "type": "scatter",
         "x": [
          0,
          0.5463917525773195,
          1
         ],
         "y": [
          0,
          0.4738562091503268,
          1
         ]
        },
        {
         "line": {
          "color": "navy",
          "dash": "dash",
          "width": 2
         },
         "mode": "lines",
         "showlegend": false,
         "type": "scatter",
         "x": [
          0,
          1
         ],
         "y": [
          0,
          1
         ]
        }
       ],
       "layout": {
        "template": {
         "data": {
          "bar": [
           {
            "error_x": {
             "color": "#2a3f5f"
            },
            "error_y": {
             "color": "#2a3f5f"
            },
            "marker": {
             "line": {
              "color": "#E5ECF6",
              "width": 0.5
             }
            },
            "type": "bar"
           }
          ],
          "barpolar": [
           {
            "marker": {
             "line": {
              "color": "#E5ECF6",
              "width": 0.5
             }
            },
            "type": "barpolar"
           }
          ],
          "carpet": [
           {
            "aaxis": {
             "endlinecolor": "#2a3f5f",
             "gridcolor": "white",
             "linecolor": "white",
             "minorgridcolor": "white",
             "startlinecolor": "#2a3f5f"
            },
            "baxis": {
             "endlinecolor": "#2a3f5f",
             "gridcolor": "white",
             "linecolor": "white",
             "minorgridcolor": "white",
             "startlinecolor": "#2a3f5f"
            },
            "type": "carpet"
           }
          ],
          "choropleth": [
           {
            "colorbar": {
             "outlinewidth": 0,
             "ticks": ""
            },
            "type": "choropleth"
           }
          ],
          "contour": [
           {
            "colorbar": {
             "outlinewidth": 0,
             "ticks": ""
            },
            "colorscale": [
             [
              0,
              "#0d0887"
             ],
             [
              0.1111111111111111,
              "#46039f"
             ],
             [
              0.2222222222222222,
              "#7201a8"
             ],
             [
              0.3333333333333333,
              "#9c179e"
             ],
             [
              0.4444444444444444,
              "#bd3786"
             ],
             [
              0.5555555555555556,
              "#d8576b"
             ],
             [
              0.6666666666666666,
              "#ed7953"
             ],
             [
              0.7777777777777778,
              "#fb9f3a"
             ],
             [
              0.8888888888888888,
              "#fdca26"
             ],
             [
              1,
              "#f0f921"
             ]
            ],
            "type": "contour"
           }
          ],
          "contourcarpet": [
           {
            "colorbar": {
             "outlinewidth": 0,
             "ticks": ""
            },
            "type": "contourcarpet"
           }
          ],
          "heatmap": [
           {
            "colorbar": {
             "outlinewidth": 0,
             "ticks": ""
            },
            "colorscale": [
             [
              0,
              "#0d0887"
             ],
             [
              0.1111111111111111,
              "#46039f"
             ],
             [
              0.2222222222222222,
              "#7201a8"
             ],
             [
              0.3333333333333333,
              "#9c179e"
             ],
             [
              0.4444444444444444,
              "#bd3786"
             ],
             [
              0.5555555555555556,
              "#d8576b"
             ],
             [
              0.6666666666666666,
              "#ed7953"
             ],
             [
              0.7777777777777778,
              "#fb9f3a"
             ],
             [
              0.8888888888888888,
              "#fdca26"
             ],
             [
              1,
              "#f0f921"
             ]
            ],
            "type": "heatmap"
           }
          ],
          "heatmapgl": [
           {
            "colorbar": {
             "outlinewidth": 0,
             "ticks": ""
            },
            "colorscale": [
             [
              0,
              "#0d0887"
             ],
             [
              0.1111111111111111,
              "#46039f"
             ],
             [
              0.2222222222222222,
              "#7201a8"
             ],
             [
              0.3333333333333333,
              "#9c179e"
             ],
             [
              0.4444444444444444,
              "#bd3786"
             ],
             [
              0.5555555555555556,
              "#d8576b"
             ],
             [
              0.6666666666666666,
              "#ed7953"
             ],
             [
              0.7777777777777778,
              "#fb9f3a"
             ],
             [
              0.8888888888888888,
              "#fdca26"
             ],
             [
              1,
              "#f0f921"
             ]
            ],
            "type": "heatmapgl"
           }
          ],
          "histogram": [
           {
            "marker": {
             "colorbar": {
              "outlinewidth": 0,
              "ticks": ""
             }
            },
            "type": "histogram"
           }
          ],
          "histogram2d": [
           {
            "colorbar": {
             "outlinewidth": 0,
             "ticks": ""
            },
            "colorscale": [
             [
              0,
              "#0d0887"
             ],
             [
              0.1111111111111111,
              "#46039f"
             ],
             [
              0.2222222222222222,
              "#7201a8"
             ],
             [
              0.3333333333333333,
              "#9c179e"
             ],
             [
              0.4444444444444444,
              "#bd3786"
             ],
             [
              0.5555555555555556,
              "#d8576b"
             ],
             [
              0.6666666666666666,
              "#ed7953"
             ],
             [
              0.7777777777777778,
              "#fb9f3a"
             ],
             [
              0.8888888888888888,
              "#fdca26"
             ],
             [
              1,
              "#f0f921"
             ]
            ],
            "type": "histogram2d"
           }
          ],
          "histogram2dcontour": [
           {
            "colorbar": {
             "outlinewidth": 0,
             "ticks": ""
            },
            "colorscale": [
             [
              0,
              "#0d0887"
             ],
             [
              0.1111111111111111,
              "#46039f"
             ],
             [
              0.2222222222222222,
              "#7201a8"
             ],
             [
              0.3333333333333333,
              "#9c179e"
             ],
             [
              0.4444444444444444,
              "#bd3786"
             ],
             [
              0.5555555555555556,
              "#d8576b"
             ],
             [
              0.6666666666666666,
              "#ed7953"
             ],
             [
              0.7777777777777778,
              "#fb9f3a"
             ],
             [
              0.8888888888888888,
              "#fdca26"
             ],
             [
              1,
              "#f0f921"
             ]
            ],
            "type": "histogram2dcontour"
           }
          ],
          "mesh3d": [
           {
            "colorbar": {
             "outlinewidth": 0,
             "ticks": ""
            },
            "type": "mesh3d"
           }
          ],
          "parcoords": [
           {
            "line": {
             "colorbar": {
              "outlinewidth": 0,
              "ticks": ""
             }
            },
            "type": "parcoords"
           }
          ],
          "pie": [
           {
            "automargin": true,
            "type": "pie"
           }
          ],
          "scatter": [
           {
            "marker": {
             "colorbar": {
              "outlinewidth": 0,
              "ticks": ""
             }
            },
            "type": "scatter"
           }
          ],
          "scatter3d": [
           {
            "line": {
             "colorbar": {
              "outlinewidth": 0,
              "ticks": ""
             }
            },
            "marker": {
             "colorbar": {
              "outlinewidth": 0,
              "ticks": ""
             }
            },
            "type": "scatter3d"
           }
          ],
          "scattercarpet": [
           {
            "marker": {
             "colorbar": {
              "outlinewidth": 0,
              "ticks": ""
             }
            },
            "type": "scattercarpet"
           }
          ],
          "scattergeo": [
           {
            "marker": {
             "colorbar": {
              "outlinewidth": 0,
              "ticks": ""
             }
            },
            "type": "scattergeo"
           }
          ],
          "scattergl": [
           {
            "marker": {
             "colorbar": {
              "outlinewidth": 0,
              "ticks": ""
             }
            },
            "type": "scattergl"
           }
          ],
          "scattermapbox": [
           {
            "marker": {
             "colorbar": {
              "outlinewidth": 0,
              "ticks": ""
             }
            },
            "type": "scattermapbox"
           }
          ],
          "scatterpolar": [
           {
            "marker": {
             "colorbar": {
              "outlinewidth": 0,
              "ticks": ""
             }
            },
            "type": "scatterpolar"
           }
          ],
          "scatterpolargl": [
           {
            "marker": {
             "colorbar": {
              "outlinewidth": 0,
              "ticks": ""
             }
            },
            "type": "scatterpolargl"
           }
          ],
          "scatterternary": [
           {
            "marker": {
             "colorbar": {
              "outlinewidth": 0,
              "ticks": ""
             }
            },
            "type": "scatterternary"
           }
          ],
          "surface": [
           {
            "colorbar": {
             "outlinewidth": 0,
             "ticks": ""
            },
            "colorscale": [
             [
              0,
              "#0d0887"
             ],
             [
              0.1111111111111111,
              "#46039f"
             ],
             [
              0.2222222222222222,
              "#7201a8"
             ],
             [
              0.3333333333333333,
              "#9c179e"
             ],
             [
              0.4444444444444444,
              "#bd3786"
             ],
             [
              0.5555555555555556,
              "#d8576b"
             ],
             [
              0.6666666666666666,
              "#ed7953"
             ],
             [
              0.7777777777777778,
              "#fb9f3a"
             ],
             [
              0.8888888888888888,
              "#fdca26"
             ],
             [
              1,
              "#f0f921"
             ]
            ],
            "type": "surface"
           }
          ],
          "table": [
           {
            "cells": {
             "fill": {
              "color": "#EBF0F8"
             },
             "line": {
              "color": "white"
             }
            },
            "header": {
             "fill": {
              "color": "#C8D4E3"
             },
             "line": {
              "color": "white"
             }
            },
            "type": "table"
           }
          ]
         },
         "layout": {
          "annotationdefaults": {
           "arrowcolor": "#2a3f5f",
           "arrowhead": 0,
           "arrowwidth": 1
          },
          "coloraxis": {
           "colorbar": {
            "outlinewidth": 0,
            "ticks": ""
           }
          },
          "colorscale": {
           "diverging": [
            [
             0,
             "#8e0152"
            ],
            [
             0.1,
             "#c51b7d"
            ],
            [
             0.2,
             "#de77ae"
            ],
            [
             0.3,
             "#f1b6da"
            ],
            [
             0.4,
             "#fde0ef"
            ],
            [
             0.5,
             "#f7f7f7"
            ],
            [
             0.6,
             "#e6f5d0"
            ],
            [
             0.7,
             "#b8e186"
            ],
            [
             0.8,
             "#7fbc41"
            ],
            [
             0.9,
             "#4d9221"
            ],
            [
             1,
             "#276419"
            ]
           ],
           "sequential": [
            [
             0,
             "#0d0887"
            ],
            [
             0.1111111111111111,
             "#46039f"
            ],
            [
             0.2222222222222222,
             "#7201a8"
            ],
            [
             0.3333333333333333,
             "#9c179e"
            ],
            [
             0.4444444444444444,
             "#bd3786"
            ],
            [
             0.5555555555555556,
             "#d8576b"
            ],
            [
             0.6666666666666666,
             "#ed7953"
            ],
            [
             0.7777777777777778,
             "#fb9f3a"
            ],
            [
             0.8888888888888888,
             "#fdca26"
            ],
            [
             1,
             "#f0f921"
            ]
           ],
           "sequentialminus": [
            [
             0,
             "#0d0887"
            ],
            [
             0.1111111111111111,
             "#46039f"
            ],
            [
             0.2222222222222222,
             "#7201a8"
            ],
            [
             0.3333333333333333,
             "#9c179e"
            ],
            [
             0.4444444444444444,
             "#bd3786"
            ],
            [
             0.5555555555555556,
             "#d8576b"
            ],
            [
             0.6666666666666666,
             "#ed7953"
            ],
            [
             0.7777777777777778,
             "#fb9f3a"
            ],
            [
             0.8888888888888888,
             "#fdca26"
            ],
            [
             1,
             "#f0f921"
            ]
           ]
          },
          "colorway": [
           "#636efa",
           "#EF553B",
           "#00cc96",
           "#ab63fa",
           "#FFA15A",
           "#19d3f3",
           "#FF6692",
           "#B6E880",
           "#FF97FF",
           "#FECB52"
          ],
          "font": {
           "color": "#2a3f5f"
          },
          "geo": {
           "bgcolor": "white",
           "lakecolor": "white",
           "landcolor": "#E5ECF6",
           "showlakes": true,
           "showland": true,
           "subunitcolor": "white"
          },
          "hoverlabel": {
           "align": "left"
          },
          "hovermode": "closest",
          "mapbox": {
           "style": "light"
          },
          "paper_bgcolor": "white",
          "plot_bgcolor": "#E5ECF6",
          "polar": {
           "angularaxis": {
            "gridcolor": "white",
            "linecolor": "white",
            "ticks": ""
           },
           "bgcolor": "#E5ECF6",
           "radialaxis": {
            "gridcolor": "white",
            "linecolor": "white",
            "ticks": ""
           }
          },
          "scene": {
           "xaxis": {
            "backgroundcolor": "#E5ECF6",
            "gridcolor": "white",
            "gridwidth": 2,
            "linecolor": "white",
            "showbackground": true,
            "ticks": "",
            "zerolinecolor": "white"
           },
           "yaxis": {
            "backgroundcolor": "#E5ECF6",
            "gridcolor": "white",
            "gridwidth": 2,
            "linecolor": "white",
            "showbackground": true,
            "ticks": "",
            "zerolinecolor": "white"
           },
           "zaxis": {
            "backgroundcolor": "#E5ECF6",
            "gridcolor": "white",
            "gridwidth": 2,
            "linecolor": "white",
            "showbackground": true,
            "ticks": "",
            "zerolinecolor": "white"
           }
          },
          "shapedefaults": {
           "line": {
            "color": "#2a3f5f"
           }
          },
          "ternary": {
           "aaxis": {
            "gridcolor": "white",
            "linecolor": "white",
            "ticks": ""
           },
           "baxis": {
            "gridcolor": "white",
            "linecolor": "white",
            "ticks": ""
           },
           "bgcolor": "#E5ECF6",
           "caxis": {
            "gridcolor": "white",
            "linecolor": "white",
            "ticks": ""
           }
          },
          "title": {
           "x": 0.05
          },
          "xaxis": {
           "automargin": true,
           "gridcolor": "white",
           "linecolor": "white",
           "ticks": "",
           "title": {
            "standoff": 15
           },
           "zerolinecolor": "white",
           "zerolinewidth": 2
          },
          "yaxis": {
           "automargin": true,
           "gridcolor": "white",
           "linecolor": "white",
           "ticks": "",
           "title": {
            "standoff": 15
           },
           "zerolinecolor": "white",
           "zerolinewidth": 2
          }
         }
        },
        "title": {
         "text": "Receiver operating characteristic example"
        },
        "xaxis": {
         "title": {
          "text": "False Positive Rate"
         }
        },
        "yaxis": {
         "title": {
          "text": "True Positive Rate"
         }
        }
       }
      }
     },
     "metadata": {}
    }
   ],
   "source": [
    "dir = x_test_df.dir.values\n",
    "length = len(dir.flatten())\n",
    "#ty_test.numpy().shape\n",
    "mpl.plotRoc(ty_test.numpy(), dir.flatten())"
   ]
  },
  {
   "cell_type": "code",
   "execution_count": 57,
   "metadata": {},
   "outputs": [
    {
     "output_type": "display_data",
     "data": {
      "application/vnd.plotly.v1+json": {
       "config": {
        "plotlyServerURL": "https://plot.ly"
       },
       "data": [
        {
         "line": {
          "color": "darkorange",
          "width": 2
         },
         "mode": "lines",
         "name": "ROC curve (area = 0.47)",
         "type": "scatter",
         "x": [
          0,
          0.010309278350515464,
          0.020618556701030927,
          0.020618556701030927,
          0.030927835051546393,
          0.030927835051546393,
          0.041237113402061855,
          0.041237113402061855,
          0.05154639175257732,
          0.05154639175257732,
          0.061855670103092786,
          0.061855670103092786,
          0.08247422680412371,
          0.08247422680412371,
          0.10309278350515463,
          0.10309278350515463,
          0.1134020618556701,
          0.1134020618556701,
          0.13402061855670103,
          0.13402061855670103,
          0.15463917525773196,
          0.15463917525773196,
          0.16494845360824742,
          0.16494845360824742,
          0.18556701030927836,
          0.18556701030927836,
          0.1958762886597938,
          0.1958762886597938,
          0.20618556701030927,
          0.20618556701030927,
          0.21649484536082475,
          0.21649484536082475,
          0.2268041237113402,
          0.2268041237113402,
          0.23711340206185566,
          0.23711340206185566,
          0.28865979381443296,
          0.28865979381443296,
          0.29896907216494845,
          0.29896907216494845,
          0.31958762886597936,
          0.31958762886597936,
          0.32989690721649484,
          0.32989690721649484,
          0.35051546391752575,
          0.35051546391752575,
          0.36082474226804123,
          0.36082474226804123,
          0.3711340206185567,
          0.3711340206185567,
          0.38144329896907214,
          0.38144329896907214,
          0.3917525773195876,
          0.3917525773195876,
          0.4020618556701031,
          0.4020618556701031,
          0.422680412371134,
          0.422680412371134,
          0.44329896907216493,
          0.44329896907216493,
          0.4536082474226804,
          0.4536082474226804,
          0.4639175257731959,
          0.4639175257731959,
          0.4742268041237113,
          0.4742268041237113,
          0.4845360824742268,
          0.4845360824742268,
          0.4948453608247423,
          0.4948453608247423,
          0.5051546391752577,
          0.5051546391752577,
          0.5154639175257731,
          0.5154639175257731,
          0.5257731958762887,
          0.5257731958762887,
          0.5463917525773195,
          0.5463917525773195,
          0.5670103092783505,
          0.5670103092783505,
          0.5773195876288659,
          0.5773195876288659,
          0.5876288659793815,
          0.5876288659793815,
          0.5979381443298969,
          0.5979381443298969,
          0.6288659793814433,
          0.6288659793814433,
          0.6391752577319587,
          0.6391752577319587,
          0.6494845360824743,
          0.6494845360824743,
          0.6597938144329897,
          0.6597938144329897,
          0.6804123711340206,
          0.6804123711340206,
          0.7010309278350515,
          0.7010309278350515,
          0.711340206185567,
          0.711340206185567,
          0.7216494845360825,
          0.7216494845360825,
          0.7319587628865979,
          0.7319587628865979,
          0.7422680412371134,
          0.7422680412371134,
          0.7525773195876289,
          0.7525773195876289,
          0.7628865979381443,
          0.7628865979381443,
          0.7731958762886598,
          0.7731958762886598,
          0.8041237113402062,
          0.8041237113402062,
          0.8144329896907216,
          0.8144329896907216,
          0.8247422680412371,
          0.8247422680412371,
          0.8350515463917526,
          0.8350515463917526,
          0.8556701030927835,
          0.8556701030927835,
          0.865979381443299,
          0.865979381443299,
          0.8762886597938144,
          0.8762886597938144,
          0.8865979381443299,
          0.8865979381443299,
          0.9175257731958762,
          0.9175257731958762,
          0.9278350515463918,
          0.9278350515463918,
          0.9381443298969072,
          0.9381443298969072,
          0.9484536082474226,
          0.9484536082474226,
          0.9587628865979382,
          0.9587628865979382,
          0.9690721649484536,
          0.9690721649484536,
          0.9896907216494846,
          0.9896907216494846,
          1,
          1
         ],
         "y": [
          0,
          0,
          0,
          0.026143790849673203,
          0.026143790849673203,
          0.029411764705882353,
          0.029411764705882353,
          0.0392156862745098,
          0.0392156862745098,
          0.05228758169934641,
          0.05228758169934641,
          0.05555555555555555,
          0.05555555555555555,
          0.0718954248366013,
          0.0718954248366013,
          0.08496732026143791,
          0.08496732026143791,
          0.12091503267973856,
          0.12091503267973856,
          0.14052287581699346,
          0.14052287581699346,
          0.15359477124183007,
          0.15359477124183007,
          0.16993464052287582,
          0.16993464052287582,
          0.20915032679738563,
          0.20915032679738563,
          0.21895424836601307,
          0.21895424836601307,
          0.22549019607843138,
          0.22549019607843138,
          0.23529411764705882,
          0.23529411764705882,
          0.238562091503268,
          0.238562091503268,
          0.26143790849673204,
          0.26143790849673204,
          0.2647058823529412,
          0.2647058823529412,
          0.2777777777777778,
          0.2777777777777778,
          0.28104575163398693,
          0.28104575163398693,
          0.2973856209150327,
          0.2973856209150327,
          0.3464052287581699,
          0.3464052287581699,
          0.34967320261437906,
          0.34967320261437906,
          0.35294117647058826,
          0.35294117647058826,
          0.3562091503267974,
          0.3562091503267974,
          0.3660130718954248,
          0.3660130718954248,
          0.369281045751634,
          0.369281045751634,
          0.37254901960784315,
          0.37254901960784315,
          0.3758169934640523,
          0.3758169934640523,
          0.39869281045751637,
          0.39869281045751637,
          0.4019607843137255,
          0.4019607843137255,
          0.4150326797385621,
          0.4150326797385621,
          0.42483660130718953,
          0.42483660130718953,
          0.42810457516339867,
          0.42810457516339867,
          0.4444444444444444,
          0.4444444444444444,
          0.45098039215686275,
          0.45098039215686275,
          0.4542483660130719,
          0.4542483660130719,
          0.45751633986928103,
          0.45751633986928103,
          0.48366013071895425,
          0.48366013071895425,
          0.49673202614379086,
          0.49673202614379086,
          0.5326797385620915,
          0.5326797385620915,
          0.5392156862745098,
          0.5392156862745098,
          0.5686274509803921,
          0.5686274509803921,
          0.5882352941176471,
          0.5882352941176471,
          0.5915032679738562,
          0.5915032679738562,
          0.6143790849673203,
          0.6143790849673203,
          0.6274509803921569,
          0.6274509803921569,
          0.6797385620915033,
          0.6797385620915033,
          0.6928104575163399,
          0.6928104575163399,
          0.7156862745098039,
          0.7156862745098039,
          0.7287581699346405,
          0.7287581699346405,
          0.7320261437908496,
          0.7320261437908496,
          0.738562091503268,
          0.738562091503268,
          0.7777777777777778,
          0.7777777777777778,
          0.7875816993464052,
          0.7875816993464052,
          0.7941176470588235,
          0.7941176470588235,
          0.8235294117647058,
          0.8235294117647058,
          0.8398692810457516,
          0.8398692810457516,
          0.8464052287581699,
          0.8464052287581699,
          0.8594771241830066,
          0.8594771241830066,
          0.8823529411764706,
          0.8823529411764706,
          0.8954248366013072,
          0.8954248366013072,
          0.9084967320261438,
          0.9084967320261438,
          0.9183006535947712,
          0.9183006535947712,
          0.9215686274509803,
          0.9215686274509803,
          0.9248366013071896,
          0.9248366013071896,
          0.934640522875817,
          0.934640522875817,
          0.9477124183006536,
          0.9477124183006536,
          0.9803921568627451,
          0.9803921568627451,
          0.9869281045751634,
          0.9869281045751634,
          1
         ]
        },
        {
         "line": {
          "color": "navy",
          "dash": "dash",
          "width": 2
         },
         "mode": "lines",
         "showlegend": false,
         "type": "scatter",
         "x": [
          0,
          1
         ],
         "y": [
          0,
          1
         ]
        }
       ],
       "layout": {
        "template": {
         "data": {
          "bar": [
           {
            "error_x": {
             "color": "#2a3f5f"
            },
            "error_y": {
             "color": "#2a3f5f"
            },
            "marker": {
             "line": {
              "color": "#E5ECF6",
              "width": 0.5
             }
            },
            "type": "bar"
           }
          ],
          "barpolar": [
           {
            "marker": {
             "line": {
              "color": "#E5ECF6",
              "width": 0.5
             }
            },
            "type": "barpolar"
           }
          ],
          "carpet": [
           {
            "aaxis": {
             "endlinecolor": "#2a3f5f",
             "gridcolor": "white",
             "linecolor": "white",
             "minorgridcolor": "white",
             "startlinecolor": "#2a3f5f"
            },
            "baxis": {
             "endlinecolor": "#2a3f5f",
             "gridcolor": "white",
             "linecolor": "white",
             "minorgridcolor": "white",
             "startlinecolor": "#2a3f5f"
            },
            "type": "carpet"
           }
          ],
          "choropleth": [
           {
            "colorbar": {
             "outlinewidth": 0,
             "ticks": ""
            },
            "type": "choropleth"
           }
          ],
          "contour": [
           {
            "colorbar": {
             "outlinewidth": 0,
             "ticks": ""
            },
            "colorscale": [
             [
              0,
              "#0d0887"
             ],
             [
              0.1111111111111111,
              "#46039f"
             ],
             [
              0.2222222222222222,
              "#7201a8"
             ],
             [
              0.3333333333333333,
              "#9c179e"
             ],
             [
              0.4444444444444444,
              "#bd3786"
             ],
             [
              0.5555555555555556,
              "#d8576b"
             ],
             [
              0.6666666666666666,
              "#ed7953"
             ],
             [
              0.7777777777777778,
              "#fb9f3a"
             ],
             [
              0.8888888888888888,
              "#fdca26"
             ],
             [
              1,
              "#f0f921"
             ]
            ],
            "type": "contour"
           }
          ],
          "contourcarpet": [
           {
            "colorbar": {
             "outlinewidth": 0,
             "ticks": ""
            },
            "type": "contourcarpet"
           }
          ],
          "heatmap": [
           {
            "colorbar": {
             "outlinewidth": 0,
             "ticks": ""
            },
            "colorscale": [
             [
              0,
              "#0d0887"
             ],
             [
              0.1111111111111111,
              "#46039f"
             ],
             [
              0.2222222222222222,
              "#7201a8"
             ],
             [
              0.3333333333333333,
              "#9c179e"
             ],
             [
              0.4444444444444444,
              "#bd3786"
             ],
             [
              0.5555555555555556,
              "#d8576b"
             ],
             [
              0.6666666666666666,
              "#ed7953"
             ],
             [
              0.7777777777777778,
              "#fb9f3a"
             ],
             [
              0.8888888888888888,
              "#fdca26"
             ],
             [
              1,
              "#f0f921"
             ]
            ],
            "type": "heatmap"
           }
          ],
          "heatmapgl": [
           {
            "colorbar": {
             "outlinewidth": 0,
             "ticks": ""
            },
            "colorscale": [
             [
              0,
              "#0d0887"
             ],
             [
              0.1111111111111111,
              "#46039f"
             ],
             [
              0.2222222222222222,
              "#7201a8"
             ],
             [
              0.3333333333333333,
              "#9c179e"
             ],
             [
              0.4444444444444444,
              "#bd3786"
             ],
             [
              0.5555555555555556,
              "#d8576b"
             ],
             [
              0.6666666666666666,
              "#ed7953"
             ],
             [
              0.7777777777777778,
              "#fb9f3a"
             ],
             [
              0.8888888888888888,
              "#fdca26"
             ],
             [
              1,
              "#f0f921"
             ]
            ],
            "type": "heatmapgl"
           }
          ],
          "histogram": [
           {
            "marker": {
             "colorbar": {
              "outlinewidth": 0,
              "ticks": ""
             }
            },
            "type": "histogram"
           }
          ],
          "histogram2d": [
           {
            "colorbar": {
             "outlinewidth": 0,
             "ticks": ""
            },
            "colorscale": [
             [
              0,
              "#0d0887"
             ],
             [
              0.1111111111111111,
              "#46039f"
             ],
             [
              0.2222222222222222,
              "#7201a8"
             ],
             [
              0.3333333333333333,
              "#9c179e"
             ],
             [
              0.4444444444444444,
              "#bd3786"
             ],
             [
              0.5555555555555556,
              "#d8576b"
             ],
             [
              0.6666666666666666,
              "#ed7953"
             ],
             [
              0.7777777777777778,
              "#fb9f3a"
             ],
             [
              0.8888888888888888,
              "#fdca26"
             ],
             [
              1,
              "#f0f921"
             ]
            ],
            "type": "histogram2d"
           }
          ],
          "histogram2dcontour": [
           {
            "colorbar": {
             "outlinewidth": 0,
             "ticks": ""
            },
            "colorscale": [
             [
              0,
              "#0d0887"
             ],
             [
              0.1111111111111111,
              "#46039f"
             ],
             [
              0.2222222222222222,
              "#7201a8"
             ],
             [
              0.3333333333333333,
              "#9c179e"
             ],
             [
              0.4444444444444444,
              "#bd3786"
             ],
             [
              0.5555555555555556,
              "#d8576b"
             ],
             [
              0.6666666666666666,
              "#ed7953"
             ],
             [
              0.7777777777777778,
              "#fb9f3a"
             ],
             [
              0.8888888888888888,
              "#fdca26"
             ],
             [
              1,
              "#f0f921"
             ]
            ],
            "type": "histogram2dcontour"
           }
          ],
          "mesh3d": [
           {
            "colorbar": {
             "outlinewidth": 0,
             "ticks": ""
            },
            "type": "mesh3d"
           }
          ],
          "parcoords": [
           {
            "line": {
             "colorbar": {
              "outlinewidth": 0,
              "ticks": ""
             }
            },
            "type": "parcoords"
           }
          ],
          "pie": [
           {
            "automargin": true,
            "type": "pie"
           }
          ],
          "scatter": [
           {
            "marker": {
             "colorbar": {
              "outlinewidth": 0,
              "ticks": ""
             }
            },
            "type": "scatter"
           }
          ],
          "scatter3d": [
           {
            "line": {
             "colorbar": {
              "outlinewidth": 0,
              "ticks": ""
             }
            },
            "marker": {
             "colorbar": {
              "outlinewidth": 0,
              "ticks": ""
             }
            },
            "type": "scatter3d"
           }
          ],
          "scattercarpet": [
           {
            "marker": {
             "colorbar": {
              "outlinewidth": 0,
              "ticks": ""
             }
            },
            "type": "scattercarpet"
           }
          ],
          "scattergeo": [
           {
            "marker": {
             "colorbar": {
              "outlinewidth": 0,
              "ticks": ""
             }
            },
            "type": "scattergeo"
           }
          ],
          "scattergl": [
           {
            "marker": {
             "colorbar": {
              "outlinewidth": 0,
              "ticks": ""
             }
            },
            "type": "scattergl"
           }
          ],
          "scattermapbox": [
           {
            "marker": {
             "colorbar": {
              "outlinewidth": 0,
              "ticks": ""
             }
            },
            "type": "scattermapbox"
           }
          ],
          "scatterpolar": [
           {
            "marker": {
             "colorbar": {
              "outlinewidth": 0,
              "ticks": ""
             }
            },
            "type": "scatterpolar"
           }
          ],
          "scatterpolargl": [
           {
            "marker": {
             "colorbar": {
              "outlinewidth": 0,
              "ticks": ""
             }
            },
            "type": "scatterpolargl"
           }
          ],
          "scatterternary": [
           {
            "marker": {
             "colorbar": {
              "outlinewidth": 0,
              "ticks": ""
             }
            },
            "type": "scatterternary"
           }
          ],
          "surface": [
           {
            "colorbar": {
             "outlinewidth": 0,
             "ticks": ""
            },
            "colorscale": [
             [
              0,
              "#0d0887"
             ],
             [
              0.1111111111111111,
              "#46039f"
             ],
             [
              0.2222222222222222,
              "#7201a8"
             ],
             [
              0.3333333333333333,
              "#9c179e"
             ],
             [
              0.4444444444444444,
              "#bd3786"
             ],
             [
              0.5555555555555556,
              "#d8576b"
             ],
             [
              0.6666666666666666,
              "#ed7953"
             ],
             [
              0.7777777777777778,
              "#fb9f3a"
             ],
             [
              0.8888888888888888,
              "#fdca26"
             ],
             [
              1,
              "#f0f921"
             ]
            ],
            "type": "surface"
           }
          ],
          "table": [
           {
            "cells": {
             "fill": {
              "color": "#EBF0F8"
             },
             "line": {
              "color": "white"
             }
            },
            "header": {
             "fill": {
              "color": "#C8D4E3"
             },
             "line": {
              "color": "white"
             }
            },
            "type": "table"
           }
          ]
         },
         "layout": {
          "annotationdefaults": {
           "arrowcolor": "#2a3f5f",
           "arrowhead": 0,
           "arrowwidth": 1
          },
          "coloraxis": {
           "colorbar": {
            "outlinewidth": 0,
            "ticks": ""
           }
          },
          "colorscale": {
           "diverging": [
            [
             0,
             "#8e0152"
            ],
            [
             0.1,
             "#c51b7d"
            ],
            [
             0.2,
             "#de77ae"
            ],
            [
             0.3,
             "#f1b6da"
            ],
            [
             0.4,
             "#fde0ef"
            ],
            [
             0.5,
             "#f7f7f7"
            ],
            [
             0.6,
             "#e6f5d0"
            ],
            [
             0.7,
             "#b8e186"
            ],
            [
             0.8,
             "#7fbc41"
            ],
            [
             0.9,
             "#4d9221"
            ],
            [
             1,
             "#276419"
            ]
           ],
           "sequential": [
            [
             0,
             "#0d0887"
            ],
            [
             0.1111111111111111,
             "#46039f"
            ],
            [
             0.2222222222222222,
             "#7201a8"
            ],
            [
             0.3333333333333333,
             "#9c179e"
            ],
            [
             0.4444444444444444,
             "#bd3786"
            ],
            [
             0.5555555555555556,
             "#d8576b"
            ],
            [
             0.6666666666666666,
             "#ed7953"
            ],
            [
             0.7777777777777778,
             "#fb9f3a"
            ],
            [
             0.8888888888888888,
             "#fdca26"
            ],
            [
             1,
             "#f0f921"
            ]
           ],
           "sequentialminus": [
            [
             0,
             "#0d0887"
            ],
            [
             0.1111111111111111,
             "#46039f"
            ],
            [
             0.2222222222222222,
             "#7201a8"
            ],
            [
             0.3333333333333333,
             "#9c179e"
            ],
            [
             0.4444444444444444,
             "#bd3786"
            ],
            [
             0.5555555555555556,
             "#d8576b"
            ],
            [
             0.6666666666666666,
             "#ed7953"
            ],
            [
             0.7777777777777778,
             "#fb9f3a"
            ],
            [
             0.8888888888888888,
             "#fdca26"
            ],
            [
             1,
             "#f0f921"
            ]
           ]
          },
          "colorway": [
           "#636efa",
           "#EF553B",
           "#00cc96",
           "#ab63fa",
           "#FFA15A",
           "#19d3f3",
           "#FF6692",
           "#B6E880",
           "#FF97FF",
           "#FECB52"
          ],
          "font": {
           "color": "#2a3f5f"
          },
          "geo": {
           "bgcolor": "white",
           "lakecolor": "white",
           "landcolor": "#E5ECF6",
           "showlakes": true,
           "showland": true,
           "subunitcolor": "white"
          },
          "hoverlabel": {
           "align": "left"
          },
          "hovermode": "closest",
          "mapbox": {
           "style": "light"
          },
          "paper_bgcolor": "white",
          "plot_bgcolor": "#E5ECF6",
          "polar": {
           "angularaxis": {
            "gridcolor": "white",
            "linecolor": "white",
            "ticks": ""
           },
           "bgcolor": "#E5ECF6",
           "radialaxis": {
            "gridcolor": "white",
            "linecolor": "white",
            "ticks": ""
           }
          },
          "scene": {
           "xaxis": {
            "backgroundcolor": "#E5ECF6",
            "gridcolor": "white",
            "gridwidth": 2,
            "linecolor": "white",
            "showbackground": true,
            "ticks": "",
            "zerolinecolor": "white"
           },
           "yaxis": {
            "backgroundcolor": "#E5ECF6",
            "gridcolor": "white",
            "gridwidth": 2,
            "linecolor": "white",
            "showbackground": true,
            "ticks": "",
            "zerolinecolor": "white"
           },
           "zaxis": {
            "backgroundcolor": "#E5ECF6",
            "gridcolor": "white",
            "gridwidth": 2,
            "linecolor": "white",
            "showbackground": true,
            "ticks": "",
            "zerolinecolor": "white"
           }
          },
          "shapedefaults": {
           "line": {
            "color": "#2a3f5f"
           }
          },
          "ternary": {
           "aaxis": {
            "gridcolor": "white",
            "linecolor": "white",
            "ticks": ""
           },
           "baxis": {
            "gridcolor": "white",
            "linecolor": "white",
            "ticks": ""
           },
           "bgcolor": "#E5ECF6",
           "caxis": {
            "gridcolor": "white",
            "linecolor": "white",
            "ticks": ""
           }
          },
          "title": {
           "x": 0.05
          },
          "xaxis": {
           "automargin": true,
           "gridcolor": "white",
           "linecolor": "white",
           "ticks": "",
           "title": {
            "standoff": 15
           },
           "zerolinecolor": "white",
           "zerolinewidth": 2
          },
          "yaxis": {
           "automargin": true,
           "gridcolor": "white",
           "linecolor": "white",
           "ticks": "",
           "title": {
            "standoff": 15
           },
           "zerolinecolor": "white",
           "zerolinewidth": 2
          }
         }
        },
        "title": {
         "text": "Receiver operating characteristic example"
        },
        "xaxis": {
         "title": {
          "text": "False Positive Rate"
         }
        },
        "yaxis": {
         "title": {
          "text": "True Positive Rate"
         }
        }
       }
      }
     },
     "metadata": {}
    }
   ],
   "source": [
    "random_predict = np.random.uniform(-1,0,length)\n",
    "mpl.plotRoc(ty_test.numpy(), random_predict)"
   ]
  },
  {
   "cell_type": "code",
   "execution_count": 58,
   "metadata": {},
   "outputs": [
    {
     "output_type": "execute_result",
     "data": {
      "text/plain": "     dir      pred    y\n77  -1.0  0.773266  0.0\n191  1.0  1.000000  0.0\n65  -1.0  0.715525  0.0\n166  1.0  0.522981  0.0\n233  1.0  0.271810  0.0\n..   ...       ...  ...\n161  1.0  0.532315  0.0\n198 -1.0  0.523807  0.0\n210  1.0  0.440121  0.0\n212 -1.0  0.461997  0.0\n239 -1.0  0.420273  0.0\n\n[97 rows x 3 columns]",
      "text/html": "<div>\n<style scoped>\n    .dataframe tbody tr th:only-of-type {\n        vertical-align: middle;\n    }\n\n    .dataframe tbody tr th {\n        vertical-align: top;\n    }\n\n    .dataframe thead th {\n        text-align: right;\n    }\n</style>\n<table border=\"1\" class=\"dataframe\">\n  <thead>\n    <tr style=\"text-align: right;\">\n      <th></th>\n      <th>dir</th>\n      <th>pred</th>\n      <th>y</th>\n    </tr>\n  </thead>\n  <tbody>\n    <tr>\n      <th>77</th>\n      <td>-1.0</td>\n      <td>0.773266</td>\n      <td>0.0</td>\n    </tr>\n    <tr>\n      <th>191</th>\n      <td>1.0</td>\n      <td>1.000000</td>\n      <td>0.0</td>\n    </tr>\n    <tr>\n      <th>65</th>\n      <td>-1.0</td>\n      <td>0.715525</td>\n      <td>0.0</td>\n    </tr>\n    <tr>\n      <th>166</th>\n      <td>1.0</td>\n      <td>0.522981</td>\n      <td>0.0</td>\n    </tr>\n    <tr>\n      <th>233</th>\n      <td>1.0</td>\n      <td>0.271810</td>\n      <td>0.0</td>\n    </tr>\n    <tr>\n      <th>...</th>\n      <td>...</td>\n      <td>...</td>\n      <td>...</td>\n    </tr>\n    <tr>\n      <th>161</th>\n      <td>1.0</td>\n      <td>0.532315</td>\n      <td>0.0</td>\n    </tr>\n    <tr>\n      <th>198</th>\n      <td>-1.0</td>\n      <td>0.523807</td>\n      <td>0.0</td>\n    </tr>\n    <tr>\n      <th>210</th>\n      <td>1.0</td>\n      <td>0.440121</td>\n      <td>0.0</td>\n    </tr>\n    <tr>\n      <th>212</th>\n      <td>-1.0</td>\n      <td>0.461997</td>\n      <td>0.0</td>\n    </tr>\n    <tr>\n      <th>239</th>\n      <td>-1.0</td>\n      <td>0.420273</td>\n      <td>0.0</td>\n    </tr>\n  </tbody>\n</table>\n<p>97 rows × 3 columns</p>\n</div>"
     },
     "metadata": {},
     "execution_count": 58
    }
   ],
   "source": [
    "x_test_df['pred'] = y_prob\n",
    "x_test_df['y'] = ty_test.numpy()\n",
    "f = x_test_df.dir != x_test_df.y\n",
    "x_test_df[f][['dir', 'pred', 'y']]\n",
    "f2 = x_test_df[f][['dir', 'pred', 'y']].y == 0\n",
    "x_test_df[f][['dir', 'pred', 'y']][f2]"
   ]
  },
  {
   "cell_type": "code",
   "execution_count": 60,
   "metadata": {},
   "outputs": [
    {
     "output_type": "execute_result",
     "data": {
      "text/plain": "1.0    232\n0.0     73\nName: y, dtype: int64"
     },
     "metadata": {},
     "execution_count": 60
    }
   ],
   "source": [
    "f = x_test_df['pred'] > 0.5\n",
    "x_test_df[f][['dir', 'pred', 'y']].y.value_counts()"
   ]
  },
  {
   "cell_type": "code",
   "execution_count": null,
   "metadata": {},
   "outputs": [],
   "source": []
  }
 ]
}