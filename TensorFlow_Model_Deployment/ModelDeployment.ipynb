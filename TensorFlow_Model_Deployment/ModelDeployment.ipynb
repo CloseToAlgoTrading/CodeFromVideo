{
 "cells": [
  {
   "cell_type": "code",
   "execution_count": 1,
   "metadata": {},
   "outputs": [
    {
     "name": "stdout",
     "output_type": "stream",
     "text": [
      "Populating the interactive namespace from numpy and matplotlib\n"
     ]
    }
   ],
   "source": [
    "import pandas_datareader as pdr\n",
    "import matplotlib.pyplot as plt\n",
    "import pandas as pd\n",
    "import datetime \n",
    "#from tqdm import tqdm_notebook as tqdm\n",
    "from tqdm import tqdm\n",
    "# This line is necessary for the plot to appear in a Jupyter notebook\n",
    "%matplotlib inline\n",
    "# Control the default size of figures in this Jupyter notebook\n",
    "%pylab inline\n",
    "pylab.rcParams['figure.figsize'] = (14, 9)   # Change the size of plots"
   ]
  },
  {
   "cell_type": "code",
   "execution_count": 2,
   "metadata": {},
   "outputs": [],
   "source": [
    "start_date = datetime.datetime(2000, 10, 1)\n",
    "end_date = datetime.datetime(2019, 10, 1)\n",
    "aapl = pdr.get_data_yahoo('AAPL', start=start_date, end=end_date)"
   ]
  },
  {
   "cell_type": "code",
   "execution_count": 3,
   "metadata": {},
   "outputs": [
    {
     "data": {
      "text/html": [
       "<div>\n",
       "<style scoped>\n",
       "    .dataframe tbody tr th:only-of-type {\n",
       "        vertical-align: middle;\n",
       "    }\n",
       "\n",
       "    .dataframe tbody tr th {\n",
       "        vertical-align: top;\n",
       "    }\n",
       "\n",
       "    .dataframe thead th {\n",
       "        text-align: right;\n",
       "    }\n",
       "</style>\n",
       "<table border=\"1\" class=\"dataframe\">\n",
       "  <thead>\n",
       "    <tr style=\"text-align: right;\">\n",
       "      <th></th>\n",
       "      <th>High</th>\n",
       "      <th>Low</th>\n",
       "      <th>Open</th>\n",
       "      <th>Close</th>\n",
       "      <th>Volume</th>\n",
       "      <th>Adj Close</th>\n",
       "    </tr>\n",
       "    <tr>\n",
       "      <th>Date</th>\n",
       "      <th></th>\n",
       "      <th></th>\n",
       "      <th></th>\n",
       "      <th></th>\n",
       "      <th></th>\n",
       "      <th></th>\n",
       "    </tr>\n",
       "  </thead>\n",
       "  <tbody>\n",
       "    <tr>\n",
       "      <td>2000-10-02</td>\n",
       "      <td>1.910714</td>\n",
       "      <td>1.678571</td>\n",
       "      <td>1.906250</td>\n",
       "      <td>1.732143</td>\n",
       "      <td>606197200.0</td>\n",
       "      <td>1.511664</td>\n",
       "    </tr>\n",
       "    <tr>\n",
       "      <td>2000-10-03</td>\n",
       "      <td>1.785714</td>\n",
       "      <td>1.584821</td>\n",
       "      <td>1.781250</td>\n",
       "      <td>1.593750</td>\n",
       "      <td>509530000.0</td>\n",
       "      <td>1.390887</td>\n",
       "    </tr>\n",
       "    <tr>\n",
       "      <td>2000-10-04</td>\n",
       "      <td>1.696429</td>\n",
       "      <td>1.562500</td>\n",
       "      <td>1.598214</td>\n",
       "      <td>1.687500</td>\n",
       "      <td>366506000.0</td>\n",
       "      <td>1.472704</td>\n",
       "    </tr>\n",
       "    <tr>\n",
       "      <td>2000-10-05</td>\n",
       "      <td>1.750000</td>\n",
       "      <td>1.571429</td>\n",
       "      <td>1.678571</td>\n",
       "      <td>1.575893</td>\n",
       "      <td>218251600.0</td>\n",
       "      <td>1.375302</td>\n",
       "    </tr>\n",
       "    <tr>\n",
       "      <td>2000-10-06</td>\n",
       "      <td>1.638393</td>\n",
       "      <td>1.500000</td>\n",
       "      <td>1.620536</td>\n",
       "      <td>1.584821</td>\n",
       "      <td>153164200.0</td>\n",
       "      <td>1.383095</td>\n",
       "    </tr>\n",
       "  </tbody>\n",
       "</table>\n",
       "</div>"
      ],
      "text/plain": [
       "                High       Low      Open     Close       Volume  Adj Close\n",
       "Date                                                                      \n",
       "2000-10-02  1.910714  1.678571  1.906250  1.732143  606197200.0   1.511664\n",
       "2000-10-03  1.785714  1.584821  1.781250  1.593750  509530000.0   1.390887\n",
       "2000-10-04  1.696429  1.562500  1.598214  1.687500  366506000.0   1.472704\n",
       "2000-10-05  1.750000  1.571429  1.678571  1.575893  218251600.0   1.375302\n",
       "2000-10-06  1.638393  1.500000  1.620536  1.584821  153164200.0   1.383095"
      ]
     },
     "execution_count": 3,
     "metadata": {},
     "output_type": "execute_result"
    }
   ],
   "source": [
    "aapl.head()"
   ]
  },
  {
   "cell_type": "code",
   "execution_count": 4,
   "metadata": {},
   "outputs": [
    {
     "data": {
      "text/plain": [
       "<matplotlib.axes._subplots.AxesSubplot at 0x194583897c8>"
      ]
     },
     "execution_count": 4,
     "metadata": {},
     "output_type": "execute_result"
    },
    {
     "data": {
      "image/png": "[encoded data removed]",
      "text/plain": [
       "<Figure size 432x288 with 1 Axes>"
      ]
     },
     "metadata": {
      "needs_background": "light"
     },
     "output_type": "display_data"
    }
   ],
   "source": [
    "aapl['Adj Close'].plot(grid = True) # Plot the adjusted closing price of AAPL\n"
   ]
  },
  {
   "cell_type": "code",
   "execution_count": 5,
   "metadata": {},
   "outputs": [],
   "source": [
    "# Short moving window rolling mean\n",
    "aapl['fast'] = aapl['Adj Close'].rolling(window=5).mean()\n",
    "# Short moving window rolling mean\n",
    "aapl['slow'] = aapl['Adj Close'].rolling(window=10).mean()\n"
   ]
  },
  {
   "cell_type": "code",
   "execution_count": 6,
   "metadata": {},
   "outputs": [],
   "source": [
    "def get_up_cross(df):\n",
    "    crit1 = df.fast.shift(1) < df.slow.shift(1)\n",
    "    crit2 = df.fast > df.slow\n",
    "    return df.fast[(crit1) & (crit2)]\n",
    "\n",
    "def get_down_cross(df):\n",
    "    crit1 = df.fast.shift(1) > df.slow.shift(1)\n",
    "    crit2 = df.fast < df.slow\n",
    "    return df.fast[(crit1) & (crit2)]"
   ]
  },
  {
   "cell_type": "code",
   "execution_count": 7,
   "metadata": {},
   "outputs": [
    {
     "data": {
      "text/plain": [
       "<matplotlib.legend.Legend at 0x19458462688>"
      ]
     },
     "execution_count": 7,
     "metadata": {},
     "output_type": "execute_result"
    },
    {
     "data": {
      "image/png": "[encoded data removed]",
      "text/plain": [
       "<Figure size 792x576 with 1 Axes>"
      ]
     },
     "metadata": {
      "needs_background": "light"
     },
     "output_type": "display_data"
    }
   ],
   "source": [
    "up = get_up_cross(aapl)\n",
    "down = get_down_cross(aapl)\n",
    "\n",
    "f, ax = plt.subplots(figsize=(11,8))\n",
    "\n",
    "# Plot the adjusted closing price, the short and long windows of rolling means\n",
    "aapl[['Adj Close', 'fast', 'slow']].plot(ax=ax, grid=True)\n",
    "\n",
    "up.plot(ax=ax,ls='',marker='^', markersize=7,\n",
    "                     alpha=0.75, label='upcross', color='g')\n",
    "down.plot(ax=ax,ls='',marker='v', markersize=7, \n",
    "                       alpha=0.75, label='downcross', color='r')\n",
    "\n",
    "ax.legend()"
   ]
  },
  {
   "cell_type": "code",
   "execution_count": 8,
   "metadata": {},
   "outputs": [
    {
     "data": {
      "text/plain": [
       "243"
      ]
     },
     "metadata": {},
     "output_type": "display_data"
    },
    {
     "data": {
      "text/plain": [
       "243"
      ]
     },
     "metadata": {},
     "output_type": "display_data"
    }
   ],
   "source": [
    "display(len(up.index), len(down.index))"
   ]
  },
  {
   "cell_type": "code",
   "execution_count": 9,
   "metadata": {},
   "outputs": [
    {
     "data": {
      "text/plain": [
       "Date\n",
       "2000-11-01    1\n",
       "2000-11-10   -1\n",
       "2000-12-27    1\n",
       "2001-02-07   -1\n",
       "2001-03-02    1\n",
       "dtype: int64"
      ]
     },
     "metadata": {},
     "output_type": "display_data"
    },
    {
     "data": {
      "text/plain": [
       "(486,)"
      ]
     },
     "metadata": {},
     "output_type": "display_data"
    }
   ],
   "source": [
    "# Creates a labebls\n",
    "side_up = pd.Series(1, index=up.index).dropna()\n",
    "side_down = pd.Series(-1, index=down.index).dropna()\n",
    "side = pd.concat([side_up,side_down]).sort_index()\n",
    "display(side[:5], side.shape)"
   ]
  },
  {
   "cell_type": "code",
   "execution_count": 10,
   "metadata": {},
   "outputs": [
    {
     "data": {
      "text/plain": [
       "DatetimeIndex(['2000-11-01', '2000-11-10', '2000-12-27', '2001-02-07',\n",
       "               '2001-03-02'],\n",
       "              dtype='datetime64[ns]', name='Date', freq=None)"
      ]
     },
     "execution_count": 10,
     "metadata": {},
     "output_type": "execute_result"
    }
   ],
   "source": [
    "crossEvents = side.index\n",
    "crossEvents[:5]"
   ]
  },
  {
   "cell_type": "code",
   "execution_count": 11,
   "metadata": {},
   "outputs": [
    {
     "data": {
      "text/plain": [
       "Date\n",
       "2000-10-02    1.511664\n",
       "2000-10-03    1.390887\n",
       "2000-10-04    1.472704\n",
       "2000-10-05    1.375302\n",
       "2000-10-06    1.383095\n",
       "Name: Adj Close, dtype: float64"
      ]
     },
     "execution_count": 11,
     "metadata": {},
     "output_type": "execute_result"
    }
   ],
   "source": [
    "adj_close = aapl['Adj Close']\n",
    "adj_close[:5]"
   ]
  },
  {
   "cell_type": "code",
   "execution_count": 12,
   "metadata": {},
   "outputs": [],
   "source": [
    "def metaLabling(close, startEvents, side, verticalBarrier = None, SL = None, TP = None):\n",
    "    if verticalBarrier is None:\n",
    "        verticalBarrier = pd.Series(close.index[-1], index=startEvents)\n",
    "        \n",
    "    if TP is None:\n",
    "        TP = 10.0\n",
    "\n",
    "    if SL is None:\n",
    "        SL = 10.0\n",
    "\n",
    "    ret = pd.DataFrame(columns=['touch_tp', 'raw_return', 'p_return', 'side'], index=startEvents)\n",
    "    t_touch = 0\n",
    "    r_ret = 0\n",
    "    p_ret = 0\n",
    "    \n",
    "    for t0 in tqdm(startEvents):\n",
    "   # for t0 in startEvents:\n",
    "        window=close[t0:verticalBarrier[t0]]\n",
    "        \n",
    "        if(side[t0] == 1):\n",
    "            trgHi = close[t0] * TP\n",
    "            trgLow = close[t0] * SL\n",
    "        else:\n",
    "            trgHi = close[t0] * SL\n",
    "            trgLow = close[t0] * TP\n",
    "        \n",
    "        fabove = window >= (trgHi+close[t0])\n",
    "        fbelow = window <= (close[t0]-trgLow)\n",
    "        \n",
    "        hiTouch = window[fabove].index.min()\n",
    "        lowTouch = window[fbelow].index.min()\n",
    "        \n",
    "        #print('ht',(hiTouch))\n",
    "        #print('lt',(lowTouch))\n",
    "        \n",
    "        if ((pd.isnull(hiTouch)) and (pd.isnull(lowTouch))):\n",
    "            #display('vertical barrier or infinit')\n",
    "            t_touch = 0\n",
    "            r_ret = close[verticalBarrier[t0]]\n",
    "            \n",
    "        elif (pd.isnull(hiTouch) and (not pd.isnull(lowTouch))):\n",
    "            #display('low touch')\n",
    "            t_touch = -1 \n",
    "            r_ret = close[lowTouch]\n",
    "        elif (not pd.isnull(hiTouch) and (pd.isnull(lowTouch))):\n",
    "            #display('hi touch')\n",
    "            t_touch = 1 \n",
    "            r_ret = close[hiTouch]\n",
    "        elif(hiTouch < lowTouch):\n",
    "            #display('HI')\n",
    "            t_touch = 1\n",
    "            r_ret = close[hiTouch]\n",
    "        else:\n",
    "           # display('LOW')\n",
    "            t_touch = -1\n",
    "            r_ret = close[lowTouch]\n",
    "\n",
    "            \n",
    "        ret.loc[t0].touch_tp = t_touch * side[t0]\n",
    "        ret.loc[t0].raw_return = abs(r_ret - close[t0]) * ret.loc[t0].touch_tp\n",
    "        ret.loc[t0].p_return = abs(r_ret / close[t0] - 1 ) * ret.loc[t0].touch_tp\n",
    "        ret.loc[t0].side = side[t0]\n",
    "\n",
    "        \n",
    "    return ret\n",
    "    "
   ]
  },
  {
   "cell_type": "code",
   "execution_count": 13,
   "metadata": {},
   "outputs": [
    {
     "name": "stderr",
     "output_type": "stream",
     "text": [
      "100%|███████████████████████████████████████████████████████████████████████████████| 486/486 [00:01<00:00, 450.40it/s]\n"
     ]
    },
    {
     "data": {
      "text/html": [
       "<div>\n",
       "<style scoped>\n",
       "    .dataframe tbody tr th:only-of-type {\n",
       "        vertical-align: middle;\n",
       "    }\n",
       "\n",
       "    .dataframe tbody tr th {\n",
       "        vertical-align: top;\n",
       "    }\n",
       "\n",
       "    .dataframe thead th {\n",
       "        text-align: right;\n",
       "    }\n",
       "</style>\n",
       "<table border=\"1\" class=\"dataframe\">\n",
       "  <thead>\n",
       "    <tr style=\"text-align: right;\">\n",
       "      <th></th>\n",
       "      <th>touch_tp</th>\n",
       "      <th>raw_return</th>\n",
       "      <th>p_return</th>\n",
       "      <th>side</th>\n",
       "    </tr>\n",
       "    <tr>\n",
       "      <th>Date</th>\n",
       "      <th></th>\n",
       "      <th></th>\n",
       "      <th></th>\n",
       "      <th></th>\n",
       "    </tr>\n",
       "  </thead>\n",
       "  <tbody>\n",
       "    <tr>\n",
       "      <td>2000-11-01</td>\n",
       "      <td>1</td>\n",
       "      <td>0.112985</td>\n",
       "      <td>0.0884147</td>\n",
       "      <td>1</td>\n",
       "    </tr>\n",
       "    <tr>\n",
       "      <td>2000-11-10</td>\n",
       "      <td>-1</td>\n",
       "      <td>-0.0194805</td>\n",
       "      <td>-0.0163937</td>\n",
       "      <td>-1</td>\n",
       "    </tr>\n",
       "    <tr>\n",
       "      <td>2000-12-27</td>\n",
       "      <td>1</td>\n",
       "      <td>0.0974008</td>\n",
       "      <td>0.105485</td>\n",
       "      <td>1</td>\n",
       "    </tr>\n",
       "    <tr>\n",
       "      <td>2001-02-07</td>\n",
       "      <td>1</td>\n",
       "      <td>0.101297</td>\n",
       "      <td>0.078313</td>\n",
       "      <td>-1</td>\n",
       "    </tr>\n",
       "    <tr>\n",
       "      <td>2001-03-02</td>\n",
       "      <td>1</td>\n",
       "      <td>0.0701286</td>\n",
       "      <td>0.0584414</td>\n",
       "      <td>1</td>\n",
       "    </tr>\n",
       "    <tr>\n",
       "      <td>2001-03-14</td>\n",
       "      <td>1</td>\n",
       "      <td>0.0467522</td>\n",
       "      <td>0.036697</td>\n",
       "      <td>-1</td>\n",
       "    </tr>\n",
       "    <tr>\n",
       "      <td>2001-03-21</td>\n",
       "      <td>1</td>\n",
       "      <td>0.0935049</td>\n",
       "      <td>0.0745341</td>\n",
       "      <td>1</td>\n",
       "    </tr>\n",
       "    <tr>\n",
       "      <td>2001-04-03</td>\n",
       "      <td>1</td>\n",
       "      <td>0.0461287</td>\n",
       "      <td>0.036561</td>\n",
       "      <td>-1</td>\n",
       "    </tr>\n",
       "    <tr>\n",
       "      <td>2001-04-12</td>\n",
       "      <td>-1</td>\n",
       "      <td>-0.0610901</td>\n",
       "      <td>-0.0437111</td>\n",
       "      <td>1</td>\n",
       "    </tr>\n",
       "    <tr>\n",
       "      <td>2001-05-08</td>\n",
       "      <td>1</td>\n",
       "      <td>0.0367788</td>\n",
       "      <td>0.0240131</td>\n",
       "      <td>-1</td>\n",
       "    </tr>\n",
       "  </tbody>\n",
       "</table>\n",
       "</div>"
      ],
      "text/plain": [
       "           touch_tp raw_return   p_return side\n",
       "Date                                          \n",
       "2000-11-01        1   0.112985  0.0884147    1\n",
       "2000-11-10       -1 -0.0194805 -0.0163937   -1\n",
       "2000-12-27        1  0.0974008   0.105485    1\n",
       "2001-02-07        1   0.101297   0.078313   -1\n",
       "2001-03-02        1  0.0701286  0.0584414    1\n",
       "2001-03-14        1  0.0467522   0.036697   -1\n",
       "2001-03-21        1  0.0935049  0.0745341    1\n",
       "2001-04-03        1  0.0461287   0.036561   -1\n",
       "2001-04-12       -1 -0.0610901 -0.0437111    1\n",
       "2001-05-08        1  0.0367788  0.0240131   -1"
      ]
     },
     "execution_count": 13,
     "metadata": {},
     "output_type": "execute_result"
    }
   ],
   "source": [
    "df_met = metaLabling(adj_close, crossEvents, side, None, 0.010, 0.015)\n",
    "df_met.head(10)"
   ]
  },
  {
   "cell_type": "code",
   "execution_count": 14,
   "metadata": {},
   "outputs": [
    {
     "data": {
      "text/html": [
       "<div>\n",
       "<style scoped>\n",
       "    .dataframe tbody tr th:only-of-type {\n",
       "        vertical-align: middle;\n",
       "    }\n",
       "\n",
       "    .dataframe tbody tr th {\n",
       "        vertical-align: top;\n",
       "    }\n",
       "\n",
       "    .dataframe thead th {\n",
       "        text-align: right;\n",
       "    }\n",
       "</style>\n",
       "<table border=\"1\" class=\"dataframe\">\n",
       "  <thead>\n",
       "    <tr style=\"text-align: right;\">\n",
       "      <th></th>\n",
       "      <th>High</th>\n",
       "      <th>Low</th>\n",
       "      <th>Open</th>\n",
       "      <th>Close</th>\n",
       "      <th>Volume</th>\n",
       "      <th>Adj Close</th>\n",
       "      <th>fast</th>\n",
       "      <th>slow</th>\n",
       "      <th>touch_tp</th>\n",
       "      <th>raw_return</th>\n",
       "      <th>p_return</th>\n",
       "      <th>side</th>\n",
       "    </tr>\n",
       "    <tr>\n",
       "      <th>Date</th>\n",
       "      <th></th>\n",
       "      <th></th>\n",
       "      <th></th>\n",
       "      <th></th>\n",
       "      <th></th>\n",
       "      <th></th>\n",
       "      <th></th>\n",
       "      <th></th>\n",
       "      <th></th>\n",
       "      <th></th>\n",
       "      <th></th>\n",
       "      <th></th>\n",
       "    </tr>\n",
       "  </thead>\n",
       "  <tbody>\n",
       "    <tr>\n",
       "      <td>2000-11-01</td>\n",
       "      <td>1.491071</td>\n",
       "      <td>1.388393</td>\n",
       "      <td>1.388393</td>\n",
       "      <td>1.464286</td>\n",
       "      <td>143841600.0</td>\n",
       "      <td>1.277901</td>\n",
       "      <td>1.202318</td>\n",
       "      <td>1.200760</td>\n",
       "      <td>1</td>\n",
       "      <td>0.112985</td>\n",
       "      <td>0.0884147</td>\n",
       "      <td>1</td>\n",
       "    </tr>\n",
       "    <tr>\n",
       "      <td>2000-11-10</td>\n",
       "      <td>1.419643</td>\n",
       "      <td>1.361607</td>\n",
       "      <td>1.382812</td>\n",
       "      <td>1.361607</td>\n",
       "      <td>105562800.0</td>\n",
       "      <td>1.188292</td>\n",
       "      <td>1.272447</td>\n",
       "      <td>1.284135</td>\n",
       "      <td>-1</td>\n",
       "      <td>-0.0194805</td>\n",
       "      <td>-0.0163937</td>\n",
       "      <td>-1</td>\n",
       "    </tr>\n",
       "    <tr>\n",
       "      <td>2000-12-27</td>\n",
       "      <td>1.058036</td>\n",
       "      <td>1.013393</td>\n",
       "      <td>1.024554</td>\n",
       "      <td>1.058036</td>\n",
       "      <td>81366600.0</td>\n",
       "      <td>0.923362</td>\n",
       "      <td>0.909336</td>\n",
       "      <td>0.901934</td>\n",
       "      <td>1</td>\n",
       "      <td>0.0974008</td>\n",
       "      <td>0.105485</td>\n",
       "      <td>1</td>\n",
       "    </tr>\n",
       "    <tr>\n",
       "      <td>2001-02-07</td>\n",
       "      <td>1.491071</td>\n",
       "      <td>1.415179</td>\n",
       "      <td>1.475446</td>\n",
       "      <td>1.482143</td>\n",
       "      <td>98471800.0</td>\n",
       "      <td>1.293485</td>\n",
       "      <td>1.294265</td>\n",
       "      <td>1.298940</td>\n",
       "      <td>1</td>\n",
       "      <td>0.101297</td>\n",
       "      <td>0.078313</td>\n",
       "      <td>-1</td>\n",
       "    </tr>\n",
       "    <tr>\n",
       "      <td>2001-03-02</td>\n",
       "      <td>1.459821</td>\n",
       "      <td>1.303571</td>\n",
       "      <td>1.308036</td>\n",
       "      <td>1.375000</td>\n",
       "      <td>101550400.0</td>\n",
       "      <td>1.199981</td>\n",
       "      <td>1.185955</td>\n",
       "      <td>1.177773</td>\n",
       "      <td>1</td>\n",
       "      <td>0.0701286</td>\n",
       "      <td>0.0584414</td>\n",
       "      <td>1</td>\n",
       "    </tr>\n",
       "  </tbody>\n",
       "</table>\n",
       "</div>"
      ],
      "text/plain": [
       "                High       Low      Open     Close       Volume  Adj Close  \\\n",
       "Date                                                                         \n",
       "2000-11-01  1.491071  1.388393  1.388393  1.464286  143841600.0   1.277901   \n",
       "2000-11-10  1.419643  1.361607  1.382812  1.361607  105562800.0   1.188292   \n",
       "2000-12-27  1.058036  1.013393  1.024554  1.058036   81366600.0   0.923362   \n",
       "2001-02-07  1.491071  1.415179  1.475446  1.482143   98471800.0   1.293485   \n",
       "2001-03-02  1.459821  1.303571  1.308036  1.375000  101550400.0   1.199981   \n",
       "\n",
       "                fast      slow touch_tp raw_return   p_return side  \n",
       "Date                                                                \n",
       "2000-11-01  1.202318  1.200760        1   0.112985  0.0884147    1  \n",
       "2000-11-10  1.272447  1.284135       -1 -0.0194805 -0.0163937   -1  \n",
       "2000-12-27  0.909336  0.901934        1  0.0974008   0.105485    1  \n",
       "2001-02-07  1.294265  1.298940        1   0.101297   0.078313   -1  \n",
       "2001-03-02  1.185955  1.177773        1  0.0701286  0.0584414    1  "
      ]
     },
     "execution_count": 14,
     "metadata": {},
     "output_type": "execute_result"
    }
   ],
   "source": [
    "aapl_f = pd.merge(aapl, df_met, left_index=True, right_index=True)\n",
    "aapl_f.head()"
   ]
  },
  {
   "cell_type": "code",
   "execution_count": 15,
   "metadata": {},
   "outputs": [
    {
     "data": {
      "text/plain": [
       "'before:'"
      ]
     },
     "metadata": {},
     "output_type": "display_data"
    },
    {
     "data": {
      "text/plain": [
       "-1    255\n",
       " 1    231\n",
       "Name: touch_tp, dtype: int64"
      ]
     },
     "metadata": {},
     "output_type": "display_data"
    },
    {
     "data": {
      "text/plain": [
       "'after:'"
      ]
     },
     "metadata": {},
     "output_type": "display_data"
    },
    {
     "data": {
      "text/plain": [
       "0    308\n",
       "1    178\n",
       "Name: touch_tp, dtype: int64"
      ]
     },
     "metadata": {},
     "output_type": "display_data"
    }
   ],
   "source": [
    "display(\"before:\", aapl_f.touch_tp.value_counts())\n",
    "f = aapl_f.raw_return < 0.10\n",
    "aapl_f.loc[f,'touch_tp'] = 0\n",
    "f = aapl_f.touch_tp == -1\n",
    "aapl_f.loc[f,'touch_tp'] = 0\n",
    "aapl_f[f].head()\n",
    "display(\"after:\", aapl_f.touch_tp.value_counts())"
   ]
  },
  {
   "cell_type": "code",
   "execution_count": 16,
   "metadata": {},
   "outputs": [
    {
     "data": {
      "text/plain": [
       "(486, 5)"
      ]
     },
     "execution_count": 16,
     "metadata": {},
     "output_type": "execute_result"
    }
   ],
   "source": [
    "X = aapl_f[['Volume', 'Adj Close', 'fast', 'slow', 'side']]\n",
    "y = aapl_f.touch_tp\n",
    "X.shape"
   ]
  },
  {
   "cell_type": "markdown",
   "metadata": {},
   "source": [
    "# TENSORFLOW 2.0"
   ]
  },
  {
   "cell_type": "code",
   "execution_count": 17,
   "metadata": {},
   "outputs": [],
   "source": [
    "from __future__ import absolute_import, division, print_function, unicode_literals\n",
    "try:\n",
    "  # %tensorflow_version only exists in Colab.\n",
    "  %tensorflow_version 2.x\n",
    "except Exception:\n",
    "  pass\n",
    "\n",
    "import tensorflow as tf\n",
    "from tensorflow import keras\n",
    "from tensorflow.keras import layers\n",
    "\n",
    "\n",
    "tf.random.set_seed(3) # Tensorflow"
   ]
  },
  {
   "cell_type": "code",
   "execution_count": 18,
   "metadata": {},
   "outputs": [],
   "source": [
    "from sklearn.model_selection import train_test_split\n",
    "from sklearn.preprocessing import StandardScaler\n",
    "scaler = StandardScaler()\n",
    "Xs = scaler.fit_transform(X)\n",
    "X_train, X_test, y_train, y_test = train_test_split(Xs, np.array(y), test_size=0.05, random_state=42, shuffle=False)\n"
   ]
  },
  {
   "cell_type": "code",
   "execution_count": null,
   "metadata": {},
   "outputs": [],
   "source": [
    "#Instantiates a dataset instance:\n",
    "#dataset = tf.data.Dataset.from_tensor_slices((X_train, y_train))\n",
    "#dataset = dataset.batch(32)\n",
    "#dataset = dataset.repeat()\n",
    "#dataset"
   ]
  },
  {
   "cell_type": "code",
   "execution_count": 20,
   "metadata": {},
   "outputs": [
    {
     "name": "stdout",
     "output_type": "stream",
     "text": [
      "Model: \"3_layer_mlp\"\n",
      "_________________________________________________________________\n",
      "Layer (type)                 Output Shape              Param #   \n",
      "=================================================================\n",
      "input (InputLayer)           [(None, 5)]               0         \n",
      "_________________________________________________________________\n",
      "dense_1 (Dense)              (None, 5)                 30        \n",
      "_________________________________________________________________\n",
      "dense_2 (Dense)              (None, 10)                60        \n",
      "_________________________________________________________________\n",
      "predictions (Dense)          (None, 1)                 11        \n",
      "=================================================================\n",
      "Total params: 101\n",
      "Trainable params: 101\n",
      "Non-trainable params: 0\n",
      "_________________________________________________________________\n"
     ]
    }
   ],
   "source": [
    "inputs = keras.Input(shape=(5,), name='input')\n",
    "x = layers.Dense(5, activation='relu', name='dense_1')(inputs)\n",
    "x = layers.Dense(10, activation='relu', name='dense_2')(x)\n",
    "outputs = layers.Dense(1, activation='sigmoid', name='predictions')(x)\n",
    "\n",
    "model = keras.Model(inputs=inputs, outputs=outputs, name='3_layer_mlp')\n",
    "model.summary()"
   ]
  },
  {
   "cell_type": "code",
   "execution_count": 21,
   "metadata": {},
   "outputs": [],
   "source": [
    "model.compile(optimizer='adam',\n",
    "              loss='mse',\n",
    "              metrics=['accuracy'])\n"
   ]
  },
  {
   "cell_type": "code",
   "execution_count": 22,
   "metadata": {},
   "outputs": [
    {
     "name": "stdout",
     "output_type": "stream",
     "text": [
      "Train on 461 samples\n",
      "Epoch 1/10\n",
      "461/461 [==============================] - ETA: 6s - loss: 0.2832 - accuracy: 0.40 - 0s 1ms/sample - loss: 0.2902 - accuracy: 0.4035\n",
      "Epoch 2/10\n",
      "461/461 [==============================] - ETA: 0s - loss: 0.2637 - accuracy: 0.50 - 0s 41us/sample - loss: 0.2704 - accuracy: 0.3818\n",
      "Epoch 3/10\n",
      "461/461 [==============================] - ETA: 0s - loss: 0.2811 - accuracy: 0.34 - 0s 43us/sample - loss: 0.2561 - accuracy: 0.4772\n",
      "Epoch 4/10\n",
      "461/461 [==============================] - ETA: 0s - loss: 0.2503 - accuracy: 0.50 - 0s 43us/sample - loss: 0.2461 - accuracy: 0.5445\n",
      "Epoch 5/10\n",
      "461/461 [==============================] - ETA: 0s - loss: 0.2280 - accuracy: 0.68 - 0s 41us/sample - loss: 0.2389 - accuracy: 0.6377\n",
      "Epoch 6/10\n",
      "461/461 [==============================] - ETA: 0s - loss: 0.2221 - accuracy: 0.68 - 0s 43us/sample - loss: 0.2338 - accuracy: 0.6399\n",
      "Epoch 7/10\n",
      "461/461 [==============================] - ETA: 0s - loss: 0.1978 - accuracy: 0.78 - 0s 41us/sample - loss: 0.2301 - accuracy: 0.6399\n",
      "Epoch 8/10\n",
      "461/461 [==============================] - ETA: 0s - loss: 0.2499 - accuracy: 0.53 - 0s 44us/sample - loss: 0.2279 - accuracy: 0.6312\n",
      "Epoch 9/10\n",
      "461/461 [==============================] - ETA: 0s - loss: 0.2148 - accuracy: 0.71 - 0s 41us/sample - loss: 0.2262 - accuracy: 0.6312\n",
      "Epoch 10/10\n",
      "461/461 [==============================] - ETA: 0s - loss: 0.2180 - accuracy: 0.68 - 0s 39us/sample - loss: 0.2250 - accuracy: 0.6312\n"
     ]
    }
   ],
   "source": [
    "history = model.fit(X_train, y_train, epochs=10)\n",
    "#history = model.fit(dataset, epochs=5, steps_per_epoch=30)"
   ]
  },
  {
   "cell_type": "code",
   "execution_count": 23,
   "metadata": {},
   "outputs": [
    {
     "name": "stdout",
     "output_type": "stream",
     "text": [
      "25/1 [==============================================================================================================================================================================================================================================================================================================================================================================================================================================================================================================================================================================================================================================================================================================================================================================] - 0s 3ms/sample - loss: 0.2491 - accuracy: 0.6000\n"
     ]
    },
    {
     "data": {
      "text/plain": [
       "[0.24914756417274475, 0.6]"
      ]
     },
     "execution_count": 23,
     "metadata": {},
     "output_type": "execute_result"
    }
   ],
   "source": [
    "model.evaluate(X_test, y_test)"
   ]
  },
  {
   "cell_type": "code",
   "execution_count": 24,
   "metadata": {},
   "outputs": [],
   "source": [
    "predictions = model.predict(X_test)"
   ]
  },
  {
   "cell_type": "code",
   "execution_count": 25,
   "metadata": {},
   "outputs": [],
   "source": [
    "# Save the model\n",
    "model.save('path_to_my_model.h5')\n",
    "\n",
    "# Recreate the exact same model purely from the file\n",
    "new_model = keras.models.load_model('path_to_my_model.h5')"
   ]
  },
  {
   "cell_type": "code",
   "execution_count": 26,
   "metadata": {},
   "outputs": [],
   "source": [
    "# Check that the state is preserved\n",
    "new_predictions = new_model.predict(X_test)\n",
    "np.testing.assert_allclose(predictions, new_predictions, rtol=1e-6, atol=1e-6)"
   ]
  },
  {
   "cell_type": "code",
   "execution_count": 27,
   "metadata": {},
   "outputs": [
    {
     "name": "stdout",
     "output_type": "stream",
     "text": [
      "WARNING:tensorflow:From <ipython-input-27-d0c6dd255621>:2: export_saved_model (from tensorflow.python.keras.saving.saved_model_experimental) is deprecated and will be removed in a future version.\n",
      "Instructions for updating:\n",
      "Please use `model.save(..., save_format=\"tf\")` or `tf.keras.models.save_model(..., save_format=\"tf\")`.\n",
      "WARNING:tensorflow:From C:\\Users\\denis\\Anaconda3\\envs\\t2\\lib\\site-packages\\tensorflow_core\\python\\ops\\resource_variable_ops.py:1630: calling BaseResourceVariable.__init__ (from tensorflow.python.ops.resource_variable_ops) with constraint is deprecated and will be removed in a future version.\n",
      "Instructions for updating:\n",
      "If using Keras pass *_constraint arguments to layers.\n",
      "WARNING:tensorflow:From C:\\Users\\denis\\Anaconda3\\envs\\t2\\lib\\site-packages\\tensorflow_core\\python\\saved_model\\signature_def_utils_impl.py:253: build_tensor_info (from tensorflow.python.saved_model.utils_impl) is deprecated and will be removed in a future version.\n",
      "Instructions for updating:\n",
      "This function will only be available through the v1 compatibility library as tf.compat.v1.saved_model.utils.build_tensor_info or tf.compat.v1.saved_model.build_tensor_info.\n",
      "INFO:tensorflow:Signatures INCLUDED in export for Classify: None\n",
      "INFO:tensorflow:Signatures INCLUDED in export for Regress: None\n",
      "INFO:tensorflow:Signatures INCLUDED in export for Predict: None\n",
      "INFO:tensorflow:Signatures INCLUDED in export for Train: ['train']\n",
      "INFO:tensorflow:Signatures INCLUDED in export for Eval: None\n",
      "WARNING:tensorflow:Export includes no default signature!\n",
      "INFO:tensorflow:No assets to save.\n",
      "INFO:tensorflow:No assets to write.\n",
      "INFO:tensorflow:Signatures INCLUDED in export for Classify: None\n",
      "INFO:tensorflow:Signatures INCLUDED in export for Regress: None\n",
      "INFO:tensorflow:Signatures INCLUDED in export for Predict: None\n",
      "INFO:tensorflow:Signatures INCLUDED in export for Train: None\n",
      "INFO:tensorflow:Signatures INCLUDED in export for Eval: ['eval']\n",
      "WARNING:tensorflow:Export includes no default signature!\n",
      "INFO:tensorflow:No assets to save.\n",
      "INFO:tensorflow:No assets to write.\n",
      "INFO:tensorflow:Signatures INCLUDED in export for Classify: None\n",
      "INFO:tensorflow:Signatures INCLUDED in export for Regress: None\n",
      "INFO:tensorflow:Signatures INCLUDED in export for Predict: ['serving_default']\n",
      "INFO:tensorflow:Signatures INCLUDED in export for Train: None\n",
      "INFO:tensorflow:Signatures INCLUDED in export for Eval: None\n",
      "INFO:tensorflow:No assets to save.\n",
      "INFO:tensorflow:No assets to write.\n",
      "INFO:tensorflow:SavedModel written to: saved_model/1/saved_model.pb\n",
      "WARNING:tensorflow:From <ipython-input-27-d0c6dd255621>:5: load_from_saved_model (from tensorflow.python.keras.saving.saved_model_experimental) is deprecated and will be removed in a future version.\n",
      "Instructions for updating:\n",
      "The experimental save and load functions have been  deprecated. Please switch to `tf.keras.models.load_model`.\n"
     ]
    }
   ],
   "source": [
    "# Export the model to a SavedModel\n",
    "keras.experimental.export_saved_model(model, 'saved_model/1/')\n",
    "\n",
    "# Recreate the exact same model\n",
    "new_model = keras.experimental.load_from_saved_model('saved_model/1/')\n",
    "\n",
    "# Check that the state is preserved\n",
    "new_predictions = new_model.predict(X_test)\n"
   ]
  },
  {
   "cell_type": "code",
   "execution_count": 28,
   "metadata": {},
   "outputs": [],
   "source": [
    "np.testing.assert_allclose(predictions, new_predictions, rtol=1e-6, atol=1e-6)"
   ]
  },
  {
   "cell_type": "code",
   "execution_count": 30,
   "metadata": {},
   "outputs": [
    {
     "name": "stdout",
     "output_type": "stream",
     "text": [
      "Model: \"3_layer_mlp\"\n",
      "_________________________________________________________________\n",
      "Layer (type)                 Output Shape              Param #   \n",
      "=================================================================\n",
      "input (InputLayer)           [(None, 5)]               0         \n",
      "_________________________________________________________________\n",
      "dense_1 (Dense)              (None, 5)                 30        \n",
      "_________________________________________________________________\n",
      "dense_2 (Dense)              (None, 10)                60        \n",
      "_________________________________________________________________\n",
      "dense_3 (Dense)              (None, 10)                110       \n",
      "_________________________________________________________________\n",
      "predictions (Dense)          (None, 1)                 11        \n",
      "=================================================================\n",
      "Total params: 211\n",
      "Trainable params: 211\n",
      "Non-trainable params: 0\n",
      "_________________________________________________________________\n"
     ]
    }
   ],
   "source": [
    "inputs = keras.Input(shape=(5,), name='input')\n",
    "x = layers.Dense(5, activation='relu', name='dense_1')(inputs)\n",
    "x = layers.Dense(10, activation='relu', name='dense_2')(x)\n",
    "x = layers.Dense(10, activation='relu', name='dense_3')(x)\n",
    "outputs = layers.Dense(1, activation='sigmoid', name='predictions')(x)\n",
    "\n",
    "model2 = keras.Model(inputs=inputs, outputs=outputs, name='3_layer_mlp')\n",
    "model2.summary()\n",
    "\n"
   ]
  },
  {
   "cell_type": "code",
   "execution_count": 31,
   "metadata": {},
   "outputs": [
    {
     "name": "stdout",
     "output_type": "stream",
     "text": [
      "Train on 461 samples\n",
      "Epoch 1/10\n",
      "461/461 [==============================] - ETA: 0s - loss: 0.2231 - accuracy: 0.62 - 0s 53us/sample - loss: 0.2238 - accuracy: 0.6356\n",
      "Epoch 2/10\n",
      "461/461 [==============================] - ETA: 0s - loss: 0.1994 - accuracy: 0.68 - 0s 39us/sample - loss: 0.2230 - accuracy: 0.6356\n",
      "Epoch 3/10\n",
      "461/461 [==============================] - ETA: 0s - loss: 0.2227 - accuracy: 0.65 - 0s 43us/sample - loss: 0.2221 - accuracy: 0.6356\n",
      "Epoch 4/10\n",
      "461/461 [==============================] - ETA: 0s - loss: 0.2213 - accuracy: 0.62 - 0s 41us/sample - loss: 0.2214 - accuracy: 0.6356\n",
      "Epoch 5/10\n",
      "461/461 [==============================] - ETA: 0s - loss: 0.2080 - accuracy: 0.68 - 0s 41us/sample - loss: 0.2206 - accuracy: 0.6356\n",
      "Epoch 6/10\n",
      "461/461 [==============================] - ETA: 0s - loss: 0.2003 - accuracy: 0.68 - 0s 39us/sample - loss: 0.2199 - accuracy: 0.6334\n",
      "Epoch 7/10\n",
      "461/461 [==============================] - ETA: 0s - loss: 0.1821 - accuracy: 0.78 - 0s 41us/sample - loss: 0.2192 - accuracy: 0.6334\n",
      "Epoch 8/10\n",
      "461/461 [==============================] - ETA: 0s - loss: 0.2330 - accuracy: 0.53 - 0s 41us/sample - loss: 0.2186 - accuracy: 0.6334\n",
      "Epoch 9/10\n",
      "461/461 [==============================] - ETA: 0s - loss: 0.1954 - accuracy: 0.71 - 0s 43us/sample - loss: 0.2179 - accuracy: 0.6334\n",
      "Epoch 10/10\n",
      "461/461 [==============================] - ETA: 0s - loss: 0.2061 - accuracy: 0.68 - 0s 45us/sample - loss: 0.2174 - accuracy: 0.6334\n"
     ]
    }
   ],
   "source": [
    "model2.compile(optimizer='adam',\n",
    "              loss='mse',\n",
    "              metrics=['accuracy'])\n",
    "history2 = model.fit(X_train, y_train, epochs=10)"
   ]
  },
  {
   "cell_type": "code",
   "execution_count": 32,
   "metadata": {},
   "outputs": [
    {
     "name": "stdout",
     "output_type": "stream",
     "text": [
      "25/1 [==============================================================================================================================================================================================================================================================================================================================================================================================================================================================================================================================================================================================================================================================================================================================================================================] - 0s 3ms/sample - loss: 0.3196 - accuracy: 0.4000\n"
     ]
    },
    {
     "data": {
      "text/plain": [
       "[0.31963732838630676, 0.4]"
      ]
     },
     "execution_count": 32,
     "metadata": {},
     "output_type": "execute_result"
    }
   ],
   "source": [
    "model2.evaluate(X_test, y_test)"
   ]
  },
  {
   "cell_type": "code",
   "execution_count": 33,
   "metadata": {},
   "outputs": [
    {
     "name": "stdout",
     "output_type": "stream",
     "text": [
      "WARNING:tensorflow:Unresolved object in checkpoint: (root).optimizer.beta_1\n",
      "WARNING:tensorflow:Unresolved object in checkpoint: (root).optimizer.beta_2\n",
      "WARNING:tensorflow:Unresolved object in checkpoint: (root).optimizer.decay\n",
      "WARNING:tensorflow:Unresolved object in checkpoint: (root).optimizer.learning_rate\n",
      "WARNING:tensorflow:Unresolved object in checkpoint: (root).optimizer's state 'm' for (root).layer_with_weights-0.kernel\n",
      "WARNING:tensorflow:Unresolved object in checkpoint: (root).optimizer's state 'm' for (root).layer_with_weights-0.bias\n",
      "WARNING:tensorflow:Unresolved object in checkpoint: (root).optimizer's state 'm' for (root).layer_with_weights-1.kernel\n",
      "WARNING:tensorflow:Unresolved object in checkpoint: (root).optimizer's state 'm' for (root).layer_with_weights-1.bias\n",
      "WARNING:tensorflow:Unresolved object in checkpoint: (root).optimizer's state 'm' for (root).layer_with_weights-2.kernel\n",
      "WARNING:tensorflow:Unresolved object in checkpoint: (root).optimizer's state 'm' for (root).layer_with_weights-2.bias\n",
      "WARNING:tensorflow:Unresolved object in checkpoint: (root).optimizer's state 'v' for (root).layer_with_weights-0.kernel\n",
      "WARNING:tensorflow:Unresolved object in checkpoint: (root).optimizer's state 'v' for (root).layer_with_weights-0.bias\n",
      "WARNING:tensorflow:Unresolved object in checkpoint: (root).optimizer's state 'v' for (root).layer_with_weights-1.kernel\n",
      "WARNING:tensorflow:Unresolved object in checkpoint: (root).optimizer's state 'v' for (root).layer_with_weights-1.bias\n",
      "WARNING:tensorflow:Unresolved object in checkpoint: (root).optimizer's state 'v' for (root).layer_with_weights-2.kernel\n",
      "WARNING:tensorflow:Unresolved object in checkpoint: (root).optimizer's state 'v' for (root).layer_with_weights-2.bias\n",
      "WARNING:tensorflow:A checkpoint was restored (e.g. tf.train.Checkpoint.restore or tf.keras.Model.load_weights) but not all checkpointed values were used. See above for specific issues. Use expect_partial() on the load status object, e.g. tf.train.Checkpoint.restore(...).expect_partial(), to silence these warnings, or use assert_consumed() to make the check explicit. See https://www.tensorflow.org/alpha/guide/checkpoints#loading_mechanics for details.\n",
      "WARNING:tensorflow:Unresolved object in checkpoint: (root).optimizer\n",
      "WARNING:tensorflow:Unresolved object in checkpoint: (root).optimizer.iter\n",
      "WARNING:tensorflow:Unresolved object in checkpoint: (root).optimizer.beta_1\n",
      "WARNING:tensorflow:Unresolved object in checkpoint: (root).optimizer.beta_2\n",
      "WARNING:tensorflow:Unresolved object in checkpoint: (root).optimizer.decay\n",
      "WARNING:tensorflow:Unresolved object in checkpoint: (root).optimizer.learning_rate\n",
      "WARNING:tensorflow:Unresolved object in checkpoint: (root).optimizer's state 'm' for (root).layer_with_weights-0.kernel\n",
      "WARNING:tensorflow:Unresolved object in checkpoint: (root).optimizer's state 'm' for (root).layer_with_weights-0.bias\n",
      "WARNING:tensorflow:Unresolved object in checkpoint: (root).optimizer's state 'm' for (root).layer_with_weights-1.kernel\n",
      "WARNING:tensorflow:Unresolved object in checkpoint: (root).optimizer's state 'm' for (root).layer_with_weights-1.bias\n",
      "WARNING:tensorflow:Unresolved object in checkpoint: (root).optimizer's state 'm' for (root).layer_with_weights-2.kernel\n",
      "WARNING:tensorflow:Unresolved object in checkpoint: (root).optimizer's state 'm' for (root).layer_with_weights-2.bias\n",
      "WARNING:tensorflow:Unresolved object in checkpoint: (root).optimizer's state 'v' for (root).layer_with_weights-0.kernel\n",
      "WARNING:tensorflow:Unresolved object in checkpoint: (root).optimizer's state 'v' for (root).layer_with_weights-0.bias\n",
      "WARNING:tensorflow:Unresolved object in checkpoint: (root).optimizer's state 'v' for (root).layer_with_weights-1.kernel\n",
      "WARNING:tensorflow:Unresolved object in checkpoint: (root).optimizer's state 'v' for (root).layer_with_weights-1.bias\n",
      "WARNING:tensorflow:Unresolved object in checkpoint: (root).optimizer's state 'v' for (root).layer_with_weights-2.kernel\n",
      "WARNING:tensorflow:Unresolved object in checkpoint: (root).optimizer's state 'v' for (root).layer_with_weights-2.bias\n",
      "WARNING:tensorflow:A checkpoint was restored (e.g. tf.train.Checkpoint.restore or tf.keras.Model.load_weights) but not all checkpointed values were used. See above for specific issues. Use expect_partial() on the load status object, e.g. tf.train.Checkpoint.restore(...).expect_partial(), to silence these warnings, or use assert_consumed() to make the check explicit. See https://www.tensorflow.org/alpha/guide/checkpoints#loading_mechanics for details.\n"
     ]
    }
   ],
   "source": [
    "predictions2 = model2.predict(X_test)"
   ]
  },
  {
   "cell_type": "code",
   "execution_count": 34,
   "metadata": {},
   "outputs": [
    {
     "name": "stdout",
     "output_type": "stream",
     "text": [
      "INFO:tensorflow:Signatures INCLUDED in export for Classify: None\n",
      "INFO:tensorflow:Signatures INCLUDED in export for Regress: None\n",
      "INFO:tensorflow:Signatures INCLUDED in export for Predict: None\n",
      "INFO:tensorflow:Signatures INCLUDED in export for Train: ['train']\n",
      "INFO:tensorflow:Signatures INCLUDED in export for Eval: None\n",
      "WARNING:tensorflow:Export includes no default signature!\n",
      "INFO:tensorflow:No assets to save.\n",
      "INFO:tensorflow:No assets to write.\n",
      "INFO:tensorflow:Signatures INCLUDED in export for Classify: None\n",
      "INFO:tensorflow:Signatures INCLUDED in export for Regress: None\n",
      "INFO:tensorflow:Signatures INCLUDED in export for Predict: None\n",
      "INFO:tensorflow:Signatures INCLUDED in export for Train: None\n",
      "INFO:tensorflow:Signatures INCLUDED in export for Eval: ['eval']\n",
      "WARNING:tensorflow:Export includes no default signature!\n",
      "INFO:tensorflow:No assets to save.\n",
      "INFO:tensorflow:No assets to write.\n",
      "INFO:tensorflow:Signatures INCLUDED in export for Classify: None\n",
      "INFO:tensorflow:Signatures INCLUDED in export for Regress: None\n",
      "INFO:tensorflow:Signatures INCLUDED in export for Predict: ['serving_default']\n",
      "INFO:tensorflow:Signatures INCLUDED in export for Train: None\n",
      "INFO:tensorflow:Signatures INCLUDED in export for Eval: None\n",
      "INFO:tensorflow:No assets to save.\n",
      "INFO:tensorflow:No assets to write.\n",
      "INFO:tensorflow:SavedModel written to: saved_model/2/saved_model.pb\n",
      "WARNING:tensorflow:Unresolved object in checkpoint: (root).optimizer\n",
      "WARNING:tensorflow:Unresolved object in checkpoint: (root).optimizer.iter\n",
      "WARNING:tensorflow:Unresolved object in checkpoint: (root).optimizer.beta_1\n",
      "WARNING:tensorflow:Unresolved object in checkpoint: (root).optimizer.beta_2\n",
      "WARNING:tensorflow:Unresolved object in checkpoint: (root).optimizer.decay\n",
      "WARNING:tensorflow:Unresolved object in checkpoint: (root).optimizer.learning_rate\n",
      "WARNING:tensorflow:Unresolved object in checkpoint: (root).optimizer's state 'm' for (root).layer_with_weights-0.kernel\n",
      "WARNING:tensorflow:Unresolved object in checkpoint: (root).optimizer's state 'm' for (root).layer_with_weights-0.bias\n",
      "WARNING:tensorflow:Unresolved object in checkpoint: (root).optimizer's state 'm' for (root).layer_with_weights-1.kernel\n",
      "WARNING:tensorflow:Unresolved object in checkpoint: (root).optimizer's state 'm' for (root).layer_with_weights-1.bias\n",
      "WARNING:tensorflow:Unresolved object in checkpoint: (root).optimizer's state 'm' for (root).layer_with_weights-2.kernel\n",
      "WARNING:tensorflow:Unresolved object in checkpoint: (root).optimizer's state 'm' for (root).layer_with_weights-2.bias\n",
      "WARNING:tensorflow:Unresolved object in checkpoint: (root).optimizer's state 'm' for (root).layer_with_weights-3.kernel\n",
      "WARNING:tensorflow:Unresolved object in checkpoint: (root).optimizer's state 'm' for (root).layer_with_weights-3.bias\n",
      "WARNING:tensorflow:Unresolved object in checkpoint: (root).optimizer's state 'v' for (root).layer_with_weights-0.kernel\n",
      "WARNING:tensorflow:Unresolved object in checkpoint: (root).optimizer's state 'v' for (root).layer_with_weights-0.bias\n",
      "WARNING:tensorflow:Unresolved object in checkpoint: (root).optimizer's state 'v' for (root).layer_with_weights-1.kernel\n",
      "WARNING:tensorflow:Unresolved object in checkpoint: (root).optimizer's state 'v' for (root).layer_with_weights-1.bias\n",
      "WARNING:tensorflow:Unresolved object in checkpoint: (root).optimizer's state 'v' for (root).layer_with_weights-2.kernel\n",
      "WARNING:tensorflow:Unresolved object in checkpoint: (root).optimizer's state 'v' for (root).layer_with_weights-2.bias\n",
      "WARNING:tensorflow:Unresolved object in checkpoint: (root).optimizer's state 'v' for (root).layer_with_weights-3.kernel\n",
      "WARNING:tensorflow:Unresolved object in checkpoint: (root).optimizer's state 'v' for (root).layer_with_weights-3.bias\n",
      "WARNING:tensorflow:A checkpoint was restored (e.g. tf.train.Checkpoint.restore or tf.keras.Model.load_weights) but not all checkpointed values were used. See above for specific issues. Use expect_partial() on the load status object, e.g. tf.train.Checkpoint.restore(...).expect_partial(), to silence these warnings, or use assert_consumed() to make the check explicit. See https://www.tensorflow.org/alpha/guide/checkpoints#loading_mechanics for details.\n"
     ]
    }
   ],
   "source": [
    "# Export the model to a SavedModel\n",
    "keras.experimental.export_saved_model(model2, 'saved_model/2/')\n",
    "\n",
    "# Recreate the exact same model\n",
    "new_model2 = keras.experimental.load_from_saved_model('saved_model/2/')\n",
    "\n",
    "# Check that the state is preserved\n",
    "new_predictions2 = new_model2.predict(X_test)\n",
    "np.testing.assert_allclose(predictions2, new_predictions2, rtol=1e-6, atol=1e-6)"
   ]
  },
  {
   "cell_type": "code",
   "execution_count": 35,
   "metadata": {},
   "outputs": [],
   "source": [
    "np.testing.assert_allclose(predictions2, new_predictions2, rtol=1e-6, atol=1e-6)"
   ]
  },
  {
   "cell_type": "code",
   "execution_count": 36,
   "metadata": {},
   "outputs": [
    {
     "data": {
      "text/plain": [
       "array([[-0.86517087,  2.90326383,  2.84195057,  2.82783803,  1.        ]])"
      ]
     },
     "execution_count": 36,
     "metadata": {},
     "output_type": "execute_result"
    }
   ],
   "source": [
    "X_test[1:2]"
   ]
  },
  {
   "cell_type": "code",
   "execution_count": 37,
   "metadata": {},
   "outputs": [
    {
     "data": {
      "text/plain": [
       "array([[0.47096685]], dtype=float32)"
      ]
     },
     "execution_count": 37,
     "metadata": {},
     "output_type": "execute_result"
    }
   ],
   "source": [
    "new_model.predict(X_test[1:2])"
   ]
  },
  {
   "cell_type": "code",
   "execution_count": 38,
   "metadata": {},
   "outputs": [
    {
     "data": {
      "text/plain": [
       "array([[0.66689175]], dtype=float32)"
      ]
     },
     "execution_count": 38,
     "metadata": {},
     "output_type": "execute_result"
    }
   ],
   "source": [
    "new_model2.predict(X_test[1:2])"
   ]
  },
  {
   "cell_type": "code",
   "execution_count": 42,
   "metadata": {},
   "outputs": [],
   "source": [
    "import json\n",
    "import numpy\n",
    "import requests\n",
    "data = json.dumps({\"signature_name\": \"serving_default\",\n",
    "                   \"instances\": X_test.tolist()})\n",
    "headers = {\"content-type\": \"application/json\"}\n",
    "json_response = requests.post('http://localhost:8501/v1/models/mymodel/versions/1:predict',\n",
    "                              data=data, headers=headers)\n",
    "new_predictions = numpy.array(json.loads(json_response.text)[\"predictions\"])"
   ]
  },
  {
   "cell_type": "code",
   "execution_count": 43,
   "metadata": {},
   "outputs": [],
   "source": [
    "np.testing.assert_allclose(predictions, new_predictions, rtol=1e-6, atol=1e-6)"
   ]
  },
  {
   "cell_type": "code",
   "execution_count": null,
   "metadata": {},
   "outputs": [],
   "source": []
  },
  {
   "cell_type": "code",
   "execution_count": null,
   "metadata": {},
   "outputs": [],
   "source": []
  }
 ],
 "metadata": {
  "kernelspec": {
   "display_name": "tf20",
   "language": "python",
   "name": "tf20"
  },
  "language_info": {
   "codemirror_mode": {
    "name": "ipython",
    "version": 3
   },
   "file_extension": ".py",
   "mimetype": "text/x-python",
   "name": "python",
   "nbconvert_exporter": "python",
   "pygments_lexer": "ipython3",
   "version": "3.7.4"
  }
 },
 "nbformat": 4,
 "nbformat_minor": 2
}
