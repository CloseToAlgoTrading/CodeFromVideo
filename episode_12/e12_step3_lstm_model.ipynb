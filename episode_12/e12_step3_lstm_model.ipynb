{
 "nbformat": 4,
 "nbformat_minor": 2,
 "metadata": {
  "language_info": {
   "name": "python",
   "codemirror_mode": {
    "name": "ipython",
    "version": 3
   },
   "version": "3.7.6-final"
  },
  "orig_nbformat": 2,
  "file_extension": ".py",
  "mimetype": "text/x-python",
  "name": "python",
  "npconvert_exporter": "python",
  "pygments_lexer": "ipython3",
  "version": 3,
  "kernelspec": {
   "name": "python37664bittfxenvconda0aad0caa31dd4e6fadffbfaa0eb9db92",
   "display_name": "Python 3.7.6 64-bit ('tfx_env': conda)"
  }
 },
 "cells": [
  {
   "cell_type": "markdown",
   "metadata": {},
   "source": [
    "# Train Model"
   ]
  },
  {
   "cell_type": "code",
   "execution_count": 37,
   "metadata": {},
   "outputs": [],
   "source": [
    "from __future__ import absolute_import, division, print_function, unicode_literals\n",
    "import tensorflow as tf\n",
    "\n",
    "import mydatalabeling as mdl\n",
    "import myplotlib as mpl\n",
    "import mytalib as mtal\n",
    "\n",
    "%matplotlib inline\n",
    "import matplotlib.pyplot as plt\n",
    "import plotly.offline as py\n",
    "import plotly.graph_objs as go\n",
    "import plotly.express as px\n",
    "import plotly.figure_factory as ff\n",
    "from plotly.subplots import make_subplots\n",
    "\n",
    "from datetime import datetime, timedelta\n",
    "import types\n",
    "import pandas as pd\n",
    "import numpy as np\n",
    "import multiprocessing as mp"
   ]
  },
  {
   "cell_type": "code",
   "execution_count": 38,
   "metadata": {},
   "outputs": [
    {
     "output_type": "display_data",
     "data": {
      "text/plain": "Index(['Nr', 'date', 'open', 'high', 'low', 'close', 'sum_vol', 'time',\n       'fastma', 'slowema', 'RSI_close_30', 'dir', 'touch_tp', 'cross_idx',\n       'raw_return'],\n      dtype='object')"
     },
     "metadata": {}
    },
    {
     "output_type": "execute_result",
     "data": {
      "text/plain": "   Nr       date    open    high     low   close  sum_vol      time  fastma  \\\n0   0 2017-01-03  0.0000  0.0000 -0.0100  0.0000     1232  09:30:08  0.0000   \n1   5 2017-01-03 -0.0195  0.0400 -0.0195  0.0000     1062  09:30:15  0.0000   \n2  11 2017-01-03 -0.0200 -0.0200 -0.1299 -0.1299     1196  09:31:04 -0.1299   \n3  16 2017-01-03 -0.1102 -0.1092 -0.1102 -0.1092     1066  09:32:07 -0.1092   \n4  18 2017-01-03 -0.1200 -0.0950 -0.1200 -0.0991     1319  09:32:08 -0.0991   \n\n   slowema  RSI_close_30  dir  touch_tp  cross_idx raw_return  \n0   0.0000        0.0000  0.0       0.0        0.0        NaN  \n1   0.0000        0.0000  0.0       0.0        0.0        NaN  \n2  -0.1299       -0.1299  0.0       0.0        0.0        NaN  \n3  -0.1092       -0.1092  0.0       0.0        0.0        NaN  \n4  -0.0991       -0.0991  0.0       0.0        0.0        NaN  ",
      "text/html": "<div>\n<style scoped>\n    .dataframe tbody tr th:only-of-type {\n        vertical-align: middle;\n    }\n\n    .dataframe tbody tr th {\n        vertical-align: top;\n    }\n\n    .dataframe thead th {\n        text-align: right;\n    }\n</style>\n<table border=\"1\" class=\"dataframe\">\n  <thead>\n    <tr style=\"text-align: right;\">\n      <th></th>\n      <th>Nr</th>\n      <th>date</th>\n      <th>open</th>\n      <th>high</th>\n      <th>low</th>\n      <th>close</th>\n      <th>sum_vol</th>\n      <th>time</th>\n      <th>fastma</th>\n      <th>slowema</th>\n      <th>RSI_close_30</th>\n      <th>dir</th>\n      <th>touch_tp</th>\n      <th>cross_idx</th>\n      <th>raw_return</th>\n    </tr>\n  </thead>\n  <tbody>\n    <tr>\n      <th>0</th>\n      <td>0</td>\n      <td>2017-01-03</td>\n      <td>0.0000</td>\n      <td>0.0000</td>\n      <td>-0.0100</td>\n      <td>0.0000</td>\n      <td>1232</td>\n      <td>09:30:08</td>\n      <td>0.0000</td>\n      <td>0.0000</td>\n      <td>0.0000</td>\n      <td>0.0</td>\n      <td>0.0</td>\n      <td>0.0</td>\n      <td>NaN</td>\n    </tr>\n    <tr>\n      <th>1</th>\n      <td>5</td>\n      <td>2017-01-03</td>\n      <td>-0.0195</td>\n      <td>0.0400</td>\n      <td>-0.0195</td>\n      <td>0.0000</td>\n      <td>1062</td>\n      <td>09:30:15</td>\n      <td>0.0000</td>\n      <td>0.0000</td>\n      <td>0.0000</td>\n      <td>0.0</td>\n      <td>0.0</td>\n      <td>0.0</td>\n      <td>NaN</td>\n    </tr>\n    <tr>\n      <th>2</th>\n      <td>11</td>\n      <td>2017-01-03</td>\n      <td>-0.0200</td>\n      <td>-0.0200</td>\n      <td>-0.1299</td>\n      <td>-0.1299</td>\n      <td>1196</td>\n      <td>09:31:04</td>\n      <td>-0.1299</td>\n      <td>-0.1299</td>\n      <td>-0.1299</td>\n      <td>0.0</td>\n      <td>0.0</td>\n      <td>0.0</td>\n      <td>NaN</td>\n    </tr>\n    <tr>\n      <th>3</th>\n      <td>16</td>\n      <td>2017-01-03</td>\n      <td>-0.1102</td>\n      <td>-0.1092</td>\n      <td>-0.1102</td>\n      <td>-0.1092</td>\n      <td>1066</td>\n      <td>09:32:07</td>\n      <td>-0.1092</td>\n      <td>-0.1092</td>\n      <td>-0.1092</td>\n      <td>0.0</td>\n      <td>0.0</td>\n      <td>0.0</td>\n      <td>NaN</td>\n    </tr>\n    <tr>\n      <th>4</th>\n      <td>18</td>\n      <td>2017-01-03</td>\n      <td>-0.1200</td>\n      <td>-0.0950</td>\n      <td>-0.1200</td>\n      <td>-0.0991</td>\n      <td>1319</td>\n      <td>09:32:08</td>\n      <td>-0.0991</td>\n      <td>-0.0991</td>\n      <td>-0.0991</td>\n      <td>0.0</td>\n      <td>0.0</td>\n      <td>0.0</td>\n      <td>NaN</td>\n    </tr>\n  </tbody>\n</table>\n</div>"
     },
     "metadata": {},
     "execution_count": 38
    }
   ],
   "source": [
    "df_all = pd.read_pickle('final_ds_labeled_small.pkl')\n",
    "display(df_all.columns)\n",
    "df_all.head()"
   ]
  },
  {
   "cell_type": "markdown",
   "metadata": {},
   "source": [
    "# Prepare dataset"
   ]
  },
  {
   "cell_type": "code",
   "execution_count": 39,
   "metadata": {},
   "outputs": [
    {
     "output_type": "display_data",
     "data": {
      "text/plain": "(229, 15)"
     },
     "metadata": {}
    },
    {
     "output_type": "display_data",
     "data": {
      "text/plain": "                                                open  \\\n0  [[0.0], [0.0], [0.0], [0.0], [0.0], [0.0], [0....   \n1  [[0.0], [0.0], [0.0], [0.0], [0.0], [0.0], [0....   \n2  [[0.0], [0.0], [0.0], [0.0], [0.0], [0.0], [0....   \n3  [[0.0], [0.0], [0.0], [0.0], [0.0], [0.0], [0....   \n4  [[0.0], [0.0], [0.0], [0.0], [0.0], [0.0099999...   \n5  [[0.0], [0.0], [0.0], [0.0], [0.00999999999999...   \n6  [[0.0], [0.0], [0.0], [0.009999999999990905], ...   \n7  [[0.0], [0.0], [0.009999999999990905], [0.0067...   \n8  [[0.0], [0.009999999999990905], [0.00679999999...   \n9  [[0.009999999999990905], [0.006799999999998363...   \n\n                                                high  \\\n0  [[0.0], [0.0], [0.0], [0.0], [0.0], [0.0], [0....   \n1  [[0.0], [0.0], [0.0], [0.0], [0.0], [0.0], [0....   \n2  [[0.0], [0.0], [0.0], [0.0], [0.0], [0.0], [0....   \n3  [[0.0], [0.0], [0.0], [0.0], [0.0], [0.0300000...   \n4  [[0.0], [0.0], [0.0], [0.0], [0.03000000000000...   \n5  [[0.0], [0.0], [0.0], [0.030000000000001137], ...   \n6  [[0.0], [0.0], [0.030000000000001137], [0.0300...   \n7  [[0.0], [0.030000000000001137], [0.03000000000...   \n8  [[0.030000000000001137], [0.030000000000001137...   \n9  [[0.030000000000001137], [0.027999999999991587...   \n\n                                                 low  \\\n0  [[0.0], [0.0], [0.0], [0.0], [0.0], [0.0], [0....   \n1  [[0.0], [0.0], [0.0], [0.0], [0.0], [0.0], [0....   \n2  [[0.0], [0.0], [0.0], [0.0], [0.0], [0.0], [-0...   \n3  [[0.0], [0.0], [0.0], [0.0], [0.0], [-0.030000...   \n4  [[0.0], [0.0], [0.0], [0.0], [-0.0300000000000...   \n5  [[0.0], [0.0], [0.0], [-0.030000000000001137],...   \n6  [[0.0], [0.0], [-0.030000000000001137], [0.009...   \n7  [[0.0], [-0.030000000000001137], [0.0099999999...   \n8  [[-0.030000000000001137], [0.00999999999999090...   \n9  [[0.009999999999990905], [0.006799999999998363...   \n\n                                               close  \\\n0  [[0.0], [0.0], [0.0], [0.0], [0.0], [0.0], [0....   \n1  [[0.0], [0.0], [0.0], [0.0], [0.0], [0.0], [0....   \n2  [[0.0], [0.0], [0.0], [0.0], [0.0], [0.0], [0....   \n3  [[0.0], [0.0], [0.0], [0.0], [0.0], [0.0010000...   \n4  [[0.0], [0.0], [0.0], [0.0], [0.00100000000000...   \n5  [[0.0], [0.0], [0.0], [0.0010000000000047748],...   \n6  [[0.0], [0.0], [0.0010000000000047748], [0.030...   \n7  [[0.0], [0.0010000000000047748], [0.0300000000...   \n8  [[0.0010000000000047748], [0.03000000000000113...   \n9  [[0.030000000000001137], [0.027999999999991587...   \n\n                                             sum_vol  \\\n0  [[0.0], [0.0], [0.0], [0.0], [0.0], [0.0], [0....   \n1  [[0.0], [0.0], [0.0], [0.0], [0.0], [0.0], [0....   \n2  [[0.0], [0.0], [0.0], [0.0], [0.0], [0.0], [11...   \n3  [[0.0], [0.0], [0.0], [0.0], [0.0], [1100.0], ...   \n4  [[0.0], [0.0], [0.0], [0.0], [1100.0], [2500.0...   \n5  [[0.0], [0.0], [0.0], [1100.0], [2500.0], [233...   \n6  [[0.0], [0.0], [1100.0], [2500.0], [2332.0], [...   \n7  [[0.0], [1100.0], [2500.0], [2332.0], [2150.0]...   \n8  [[1100.0], [2500.0], [2332.0], [2150.0], [1180...   \n9  [[2500.0], [2332.0], [2150.0], [1180.0], [1400...   \n\n                                              fastma  \\\n0  [[0.0], [0.0], [0.0], [0.0], [0.0], [0.0], [0....   \n1  [[0.0], [0.0], [0.0], [0.0], [0.0], [0.0], [0....   \n2  [[0.0], [0.0], [0.0], [0.0], [0.0], [0.0], [0....   \n3  [[0.0], [0.0], [0.0], [0.0], [0.0], [0.1022599...   \n4  [[0.0], [0.0], [0.0], [0.0], [0.10225999999999...   \n5  [[0.0], [0.0], [0.0], [0.10225999999999687], [...   \n6  [[0.0], [0.0], [0.10225999999999687], [0.09440...   \n7  [[0.0], [0.10225999999999687], [0.094409999999...   \n8  [[0.10225999999999687], [0.09440999999999775],...   \n9  [[0.09440999999999775], [0.08685999999999723],...   \n\n                                             slowema  \\\n0  [[0.0], [0.0], [0.0], [0.0], [0.0], [0.0], [0....   \n1  [[0.0], [0.0], [0.0], [0.0], [0.0], [0.0], [0....   \n2  [[0.0], [0.0], [0.0], [0.0], [0.0], [0.0], [0....   \n3  [[0.0], [0.0], [0.0], [0.0], [0.0], [0.1149667...   \n4  [[0.0], [0.0], [0.0], [0.0], [0.11496670833863...   \n5  [[0.0], [0.0], [0.0], [0.11496670833863286], [...   \n6  [[0.0], [0.0], [0.11496670833863286], [0.10948...   \n7  [[0.0], [0.11496670833863286], [0.109484985220...   \n8  [[0.11496670833863286], [0.10948498522001146],...   \n9  [[0.10948498522001146], [0.10422788939936502],...   \n\n                                        RSI_close_30  touch_tp    Nr  \\\n0  [[0.0], [0.0], [0.0], [0.0], [0.0], [0.0], [0....       0.0   6.0   \n1  [[0.0], [0.0], [0.0], [0.0], [0.0], [0.0], [0....       0.0  10.0   \n2  [[0.0], [0.0], [0.0], [0.0], [0.0], [0.0], [33...       0.0  13.0   \n3  [[0.0], [0.0], [0.0], [0.0], [0.0], [33.350584...       0.0  18.0   \n4  [[0.0], [0.0], [0.0], [0.0], [33.3505848631215...       0.0  25.0   \n5  [[0.0], [0.0], [0.0], [33.35058486312158], [37...       0.0  27.0   \n6  [[0.0], [0.0], [33.35058486312158], [37.632228...       0.0  34.0   \n7  [[0.0], [33.35058486312158], [37.6322283787844...       0.0  37.0   \n8  [[33.35058486312158], [37.632228378784475], [3...       0.0  40.0   \n9  [[37.632228378784475], [37.46053899599863], [3...       0.0  48.0   \n\n        date      time  dir  \n0 2017-06-07  09:32:44  0.0  \n1 2017-06-07  09:32:46  0.0  \n2 2017-06-07  09:33:05  0.0  \n3 2017-06-07  09:33:11  0.0  \n4 2017-06-07  09:33:21  0.0  \n5 2017-06-07  09:33:22  0.0  \n6 2017-06-07  09:33:36  0.0  \n7 2017-06-07  09:33:41  0.0  \n8 2017-06-07  09:33:41  0.0  \n9 2017-06-07  09:40:26  0.0  ",
      "text/html": "<div>\n<style scoped>\n    .dataframe tbody tr th:only-of-type {\n        vertical-align: middle;\n    }\n\n    .dataframe tbody tr th {\n        vertical-align: top;\n    }\n\n    .dataframe thead th {\n        text-align: right;\n    }\n</style>\n<table border=\"1\" class=\"dataframe\">\n  <thead>\n    <tr style=\"text-align: right;\">\n      <th></th>\n      <th>open</th>\n      <th>high</th>\n      <th>low</th>\n      <th>close</th>\n      <th>sum_vol</th>\n      <th>fastma</th>\n      <th>slowema</th>\n      <th>RSI_close_30</th>\n      <th>touch_tp</th>\n      <th>Nr</th>\n      <th>date</th>\n      <th>time</th>\n      <th>dir</th>\n    </tr>\n  </thead>\n  <tbody>\n    <tr>\n      <th>0</th>\n      <td>[[0.0], [0.0], [0.0], [0.0], [0.0], [0.0], [0....</td>\n      <td>[[0.0], [0.0], [0.0], [0.0], [0.0], [0.0], [0....</td>\n      <td>[[0.0], [0.0], [0.0], [0.0], [0.0], [0.0], [0....</td>\n      <td>[[0.0], [0.0], [0.0], [0.0], [0.0], [0.0], [0....</td>\n      <td>[[0.0], [0.0], [0.0], [0.0], [0.0], [0.0], [0....</td>\n      <td>[[0.0], [0.0], [0.0], [0.0], [0.0], [0.0], [0....</td>\n      <td>[[0.0], [0.0], [0.0], [0.0], [0.0], [0.0], [0....</td>\n      <td>[[0.0], [0.0], [0.0], [0.0], [0.0], [0.0], [0....</td>\n      <td>0.0</td>\n      <td>6.0</td>\n      <td>2017-06-07</td>\n      <td>09:32:44</td>\n      <td>0.0</td>\n    </tr>\n    <tr>\n      <th>1</th>\n      <td>[[0.0], [0.0], [0.0], [0.0], [0.0], [0.0], [0....</td>\n      <td>[[0.0], [0.0], [0.0], [0.0], [0.0], [0.0], [0....</td>\n      <td>[[0.0], [0.0], [0.0], [0.0], [0.0], [0.0], [0....</td>\n      <td>[[0.0], [0.0], [0.0], [0.0], [0.0], [0.0], [0....</td>\n      <td>[[0.0], [0.0], [0.0], [0.0], [0.0], [0.0], [0....</td>\n      <td>[[0.0], [0.0], [0.0], [0.0], [0.0], [0.0], [0....</td>\n      <td>[[0.0], [0.0], [0.0], [0.0], [0.0], [0.0], [0....</td>\n      <td>[[0.0], [0.0], [0.0], [0.0], [0.0], [0.0], [0....</td>\n      <td>0.0</td>\n      <td>10.0</td>\n      <td>2017-06-07</td>\n      <td>09:32:46</td>\n      <td>0.0</td>\n    </tr>\n    <tr>\n      <th>2</th>\n      <td>[[0.0], [0.0], [0.0], [0.0], [0.0], [0.0], [0....</td>\n      <td>[[0.0], [0.0], [0.0], [0.0], [0.0], [0.0], [0....</td>\n      <td>[[0.0], [0.0], [0.0], [0.0], [0.0], [0.0], [-0...</td>\n      <td>[[0.0], [0.0], [0.0], [0.0], [0.0], [0.0], [0....</td>\n      <td>[[0.0], [0.0], [0.0], [0.0], [0.0], [0.0], [11...</td>\n      <td>[[0.0], [0.0], [0.0], [0.0], [0.0], [0.0], [0....</td>\n      <td>[[0.0], [0.0], [0.0], [0.0], [0.0], [0.0], [0....</td>\n      <td>[[0.0], [0.0], [0.0], [0.0], [0.0], [0.0], [33...</td>\n      <td>0.0</td>\n      <td>13.0</td>\n      <td>2017-06-07</td>\n      <td>09:33:05</td>\n      <td>0.0</td>\n    </tr>\n    <tr>\n      <th>3</th>\n      <td>[[0.0], [0.0], [0.0], [0.0], [0.0], [0.0], [0....</td>\n      <td>[[0.0], [0.0], [0.0], [0.0], [0.0], [0.0300000...</td>\n      <td>[[0.0], [0.0], [0.0], [0.0], [0.0], [-0.030000...</td>\n      <td>[[0.0], [0.0], [0.0], [0.0], [0.0], [0.0010000...</td>\n      <td>[[0.0], [0.0], [0.0], [0.0], [0.0], [1100.0], ...</td>\n      <td>[[0.0], [0.0], [0.0], [0.0], [0.0], [0.1022599...</td>\n      <td>[[0.0], [0.0], [0.0], [0.0], [0.0], [0.1149667...</td>\n      <td>[[0.0], [0.0], [0.0], [0.0], [0.0], [33.350584...</td>\n      <td>0.0</td>\n      <td>18.0</td>\n      <td>2017-06-07</td>\n      <td>09:33:11</td>\n      <td>0.0</td>\n    </tr>\n    <tr>\n      <th>4</th>\n      <td>[[0.0], [0.0], [0.0], [0.0], [0.0], [0.0099999...</td>\n      <td>[[0.0], [0.0], [0.0], [0.0], [0.03000000000000...</td>\n      <td>[[0.0], [0.0], [0.0], [0.0], [-0.0300000000000...</td>\n      <td>[[0.0], [0.0], [0.0], [0.0], [0.00100000000000...</td>\n      <td>[[0.0], [0.0], [0.0], [0.0], [1100.0], [2500.0...</td>\n      <td>[[0.0], [0.0], [0.0], [0.0], [0.10225999999999...</td>\n      <td>[[0.0], [0.0], [0.0], [0.0], [0.11496670833863...</td>\n      <td>[[0.0], [0.0], [0.0], [0.0], [33.3505848631215...</td>\n      <td>0.0</td>\n      <td>25.0</td>\n      <td>2017-06-07</td>\n      <td>09:33:21</td>\n      <td>0.0</td>\n    </tr>\n    <tr>\n      <th>5</th>\n      <td>[[0.0], [0.0], [0.0], [0.0], [0.00999999999999...</td>\n      <td>[[0.0], [0.0], [0.0], [0.030000000000001137], ...</td>\n      <td>[[0.0], [0.0], [0.0], [-0.030000000000001137],...</td>\n      <td>[[0.0], [0.0], [0.0], [0.0010000000000047748],...</td>\n      <td>[[0.0], [0.0], [0.0], [1100.0], [2500.0], [233...</td>\n      <td>[[0.0], [0.0], [0.0], [0.10225999999999687], [...</td>\n      <td>[[0.0], [0.0], [0.0], [0.11496670833863286], [...</td>\n      <td>[[0.0], [0.0], [0.0], [33.35058486312158], [37...</td>\n      <td>0.0</td>\n      <td>27.0</td>\n      <td>2017-06-07</td>\n      <td>09:33:22</td>\n      <td>0.0</td>\n    </tr>\n    <tr>\n      <th>6</th>\n      <td>[[0.0], [0.0], [0.0], [0.009999999999990905], ...</td>\n      <td>[[0.0], [0.0], [0.030000000000001137], [0.0300...</td>\n      <td>[[0.0], [0.0], [-0.030000000000001137], [0.009...</td>\n      <td>[[0.0], [0.0], [0.0010000000000047748], [0.030...</td>\n      <td>[[0.0], [0.0], [1100.0], [2500.0], [2332.0], [...</td>\n      <td>[[0.0], [0.0], [0.10225999999999687], [0.09440...</td>\n      <td>[[0.0], [0.0], [0.11496670833863286], [0.10948...</td>\n      <td>[[0.0], [0.0], [33.35058486312158], [37.632228...</td>\n      <td>0.0</td>\n      <td>34.0</td>\n      <td>2017-06-07</td>\n      <td>09:33:36</td>\n      <td>0.0</td>\n    </tr>\n    <tr>\n      <th>7</th>\n      <td>[[0.0], [0.0], [0.009999999999990905], [0.0067...</td>\n      <td>[[0.0], [0.030000000000001137], [0.03000000000...</td>\n      <td>[[0.0], [-0.030000000000001137], [0.0099999999...</td>\n      <td>[[0.0], [0.0010000000000047748], [0.0300000000...</td>\n      <td>[[0.0], [1100.0], [2500.0], [2332.0], [2150.0]...</td>\n      <td>[[0.0], [0.10225999999999687], [0.094409999999...</td>\n      <td>[[0.0], [0.11496670833863286], [0.109484985220...</td>\n      <td>[[0.0], [33.35058486312158], [37.6322283787844...</td>\n      <td>0.0</td>\n      <td>37.0</td>\n      <td>2017-06-07</td>\n      <td>09:33:41</td>\n      <td>0.0</td>\n    </tr>\n    <tr>\n      <th>8</th>\n      <td>[[0.0], [0.009999999999990905], [0.00679999999...</td>\n      <td>[[0.030000000000001137], [0.030000000000001137...</td>\n      <td>[[-0.030000000000001137], [0.00999999999999090...</td>\n      <td>[[0.0010000000000047748], [0.03000000000000113...</td>\n      <td>[[1100.0], [2500.0], [2332.0], [2150.0], [1180...</td>\n      <td>[[0.10225999999999687], [0.09440999999999775],...</td>\n      <td>[[0.11496670833863286], [0.10948498522001146],...</td>\n      <td>[[33.35058486312158], [37.632228378784475], [3...</td>\n      <td>0.0</td>\n      <td>40.0</td>\n      <td>2017-06-07</td>\n      <td>09:33:41</td>\n      <td>0.0</td>\n    </tr>\n    <tr>\n      <th>9</th>\n      <td>[[0.009999999999990905], [0.006799999999998363...</td>\n      <td>[[0.030000000000001137], [0.027999999999991587...</td>\n      <td>[[0.009999999999990905], [0.006799999999998363...</td>\n      <td>[[0.030000000000001137], [0.027999999999991587...</td>\n      <td>[[2500.0], [2332.0], [2150.0], [1180.0], [1400...</td>\n      <td>[[0.09440999999999775], [0.08685999999999723],...</td>\n      <td>[[0.10948498522001146], [0.10422788939936502],...</td>\n      <td>[[37.632228378784475], [37.46053899599863], [3...</td>\n      <td>0.0</td>\n      <td>48.0</td>\n      <td>2017-06-07</td>\n      <td>09:40:26</td>\n      <td>0.0</td>\n    </tr>\n  </tbody>\n</table>\n</div>"
     },
     "metadata": {}
    },
    {
     "output_type": "stream",
     "name": "stdout",
     "text": "CPU times: user 223 ms, sys: 159 ms, total: 382 ms\nWall time: 489 ms\n"
    }
   ],
   "source": [
    "%%time\n",
    "past_history = 10\n",
    "target_col = ['touch_tp']\n",
    "index_col = ['Nr', 'date', 'time', 'dir']\n",
    "gname = '2017-06-07'\n",
    "grby = ['date']\n",
    "used_col = ['open', 'high', 'low', 'close', 'sum_vol', 'fastma', 'slowema', 'RSI_close_30']\n",
    "#used_col = ['close']\n",
    "\n",
    "grp = df_all.groupby(grby).get_group(gname)#.drop(grby, axis=1)\n",
    "display(grp.shape)\n",
    "\n",
    "rdf = mdl.create_rnn_data_mp(dataset=grp, start_index=0, end_index=None, history_size=past_history, target_col=target_col, index_col=index_col, grby=grby, used_col=used_col, isPadding=True)\n",
    "display(rdf.head(10))"
   ]
  },
  {
   "cell_type": "code",
   "execution_count": 40,
   "metadata": {},
   "outputs": [],
   "source": [
    "#f = grp.touch_tp != 0\n",
    "#display(grp[f][['close','touch_tp','Nr']])\n",
    "#f = rdf.touch_tp != 0\n",
    "#display(rdf[f])"
   ]
  },
  {
   "cell_type": "code",
   "execution_count": 41,
   "metadata": {},
   "outputs": [],
   "source": [
    "#rdf[f].close.iloc[0]"
   ]
  },
  {
   "cell_type": "code",
   "execution_count": 42,
   "metadata": {},
   "outputs": [
    {
     "output_type": "stream",
     "name": "stdout",
     "text": "CPU times: user 2.26 s, sys: 265 ms, total: 2.53 s\nWall time: 4.92 s\n"
    }
   ],
   "source": [
    "%%time\n",
    "rdf = df_all.copy()\n",
    "rdf = mdl.create_rnn_data_mp(dataset=rdf, start_index=0, end_index=None, history_size=past_history, target_col=target_col, index_col=index_col, grby=grby, used_col=used_col)"
   ]
  },
  {
   "cell_type": "code",
   "execution_count": 43,
   "metadata": {},
   "outputs": [
    {
     "output_type": "execute_result",
     "data": {
      "text/plain": "-1.0    1550\n 1.0    1347\nName: touch_tp, dtype: int64"
     },
     "metadata": {},
     "execution_count": 43
    }
   ],
   "source": [
    "#only events\n",
    "f = rdf.touch_tp != 0.0\n",
    "rdf = rdf[f]\n",
    "rdf.touch_tp.value_counts()"
   ]
  },
  {
   "cell_type": "code",
   "execution_count": 44,
   "metadata": {},
   "outputs": [],
   "source": [
    "#replace labels -1 -> 0\n",
    "rdf.loc[:,'touch_tp']= rdf.loc[:,'touch_tp'].replace([-1.0], 0.0)"
   ]
  },
  {
   "cell_type": "markdown",
   "metadata": {},
   "source": [
    "# Create dataset for RNN Model"
   ]
  },
  {
   "cell_type": "code",
   "execution_count": 45,
   "metadata": {},
   "outputs": [
    {
     "output_type": "execute_result",
     "data": {
      "text/plain": "                                                open  \\\n4  [[-0.13049999999999784], [-0.1700000000000017]...   \n\n                                                high  \\\n4  [[-0.13000000000000966], [-0.0799999999999983]...   \n\n                                                 low  \\\n4  [[-0.13049999999999784], [-0.1700000000000017]...   \n\n                                               close  \\\n4  [[-0.13000000000000966], [-0.0799999999999983]...   \n\n                                             sum_vol  \\\n4  [[1181], [1100], [1100], [1800], [1000], [1100...   \n\n                                              fastma  \\\n4  [[-0.13000000000000966], [-0.0799999999999983]...   \n\n                                             slowema  \\\n4  [[-0.13000000000000966], [-0.0799999999999983]...   \n\n                                        RSI_close_30  touch_tp  Nr       date  \\\n4  [[-0.13000000000000966], [-0.0799999999999983]...       0.0  80 2017-01-03   \n\n       time  dir  \n4  09:37:00  1.0  ",
      "text/html": "<div>\n<style scoped>\n    .dataframe tbody tr th:only-of-type {\n        vertical-align: middle;\n    }\n\n    .dataframe tbody tr th {\n        vertical-align: top;\n    }\n\n    .dataframe thead th {\n        text-align: right;\n    }\n</style>\n<table border=\"1\" class=\"dataframe\">\n  <thead>\n    <tr style=\"text-align: right;\">\n      <th></th>\n      <th>open</th>\n      <th>high</th>\n      <th>low</th>\n      <th>close</th>\n      <th>sum_vol</th>\n      <th>fastma</th>\n      <th>slowema</th>\n      <th>RSI_close_30</th>\n      <th>touch_tp</th>\n      <th>Nr</th>\n      <th>date</th>\n      <th>time</th>\n      <th>dir</th>\n    </tr>\n  </thead>\n  <tbody>\n    <tr>\n      <th>4</th>\n      <td>[[-0.13049999999999784], [-0.1700000000000017]...</td>\n      <td>[[-0.13000000000000966], [-0.0799999999999983]...</td>\n      <td>[[-0.13049999999999784], [-0.1700000000000017]...</td>\n      <td>[[-0.13000000000000966], [-0.0799999999999983]...</td>\n      <td>[[1181], [1100], [1100], [1800], [1000], [1100...</td>\n      <td>[[-0.13000000000000966], [-0.0799999999999983]...</td>\n      <td>[[-0.13000000000000966], [-0.0799999999999983]...</td>\n      <td>[[-0.13000000000000966], [-0.0799999999999983]...</td>\n      <td>0.0</td>\n      <td>80</td>\n      <td>2017-01-03</td>\n      <td>09:37:00</td>\n      <td>1.0</td>\n    </tr>\n  </tbody>\n</table>\n</div>"
     },
     "metadata": {},
     "execution_count": 45
    }
   ],
   "source": [
    "rdf.head(1)"
   ]
  },
  {
   "cell_type": "code",
   "execution_count": 46,
   "metadata": {},
   "outputs": [],
   "source": [
    "#print(rdf.date.min(), rdf.date.max())"
   ]
  },
  {
   "cell_type": "code",
   "execution_count": 47,
   "metadata": {},
   "outputs": [
    {
     "output_type": "stream",
     "name": "stdout",
     "text": "weight_for_0 0.95\nweight_for_1 1.05\n"
    }
   ],
   "source": [
    "#select columns \n",
    "y_col = 'touch_tp'\n",
    "x_cols = ['Nr', 'open', 'high', 'low', 'close', 'sum_vol', 'fastma', 'slowema', 'RSI_close_30', 'dir']\n",
    "#x_cols = ['close', 'Nr']\n",
    "\n",
    "#split to train test dataset\n",
    "#train dataset from 2009 to 2017\n",
    "f_train = rdf.date < \"2017-07-01\"\n",
    "x_train_df = rdf.loc[f_train, x_cols]\n",
    "y_train_df = rdf.loc[f_train, y_col]\n",
    "\n",
    "#validation from 2018 to 2019\n",
    "f_val = (rdf.date > \"2017-09-01\") \n",
    "\n",
    "x_val_df = rdf.loc[f_val,x_cols]\n",
    "y_val_df = rdf.loc[f_val,y_col]\n",
    "\n",
    "#test from 2017 to 2018\n",
    "f_test = (rdf.date > \"2017-07-01\") & (rdf.date < \"2017-09-01\")\n",
    "\n",
    "x_test_df = rdf.loc[f_test,x_cols]\n",
    "y_test_df = rdf.loc[f_test,y_col]\n",
    "\n",
    "\n",
    "#calculate weight\n",
    "wc = y_train_df.value_counts()\n",
    "\n",
    "weight_for_0 = (1 / wc[0])*(wc[0]+wc[1])/2.0\n",
    "weight_for_1 = (1 / wc[1])*(wc[0]+wc[1])/2.0\n",
    "\n",
    "print('weight_for_0 {:.2f}'.format(weight_for_0))\n",
    "print('weight_for_1 {:.2f}'.format(weight_for_1))\n",
    "\n",
    "class_weight = {0: weight_for_0, 1: weight_for_1}"
   ]
  },
  {
   "cell_type": "code",
   "execution_count": 48,
   "metadata": {},
   "outputs": [
    {
     "output_type": "stream",
     "name": "stdout",
     "text": "x_train_df.shape: (1715, 10)\ny_train_df.shape: (1715,)\nx_val_df.shape  : (775, 10)\ny_val_df.shape  : (775,)\nx_test_df.shape : (403, 10)\ny_test_df.shape : (403,)\n"
    },
    {
     "output_type": "execute_result",
     "data": {
      "text/plain": "0.0    900\n1.0    815\nName: touch_tp, dtype: int64"
     },
     "metadata": {},
     "execution_count": 48
    }
   ],
   "source": [
    "print('x_train_df.shape:',x_train_df.shape)\n",
    "print('y_train_df.shape:',y_train_df.shape)\n",
    "print('x_val_df.shape  :',x_val_df.shape  )\n",
    "print('y_val_df.shape  :',y_val_df.shape  )\n",
    "print('x_test_df.shape :',x_test_df.shape )\n",
    "print('y_test_df.shape :',y_test_df.shape )\n",
    "wc"
   ]
  },
  {
   "cell_type": "markdown",
   "metadata": {},
   "source": [
    "#### Next code is a magic.. because I'm to stupid for tensorflow %)\n",
    "#### The way that I found to convert my data is very strange"
   ]
  },
  {
   "cell_type": "code",
   "execution_count": 49,
   "metadata": {},
   "outputs": [],
   "source": [
    "def _to_tensor(arg): \n",
    "  arg = tf.convert_to_tensor(arg, dtype=tf.float32) \n",
    "  return arg \n",
    "\n",
    "def my_scale_0_to_1(x):\n",
    "    current_min = tf.reduce_min(x)\n",
    "    current_max = tf.reduce_max(x)\n",
    "    return tf.divide(tf.subtract(x, current_min), tf.subtract(current_max, current_min))\n",
    ""
   ]
  },
  {
   "cell_type": "code",
   "execution_count": 50,
   "metadata": {},
   "outputs": [
    {
     "output_type": "stream",
     "name": "stdout",
     "text": "close\nfastma\nslowema\nRSI_close_30\nNr\n"
    }
   ],
   "source": [
    "dx_train = {}\n",
    "dx_eval = {}\n",
    "dx_test = {}\n",
    "\n",
    "#x_rnn_cols = ['open', 'high', 'low', 'close', 'sum_vol', 'fastma', 'slowema', 'RSI_close_30']\n",
    "x_rnn_cols = ['close', 'fastma', 'slowema', 'RSI_close_30']\n",
    "#x_rnn_cols = [ 'close']\n",
    "x_cols = ['Nr']\n",
    "\n",
    "#WRONG SCALING!!! Min and max value calculation performs on every dataset!\n",
    "for c in x_rnn_cols:\n",
    "    print(c)\n",
    "    dx_train[c] = my_scale_0_to_1(tf.squeeze(_to_tensor(list(x_train_df.loc[:,[c]].values)),1))\n",
    "    dx_eval[c] = my_scale_0_to_1(tf.squeeze(_to_tensor(list(x_val_df.loc[:,[c]].values)),1))\n",
    "    dx_test[c] = my_scale_0_to_1(tf.squeeze(_to_tensor(list(x_test_df.loc[:,[c]].values)),1))\n",
    "\n",
    "for c in x_cols:\n",
    "    print(c)\n",
    "    dx_train[c] = my_scale_0_to_1(my_scale_0_to_1(_to_tensor(list(x_train_df[c].values))))\n",
    "    dx_eval[c] = my_scale_0_to_1(my_scale_0_to_1(_to_tensor(list(x_val_df[c].values))))\n",
    "    dx_test[c] = my_scale_0_to_1(my_scale_0_to_1(_to_tensor(list(x_test_df[c].values))))\n",
    "\n",
    "ty_train = _to_tensor(y_train_df.values)\n",
    "ty_eval = _to_tensor(y_val_df.values)\n",
    "ty_test = _to_tensor(y_test_df.values)"
   ]
  },
  {
   "cell_type": "code",
   "execution_count": 51,
   "metadata": {},
   "outputs": [],
   "source": [
    "BATCH_SIZE = 1000\n",
    "BUFFER_SIZE = 10000\n",
    "\n",
    "train_tf = tf.data.Dataset.from_tensor_slices((dx_train, ty_train))\n",
    "train_tf = train_tf.cache().shuffle(BUFFER_SIZE).batch(BATCH_SIZE).repeat()\n",
    "\n",
    "val_tf = tf.data.Dataset.from_tensor_slices((dx_eval,ty_eval))\n",
    "val_tf = val_tf.batch(BATCH_SIZE).repeat()\n",
    "\n",
    "#test_tf = tf.data.Dataset.from_tensor_slices((dx_test, ty_test))\n",
    "#test_tf = test_tf.batch(len(list(test_tf)))\n",
    "test_tf = tf.data.Dataset.from_tensor_slices(dx_test)"
   ]
  },
  {
   "cell_type": "code",
   "execution_count": 52,
   "metadata": {},
   "outputs": [
    {
     "output_type": "stream",
     "name": "stdout",
     "text": "{'close': TensorShape([10, 1]), 'fastma': TensorShape([10, 1]), 'slowema': TensorShape([10, 1]), 'RSI_close_30': TensorShape([10, 1]), 'Nr': TensorShape([1000])}\n"
    }
   ],
   "source": [
    "dx_shapes = {}\n",
    "for feature_batch, y in train_tf.take(1):\n",
    "  for key, value in feature_batch.items():\n",
    "    #print(\"{}: {} -> {}\".format(key, value.shape[-2:],y.shape))\n",
    "    dx_shapes[key] = value.shape[-2:]\n",
    "print(dx_shapes)"
   ]
  },
  {
   "cell_type": "markdown",
   "metadata": {},
   "source": [
    "# Create RNN Model"
   ]
  },
  {
   "cell_type": "code",
   "execution_count": 53,
   "metadata": {},
   "outputs": [
    {
     "output_type": "stream",
     "name": "stdout",
     "text": "Tensor(\"close_1:0\", shape=(None, 10, 1), dtype=float32)\nTensor(\"fastma_1:0\", shape=(None, 10, 1), dtype=float32)\nTensor(\"slowema_1:0\", shape=(None, 10, 1), dtype=float32)\nTensor(\"RSI_close_30_1:0\", shape=(None, 10, 1), dtype=float32)\nTensor(\"Nr_1:0\", shape=(None, 1), dtype=float32)\n---input rnn [<tf.Tensor 'close_1:0' shape=(None, 10, 1) dtype=float32>, <tf.Tensor 'fastma_1:0' shape=(None, 10, 1) dtype=float32>, <tf.Tensor 'slowema_1:0' shape=(None, 10, 1) dtype=float32>, <tf.Tensor 'RSI_close_30_1:0' shape=(None, 10, 1) dtype=float32>]\n---input [<tf.Tensor 'Nr_1:0' shape=(None, 1) dtype=float32>]\n(None, 10, 4)\n(None, 1)\n"
    }
   ],
   "source": [
    "#inputs \n",
    "#feature_columns = []\n",
    "feature_layer_inputs_rnn = {}\n",
    "feature_layer_inputs = {}\n",
    "\n",
    "\n",
    "for key in x_rnn_cols:#dx_shapes.keys():\n",
    "    #feature_columns.append(tf.feature_column.numeric_column(key))\n",
    "    feature_layer_inputs_rnn[key] = tf.keras.Input(shape=dx_shapes[key], name=key)\n",
    "    print(feature_layer_inputs_rnn[key])\n",
    "    \n",
    "for key in x_cols:#dx_shapes.keys():\n",
    "    #feature_columns.append(tf.feature_column.numeric_column(key))\n",
    "    feature_layer_inputs[key] = tf.keras.Input(shape=(1,), name=key)\n",
    "    print(feature_layer_inputs[key])\n",
    "    \n",
    "list_of_lstm_inputs = [v for v in feature_layer_inputs_rnn.values()]\n",
    "list_of_Num_inputs = [v for v in feature_layer_inputs.values()]\n",
    "all_inputs = list_of_lstm_inputs + list_of_Num_inputs\n",
    "\n",
    "opt = tf.keras.optimizers\n",
    "l = tf.keras.layers\n",
    "\n",
    "#feature_columns_input = tf.keras.layers.DenseFeatures(feature_columns)\n",
    "#feature_layer_outputs = feature_columns_input(feature_layer_inputs)\n",
    "#print('f',feature_columns_input)\n",
    "#print(feature_layer_outputs)\n",
    "print('---input rnn', list_of_lstm_inputs)\n",
    "print('---input', list_of_Num_inputs)\n",
    "\n",
    "all_tstm_inputs = tf.concat(values=list_of_lstm_inputs, axis=-1, name='all_tstm_inputs')\n",
    "print(all_tstm_inputs.shape)\n",
    "all_num_inputs = tf.concat(values=list_of_Num_inputs, axis=-1, name='all_num_inputs')\n",
    "print(all_num_inputs.shape)\n",
    "\n",
    "d1 = l.LSTM(20, activation='relu')(all_tstm_inputs)\n",
    "d2 = l.Dense(10, activation='relu')(all_num_inputs)\n",
    "#d2 = l.Dense(5, activation='relu')(d2)\n",
    "d1_d2_conc = tf.concat(values=[d1,d2], axis=-1, name = 'd1_d2_conc')\n",
    "#output = l.Dense(2, activation='softmax')(d1_d2_conc)\n",
    "output = l.Dense(1, activation='sigmoid')(d1_d2_conc)\n",
    "\n",
    "\n",
    "model = tf.keras.Model(inputs=all_inputs, outputs=output)\n",
    "\n",
    "\n",
    "METRICS = [\n",
    "      #tf.keras.metrics.TruePositives(name='tp'),\n",
    "      #tf.keras.metrics.FalsePositives(name='fp'),\n",
    "      #tf.keras.metrics.TrueNegatives(name='tn'),\n",
    "      #tf.keras.metrics.FalseNegatives(name='fn'), \n",
    "      #tf.keras.metrics.BinaryAccuracy(name='accuracy'),\n",
    "      #tf.keras.metrics.Precision(name='precision'),\n",
    "      #tf.keras.metrics.Recall(name='recall'),\n",
    "      tf.keras.metrics.AUC(name='auc'),\n",
    "      tf.keras.metrics.SparseCategoricalAccuracy(name='accuracy')\n",
    "]\n",
    "# + [tf.keras.metrics.Recall(class_id=i) for i in range(2)]\n",
    "\n",
    "\n",
    "\n",
    "model.compile(\n",
    "    #loss='sparse_categorical_crossentropy',\n",
    "    loss='binary_crossentropy',\n",
    "    optimizer=opt.Adam(lr=0.001),\n",
    "    metrics=METRICS)"
   ]
  },
  {
   "cell_type": "code",
   "execution_count": 54,
   "metadata": {},
   "outputs": [
    {
     "output_type": "stream",
     "name": "stdout",
     "text": "Model: \"model_1\"\n__________________________________________________________________________________________________\nLayer (type)                    Output Shape         Param #     Connected to                     \n==================================================================================================\nclose (InputLayer)              [(None, 10, 1)]      0                                            \n__________________________________________________________________________________________________\nfastma (InputLayer)             [(None, 10, 1)]      0                                            \n__________________________________________________________________________________________________\nslowema (InputLayer)            [(None, 10, 1)]      0                                            \n__________________________________________________________________________________________________\nRSI_close_30 (InputLayer)       [(None, 10, 1)]      0                                            \n__________________________________________________________________________________________________\nNr (InputLayer)                 [(None, 1)]          0                                            \n__________________________________________________________________________________________________\ntf_op_layer_all_tstm_inputs_1 ( [(None, 10, 4)]      0           close[0][0]                      \n                                                                 fastma[0][0]                     \n                                                                 slowema[0][0]                    \n                                                                 RSI_close_30[0][0]               \n__________________________________________________________________________________________________\ntf_op_layer_all_num_inputs_1 (T [(None, 1)]          0           Nr[0][0]                         \n__________________________________________________________________________________________________\nlstm_1 (LSTM)                   (None, 20)           2000        tf_op_layer_all_tstm_inputs_1[0][\n__________________________________________________________________________________________________\ndense_2 (Dense)                 (None, 10)           20          tf_op_layer_all_num_inputs_1[0][0\n__________________________________________________________________________________________________\ntf_op_layer_d1_d2_conc_1 (Tenso [(None, 30)]         0           lstm_1[0][0]                     \n                                                                 dense_2[0][0]                    \n__________________________________________________________________________________________________\ndense_3 (Dense)                 (None, 1)            31          tf_op_layer_d1_d2_conc_1[0][0]   \n==================================================================================================\nTotal params: 2,051\nTrainable params: 2,051\nNon-trainable params: 0\n__________________________________________________________________________________________________\n"
    }
   ],
   "source": [
    "model.summary()"
   ]
  },
  {
   "cell_type": "code",
   "execution_count": 55,
   "metadata": {},
   "outputs": [
    {
     "output_type": "execute_result",
     "data": {
      "image/png": "[encoded data removed]",
      "text/plain": "<IPython.core.display.Image object>"
     },
     "metadata": {},
     "execution_count": 55
    }
   ],
   "source": [
    "tf.keras.utils.plot_model(model, show_shapes=True,show_layer_names=True,)"
   ]
  },
  {
   "cell_type": "code",
   "execution_count": 56,
   "metadata": {},
   "outputs": [
    {
     "output_type": "stream",
     "name": "stdout",
     "text": "(775, 1)\n[0 0 0 0 0 0 0 0 0 0 0 0 0 0 0 0 0 0 0 0 0 0 0 0 0 0 0 0 0 0 0 0 0 0 0 0 0\n 0 0 0 0 0 0 0 0 0 0 0 0 0 0 0 0 0 0 0 0 0 0 0 0 0 0 0 0 0 0 0 0 0 0 0 0 0\n 0 0 0 0 0 0 0 0 0 0 0 0 0 0 0 0 0 0 0 0 0 0 0 0 0 0 0 0 0 0 0 0 0 0 0 0 0\n 0 0 0 0 0 0 0 0 0 0 0 0 0 0 0 0 0 0 0 0 0 0 0 0 0 0 0 0 0 0 0 0 0 0 0 0 0\n 0 0 0 0 0 0 0 0 0 0 0 0 0 0 0 0 0 0 0 0 0 0 0 0 0 0 0 0 0 0 0 0 0 0 0 0 0\n 0 0 0 0 0 0 0 0 0 0 0 0 0 0 0 0 0 0 0 0 0 0 0 0 0 0 0 0 0 0 0 0 0 0 0 0 0\n 0 0 0 0 0 0 0 0 0 0 0 0 0 0 0 0 0 0 0 0 0 0 0 0 0 0 0 0 0 0 0 0 0 0 0 0 0\n 0 0 0 0 0 0 0 0 0 0 0 0 0 0 0 0 0 0 0 0 0 0 0 0 0 0 0 0 0 0 0 0 0 0 0 0 0\n 0 0 0 0 0 0 0 0 0 0 0 0 0 0 0 0 0 0 0 0 0 0 0 0 0 0 0 0 0 0 0 0 0 0 0 0 0\n 0 0 0 0 0 0 0 0 0 0 0 0 0 0 0 0 0 0 0 0 0 0 0 0 0 0 0 0 0 0 0 0 0 0 0 0 0\n 0 0 0 0 0 0 0 0 0 0 0 0 0 0 0 0 0 0 0 0 0 0 0 0 0 0 0 0 0 0 0 0 0 0 0 0 0\n 0 0 0 0 0 0 0 0 0 0 0 0 0 0 0 0 0 0 0 0 0 0 0 0 0 0 0 0 0 0 0 0 0 0 0 0 0\n 0 0 0 0 0 0 0 0 0 0 0 0 0 0 0 0 0 0 0 0 0 0 0 0 0 0 0 0 0 0 0 0 0 0 0 0 0\n 0 0 0 0 0 0 0 0 0 0 0 0 0 0 0 0 0 0 0 0 0 0 0 0 0 0 0 0 0 0 0 0 0 0 0 0 0\n 0 0 0 0 0 0 0 0 0 0 0 0 0 0 0 0 0 0 0 0 0 0 0 0 0 0 0 0 0 0 0 0 0 0 0 0 0\n 0 0 0 0 0 0 0 0 0 0 0 0 0 0 0 0 0 0 0 0 0 0 0 0 0 0 0 0 0 0 0 0 0 0 0 0 0\n 0 0 0 0 0 0 0 0 0 0 0 0 0 0 0 0 0 0 0 0 0 0 0 0 0 0 0 0 0 0 0 0 0 0 0 0 0\n 0 0 0 0 0 0 0 0 0 0 0 0 0 0 0 0 0 0 0 0 0 0 0 0 0 0 0 0 0 0 0 0 0 0 0 0 0\n 0 0 0 0 0 0 0 0 0 0 0 0 0 0 0 0 0 0 0 0 0 0 0 0 0 0 0 0 0 0 0 0 0 0 0 0 0\n 0 0 0 0 0 0 0 0 0 0 0 0 0 0 0 0 0 0 0 0 0 0 0 0 0 0 0 0 0 0 0 0 0 0 0 0 0\n 0 0 0 0 0 0 0 0 0 0 0 0 0 0 0 0 0 0 0 0 0 0 0 0 0 0 0 0 0 0 0 0 0 0 0]\n"
    }
   ],
   "source": [
    "#check if is working\n",
    "for x, y in val_tf.take(1):\n",
    "    #print(x,y)\n",
    "    print(model.predict(x).shape)\n",
    "    y_prob = model.predict(x)\n",
    "    y_classes = y_prob.argmax(axis=-1)\n",
    "    print(y_classes)"
   ]
  },
  {
   "cell_type": "markdown",
   "metadata": {},
   "source": [
    "### Train the model"
   ]
  },
  {
   "cell_type": "code",
   "execution_count": 57,
   "metadata": {},
   "outputs": [
    {
     "output_type": "stream",
     "name": "stdout",
     "text": "Train for 200 steps, validate for 50 steps\nEpoch 1/20\n200/200 [==============================] - 6s 28ms/step - loss: 0.6860 - auc: 0.5687 - accuracy: 0.5248 - val_loss: 0.6758 - val_auc: 0.5983 - val_accuracy: 0.5561\nEpoch 2/20\n200/200 [==============================] - 4s 19ms/step - loss: 0.6801 - auc: 0.5839 - accuracy: 0.5248 - val_loss: 0.6751 - val_auc: 0.6042 - val_accuracy: 0.5561\nEpoch 3/20\n200/200 [==============================] - 4s 19ms/step - loss: 0.6781 - auc: 0.5886 - accuracy: 0.5248 - val_loss: 0.6755 - val_auc: 0.5987 - val_accuracy: 0.5561\nEpoch 4/20\n200/200 [==============================] - 4s 19ms/step - loss: 0.6772 - auc: 0.5901 - accuracy: 0.5248 - val_loss: 0.6756 - val_auc: 0.5955 - val_accuracy: 0.5561\nEpoch 5/20\n200/200 [==============================] - 4s 19ms/step - loss: 0.6764 - auc: 0.5917 - accuracy: 0.5248 - val_loss: 0.6774 - val_auc: 0.5878 - val_accuracy: 0.5561\nEpoch 6/20\n200/200 [==============================] - 4s 19ms/step - loss: 0.6758 - auc: 0.5935 - accuracy: 0.5248 - val_loss: 0.6780 - val_auc: 0.5854 - val_accuracy: 0.5561\nEpoch 7/20\n200/200 [==============================] - 4s 19ms/step - loss: 0.6755 - auc: 0.5943 - accuracy: 0.5248 - val_loss: 0.6790 - val_auc: 0.5804 - val_accuracy: 0.5561\nEpoch 8/20\n200/200 [==============================] - 4s 19ms/step - loss: 0.6752 - auc: 0.5946 - accuracy: 0.5248 - val_loss: 0.6796 - val_auc: 0.5824 - val_accuracy: 0.5561\nEpoch 9/20\n200/200 [==============================] - 4s 19ms/step - loss: 0.6749 - auc: 0.5956 - accuracy: 0.5248 - val_loss: 0.6808 - val_auc: 0.5773 - val_accuracy: 0.5561\nEpoch 10/20\n200/200 [==============================] - 4s 19ms/step - loss: 0.6744 - auc: 0.5964 - accuracy: 0.5248 - val_loss: 0.6810 - val_auc: 0.5772 - val_accuracy: 0.5561\nEpoch 11/20\n200/200 [==============================] - 4s 19ms/step - loss: 0.6737 - auc: 0.5972 - accuracy: 0.5248 - val_loss: 0.6815 - val_auc: 0.5787 - val_accuracy: 0.5561\nEpoch 12/20\n200/200 [==============================] - 4s 19ms/step - loss: 0.6728 - auc: 0.5987 - accuracy: 0.5248 - val_loss: 0.6872 - val_auc: 0.5758 - val_accuracy: 0.5561\nEpoch 13/20\n200/200 [==============================] - 4s 19ms/step - loss: 0.6717 - auc: 0.6003 - accuracy: 0.5248 - val_loss: 0.8281 - val_auc: 0.5761 - val_accuracy: 0.5561\nEpoch 14/20\n200/200 [==============================] - 4s 19ms/step - loss: 0.6711 - auc: 0.6012 - accuracy: 0.5248 - val_loss: 1.3466 - val_auc: 0.5695 - val_accuracy: 0.5561\nEpoch 15/20\n200/200 [==============================] - 4s 19ms/step - loss: 0.6696 - auc: 0.6042 - accuracy: 0.5248 - val_loss: 2.0999 - val_auc: 0.5716 - val_accuracy: 0.5561\nEpoch 16/20\n200/200 [==============================] - 4s 18ms/step - loss: 0.6688 - auc: 0.6072 - accuracy: 0.5248 - val_loss: 2.4393 - val_auc: 0.5594 - val_accuracy: 0.5561\nEpoch 17/20\n200/200 [==============================] - 4s 19ms/step - loss: 0.6706 - auc: 0.6031 - accuracy: 0.5248 - val_loss: 3.0058 - val_auc: 0.5531 - val_accuracy: 0.5561\nEpoch 18/20\n200/200 [==============================] - 4s 19ms/step - loss: 0.6673 - auc: 0.6095 - accuracy: 0.5248 - val_loss: 3.9205 - val_auc: 0.5567 - val_accuracy: 0.5561\nEpoch 19/20\n200/200 [==============================] - 4s 19ms/step - loss: 0.6655 - auc: 0.6141 - accuracy: 0.5248 - val_loss: 4.6348 - val_auc: 0.5589 - val_accuracy: 0.5561\nEpoch 20/20\n200/200 [==============================] - 4s 19ms/step - loss: 0.6659 - auc: 0.6139 - accuracy: 0.5248 - val_loss: 3.7902 - val_auc: 0.5539 - val_accuracy: 0.5561\n"
    }
   ],
   "source": [
    "EVALUATION_INTERVAL = 200\n",
    "EPOCHS = 20\n",
    "\n",
    "history = model.fit(train_tf, epochs=EPOCHS,\n",
    "                      steps_per_epoch=EVALUATION_INTERVAL,\n",
    "                      validation_data=val_tf, \n",
    "                      validation_steps=50,\n",
    "                      class_weight=class_weight)"
   ]
  },
  {
   "cell_type": "code",
   "execution_count": 60,
   "metadata": {},
   "outputs": [
    {
     "output_type": "display_data",
     "data": {
      "text/plain": "<Figure size 1080x576 with 1 Axes>",
      "image/svg+xml": "<?xml version=\"1.0\" encoding=\"utf-8\" standalone=\"no\"?>\n<!DOCTYPE svg PUBLIC \"-//W3C//DTD SVG 1.1//EN\"\n  \"http://www.w3.org/Graphics/SVG/1.1/DTD/svg11.dtd\">\n<!-- Created with matplotlib (https://matplotlib.org/) -->\n<svg height=\"469.757344pt\" version=\"1.1\" viewBox=\"0 0 874.303125 469.757344\" width=\"874.303125pt\" xmlns=\"http://www.w3.org/2000/svg\" xmlns:xlink=\"http://www.w3.org/1999/xlink\">\n <defs>\n  <style type=\"text/css\">\n*{stroke-linecap:butt;stroke-linejoin:round;}\n  </style>\n </defs>\n <g id=\"figure_1\">\n  <g id=\"patch_1\">\n   <path d=\"M 0 469.757344 \nL 874.303125 469.757344 \nL 874.303125 0 \nL 0 0 \nz\n\" style=\"fill:none;\"/>\n  </g>\n  <g id=\"axes_1\">\n   <g id=\"patch_2\">\n    <path d=\"M 30.103125 445.879219 \nL 867.103125 445.879219 \nL 867.103125 10.999219 \nL 30.103125 10.999219 \nz\n\" style=\"fill:#ffffff;\"/>\n   </g>\n   <g id=\"matplotlib.axis_1\">\n    <g id=\"xtick_1\">\n     <g id=\"line2d_1\">\n      <path clip-path=\"url(#pe37ae8a66a)\" d=\"M 30.103125 445.879219 \nL 30.103125 10.999219 \n\" style=\"fill:none;stroke:#b0b0b0;stroke-linecap:square;stroke-width:0.8;\"/>\n     </g>\n     <g id=\"line2d_2\">\n      <defs>\n       <path d=\"M 0 0 \nL 0 3.5 \n\" id=\"m0e03b04c75\" style=\"stroke:#000000;stroke-width:0.8;\"/>\n      </defs>\n      <g>\n       <use style=\"stroke:#000000;stroke-width:0.8;\" x=\"30.103125\" xlink:href=\"#m0e03b04c75\" y=\"445.879219\"/>\n      </g>\n     </g>\n     <g id=\"text_1\">\n      <!-- 0.0 -->\n      <defs>\n       <path d=\"M 31.78125 66.40625 \nQ 24.171875 66.40625 20.328125 58.90625 \nQ 16.5 51.421875 16.5 36.375 \nQ 16.5 21.390625 20.328125 13.890625 \nQ 24.171875 6.390625 31.78125 6.390625 \nQ 39.453125 6.390625 43.28125 13.890625 \nQ 47.125 21.390625 47.125 36.375 \nQ 47.125 51.421875 43.28125 58.90625 \nQ 39.453125 66.40625 31.78125 66.40625 \nz\nM 31.78125 74.21875 \nQ 44.046875 74.21875 50.515625 64.515625 \nQ 56.984375 54.828125 56.984375 36.375 \nQ 56.984375 17.96875 50.515625 8.265625 \nQ 44.046875 -1.421875 31.78125 -1.421875 \nQ 19.53125 -1.421875 13.0625 8.265625 \nQ 6.59375 17.96875 6.59375 36.375 \nQ 6.59375 54.828125 13.0625 64.515625 \nQ 19.53125 74.21875 31.78125 74.21875 \nz\n\" id=\"DejaVuSans-48\"/>\n       <path d=\"M 10.6875 12.40625 \nL 21 12.40625 \nL 21 0 \nL 10.6875 0 \nz\n\" id=\"DejaVuSans-46\"/>\n      </defs>\n      <g transform=\"translate(22.151563 460.477656)scale(0.1 -0.1)\">\n       <use xlink:href=\"#DejaVuSans-48\"/>\n       <use x=\"63.623047\" xlink:href=\"#DejaVuSans-46\"/>\n       <use x=\"95.410156\" xlink:href=\"#DejaVuSans-48\"/>\n      </g>\n     </g>\n    </g>\n    <g id=\"xtick_2\">\n     <g id=\"line2d_3\">\n      <path clip-path=\"url(#pe37ae8a66a)\" d=\"M 140.234704 445.879219 \nL 140.234704 10.999219 \n\" style=\"fill:none;stroke:#b0b0b0;stroke-linecap:square;stroke-width:0.8;\"/>\n     </g>\n     <g id=\"line2d_4\">\n      <g>\n       <use style=\"stroke:#000000;stroke-width:0.8;\" x=\"140.234704\" xlink:href=\"#m0e03b04c75\" y=\"445.879219\"/>\n      </g>\n     </g>\n     <g id=\"text_2\">\n      <!-- 2.5 -->\n      <defs>\n       <path d=\"M 19.1875 8.296875 \nL 53.609375 8.296875 \nL 53.609375 0 \nL 7.328125 0 \nL 7.328125 8.296875 \nQ 12.9375 14.109375 22.625 23.890625 \nQ 32.328125 33.6875 34.8125 36.53125 \nQ 39.546875 41.84375 41.421875 45.53125 \nQ 43.3125 49.21875 43.3125 52.78125 \nQ 43.3125 58.59375 39.234375 62.25 \nQ 35.15625 65.921875 28.609375 65.921875 \nQ 23.96875 65.921875 18.8125 64.3125 \nQ 13.671875 62.703125 7.8125 59.421875 \nL 7.8125 69.390625 \nQ 13.765625 71.78125 18.9375 73 \nQ 24.125 74.21875 28.421875 74.21875 \nQ 39.75 74.21875 46.484375 68.546875 \nQ 53.21875 62.890625 53.21875 53.421875 \nQ 53.21875 48.921875 51.53125 44.890625 \nQ 49.859375 40.875 45.40625 35.40625 \nQ 44.1875 33.984375 37.640625 27.21875 \nQ 31.109375 20.453125 19.1875 8.296875 \nz\n\" id=\"DejaVuSans-50\"/>\n       <path d=\"M 10.796875 72.90625 \nL 49.515625 72.90625 \nL 49.515625 64.59375 \nL 19.828125 64.59375 \nL 19.828125 46.734375 \nQ 21.96875 47.46875 24.109375 47.828125 \nQ 26.265625 48.1875 28.421875 48.1875 \nQ 40.625 48.1875 47.75 41.5 \nQ 54.890625 34.8125 54.890625 23.390625 \nQ 54.890625 11.625 47.5625 5.09375 \nQ 40.234375 -1.421875 26.90625 -1.421875 \nQ 22.3125 -1.421875 17.546875 -0.640625 \nQ 12.796875 0.140625 7.71875 1.703125 \nL 7.71875 11.625 \nQ 12.109375 9.234375 16.796875 8.0625 \nQ 21.484375 6.890625 26.703125 6.890625 \nQ 35.15625 6.890625 40.078125 11.328125 \nQ 45.015625 15.765625 45.015625 23.390625 \nQ 45.015625 31 40.078125 35.4375 \nQ 35.15625 39.890625 26.703125 39.890625 \nQ 22.75 39.890625 18.8125 39.015625 \nQ 14.890625 38.140625 10.796875 36.28125 \nz\n\" id=\"DejaVuSans-53\"/>\n      </defs>\n      <g transform=\"translate(132.283141 460.477656)scale(0.1 -0.1)\">\n       <use xlink:href=\"#DejaVuSans-50\"/>\n       <use x=\"63.623047\" xlink:href=\"#DejaVuSans-46\"/>\n       <use x=\"95.410156\" xlink:href=\"#DejaVuSans-53\"/>\n      </g>\n     </g>\n    </g>\n    <g id=\"xtick_3\">\n     <g id=\"line2d_5\">\n      <path clip-path=\"url(#pe37ae8a66a)\" d=\"M 250.366283 445.879219 \nL 250.366283 10.999219 \n\" style=\"fill:none;stroke:#b0b0b0;stroke-linecap:square;stroke-width:0.8;\"/>\n     </g>\n     <g id=\"line2d_6\">\n      <g>\n       <use style=\"stroke:#000000;stroke-width:0.8;\" x=\"250.366283\" xlink:href=\"#m0e03b04c75\" y=\"445.879219\"/>\n      </g>\n     </g>\n     <g id=\"text_3\">\n      <!-- 5.0 -->\n      <g transform=\"translate(242.41472 460.477656)scale(0.1 -0.1)\">\n       <use xlink:href=\"#DejaVuSans-53\"/>\n       <use x=\"63.623047\" xlink:href=\"#DejaVuSans-46\"/>\n       <use x=\"95.410156\" xlink:href=\"#DejaVuSans-48\"/>\n      </g>\n     </g>\n    </g>\n    <g id=\"xtick_4\">\n     <g id=\"line2d_7\">\n      <path clip-path=\"url(#pe37ae8a66a)\" d=\"M 360.497862 445.879219 \nL 360.497862 10.999219 \n\" style=\"fill:none;stroke:#b0b0b0;stroke-linecap:square;stroke-width:0.8;\"/>\n     </g>\n     <g id=\"line2d_8\">\n      <g>\n       <use style=\"stroke:#000000;stroke-width:0.8;\" x=\"360.497862\" xlink:href=\"#m0e03b04c75\" y=\"445.879219\"/>\n      </g>\n     </g>\n     <g id=\"text_4\">\n      <!-- 7.5 -->\n      <defs>\n       <path d=\"M 8.203125 72.90625 \nL 55.078125 72.90625 \nL 55.078125 68.703125 \nL 28.609375 0 \nL 18.3125 0 \nL 43.21875 64.59375 \nL 8.203125 64.59375 \nz\n\" id=\"DejaVuSans-55\"/>\n      </defs>\n      <g transform=\"translate(352.546299 460.477656)scale(0.1 -0.1)\">\n       <use xlink:href=\"#DejaVuSans-55\"/>\n       <use x=\"63.623047\" xlink:href=\"#DejaVuSans-46\"/>\n       <use x=\"95.410156\" xlink:href=\"#DejaVuSans-53\"/>\n      </g>\n     </g>\n    </g>\n    <g id=\"xtick_5\">\n     <g id=\"line2d_9\">\n      <path clip-path=\"url(#pe37ae8a66a)\" d=\"M 470.629441 445.879219 \nL 470.629441 10.999219 \n\" style=\"fill:none;stroke:#b0b0b0;stroke-linecap:square;stroke-width:0.8;\"/>\n     </g>\n     <g id=\"line2d_10\">\n      <g>\n       <use style=\"stroke:#000000;stroke-width:0.8;\" x=\"470.629441\" xlink:href=\"#m0e03b04c75\" y=\"445.879219\"/>\n      </g>\n     </g>\n     <g id=\"text_5\">\n      <!-- 10.0 -->\n      <defs>\n       <path d=\"M 12.40625 8.296875 \nL 28.515625 8.296875 \nL 28.515625 63.921875 \nL 10.984375 60.40625 \nL 10.984375 69.390625 \nL 28.421875 72.90625 \nL 38.28125 72.90625 \nL 38.28125 8.296875 \nL 54.390625 8.296875 \nL 54.390625 0 \nL 12.40625 0 \nz\n\" id=\"DejaVuSans-49\"/>\n      </defs>\n      <g transform=\"translate(459.496628 460.477656)scale(0.1 -0.1)\">\n       <use xlink:href=\"#DejaVuSans-49\"/>\n       <use x=\"63.623047\" xlink:href=\"#DejaVuSans-48\"/>\n       <use x=\"127.246094\" xlink:href=\"#DejaVuSans-46\"/>\n       <use x=\"159.033203\" xlink:href=\"#DejaVuSans-48\"/>\n      </g>\n     </g>\n    </g>\n    <g id=\"xtick_6\">\n     <g id=\"line2d_11\">\n      <path clip-path=\"url(#pe37ae8a66a)\" d=\"M 580.76102 445.879219 \nL 580.76102 10.999219 \n\" style=\"fill:none;stroke:#b0b0b0;stroke-linecap:square;stroke-width:0.8;\"/>\n     </g>\n     <g id=\"line2d_12\">\n      <g>\n       <use style=\"stroke:#000000;stroke-width:0.8;\" x=\"580.76102\" xlink:href=\"#m0e03b04c75\" y=\"445.879219\"/>\n      </g>\n     </g>\n     <g id=\"text_6\">\n      <!-- 12.5 -->\n      <g transform=\"translate(569.628207 460.477656)scale(0.1 -0.1)\">\n       <use xlink:href=\"#DejaVuSans-49\"/>\n       <use x=\"63.623047\" xlink:href=\"#DejaVuSans-50\"/>\n       <use x=\"127.246094\" xlink:href=\"#DejaVuSans-46\"/>\n       <use x=\"159.033203\" xlink:href=\"#DejaVuSans-53\"/>\n      </g>\n     </g>\n    </g>\n    <g id=\"xtick_7\">\n     <g id=\"line2d_13\">\n      <path clip-path=\"url(#pe37ae8a66a)\" d=\"M 690.892599 445.879219 \nL 690.892599 10.999219 \n\" style=\"fill:none;stroke:#b0b0b0;stroke-linecap:square;stroke-width:0.8;\"/>\n     </g>\n     <g id=\"line2d_14\">\n      <g>\n       <use style=\"stroke:#000000;stroke-width:0.8;\" x=\"690.892599\" xlink:href=\"#m0e03b04c75\" y=\"445.879219\"/>\n      </g>\n     </g>\n     <g id=\"text_7\">\n      <!-- 15.0 -->\n      <g transform=\"translate(679.759786 460.477656)scale(0.1 -0.1)\">\n       <use xlink:href=\"#DejaVuSans-49\"/>\n       <use x=\"63.623047\" xlink:href=\"#DejaVuSans-53\"/>\n       <use x=\"127.246094\" xlink:href=\"#DejaVuSans-46\"/>\n       <use x=\"159.033203\" xlink:href=\"#DejaVuSans-48\"/>\n      </g>\n     </g>\n    </g>\n    <g id=\"xtick_8\">\n     <g id=\"line2d_15\">\n      <path clip-path=\"url(#pe37ae8a66a)\" d=\"M 801.024178 445.879219 \nL 801.024178 10.999219 \n\" style=\"fill:none;stroke:#b0b0b0;stroke-linecap:square;stroke-width:0.8;\"/>\n     </g>\n     <g id=\"line2d_16\">\n      <g>\n       <use style=\"stroke:#000000;stroke-width:0.8;\" x=\"801.024178\" xlink:href=\"#m0e03b04c75\" y=\"445.879219\"/>\n      </g>\n     </g>\n     <g id=\"text_8\">\n      <!-- 17.5 -->\n      <g transform=\"translate(789.891365 460.477656)scale(0.1 -0.1)\">\n       <use xlink:href=\"#DejaVuSans-49\"/>\n       <use x=\"63.623047\" xlink:href=\"#DejaVuSans-55\"/>\n       <use x=\"127.246094\" xlink:href=\"#DejaVuSans-46\"/>\n       <use x=\"159.033203\" xlink:href=\"#DejaVuSans-53\"/>\n      </g>\n     </g>\n    </g>\n   </g>\n   <g id=\"matplotlib.axis_2\">\n    <g id=\"ytick_1\">\n     <g id=\"line2d_17\">\n      <path clip-path=\"url(#pe37ae8a66a)\" d=\"M 30.103125 445.879219 \nL 867.103125 445.879219 \n\" style=\"fill:none;stroke:#b0b0b0;stroke-linecap:square;stroke-width:0.8;\"/>\n     </g>\n     <g id=\"line2d_18\">\n      <defs>\n       <path d=\"M 0 0 \nL -3.5 0 \n\" id=\"m100d4d1fba\" style=\"stroke:#000000;stroke-width:0.8;\"/>\n      </defs>\n      <g>\n       <use style=\"stroke:#000000;stroke-width:0.8;\" x=\"30.103125\" xlink:href=\"#m100d4d1fba\" y=\"445.879219\"/>\n      </g>\n     </g>\n     <g id=\"text_9\">\n      <!-- 0.0 -->\n      <g transform=\"translate(7.2 449.678437)scale(0.1 -0.1)\">\n       <use xlink:href=\"#DejaVuSans-48\"/>\n       <use x=\"63.623047\" xlink:href=\"#DejaVuSans-46\"/>\n       <use x=\"95.410156\" xlink:href=\"#DejaVuSans-48\"/>\n      </g>\n     </g>\n    </g>\n    <g id=\"ytick_2\">\n     <g id=\"line2d_19\">\n      <path clip-path=\"url(#pe37ae8a66a)\" d=\"M 30.103125 358.903219 \nL 867.103125 358.903219 \n\" style=\"fill:none;stroke:#b0b0b0;stroke-linecap:square;stroke-width:0.8;\"/>\n     </g>\n     <g id=\"line2d_20\">\n      <g>\n       <use style=\"stroke:#000000;stroke-width:0.8;\" x=\"30.103125\" xlink:href=\"#m100d4d1fba\" y=\"358.903219\"/>\n      </g>\n     </g>\n     <g id=\"text_10\">\n      <!-- 0.2 -->\n      <g transform=\"translate(7.2 362.702437)scale(0.1 -0.1)\">\n       <use xlink:href=\"#DejaVuSans-48\"/>\n       <use x=\"63.623047\" xlink:href=\"#DejaVuSans-46\"/>\n       <use x=\"95.410156\" xlink:href=\"#DejaVuSans-50\"/>\n      </g>\n     </g>\n    </g>\n    <g id=\"ytick_3\">\n     <g id=\"line2d_21\">\n      <path clip-path=\"url(#pe37ae8a66a)\" d=\"M 30.103125 271.927219 \nL 867.103125 271.927219 \n\" style=\"fill:none;stroke:#b0b0b0;stroke-linecap:square;stroke-width:0.8;\"/>\n     </g>\n     <g id=\"line2d_22\">\n      <g>\n       <use style=\"stroke:#000000;stroke-width:0.8;\" x=\"30.103125\" xlink:href=\"#m100d4d1fba\" y=\"271.927219\"/>\n      </g>\n     </g>\n     <g id=\"text_11\">\n      <!-- 0.4 -->\n      <defs>\n       <path d=\"M 37.796875 64.3125 \nL 12.890625 25.390625 \nL 37.796875 25.390625 \nz\nM 35.203125 72.90625 \nL 47.609375 72.90625 \nL 47.609375 25.390625 \nL 58.015625 25.390625 \nL 58.015625 17.1875 \nL 47.609375 17.1875 \nL 47.609375 0 \nL 37.796875 0 \nL 37.796875 17.1875 \nL 4.890625 17.1875 \nL 4.890625 26.703125 \nz\n\" id=\"DejaVuSans-52\"/>\n      </defs>\n      <g transform=\"translate(7.2 275.726437)scale(0.1 -0.1)\">\n       <use xlink:href=\"#DejaVuSans-48\"/>\n       <use x=\"63.623047\" xlink:href=\"#DejaVuSans-46\"/>\n       <use x=\"95.410156\" xlink:href=\"#DejaVuSans-52\"/>\n      </g>\n     </g>\n    </g>\n    <g id=\"ytick_4\">\n     <g id=\"line2d_23\">\n      <path clip-path=\"url(#pe37ae8a66a)\" d=\"M 30.103125 184.951219 \nL 867.103125 184.951219 \n\" style=\"fill:none;stroke:#b0b0b0;stroke-linecap:square;stroke-width:0.8;\"/>\n     </g>\n     <g id=\"line2d_24\">\n      <g>\n       <use style=\"stroke:#000000;stroke-width:0.8;\" x=\"30.103125\" xlink:href=\"#m100d4d1fba\" y=\"184.951219\"/>\n      </g>\n     </g>\n     <g id=\"text_12\">\n      <!-- 0.6 -->\n      <defs>\n       <path d=\"M 33.015625 40.375 \nQ 26.375 40.375 22.484375 35.828125 \nQ 18.609375 31.296875 18.609375 23.390625 \nQ 18.609375 15.53125 22.484375 10.953125 \nQ 26.375 6.390625 33.015625 6.390625 \nQ 39.65625 6.390625 43.53125 10.953125 \nQ 47.40625 15.53125 47.40625 23.390625 \nQ 47.40625 31.296875 43.53125 35.828125 \nQ 39.65625 40.375 33.015625 40.375 \nz\nM 52.59375 71.296875 \nL 52.59375 62.3125 \nQ 48.875 64.0625 45.09375 64.984375 \nQ 41.3125 65.921875 37.59375 65.921875 \nQ 27.828125 65.921875 22.671875 59.328125 \nQ 17.53125 52.734375 16.796875 39.40625 \nQ 19.671875 43.65625 24.015625 45.921875 \nQ 28.375 48.1875 33.59375 48.1875 \nQ 44.578125 48.1875 50.953125 41.515625 \nQ 57.328125 34.859375 57.328125 23.390625 \nQ 57.328125 12.15625 50.6875 5.359375 \nQ 44.046875 -1.421875 33.015625 -1.421875 \nQ 20.359375 -1.421875 13.671875 8.265625 \nQ 6.984375 17.96875 6.984375 36.375 \nQ 6.984375 53.65625 15.1875 63.9375 \nQ 23.390625 74.21875 37.203125 74.21875 \nQ 40.921875 74.21875 44.703125 73.484375 \nQ 48.484375 72.75 52.59375 71.296875 \nz\n\" id=\"DejaVuSans-54\"/>\n      </defs>\n      <g transform=\"translate(7.2 188.750437)scale(0.1 -0.1)\">\n       <use xlink:href=\"#DejaVuSans-48\"/>\n       <use x=\"63.623047\" xlink:href=\"#DejaVuSans-46\"/>\n       <use x=\"95.410156\" xlink:href=\"#DejaVuSans-54\"/>\n      </g>\n     </g>\n    </g>\n    <g id=\"ytick_5\">\n     <g id=\"line2d_25\">\n      <path clip-path=\"url(#pe37ae8a66a)\" d=\"M 30.103125 97.975219 \nL 867.103125 97.975219 \n\" style=\"fill:none;stroke:#b0b0b0;stroke-linecap:square;stroke-width:0.8;\"/>\n     </g>\n     <g id=\"line2d_26\">\n      <g>\n       <use style=\"stroke:#000000;stroke-width:0.8;\" x=\"30.103125\" xlink:href=\"#m100d4d1fba\" y=\"97.975219\"/>\n      </g>\n     </g>\n     <g id=\"text_13\">\n      <!-- 0.8 -->\n      <defs>\n       <path d=\"M 31.78125 34.625 \nQ 24.75 34.625 20.71875 30.859375 \nQ 16.703125 27.09375 16.703125 20.515625 \nQ 16.703125 13.921875 20.71875 10.15625 \nQ 24.75 6.390625 31.78125 6.390625 \nQ 38.8125 6.390625 42.859375 10.171875 \nQ 46.921875 13.96875 46.921875 20.515625 \nQ 46.921875 27.09375 42.890625 30.859375 \nQ 38.875 34.625 31.78125 34.625 \nz\nM 21.921875 38.8125 \nQ 15.578125 40.375 12.03125 44.71875 \nQ 8.5 49.078125 8.5 55.328125 \nQ 8.5 64.0625 14.71875 69.140625 \nQ 20.953125 74.21875 31.78125 74.21875 \nQ 42.671875 74.21875 48.875 69.140625 \nQ 55.078125 64.0625 55.078125 55.328125 \nQ 55.078125 49.078125 51.53125 44.71875 \nQ 48 40.375 41.703125 38.8125 \nQ 48.828125 37.15625 52.796875 32.3125 \nQ 56.78125 27.484375 56.78125 20.515625 \nQ 56.78125 9.90625 50.3125 4.234375 \nQ 43.84375 -1.421875 31.78125 -1.421875 \nQ 19.734375 -1.421875 13.25 4.234375 \nQ 6.78125 9.90625 6.78125 20.515625 \nQ 6.78125 27.484375 10.78125 32.3125 \nQ 14.796875 37.15625 21.921875 38.8125 \nz\nM 18.3125 54.390625 \nQ 18.3125 48.734375 21.84375 45.5625 \nQ 25.390625 42.390625 31.78125 42.390625 \nQ 38.140625 42.390625 41.71875 45.5625 \nQ 45.3125 48.734375 45.3125 54.390625 \nQ 45.3125 60.0625 41.71875 63.234375 \nQ 38.140625 66.40625 31.78125 66.40625 \nQ 25.390625 66.40625 21.84375 63.234375 \nQ 18.3125 60.0625 18.3125 54.390625 \nz\n\" id=\"DejaVuSans-56\"/>\n      </defs>\n      <g transform=\"translate(7.2 101.774437)scale(0.1 -0.1)\">\n       <use xlink:href=\"#DejaVuSans-48\"/>\n       <use x=\"63.623047\" xlink:href=\"#DejaVuSans-46\"/>\n       <use x=\"95.410156\" xlink:href=\"#DejaVuSans-56\"/>\n      </g>\n     </g>\n    </g>\n    <g id=\"ytick_6\">\n     <g id=\"line2d_27\">\n      <path clip-path=\"url(#pe37ae8a66a)\" d=\"M 30.103125 10.999219 \nL 867.103125 10.999219 \n\" style=\"fill:none;stroke:#b0b0b0;stroke-linecap:square;stroke-width:0.8;\"/>\n     </g>\n     <g id=\"line2d_28\">\n      <g>\n       <use style=\"stroke:#000000;stroke-width:0.8;\" x=\"30.103125\" xlink:href=\"#m100d4d1fba\" y=\"10.999219\"/>\n      </g>\n     </g>\n     <g id=\"text_14\">\n      <!-- 1.0 -->\n      <g transform=\"translate(7.2 14.798437)scale(0.1 -0.1)\">\n       <use xlink:href=\"#DejaVuSans-49\"/>\n       <use x=\"63.623047\" xlink:href=\"#DejaVuSans-46\"/>\n       <use x=\"95.410156\" xlink:href=\"#DejaVuSans-48\"/>\n      </g>\n     </g>\n    </g>\n   </g>\n   <g id=\"line2d_29\">\n    <path clip-path=\"url(#pe37ae8a66a)\" d=\"M 30.103125 147.56624 \nL 74.155757 150.141305 \nL 118.208388 150.963356 \nL 162.26102 151.37308 \nL 206.313651 151.690692 \nL 250.366283 151.968093 \nL 294.418914 152.138148 \nL 338.471546 152.240965 \nL 382.524178 152.398879 \nL 426.576809 152.628889 \nL 470.629441 152.971429 \nL 514.682072 153.31564 \nL 558.734704 153.786815 \nL 602.787336 154.081009 \nL 646.839967 154.774017 \nL 690.892599 155.063094 \nL 734.94523 154.259524 \nL 778.997862 155.685695 \nL 823.050493 156.482127 \nL 867.103125 156.337802 \n\" style=\"fill:none;stroke:#1f77b4;stroke-linecap:square;stroke-width:1.5;\"/>\n   </g>\n   <g id=\"patch_3\">\n    <path d=\"M 30.103125 445.879219 \nL 30.103125 10.999219 \n\" style=\"fill:none;stroke:#000000;stroke-linecap:square;stroke-linejoin:miter;stroke-width:0.8;\"/>\n   </g>\n   <g id=\"patch_4\">\n    <path d=\"M 867.103125 445.879219 \nL 867.103125 10.999219 \n\" style=\"fill:none;stroke:#000000;stroke-linecap:square;stroke-linejoin:miter;stroke-width:0.8;\"/>\n   </g>\n   <g id=\"patch_5\">\n    <path d=\"M 30.103125 445.879219 \nL 867.103125 445.879219 \n\" style=\"fill:none;stroke:#000000;stroke-linecap:square;stroke-linejoin:miter;stroke-width:0.8;\"/>\n   </g>\n   <g id=\"patch_6\">\n    <path d=\"M 30.103125 10.999219 \nL 867.103125 10.999219 \n\" style=\"fill:none;stroke:#000000;stroke-linecap:square;stroke-linejoin:miter;stroke-width:0.8;\"/>\n   </g>\n   <g id=\"legend_1\">\n    <g id=\"patch_7\">\n     <path d=\"M 808.7875 33.677344 \nL 860.103125 33.677344 \nQ 862.103125 33.677344 862.103125 31.677344 \nL 862.103125 17.999219 \nQ 862.103125 15.999219 860.103125 15.999219 \nL 808.7875 15.999219 \nQ 806.7875 15.999219 806.7875 17.999219 \nL 806.7875 31.677344 \nQ 806.7875 33.677344 808.7875 33.677344 \nz\n\" style=\"fill:#ffffff;opacity:0.8;stroke:#cccccc;stroke-linejoin:miter;\"/>\n    </g>\n    <g id=\"line2d_30\">\n     <path d=\"M 810.7875 24.097656 \nL 830.7875 24.097656 \n\" style=\"fill:none;stroke:#1f77b4;stroke-linecap:square;stroke-width:1.5;\"/>\n    </g>\n    <g id=\"line2d_31\"/>\n    <g id=\"text_15\">\n     <!-- loss -->\n     <defs>\n      <path d=\"M 9.421875 75.984375 \nL 18.40625 75.984375 \nL 18.40625 0 \nL 9.421875 0 \nz\n\" id=\"DejaVuSans-108\"/>\n      <path d=\"M 30.609375 48.390625 \nQ 23.390625 48.390625 19.1875 42.75 \nQ 14.984375 37.109375 14.984375 27.296875 \nQ 14.984375 17.484375 19.15625 11.84375 \nQ 23.34375 6.203125 30.609375 6.203125 \nQ 37.796875 6.203125 41.984375 11.859375 \nQ 46.1875 17.53125 46.1875 27.296875 \nQ 46.1875 37.015625 41.984375 42.703125 \nQ 37.796875 48.390625 30.609375 48.390625 \nz\nM 30.609375 56 \nQ 42.328125 56 49.015625 48.375 \nQ 55.71875 40.765625 55.71875 27.296875 \nQ 55.71875 13.875 49.015625 6.21875 \nQ 42.328125 -1.421875 30.609375 -1.421875 \nQ 18.84375 -1.421875 12.171875 6.21875 \nQ 5.515625 13.875 5.515625 27.296875 \nQ 5.515625 40.765625 12.171875 48.375 \nQ 18.84375 56 30.609375 56 \nz\n\" id=\"DejaVuSans-111\"/>\n      <path d=\"M 44.28125 53.078125 \nL 44.28125 44.578125 \nQ 40.484375 46.53125 36.375 47.5 \nQ 32.28125 48.484375 27.875 48.484375 \nQ 21.1875 48.484375 17.84375 46.4375 \nQ 14.5 44.390625 14.5 40.28125 \nQ 14.5 37.15625 16.890625 35.375 \nQ 19.28125 33.59375 26.515625 31.984375 \nL 29.59375 31.296875 \nQ 39.15625 29.25 43.1875 25.515625 \nQ 47.21875 21.78125 47.21875 15.09375 \nQ 47.21875 7.46875 41.1875 3.015625 \nQ 35.15625 -1.421875 24.609375 -1.421875 \nQ 20.21875 -1.421875 15.453125 -0.5625 \nQ 10.6875 0.296875 5.421875 2 \nL 5.421875 11.28125 \nQ 10.40625 8.6875 15.234375 7.390625 \nQ 20.0625 6.109375 24.8125 6.109375 \nQ 31.15625 6.109375 34.5625 8.28125 \nQ 37.984375 10.453125 37.984375 14.40625 \nQ 37.984375 18.0625 35.515625 20.015625 \nQ 33.0625 21.96875 24.703125 23.78125 \nL 21.578125 24.515625 \nQ 13.234375 26.265625 9.515625 29.90625 \nQ 5.8125 33.546875 5.8125 39.890625 \nQ 5.8125 47.609375 11.28125 51.796875 \nQ 16.75 56 26.8125 56 \nQ 31.78125 56 36.171875 55.265625 \nQ 40.578125 54.546875 44.28125 53.078125 \nz\n\" id=\"DejaVuSans-115\"/>\n     </defs>\n     <g transform=\"translate(838.7875 27.597656)scale(0.1 -0.1)\">\n      <use xlink:href=\"#DejaVuSans-108\"/>\n      <use x=\"27.783203\" xlink:href=\"#DejaVuSans-111\"/>\n      <use x=\"88.964844\" xlink:href=\"#DejaVuSans-115\"/>\n      <use x=\"141.064453\" xlink:href=\"#DejaVuSans-115\"/>\n     </g>\n    </g>\n   </g>\n  </g>\n </g>\n <defs>\n  <clipPath id=\"pe37ae8a66a\">\n   <rect height=\"434.88\" width=\"837\" x=\"30.103125\" y=\"10.999219\"/>\n  </clipPath>\n </defs>\n</svg>\n",
      "image/png": "[encoded data removed]"
     },
     "metadata": {
      "needs_background": "light"
     }
    }
   ],
   "source": [
    "#plot the history\n",
    "pd.DataFrame.from_dict({'loss':history.history['loss']}).plot(figsize=(15, 8))\n",
    "plt.grid(True)\n",
    "plt.gca().set_ylim(0, 1.) # set the vertical range to [0-1]\n",
    "plt.show()"
   ]
  },
  {
   "cell_type": "markdown",
   "metadata": {},
   "source": [
    "### Predict test data"
   ]
  },
  {
   "cell_type": "code",
   "execution_count": 61,
   "metadata": {},
   "outputs": [
    {
     "output_type": "stream",
     "name": "stdout",
     "text": "1/1 [==============================] - 0s 162ms/step\n"
    }
   ],
   "source": [
    "y_prob = model.predict(x=test_tf.batch(batch_size=1000), steps=1, verbose=True)"
   ]
  },
  {
   "cell_type": "code",
   "execution_count": 62,
   "metadata": {},
   "outputs": [
    {
     "output_type": "display_data",
     "data": {
      "application/vnd.plotly.v1+json": {
       "config": {
        "plotlyServerURL": "https://plot.ly"
       },
       "data": [
        {
         "line": {
          "color": "darkorange",
          "width": 2
         },
         "mode": "lines",
         "name": "ROC curve (area = 0.52)",
         "type": "scatter",
         "x": [
          0,
          0.0136986301369863,
          0.0182648401826484,
          0.0182648401826484,
          0.0228310502283105,
          0.0228310502283105,
          0.0319634703196347,
          0.0319634703196347,
          0.0410958904109589,
          0.0410958904109589,
          0.0593607305936073,
          0.0593607305936073,
          0.0639269406392694,
          0.0639269406392694,
          0.0776255707762557,
          0.0776255707762557,
          0.0821917808219178,
          0.0821917808219178,
          0.0867579908675799,
          0.0867579908675799,
          0.1050228310502283,
          0.1050228310502283,
          0.1141552511415525,
          0.1141552511415525,
          0.1232876712328767,
          0.1232876712328767,
          0.1324200913242009,
          0.1324200913242009,
          0.1506849315068493,
          0.1506849315068493,
          0.1552511415525114,
          0.1552511415525114,
          0.1598173515981735,
          0.1598173515981735,
          0.1689497716894977,
          0.1689497716894977,
          0.2100456621004566,
          0.2100456621004566,
          0.2191780821917808,
          0.2191780821917808,
          0.2374429223744292,
          0.2374429223744292,
          0.2420091324200913,
          0.2420091324200913,
          0.2465753424657534,
          0.2465753424657534,
          0.2511415525114155,
          0.2511415525114155,
          0.2557077625570776,
          0.2557077625570776,
          0.2602739726027397,
          0.2602739726027397,
          0.2648401826484018,
          0.2648401826484018,
          0.2694063926940639,
          0.2694063926940639,
          0.2785388127853881,
          0.2785388127853881,
          0.2831050228310502,
          0.2831050228310502,
          0.2922374429223744,
          0.2922374429223744,
          0.2968036529680365,
          0.2968036529680365,
          0.3013698630136986,
          0.3013698630136986,
          0.3105022831050228,
          0.3105022831050228,
          0.3150684931506849,
          0.3150684931506849,
          0.3242009132420091,
          0.3242009132420091,
          0.3470319634703196,
          0.3470319634703196,
          0.3561643835616438,
          0.3561643835616438,
          0.3789954337899543,
          0.3789954337899543,
          0.3972602739726027,
          0.3972602739726027,
          0.4063926940639269,
          0.4063926940639269,
          0.4200913242009132,
          0.4200913242009132,
          0.4292237442922374,
          0.4292237442922374,
          0.4337899543378995,
          0.4337899543378995,
          0.4383561643835616,
          0.4383561643835616,
          0.45662100456621,
          0.45662100456621,
          0.4657534246575342,
          0.4657534246575342,
          0.4703196347031963,
          0.4703196347031963,
          0.4794520547945205,
          0.4794520547945205,
          0.4840182648401826,
          0.4840182648401826,
          0.4885844748858447,
          0.4885844748858447,
          0.4931506849315068,
          0.4931506849315068,
          0.4977168949771689,
          0.4977168949771689,
          0.5251141552511416,
          0.5251141552511416,
          0.5296803652968036,
          0.5296803652968036,
          0.5342465753424658,
          0.5342465753424658,
          0.5388127853881278,
          0.5388127853881278,
          0.5570776255707762,
          0.5570776255707762,
          0.5662100456621004,
          0.5662100456621004,
          0.5707762557077626,
          0.5707762557077626,
          0.5799086757990868,
          0.5799086757990868,
          0.589041095890411,
          0.589041095890411,
          0.593607305936073,
          0.593607305936073,
          0.6210045662100456,
          0.6210045662100456,
          0.6301369863013698,
          0.6301369863013698,
          0.639269406392694,
          0.639269406392694,
          0.6621004566210046,
          0.6621004566210046,
          0.6712328767123288,
          0.6712328767123288,
          0.6757990867579908,
          0.6757990867579908,
          0.6894977168949772,
          0.6894977168949772,
          0.7031963470319634,
          0.7031963470319634,
          0.7077625570776256,
          0.7077625570776256,
          0.7168949771689498,
          0.7168949771689498,
          0.7351598173515982,
          0.7351598173515982,
          0.7488584474885844,
          0.7488584474885844,
          0.771689497716895,
          0.771689497716895,
          0.776255707762557,
          0.776255707762557,
          0.7808219178082192,
          0.7808219178082192,
          0.7853881278538812,
          0.7853881278538812,
          0.7945205479452054,
          0.7945205479452054,
          0.8127853881278538,
          0.8127853881278538,
          0.821917808219178,
          0.821917808219178,
          0.8310502283105022,
          0.8310502283105022,
          0.8721461187214612,
          0.8721461187214612,
          0.8812785388127854,
          0.8812785388127854,
          0.8858447488584474,
          0.8858447488584474,
          0.8904109589041096,
          0.8904109589041096,
          0.8995433789954338,
          0.8995433789954338,
          0.908675799086758,
          0.908675799086758,
          0.9223744292237442,
          0.9223744292237442,
          0.9269406392694064,
          0.9269406392694064,
          0.958904109589041,
          0.958904109589041,
          0.9634703196347032,
          0.9634703196347032,
          0.9680365296803652,
          0.9680365296803652,
          0.9726027397260274,
          0.9726027397260274,
          0.9771689497716894,
          0.9771689497716894,
          0.9863013698630136,
          0.9863013698630136,
          1
         ],
         "y": [
          0,
          0.021739130434782608,
          0.021739130434782608,
          0.02717391304347826,
          0.02717391304347826,
          0.043478260869565216,
          0.043478260869565216,
          0.05434782608695652,
          0.05434782608695652,
          0.06521739130434782,
          0.06521739130434782,
          0.07065217391304347,
          0.07065217391304347,
          0.07608695652173914,
          0.07608695652173914,
          0.09782608695652174,
          0.09782608695652174,
          0.10869565217391304,
          0.10869565217391304,
          0.125,
          0.125,
          0.1358695652173913,
          0.1358695652173913,
          0.15217391304347827,
          0.15217391304347827,
          0.15760869565217392,
          0.15760869565217392,
          0.16304347826086957,
          0.16304347826086957,
          0.17391304347826086,
          0.17391304347826086,
          0.18478260869565216,
          0.18478260869565216,
          0.19021739130434784,
          0.19021739130434784,
          0.1956521739130435,
          0.1956521739130435,
          0.20108695652173914,
          0.20108695652173914,
          0.21195652173913043,
          0.21195652173913043,
          0.21739130434782608,
          0.21739130434782608,
          0.22282608695652173,
          0.22282608695652173,
          0.22826086956521738,
          0.22826086956521738,
          0.23369565217391305,
          0.23369565217391305,
          0.25,
          0.25,
          0.2608695652173913,
          0.2608695652173913,
          0.2717391304347826,
          0.2717391304347826,
          0.29347826086956524,
          0.29347826086956524,
          0.30434782608695654,
          0.30434782608695654,
          0.30978260869565216,
          0.30978260869565216,
          0.32065217391304346,
          0.32065217391304346,
          0.33152173913043476,
          0.33152173913043476,
          0.34782608695652173,
          0.34782608695652173,
          0.3532608695652174,
          0.3532608695652174,
          0.358695652173913,
          0.358695652173913,
          0.3641304347826087,
          0.3641304347826087,
          0.3858695652173913,
          0.3858695652173913,
          0.40217391304347827,
          0.40217391304347827,
          0.42934782608695654,
          0.42934782608695654,
          0.44565217391304346,
          0.44565217391304346,
          0.45652173913043476,
          0.45652173913043476,
          0.46195652173913043,
          0.46195652173913043,
          0.483695652173913,
          0.483695652173913,
          0.4891304347826087,
          0.4891304347826087,
          0.4945652173913043,
          0.4945652173913043,
          0.5054347826086957,
          0.5054347826086957,
          0.5217391304347826,
          0.5217391304347826,
          0.532608695652174,
          0.532608695652174,
          0.5380434782608695,
          0.5380434782608695,
          0.5434782608695652,
          0.5434782608695652,
          0.5543478260869565,
          0.5543478260869565,
          0.5597826086956522,
          0.5597826086956522,
          0.5706521739130435,
          0.5706521739130435,
          0.5760869565217391,
          0.5760869565217391,
          0.5815217391304348,
          0.5815217391304348,
          0.592391304347826,
          0.592391304347826,
          0.6141304347826086,
          0.6141304347826086,
          0.6195652173913043,
          0.6195652173913043,
          0.625,
          0.625,
          0.6304347826086957,
          0.6304347826086957,
          0.6358695652173914,
          0.6358695652173914,
          0.6467391304347826,
          0.6467391304347826,
          0.6521739130434783,
          0.6521739130434783,
          0.6630434782608695,
          0.6630434782608695,
          0.6793478260869565,
          0.6793478260869565,
          0.6847826086956522,
          0.6847826086956522,
          0.6902173913043478,
          0.6902173913043478,
          0.7010869565217391,
          0.7010869565217391,
          0.7065217391304348,
          0.7065217391304348,
          0.7119565217391305,
          0.7119565217391305,
          0.717391304347826,
          0.717391304347826,
          0.7228260869565217,
          0.7228260869565217,
          0.75,
          0.75,
          0.7554347826086957,
          0.7554347826086957,
          0.7608695652173914,
          0.7608695652173914,
          0.7663043478260869,
          0.7663043478260869,
          0.7717391304347826,
          0.7717391304347826,
          0.7880434782608695,
          0.7880434782608695,
          0.7989130434782609,
          0.7989130434782609,
          0.8043478260869565,
          0.8043478260869565,
          0.8206521739130435,
          0.8206521739130435,
          0.8315217391304348,
          0.8315217391304348,
          0.8369565217391305,
          0.8369565217391305,
          0.8478260869565217,
          0.8478260869565217,
          0.8695652173913043,
          0.8695652173913043,
          0.875,
          0.875,
          0.8804347826086957,
          0.8804347826086957,
          0.8967391304347826,
          0.8967391304347826,
          0.9021739130434783,
          0.9021739130434783,
          0.9130434782608695,
          0.9130434782608695,
          0.9184782608695652,
          0.9184782608695652,
          0.9239130434782609,
          0.9239130434782609,
          0.9456521739130435,
          0.9456521739130435,
          0.9510869565217391,
          0.9510869565217391,
          0.967391304347826,
          0.967391304347826,
          0.9836956521739131,
          0.9836956521739131,
          1,
          1
         ]
        },
        {
         "line": {
          "color": "navy",
          "dash": "dash",
          "width": 2
         },
         "mode": "lines",
         "showlegend": false,
         "type": "scatter",
         "x": [
          0,
          1
         ],
         "y": [
          0,
          1
         ]
        }
       ],
       "layout": {
        "template": {
         "data": {
          "bar": [
           {
            "error_x": {
             "color": "#2a3f5f"
            },
            "error_y": {
             "color": "#2a3f5f"
            },
            "marker": {
             "line": {
              "color": "#E5ECF6",
              "width": 0.5
             }
            },
            "type": "bar"
           }
          ],
          "barpolar": [
           {
            "marker": {
             "line": {
              "color": "#E5ECF6",
              "width": 0.5
             }
            },
            "type": "barpolar"
           }
          ],
          "carpet": [
           {
            "aaxis": {
             "endlinecolor": "#2a3f5f",
             "gridcolor": "white",
             "linecolor": "white",
             "minorgridcolor": "white",
             "startlinecolor": "#2a3f5f"
            },
            "baxis": {
             "endlinecolor": "#2a3f5f",
             "gridcolor": "white",
             "linecolor": "white",
             "minorgridcolor": "white",
             "startlinecolor": "#2a3f5f"
            },
            "type": "carpet"
           }
          ],
          "choropleth": [
           {
            "colorbar": {
             "outlinewidth": 0,
             "ticks": ""
            },
            "type": "choropleth"
           }
          ],
          "contour": [
           {
            "colorbar": {
             "outlinewidth": 0,
             "ticks": ""
            },
            "colorscale": [
             [
              0,
              "#0d0887"
             ],
             [
              0.1111111111111111,
              "#46039f"
             ],
             [
              0.2222222222222222,
              "#7201a8"
             ],
             [
              0.3333333333333333,
              "#9c179e"
             ],
             [
              0.4444444444444444,
              "#bd3786"
             ],
             [
              0.5555555555555556,
              "#d8576b"
             ],
             [
              0.6666666666666666,
              "#ed7953"
             ],
             [
              0.7777777777777778,
              "#fb9f3a"
             ],
             [
              0.8888888888888888,
              "#fdca26"
             ],
             [
              1,
              "#f0f921"
             ]
            ],
            "type": "contour"
           }
          ],
          "contourcarpet": [
           {
            "colorbar": {
             "outlinewidth": 0,
             "ticks": ""
            },
            "type": "contourcarpet"
           }
          ],
          "heatmap": [
           {
            "colorbar": {
             "outlinewidth": 0,
             "ticks": ""
            },
            "colorscale": [
             [
              0,
              "#0d0887"
             ],
             [
              0.1111111111111111,
              "#46039f"
             ],
             [
              0.2222222222222222,
              "#7201a8"
             ],
             [
              0.3333333333333333,
              "#9c179e"
             ],
             [
              0.4444444444444444,
              "#bd3786"
             ],
             [
              0.5555555555555556,
              "#d8576b"
             ],
             [
              0.6666666666666666,
              "#ed7953"
             ],
             [
              0.7777777777777778,
              "#fb9f3a"
             ],
             [
              0.8888888888888888,
              "#fdca26"
             ],
             [
              1,
              "#f0f921"
             ]
            ],
            "type": "heatmap"
           }
          ],
          "heatmapgl": [
           {
            "colorbar": {
             "outlinewidth": 0,
             "ticks": ""
            },
            "colorscale": [
             [
              0,
              "#0d0887"
             ],
             [
              0.1111111111111111,
              "#46039f"
             ],
             [
              0.2222222222222222,
              "#7201a8"
             ],
             [
              0.3333333333333333,
              "#9c179e"
             ],
             [
              0.4444444444444444,
              "#bd3786"
             ],
             [
              0.5555555555555556,
              "#d8576b"
             ],
             [
              0.6666666666666666,
              "#ed7953"
             ],
             [
              0.7777777777777778,
              "#fb9f3a"
             ],
             [
              0.8888888888888888,
              "#fdca26"
             ],
             [
              1,
              "#f0f921"
             ]
            ],
            "type": "heatmapgl"
           }
          ],
          "histogram": [
           {
            "marker": {
             "colorbar": {
              "outlinewidth": 0,
              "ticks": ""
             }
            },
            "type": "histogram"
           }
          ],
          "histogram2d": [
           {
            "colorbar": {
             "outlinewidth": 0,
             "ticks": ""
            },
            "colorscale": [
             [
              0,
              "#0d0887"
             ],
             [
              0.1111111111111111,
              "#46039f"
             ],
             [
              0.2222222222222222,
              "#7201a8"
             ],
             [
              0.3333333333333333,
              "#9c179e"
             ],
             [
              0.4444444444444444,
              "#bd3786"
             ],
             [
              0.5555555555555556,
              "#d8576b"
             ],
             [
              0.6666666666666666,
              "#ed7953"
             ],
             [
              0.7777777777777778,
              "#fb9f3a"
             ],
             [
              0.8888888888888888,
              "#fdca26"
             ],
             [
              1,
              "#f0f921"
             ]
            ],
            "type": "histogram2d"
           }
          ],
          "histogram2dcontour": [
           {
            "colorbar": {
             "outlinewidth": 0,
             "ticks": ""
            },
            "colorscale": [
             [
              0,
              "#0d0887"
             ],
             [
              0.1111111111111111,
              "#46039f"
             ],
             [
              0.2222222222222222,
              "#7201a8"
             ],
             [
              0.3333333333333333,
              "#9c179e"
             ],
             [
              0.4444444444444444,
              "#bd3786"
             ],
             [
              0.5555555555555556,
              "#d8576b"
             ],
             [
              0.6666666666666666,
              "#ed7953"
             ],
             [
              0.7777777777777778,
              "#fb9f3a"
             ],
             [
              0.8888888888888888,
              "#fdca26"
             ],
             [
              1,
              "#f0f921"
             ]
            ],
            "type": "histogram2dcontour"
           }
          ],
          "mesh3d": [
           {
            "colorbar": {
             "outlinewidth": 0,
             "ticks": ""
            },
            "type": "mesh3d"
           }
          ],
          "parcoords": [
           {
            "line": {
             "colorbar": {
              "outlinewidth": 0,
              "ticks": ""
             }
            },
            "type": "parcoords"
           }
          ],
          "pie": [
           {
            "automargin": true,
            "type": "pie"
           }
          ],
          "scatter": [
           {
            "marker": {
             "colorbar": {
              "outlinewidth": 0,
              "ticks": ""
             }
            },
            "type": "scatter"
           }
          ],
          "scatter3d": [
           {
            "line": {
             "colorbar": {
              "outlinewidth": 0,
              "ticks": ""
             }
            },
            "marker": {
             "colorbar": {
              "outlinewidth": 0,
              "ticks": ""
             }
            },
            "type": "scatter3d"
           }
          ],
          "scattercarpet": [
           {
            "marker": {
             "colorbar": {
              "outlinewidth": 0,
              "ticks": ""
             }
            },
            "type": "scattercarpet"
           }
          ],
          "scattergeo": [
           {
            "marker": {
             "colorbar": {
              "outlinewidth": 0,
              "ticks": ""
             }
            },
            "type": "scattergeo"
           }
          ],
          "scattergl": [
           {
            "marker": {
             "colorbar": {
              "outlinewidth": 0,
              "ticks": ""
             }
            },
            "type": "scattergl"
           }
          ],
          "scattermapbox": [
           {
            "marker": {
             "colorbar": {
              "outlinewidth": 0,
              "ticks": ""
             }
            },
            "type": "scattermapbox"
           }
          ],
          "scatterpolar": [
           {
            "marker": {
             "colorbar": {
              "outlinewidth": 0,
              "ticks": ""
             }
            },
            "type": "scatterpolar"
           }
          ],
          "scatterpolargl": [
           {
            "marker": {
             "colorbar": {
              "outlinewidth": 0,
              "ticks": ""
             }
            },
            "type": "scatterpolargl"
           }
          ],
          "scatterternary": [
           {
            "marker": {
             "colorbar": {
              "outlinewidth": 0,
              "ticks": ""
             }
            },
            "type": "scatterternary"
           }
          ],
          "surface": [
           {
            "colorbar": {
             "outlinewidth": 0,
             "ticks": ""
            },
            "colorscale": [
             [
              0,
              "#0d0887"
             ],
             [
              0.1111111111111111,
              "#46039f"
             ],
             [
              0.2222222222222222,
              "#7201a8"
             ],
             [
              0.3333333333333333,
              "#9c179e"
             ],
             [
              0.4444444444444444,
              "#bd3786"
             ],
             [
              0.5555555555555556,
              "#d8576b"
             ],
             [
              0.6666666666666666,
              "#ed7953"
             ],
             [
              0.7777777777777778,
              "#fb9f3a"
             ],
             [
              0.8888888888888888,
              "#fdca26"
             ],
             [
              1,
              "#f0f921"
             ]
            ],
            "type": "surface"
           }
          ],
          "table": [
           {
            "cells": {
             "fill": {
              "color": "#EBF0F8"
             },
             "line": {
              "color": "white"
             }
            },
            "header": {
             "fill": {
              "color": "#C8D4E3"
             },
             "line": {
              "color": "white"
             }
            },
            "type": "table"
           }
          ]
         },
         "layout": {
          "annotationdefaults": {
           "arrowcolor": "#2a3f5f",
           "arrowhead": 0,
           "arrowwidth": 1
          },
          "coloraxis": {
           "colorbar": {
            "outlinewidth": 0,
            "ticks": ""
           }
          },
          "colorscale": {
           "diverging": [
            [
             0,
             "#8e0152"
            ],
            [
             0.1,
             "#c51b7d"
            ],
            [
             0.2,
             "#de77ae"
            ],
            [
             0.3,
             "#f1b6da"
            ],
            [
             0.4,
             "#fde0ef"
            ],
            [
             0.5,
             "#f7f7f7"
            ],
            [
             0.6,
             "#e6f5d0"
            ],
            [
             0.7,
             "#b8e186"
            ],
            [
             0.8,
             "#7fbc41"
            ],
            [
             0.9,
             "#4d9221"
            ],
            [
             1,
             "#276419"
            ]
           ],
           "sequential": [
            [
             0,
             "#0d0887"
            ],
            [
             0.1111111111111111,
             "#46039f"
            ],
            [
             0.2222222222222222,
             "#7201a8"
            ],
            [
             0.3333333333333333,
             "#9c179e"
            ],
            [
             0.4444444444444444,
             "#bd3786"
            ],
            [
             0.5555555555555556,
             "#d8576b"
            ],
            [
             0.6666666666666666,
             "#ed7953"
            ],
            [
             0.7777777777777778,
             "#fb9f3a"
            ],
            [
             0.8888888888888888,
             "#fdca26"
            ],
            [
             1,
             "#f0f921"
            ]
           ],
           "sequentialminus": [
            [
             0,
             "#0d0887"
            ],
            [
             0.1111111111111111,
             "#46039f"
            ],
            [
             0.2222222222222222,
             "#7201a8"
            ],
            [
             0.3333333333333333,
             "#9c179e"
            ],
            [
             0.4444444444444444,
             "#bd3786"
            ],
            [
             0.5555555555555556,
             "#d8576b"
            ],
            [
             0.6666666666666666,
             "#ed7953"
            ],
            [
             0.7777777777777778,
             "#fb9f3a"
            ],
            [
             0.8888888888888888,
             "#fdca26"
            ],
            [
             1,
             "#f0f921"
            ]
           ]
          },
          "colorway": [
           "#636efa",
           "#EF553B",
           "#00cc96",
           "#ab63fa",
           "#FFA15A",
           "#19d3f3",
           "#FF6692",
           "#B6E880",
           "#FF97FF",
           "#FECB52"
          ],
          "font": {
           "color": "#2a3f5f"
          },
          "geo": {
           "bgcolor": "white",
           "lakecolor": "white",
           "landcolor": "#E5ECF6",
           "showlakes": true,
           "showland": true,
           "subunitcolor": "white"
          },
          "hoverlabel": {
           "align": "left"
          },
          "hovermode": "closest",
          "mapbox": {
           "style": "light"
          },
          "paper_bgcolor": "white",
          "plot_bgcolor": "#E5ECF6",
          "polar": {
           "angularaxis": {
            "gridcolor": "white",
            "linecolor": "white",
            "ticks": ""
           },
           "bgcolor": "#E5ECF6",
           "radialaxis": {
            "gridcolor": "white",
            "linecolor": "white",
            "ticks": ""
           }
          },
          "scene": {
           "xaxis": {
            "backgroundcolor": "#E5ECF6",
            "gridcolor": "white",
            "gridwidth": 2,
            "linecolor": "white",
            "showbackground": true,
            "ticks": "",
            "zerolinecolor": "white"
           },
           "yaxis": {
            "backgroundcolor": "#E5ECF6",
            "gridcolor": "white",
            "gridwidth": 2,
            "linecolor": "white",
            "showbackground": true,
            "ticks": "",
            "zerolinecolor": "white"
           },
           "zaxis": {
            "backgroundcolor": "#E5ECF6",
            "gridcolor": "white",
            "gridwidth": 2,
            "linecolor": "white",
            "showbackground": true,
            "ticks": "",
            "zerolinecolor": "white"
           }
          },
          "shapedefaults": {
           "line": {
            "color": "#2a3f5f"
           }
          },
          "ternary": {
           "aaxis": {
            "gridcolor": "white",
            "linecolor": "white",
            "ticks": ""
           },
           "baxis": {
            "gridcolor": "white",
            "linecolor": "white",
            "ticks": ""
           },
           "bgcolor": "#E5ECF6",
           "caxis": {
            "gridcolor": "white",
            "linecolor": "white",
            "ticks": ""
           }
          },
          "title": {
           "x": 0.05
          },
          "xaxis": {
           "automargin": true,
           "gridcolor": "white",
           "linecolor": "white",
           "ticks": "",
           "title": {
            "standoff": 15
           },
           "zerolinecolor": "white",
           "zerolinewidth": 2
          },
          "yaxis": {
           "automargin": true,
           "gridcolor": "white",
           "linecolor": "white",
           "ticks": "",
           "title": {
            "standoff": 15
           },
           "zerolinecolor": "white",
           "zerolinewidth": 2
          }
         }
        },
        "title": {
         "text": "Receiver operating characteristic example"
        },
        "xaxis": {
         "title": {
          "text": "False Positive Rate"
         }
        },
        "yaxis": {
         "title": {
          "text": "True Positive Rate"
         }
        }
       }
      }
     },
     "metadata": {}
    }
   ],
   "source": [
    "mpl.plotRoc(ty_test.numpy(), y_prob.flatten())"
   ]
  },
  {
   "cell_type": "code",
   "execution_count": 63,
   "metadata": {},
   "outputs": [
    {
     "output_type": "display_data",
     "data": {
      "application/vnd.plotly.v1+json": {
       "config": {
        "plotlyServerURL": "https://plot.ly"
       },
       "data": [
        {
         "line": {
          "color": "darkorange",
          "width": 2
         },
         "mode": "lines",
         "name": "ROC curve (area = 0.50)",
         "type": "scatter",
         "x": [
          0,
          0.4885844748858447,
          1
         ],
         "y": [
          0,
          0.4945652173913043,
          1
         ]
        },
        {
         "line": {
          "color": "navy",
          "dash": "dash",
          "width": 2
         },
         "mode": "lines",
         "showlegend": false,
         "type": "scatter",
         "x": [
          0,
          1
         ],
         "y": [
          0,
          1
         ]
        }
       ],
       "layout": {
        "template": {
         "data": {
          "bar": [
           {
            "error_x": {
             "color": "#2a3f5f"
            },
            "error_y": {
             "color": "#2a3f5f"
            },
            "marker": {
             "line": {
              "color": "#E5ECF6",
              "width": 0.5
             }
            },
            "type": "bar"
           }
          ],
          "barpolar": [
           {
            "marker": {
             "line": {
              "color": "#E5ECF6",
              "width": 0.5
             }
            },
            "type": "barpolar"
           }
          ],
          "carpet": [
           {
            "aaxis": {
             "endlinecolor": "#2a3f5f",
             "gridcolor": "white",
             "linecolor": "white",
             "minorgridcolor": "white",
             "startlinecolor": "#2a3f5f"
            },
            "baxis": {
             "endlinecolor": "#2a3f5f",
             "gridcolor": "white",
             "linecolor": "white",
             "minorgridcolor": "white",
             "startlinecolor": "#2a3f5f"
            },
            "type": "carpet"
           }
          ],
          "choropleth": [
           {
            "colorbar": {
             "outlinewidth": 0,
             "ticks": ""
            },
            "type": "choropleth"
           }
          ],
          "contour": [
           {
            "colorbar": {
             "outlinewidth": 0,
             "ticks": ""
            },
            "colorscale": [
             [
              0,
              "#0d0887"
             ],
             [
              0.1111111111111111,
              "#46039f"
             ],
             [
              0.2222222222222222,
              "#7201a8"
             ],
             [
              0.3333333333333333,
              "#9c179e"
             ],
             [
              0.4444444444444444,
              "#bd3786"
             ],
             [
              0.5555555555555556,
              "#d8576b"
             ],
             [
              0.6666666666666666,
              "#ed7953"
             ],
             [
              0.7777777777777778,
              "#fb9f3a"
             ],
             [
              0.8888888888888888,
              "#fdca26"
             ],
             [
              1,
              "#f0f921"
             ]
            ],
            "type": "contour"
           }
          ],
          "contourcarpet": [
           {
            "colorbar": {
             "outlinewidth": 0,
             "ticks": ""
            },
            "type": "contourcarpet"
           }
          ],
          "heatmap": [
           {
            "colorbar": {
             "outlinewidth": 0,
             "ticks": ""
            },
            "colorscale": [
             [
              0,
              "#0d0887"
             ],
             [
              0.1111111111111111,
              "#46039f"
             ],
             [
              0.2222222222222222,
              "#7201a8"
             ],
             [
              0.3333333333333333,
              "#9c179e"
             ],
             [
              0.4444444444444444,
              "#bd3786"
             ],
             [
              0.5555555555555556,
              "#d8576b"
             ],
             [
              0.6666666666666666,
              "#ed7953"
             ],
             [
              0.7777777777777778,
              "#fb9f3a"
             ],
             [
              0.8888888888888888,
              "#fdca26"
             ],
             [
              1,
              "#f0f921"
             ]
            ],
            "type": "heatmap"
           }
          ],
          "heatmapgl": [
           {
            "colorbar": {
             "outlinewidth": 0,
             "ticks": ""
            },
            "colorscale": [
             [
              0,
              "#0d0887"
             ],
             [
              0.1111111111111111,
              "#46039f"
             ],
             [
              0.2222222222222222,
              "#7201a8"
             ],
             [
              0.3333333333333333,
              "#9c179e"
             ],
             [
              0.4444444444444444,
              "#bd3786"
             ],
             [
              0.5555555555555556,
              "#d8576b"
             ],
             [
              0.6666666666666666,
              "#ed7953"
             ],
             [
              0.7777777777777778,
              "#fb9f3a"
             ],
             [
              0.8888888888888888,
              "#fdca26"
             ],
             [
              1,
              "#f0f921"
             ]
            ],
            "type": "heatmapgl"
           }
          ],
          "histogram": [
           {
            "marker": {
             "colorbar": {
              "outlinewidth": 0,
              "ticks": ""
             }
            },
            "type": "histogram"
           }
          ],
          "histogram2d": [
           {
            "colorbar": {
             "outlinewidth": 0,
             "ticks": ""
            },
            "colorscale": [
             [
              0,
              "#0d0887"
             ],
             [
              0.1111111111111111,
              "#46039f"
             ],
             [
              0.2222222222222222,
              "#7201a8"
             ],
             [
              0.3333333333333333,
              "#9c179e"
             ],
             [
              0.4444444444444444,
              "#bd3786"
             ],
             [
              0.5555555555555556,
              "#d8576b"
             ],
             [
              0.6666666666666666,
              "#ed7953"
             ],
             [
              0.7777777777777778,
              "#fb9f3a"
             ],
             [
              0.8888888888888888,
              "#fdca26"
             ],
             [
              1,
              "#f0f921"
             ]
            ],
            "type": "histogram2d"
           }
          ],
          "histogram2dcontour": [
           {
            "colorbar": {
             "outlinewidth": 0,
             "ticks": ""
            },
            "colorscale": [
             [
              0,
              "#0d0887"
             ],
             [
              0.1111111111111111,
              "#46039f"
             ],
             [
              0.2222222222222222,
              "#7201a8"
             ],
             [
              0.3333333333333333,
              "#9c179e"
             ],
             [
              0.4444444444444444,
              "#bd3786"
             ],
             [
              0.5555555555555556,
              "#d8576b"
             ],
             [
              0.6666666666666666,
              "#ed7953"
             ],
             [
              0.7777777777777778,
              "#fb9f3a"
             ],
             [
              0.8888888888888888,
              "#fdca26"
             ],
             [
              1,
              "#f0f921"
             ]
            ],
            "type": "histogram2dcontour"
           }
          ],
          "mesh3d": [
           {
            "colorbar": {
             "outlinewidth": 0,
             "ticks": ""
            },
            "type": "mesh3d"
           }
          ],
          "parcoords": [
           {
            "line": {
             "colorbar": {
              "outlinewidth": 0,
              "ticks": ""
             }
            },
            "type": "parcoords"
           }
          ],
          "pie": [
           {
            "automargin": true,
            "type": "pie"
           }
          ],
          "scatter": [
           {
            "marker": {
             "colorbar": {
              "outlinewidth": 0,
              "ticks": ""
             }
            },
            "type": "scatter"
           }
          ],
          "scatter3d": [
           {
            "line": {
             "colorbar": {
              "outlinewidth": 0,
              "ticks": ""
             }
            },
            "marker": {
             "colorbar": {
              "outlinewidth": 0,
              "ticks": ""
             }
            },
            "type": "scatter3d"
           }
          ],
          "scattercarpet": [
           {
            "marker": {
             "colorbar": {
              "outlinewidth": 0,
              "ticks": ""
             }
            },
            "type": "scattercarpet"
           }
          ],
          "scattergeo": [
           {
            "marker": {
             "colorbar": {
              "outlinewidth": 0,
              "ticks": ""
             }
            },
            "type": "scattergeo"
           }
          ],
          "scattergl": [
           {
            "marker": {
             "colorbar": {
              "outlinewidth": 0,
              "ticks": ""
             }
            },
            "type": "scattergl"
           }
          ],
          "scattermapbox": [
           {
            "marker": {
             "colorbar": {
              "outlinewidth": 0,
              "ticks": ""
             }
            },
            "type": "scattermapbox"
           }
          ],
          "scatterpolar": [
           {
            "marker": {
             "colorbar": {
              "outlinewidth": 0,
              "ticks": ""
             }
            },
            "type": "scatterpolar"
           }
          ],
          "scatterpolargl": [
           {
            "marker": {
             "colorbar": {
              "outlinewidth": 0,
              "ticks": ""
             }
            },
            "type": "scatterpolargl"
           }
          ],
          "scatterternary": [
           {
            "marker": {
             "colorbar": {
              "outlinewidth": 0,
              "ticks": ""
             }
            },
            "type": "scatterternary"
           }
          ],
          "surface": [
           {
            "colorbar": {
             "outlinewidth": 0,
             "ticks": ""
            },
            "colorscale": [
             [
              0,
              "#0d0887"
             ],
             [
              0.1111111111111111,
              "#46039f"
             ],
             [
              0.2222222222222222,
              "#7201a8"
             ],
             [
              0.3333333333333333,
              "#9c179e"
             ],
             [
              0.4444444444444444,
              "#bd3786"
             ],
             [
              0.5555555555555556,
              "#d8576b"
             ],
             [
              0.6666666666666666,
              "#ed7953"
             ],
             [
              0.7777777777777778,
              "#fb9f3a"
             ],
             [
              0.8888888888888888,
              "#fdca26"
             ],
             [
              1,
              "#f0f921"
             ]
            ],
            "type": "surface"
           }
          ],
          "table": [
           {
            "cells": {
             "fill": {
              "color": "#EBF0F8"
             },
             "line": {
              "color": "white"
             }
            },
            "header": {
             "fill": {
              "color": "#C8D4E3"
             },
             "line": {
              "color": "white"
             }
            },
            "type": "table"
           }
          ]
         },
         "layout": {
          "annotationdefaults": {
           "arrowcolor": "#2a3f5f",
           "arrowhead": 0,
           "arrowwidth": 1
          },
          "coloraxis": {
           "colorbar": {
            "outlinewidth": 0,
            "ticks": ""
           }
          },
          "colorscale": {
           "diverging": [
            [
             0,
             "#8e0152"
            ],
            [
             0.1,
             "#c51b7d"
            ],
            [
             0.2,
             "#de77ae"
            ],
            [
             0.3,
             "#f1b6da"
            ],
            [
             0.4,
             "#fde0ef"
            ],
            [
             0.5,
             "#f7f7f7"
            ],
            [
             0.6,
             "#e6f5d0"
            ],
            [
             0.7,
             "#b8e186"
            ],
            [
             0.8,
             "#7fbc41"
            ],
            [
             0.9,
             "#4d9221"
            ],
            [
             1,
             "#276419"
            ]
           ],
           "sequential": [
            [
             0,
             "#0d0887"
            ],
            [
             0.1111111111111111,
             "#46039f"
            ],
            [
             0.2222222222222222,
             "#7201a8"
            ],
            [
             0.3333333333333333,
             "#9c179e"
            ],
            [
             0.4444444444444444,
             "#bd3786"
            ],
            [
             0.5555555555555556,
             "#d8576b"
            ],
            [
             0.6666666666666666,
             "#ed7953"
            ],
            [
             0.7777777777777778,
             "#fb9f3a"
            ],
            [
             0.8888888888888888,
             "#fdca26"
            ],
            [
             1,
             "#f0f921"
            ]
           ],
           "sequentialminus": [
            [
             0,
             "#0d0887"
            ],
            [
             0.1111111111111111,
             "#46039f"
            ],
            [
             0.2222222222222222,
             "#7201a8"
            ],
            [
             0.3333333333333333,
             "#9c179e"
            ],
            [
             0.4444444444444444,
             "#bd3786"
            ],
            [
             0.5555555555555556,
             "#d8576b"
            ],
            [
             0.6666666666666666,
             "#ed7953"
            ],
            [
             0.7777777777777778,
             "#fb9f3a"
            ],
            [
             0.8888888888888888,
             "#fdca26"
            ],
            [
             1,
             "#f0f921"
            ]
           ]
          },
          "colorway": [
           "#636efa",
           "#EF553B",
           "#00cc96",
           "#ab63fa",
           "#FFA15A",
           "#19d3f3",
           "#FF6692",
           "#B6E880",
           "#FF97FF",
           "#FECB52"
          ],
          "font": {
           "color": "#2a3f5f"
          },
          "geo": {
           "bgcolor": "white",
           "lakecolor": "white",
           "landcolor": "#E5ECF6",
           "showlakes": true,
           "showland": true,
           "subunitcolor": "white"
          },
          "hoverlabel": {
           "align": "left"
          },
          "hovermode": "closest",
          "mapbox": {
           "style": "light"
          },
          "paper_bgcolor": "white",
          "plot_bgcolor": "#E5ECF6",
          "polar": {
           "angularaxis": {
            "gridcolor": "white",
            "linecolor": "white",
            "ticks": ""
           },
           "bgcolor": "#E5ECF6",
           "radialaxis": {
            "gridcolor": "white",
            "linecolor": "white",
            "ticks": ""
           }
          },
          "scene": {
           "xaxis": {
            "backgroundcolor": "#E5ECF6",
            "gridcolor": "white",
            "gridwidth": 2,
            "linecolor": "white",
            "showbackground": true,
            "ticks": "",
            "zerolinecolor": "white"
           },
           "yaxis": {
            "backgroundcolor": "#E5ECF6",
            "gridcolor": "white",
            "gridwidth": 2,
            "linecolor": "white",
            "showbackground": true,
            "ticks": "",
            "zerolinecolor": "white"
           },
           "zaxis": {
            "backgroundcolor": "#E5ECF6",
            "gridcolor": "white",
            "gridwidth": 2,
            "linecolor": "white",
            "showbackground": true,
            "ticks": "",
            "zerolinecolor": "white"
           }
          },
          "shapedefaults": {
           "line": {
            "color": "#2a3f5f"
           }
          },
          "ternary": {
           "aaxis": {
            "gridcolor": "white",
            "linecolor": "white",
            "ticks": ""
           },
           "baxis": {
            "gridcolor": "white",
            "linecolor": "white",
            "ticks": ""
           },
           "bgcolor": "#E5ECF6",
           "caxis": {
            "gridcolor": "white",
            "linecolor": "white",
            "ticks": ""
           }
          },
          "title": {
           "x": 0.05
          },
          "xaxis": {
           "automargin": true,
           "gridcolor": "white",
           "linecolor": "white",
           "ticks": "",
           "title": {
            "standoff": 15
           },
           "zerolinecolor": "white",
           "zerolinewidth": 2
          },
          "yaxis": {
           "automargin": true,
           "gridcolor": "white",
           "linecolor": "white",
           "ticks": "",
           "title": {
            "standoff": 15
           },
           "zerolinecolor": "white",
           "zerolinewidth": 2
          }
         }
        },
        "title": {
         "text": "Receiver operating characteristic example"
        },
        "xaxis": {
         "title": {
          "text": "False Positive Rate"
         }
        },
        "yaxis": {
         "title": {
          "text": "True Positive Rate"
         }
        }
       }
      }
     },
     "metadata": {}
    }
   ],
   "source": [
    "dir = x_test_df.dir.values\n",
    "length = len(dir.flatten())\n",
    "#ty_test.numpy().shape\n",
    "mpl.plotRoc(ty_test.numpy(), dir.flatten())"
   ]
  },
  {
   "cell_type": "code",
   "execution_count": 64,
   "metadata": {},
   "outputs": [
    {
     "output_type": "display_data",
     "data": {
      "application/vnd.plotly.v1+json": {
       "config": {
        "plotlyServerURL": "https://plot.ly"
       },
       "data": [
        {
         "line": {
          "color": "darkorange",
          "width": 2
         },
         "mode": "lines",
         "name": "ROC curve (area = 0.46)",
         "type": "scatter",
         "x": [
          0,
          0,
          0,
          0.0045662100456621,
          0.0045662100456621,
          0.0319634703196347,
          0.0319634703196347,
          0.0410958904109589,
          0.0410958904109589,
          0.0502283105022831,
          0.0502283105022831,
          0.0547945205479452,
          0.0547945205479452,
          0.0593607305936073,
          0.0593607305936073,
          0.0639269406392694,
          0.0639269406392694,
          0.0684931506849315,
          0.0684931506849315,
          0.0776255707762557,
          0.0776255707762557,
          0.0821917808219178,
          0.0821917808219178,
          0.0867579908675799,
          0.0867579908675799,
          0.091324200913242,
          0.091324200913242,
          0.1004566210045662,
          0.1004566210045662,
          0.1050228310502283,
          0.1050228310502283,
          0.1187214611872146,
          0.1187214611872146,
          0.1232876712328767,
          0.1232876712328767,
          0.136986301369863,
          0.136986301369863,
          0.1415525114155251,
          0.1415525114155251,
          0.1506849315068493,
          0.1506849315068493,
          0.1552511415525114,
          0.1552511415525114,
          0.1689497716894977,
          0.1689497716894977,
          0.1917808219178082,
          0.1917808219178082,
          0.1963470319634703,
          0.1963470319634703,
          0.2054794520547945,
          0.2054794520547945,
          0.2100456621004566,
          0.2100456621004566,
          0.228310502283105,
          0.228310502283105,
          0.2374429223744292,
          0.2374429223744292,
          0.2511415525114155,
          0.2511415525114155,
          0.2648401826484018,
          0.2648401826484018,
          0.3013698630136986,
          0.3013698630136986,
          0.3059360730593607,
          0.3059360730593607,
          0.3105022831050228,
          0.3105022831050228,
          0.319634703196347,
          0.319634703196347,
          0.3378995433789954,
          0.3378995433789954,
          0.3424657534246575,
          0.3424657534246575,
          0.3561643835616438,
          0.3561643835616438,
          0.3607305936073059,
          0.3607305936073059,
          0.3744292237442922,
          0.3744292237442922,
          0.3789954337899543,
          0.3789954337899543,
          0.3972602739726027,
          0.3972602739726027,
          0.410958904109589,
          0.410958904109589,
          0.4155251141552511,
          0.4155251141552511,
          0.4246575342465753,
          0.4246575342465753,
          0.4292237442922374,
          0.4292237442922374,
          0.4383561643835616,
          0.4383561643835616,
          0.4429223744292237,
          0.4429223744292237,
          0.4474885844748858,
          0.4474885844748858,
          0.45662100456621,
          0.45662100456621,
          0.4931506849315068,
          0.4931506849315068,
          0.502283105022831,
          0.502283105022831,
          0.5068493150684932,
          0.5068493150684932,
          0.5114155251141552,
          0.5114155251141552,
          0.5205479452054794,
          0.5205479452054794,
          0.5251141552511416,
          0.5251141552511416,
          0.547945205479452,
          0.547945205479452,
          0.5707762557077626,
          0.5707762557077626,
          0.5753424657534246,
          0.5753424657534246,
          0.5799086757990868,
          0.5799086757990868,
          0.593607305936073,
          0.593607305936073,
          0.5981735159817352,
          0.5981735159817352,
          0.6073059360730594,
          0.6073059360730594,
          0.6118721461187214,
          0.6118721461187214,
          0.6210045662100456,
          0.6210045662100456,
          0.6255707762557078,
          0.6255707762557078,
          0.634703196347032,
          0.634703196347032,
          0.639269406392694,
          0.639269406392694,
          0.6575342465753424,
          0.6575342465753424,
          0.6621004566210046,
          0.6621004566210046,
          0.6666666666666666,
          0.6666666666666666,
          0.6712328767123288,
          0.6712328767123288,
          0.7168949771689498,
          0.7168949771689498,
          0.730593607305936,
          0.730593607305936,
          0.7351598173515982,
          0.7351598173515982,
          0.7442922374429224,
          0.7442922374429224,
          0.7579908675799086,
          0.7579908675799086,
          0.7625570776255708,
          0.7625570776255708,
          0.771689497716895,
          0.771689497716895,
          0.776255707762557,
          0.776255707762557,
          0.7853881278538812,
          0.7853881278538812,
          0.7899543378995434,
          0.7899543378995434,
          0.7945205479452054,
          0.7945205479452054,
          0.8036529680365296,
          0.8036529680365296,
          0.8082191780821918,
          0.8082191780821918,
          0.8127853881278538,
          0.8127853881278538,
          0.817351598173516,
          0.817351598173516,
          0.8310502283105022,
          0.8310502283105022,
          0.8493150684931506,
          0.8493150684931506,
          0.8584474885844748,
          0.8584474885844748,
          0.867579908675799,
          0.867579908675799,
          0.8812785388127854,
          0.8812785388127854,
          0.8858447488584474,
          0.8858447488584474,
          0.8904109589041096,
          0.8904109589041096,
          0.8949771689497716,
          0.8949771689497716,
          0.8995433789954338,
          0.8995433789954338,
          0.9041095890410958,
          0.9041095890410958,
          0.908675799086758,
          0.908675799086758,
          0.91324200913242,
          0.91324200913242,
          0.9497716894977168,
          0.9497716894977168,
          0.954337899543379,
          0.954337899543379,
          0.9680365296803652,
          0.9680365296803652,
          0.9817351598173516,
          0.9817351598173516,
          0.9908675799086758,
          0.9908675799086758,
          1,
          1
         ],
         "y": [
          0,
          0.005434782608695652,
          0.016304347826086956,
          0.016304347826086956,
          0.021739130434782608,
          0.021739130434782608,
          0.03260869565217391,
          0.03260869565217391,
          0.043478260869565216,
          0.043478260869565216,
          0.04891304347826087,
          0.04891304347826087,
          0.05434782608695652,
          0.05434782608695652,
          0.059782608695652176,
          0.059782608695652176,
          0.06521739130434782,
          0.06521739130434782,
          0.07065217391304347,
          0.07065217391304347,
          0.07608695652173914,
          0.07608695652173914,
          0.08152173913043478,
          0.08152173913043478,
          0.08695652173913043,
          0.08695652173913043,
          0.09782608695652174,
          0.09782608695652174,
          0.10326086956521739,
          0.10326086956521739,
          0.10869565217391304,
          0.10869565217391304,
          0.11413043478260869,
          0.11413043478260869,
          0.11956521739130435,
          0.11956521739130435,
          0.1358695652173913,
          0.1358695652173913,
          0.14673913043478262,
          0.14673913043478262,
          0.15217391304347827,
          0.15217391304347827,
          0.15760869565217392,
          0.15760869565217392,
          0.16304347826086957,
          0.16304347826086957,
          0.1956521739130435,
          0.1956521739130435,
          0.20652173913043478,
          0.20652173913043478,
          0.21195652173913043,
          0.21195652173913043,
          0.21739130434782608,
          0.21739130434782608,
          0.23369565217391305,
          0.23369565217391305,
          0.24456521739130435,
          0.24456521739130435,
          0.25,
          0.25,
          0.2554347826086957,
          0.2554347826086957,
          0.266304347826087,
          0.266304347826087,
          0.2826086956521739,
          0.2826086956521739,
          0.30434782608695654,
          0.30434782608695654,
          0.30978260869565216,
          0.30978260869565216,
          0.31521739130434784,
          0.31521739130434784,
          0.32065217391304346,
          0.32065217391304346,
          0.32608695652173914,
          0.32608695652173914,
          0.33152173913043476,
          0.33152173913043476,
          0.3532608695652174,
          0.3532608695652174,
          0.358695652173913,
          0.358695652173913,
          0.375,
          0.375,
          0.3804347826086957,
          0.3804347826086957,
          0.3858695652173913,
          0.3858695652173913,
          0.391304347826087,
          0.391304347826087,
          0.3967391304347826,
          0.3967391304347826,
          0.40217391304347827,
          0.40217391304347827,
          0.4076086956521739,
          0.4076086956521739,
          0.41847826086956524,
          0.41847826086956524,
          0.42391304347826086,
          0.42391304347826086,
          0.44021739130434784,
          0.44021739130434784,
          0.44565217391304346,
          0.44565217391304346,
          0.45108695652173914,
          0.45108695652173914,
          0.4673913043478261,
          0.4673913043478261,
          0.4782608695652174,
          0.4782608695652174,
          0.483695652173913,
          0.483695652173913,
          0.4891304347826087,
          0.4891304347826087,
          0.4945652173913043,
          0.4945652173913043,
          0.5054347826086957,
          0.5054347826086957,
          0.5108695652173914,
          0.5108695652173914,
          0.5163043478260869,
          0.5163043478260869,
          0.5217391304347826,
          0.5217391304347826,
          0.5271739130434783,
          0.5271739130434783,
          0.532608695652174,
          0.532608695652174,
          0.5380434782608695,
          0.5380434782608695,
          0.5434782608695652,
          0.5434782608695652,
          0.5543478260869565,
          0.5543478260869565,
          0.5597826086956522,
          0.5597826086956522,
          0.5815217391304348,
          0.5815217391304348,
          0.5869565217391305,
          0.5869565217391305,
          0.592391304347826,
          0.592391304347826,
          0.5978260869565217,
          0.5978260869565217,
          0.6086956521739131,
          0.6086956521739131,
          0.625,
          0.625,
          0.6304347826086957,
          0.6304347826086957,
          0.6358695652173914,
          0.6358695652173914,
          0.6413043478260869,
          0.6413043478260869,
          0.6467391304347826,
          0.6467391304347826,
          0.657608695652174,
          0.657608695652174,
          0.6630434782608695,
          0.6630434782608695,
          0.6793478260869565,
          0.6793478260869565,
          0.6847826086956522,
          0.6847826086956522,
          0.717391304347826,
          0.717391304347826,
          0.7228260869565217,
          0.7228260869565217,
          0.7282608695652174,
          0.7282608695652174,
          0.7336956521739131,
          0.7336956521739131,
          0.7391304347826086,
          0.7391304347826086,
          0.7608695652173914,
          0.7608695652173914,
          0.7717391304347826,
          0.7717391304347826,
          0.7989130434782609,
          0.7989130434782609,
          0.8043478260869565,
          0.8043478260869565,
          0.8260869565217391,
          0.8260869565217391,
          0.8315217391304348,
          0.8315217391304348,
          0.8369565217391305,
          0.8369565217391305,
          0.8804347826086957,
          0.8804347826086957,
          0.8858695652173914,
          0.8858695652173914,
          0.8967391304347826,
          0.8967391304347826,
          0.9021739130434783,
          0.9021739130434783,
          0.9239130434782609,
          0.9239130434782609,
          0.9402173913043478,
          0.9402173913043478,
          0.9456521739130435,
          0.9456521739130435,
          0.9510869565217391,
          0.9510869565217391,
          0.9728260869565217,
          0.9728260869565217,
          0.9782608695652174,
          0.9782608695652174,
          1
         ]
        },
        {
         "line": {
          "color": "navy",
          "dash": "dash",
          "width": 2
         },
         "mode": "lines",
         "showlegend": false,
         "type": "scatter",
         "x": [
          0,
          1
         ],
         "y": [
          0,
          1
         ]
        }
       ],
       "layout": {
        "template": {
         "data": {
          "bar": [
           {
            "error_x": {
             "color": "#2a3f5f"
            },
            "error_y": {
             "color": "#2a3f5f"
            },
            "marker": {
             "line": {
              "color": "#E5ECF6",
              "width": 0.5
             }
            },
            "type": "bar"
           }
          ],
          "barpolar": [
           {
            "marker": {
             "line": {
              "color": "#E5ECF6",
              "width": 0.5
             }
            },
            "type": "barpolar"
           }
          ],
          "carpet": [
           {
            "aaxis": {
             "endlinecolor": "#2a3f5f",
             "gridcolor": "white",
             "linecolor": "white",
             "minorgridcolor": "white",
             "startlinecolor": "#2a3f5f"
            },
            "baxis": {
             "endlinecolor": "#2a3f5f",
             "gridcolor": "white",
             "linecolor": "white",
             "minorgridcolor": "white",
             "startlinecolor": "#2a3f5f"
            },
            "type": "carpet"
           }
          ],
          "choropleth": [
           {
            "colorbar": {
             "outlinewidth": 0,
             "ticks": ""
            },
            "type": "choropleth"
           }
          ],
          "contour": [
           {
            "colorbar": {
             "outlinewidth": 0,
             "ticks": ""
            },
            "colorscale": [
             [
              0,
              "#0d0887"
             ],
             [
              0.1111111111111111,
              "#46039f"
             ],
             [
              0.2222222222222222,
              "#7201a8"
             ],
             [
              0.3333333333333333,
              "#9c179e"
             ],
             [
              0.4444444444444444,
              "#bd3786"
             ],
             [
              0.5555555555555556,
              "#d8576b"
             ],
             [
              0.6666666666666666,
              "#ed7953"
             ],
             [
              0.7777777777777778,
              "#fb9f3a"
             ],
             [
              0.8888888888888888,
              "#fdca26"
             ],
             [
              1,
              "#f0f921"
             ]
            ],
            "type": "contour"
           }
          ],
          "contourcarpet": [
           {
            "colorbar": {
             "outlinewidth": 0,
             "ticks": ""
            },
            "type": "contourcarpet"
           }
          ],
          "heatmap": [
           {
            "colorbar": {
             "outlinewidth": 0,
             "ticks": ""
            },
            "colorscale": [
             [
              0,
              "#0d0887"
             ],
             [
              0.1111111111111111,
              "#46039f"
             ],
             [
              0.2222222222222222,
              "#7201a8"
             ],
             [
              0.3333333333333333,
              "#9c179e"
             ],
             [
              0.4444444444444444,
              "#bd3786"
             ],
             [
              0.5555555555555556,
              "#d8576b"
             ],
             [
              0.6666666666666666,
              "#ed7953"
             ],
             [
              0.7777777777777778,
              "#fb9f3a"
             ],
             [
              0.8888888888888888,
              "#fdca26"
             ],
             [
              1,
              "#f0f921"
             ]
            ],
            "type": "heatmap"
           }
          ],
          "heatmapgl": [
           {
            "colorbar": {
             "outlinewidth": 0,
             "ticks": ""
            },
            "colorscale": [
             [
              0,
              "#0d0887"
             ],
             [
              0.1111111111111111,
              "#46039f"
             ],
             [
              0.2222222222222222,
              "#7201a8"
             ],
             [
              0.3333333333333333,
              "#9c179e"
             ],
             [
              0.4444444444444444,
              "#bd3786"
             ],
             [
              0.5555555555555556,
              "#d8576b"
             ],
             [
              0.6666666666666666,
              "#ed7953"
             ],
             [
              0.7777777777777778,
              "#fb9f3a"
             ],
             [
              0.8888888888888888,
              "#fdca26"
             ],
             [
              1,
              "#f0f921"
             ]
            ],
            "type": "heatmapgl"
           }
          ],
          "histogram": [
           {
            "marker": {
             "colorbar": {
              "outlinewidth": 0,
              "ticks": ""
             }
            },
            "type": "histogram"
           }
          ],
          "histogram2d": [
           {
            "colorbar": {
             "outlinewidth": 0,
             "ticks": ""
            },
            "colorscale": [
             [
              0,
              "#0d0887"
             ],
             [
              0.1111111111111111,
              "#46039f"
             ],
             [
              0.2222222222222222,
              "#7201a8"
             ],
             [
              0.3333333333333333,
              "#9c179e"
             ],
             [
              0.4444444444444444,
              "#bd3786"
             ],
             [
              0.5555555555555556,
              "#d8576b"
             ],
             [
              0.6666666666666666,
              "#ed7953"
             ],
             [
              0.7777777777777778,
              "#fb9f3a"
             ],
             [
              0.8888888888888888,
              "#fdca26"
             ],
             [
              1,
              "#f0f921"
             ]
            ],
            "type": "histogram2d"
           }
          ],
          "histogram2dcontour": [
           {
            "colorbar": {
             "outlinewidth": 0,
             "ticks": ""
            },
            "colorscale": [
             [
              0,
              "#0d0887"
             ],
             [
              0.1111111111111111,
              "#46039f"
             ],
             [
              0.2222222222222222,
              "#7201a8"
             ],
             [
              0.3333333333333333,
              "#9c179e"
             ],
             [
              0.4444444444444444,
              "#bd3786"
             ],
             [
              0.5555555555555556,
              "#d8576b"
             ],
             [
              0.6666666666666666,
              "#ed7953"
             ],
             [
              0.7777777777777778,
              "#fb9f3a"
             ],
             [
              0.8888888888888888,
              "#fdca26"
             ],
             [
              1,
              "#f0f921"
             ]
            ],
            "type": "histogram2dcontour"
           }
          ],
          "mesh3d": [
           {
            "colorbar": {
             "outlinewidth": 0,
             "ticks": ""
            },
            "type": "mesh3d"
           }
          ],
          "parcoords": [
           {
            "line": {
             "colorbar": {
              "outlinewidth": 0,
              "ticks": ""
             }
            },
            "type": "parcoords"
           }
          ],
          "pie": [
           {
            "automargin": true,
            "type": "pie"
           }
          ],
          "scatter": [
           {
            "marker": {
             "colorbar": {
              "outlinewidth": 0,
              "ticks": ""
             }
            },
            "type": "scatter"
           }
          ],
          "scatter3d": [
           {
            "line": {
             "colorbar": {
              "outlinewidth": 0,
              "ticks": ""
             }
            },
            "marker": {
             "colorbar": {
              "outlinewidth": 0,
              "ticks": ""
             }
            },
            "type": "scatter3d"
           }
          ],
          "scattercarpet": [
           {
            "marker": {
             "colorbar": {
              "outlinewidth": 0,
              "ticks": ""
             }
            },
            "type": "scattercarpet"
           }
          ],
          "scattergeo": [
           {
            "marker": {
             "colorbar": {
              "outlinewidth": 0,
              "ticks": ""
             }
            },
            "type": "scattergeo"
           }
          ],
          "scattergl": [
           {
            "marker": {
             "colorbar": {
              "outlinewidth": 0,
              "ticks": ""
             }
            },
            "type": "scattergl"
           }
          ],
          "scattermapbox": [
           {
            "marker": {
             "colorbar": {
              "outlinewidth": 0,
              "ticks": ""
             }
            },
            "type": "scattermapbox"
           }
          ],
          "scatterpolar": [
           {
            "marker": {
             "colorbar": {
              "outlinewidth": 0,
              "ticks": ""
             }
            },
            "type": "scatterpolar"
           }
          ],
          "scatterpolargl": [
           {
            "marker": {
             "colorbar": {
              "outlinewidth": 0,
              "ticks": ""
             }
            },
            "type": "scatterpolargl"
           }
          ],
          "scatterternary": [
           {
            "marker": {
             "colorbar": {
              "outlinewidth": 0,
              "ticks": ""
             }
            },
            "type": "scatterternary"
           }
          ],
          "surface": [
           {
            "colorbar": {
             "outlinewidth": 0,
             "ticks": ""
            },
            "colorscale": [
             [
              0,
              "#0d0887"
             ],
             [
              0.1111111111111111,
              "#46039f"
             ],
             [
              0.2222222222222222,
              "#7201a8"
             ],
             [
              0.3333333333333333,
              "#9c179e"
             ],
             [
              0.4444444444444444,
              "#bd3786"
             ],
             [
              0.5555555555555556,
              "#d8576b"
             ],
             [
              0.6666666666666666,
              "#ed7953"
             ],
             [
              0.7777777777777778,
              "#fb9f3a"
             ],
             [
              0.8888888888888888,
              "#fdca26"
             ],
             [
              1,
              "#f0f921"
             ]
            ],
            "type": "surface"
           }
          ],
          "table": [
           {
            "cells": {
             "fill": {
              "color": "#EBF0F8"
             },
             "line": {
              "color": "white"
             }
            },
            "header": {
             "fill": {
              "color": "#C8D4E3"
             },
             "line": {
              "color": "white"
             }
            },
            "type": "table"
           }
          ]
         },
         "layout": {
          "annotationdefaults": {
           "arrowcolor": "#2a3f5f",
           "arrowhead": 0,
           "arrowwidth": 1
          },
          "coloraxis": {
           "colorbar": {
            "outlinewidth": 0,
            "ticks": ""
           }
          },
          "colorscale": {
           "diverging": [
            [
             0,
             "#8e0152"
            ],
            [
             0.1,
             "#c51b7d"
            ],
            [
             0.2,
             "#de77ae"
            ],
            [
             0.3,
             "#f1b6da"
            ],
            [
             0.4,
             "#fde0ef"
            ],
            [
             0.5,
             "#f7f7f7"
            ],
            [
             0.6,
             "#e6f5d0"
            ],
            [
             0.7,
             "#b8e186"
            ],
            [
             0.8,
             "#7fbc41"
            ],
            [
             0.9,
             "#4d9221"
            ],
            [
             1,
             "#276419"
            ]
           ],
           "sequential": [
            [
             0,
             "#0d0887"
            ],
            [
             0.1111111111111111,
             "#46039f"
            ],
            [
             0.2222222222222222,
             "#7201a8"
            ],
            [
             0.3333333333333333,
             "#9c179e"
            ],
            [
             0.4444444444444444,
             "#bd3786"
            ],
            [
             0.5555555555555556,
             "#d8576b"
            ],
            [
             0.6666666666666666,
             "#ed7953"
            ],
            [
             0.7777777777777778,
             "#fb9f3a"
            ],
            [
             0.8888888888888888,
             "#fdca26"
            ],
            [
             1,
             "#f0f921"
            ]
           ],
           "sequentialminus": [
            [
             0,
             "#0d0887"
            ],
            [
             0.1111111111111111,
             "#46039f"
            ],
            [
             0.2222222222222222,
             "#7201a8"
            ],
            [
             0.3333333333333333,
             "#9c179e"
            ],
            [
             0.4444444444444444,
             "#bd3786"
            ],
            [
             0.5555555555555556,
             "#d8576b"
            ],
            [
             0.6666666666666666,
             "#ed7953"
            ],
            [
             0.7777777777777778,
             "#fb9f3a"
            ],
            [
             0.8888888888888888,
             "#fdca26"
            ],
            [
             1,
             "#f0f921"
            ]
           ]
          },
          "colorway": [
           "#636efa",
           "#EF553B",
           "#00cc96",
           "#ab63fa",
           "#FFA15A",
           "#19d3f3",
           "#FF6692",
           "#B6E880",
           "#FF97FF",
           "#FECB52"
          ],
          "font": {
           "color": "#2a3f5f"
          },
          "geo": {
           "bgcolor": "white",
           "lakecolor": "white",
           "landcolor": "#E5ECF6",
           "showlakes": true,
           "showland": true,
           "subunitcolor": "white"
          },
          "hoverlabel": {
           "align": "left"
          },
          "hovermode": "closest",
          "mapbox": {
           "style": "light"
          },
          "paper_bgcolor": "white",
          "plot_bgcolor": "#E5ECF6",
          "polar": {
           "angularaxis": {
            "gridcolor": "white",
            "linecolor": "white",
            "ticks": ""
           },
           "bgcolor": "#E5ECF6",
           "radialaxis": {
            "gridcolor": "white",
            "linecolor": "white",
            "ticks": ""
           }
          },
          "scene": {
           "xaxis": {
            "backgroundcolor": "#E5ECF6",
            "gridcolor": "white",
            "gridwidth": 2,
            "linecolor": "white",
            "showbackground": true,
            "ticks": "",
            "zerolinecolor": "white"
           },
           "yaxis": {
            "backgroundcolor": "#E5ECF6",
            "gridcolor": "white",
            "gridwidth": 2,
            "linecolor": "white",
            "showbackground": true,
            "ticks": "",
            "zerolinecolor": "white"
           },
           "zaxis": {
            "backgroundcolor": "#E5ECF6",
            "gridcolor": "white",
            "gridwidth": 2,
            "linecolor": "white",
            "showbackground": true,
            "ticks": "",
            "zerolinecolor": "white"
           }
          },
          "shapedefaults": {
           "line": {
            "color": "#2a3f5f"
           }
          },
          "ternary": {
           "aaxis": {
            "gridcolor": "white",
            "linecolor": "white",
            "ticks": ""
           },
           "baxis": {
            "gridcolor": "white",
            "linecolor": "white",
            "ticks": ""
           },
           "bgcolor": "#E5ECF6",
           "caxis": {
            "gridcolor": "white",
            "linecolor": "white",
            "ticks": ""
           }
          },
          "title": {
           "x": 0.05
          },
          "xaxis": {
           "automargin": true,
           "gridcolor": "white",
           "linecolor": "white",
           "ticks": "",
           "title": {
            "standoff": 15
           },
           "zerolinecolor": "white",
           "zerolinewidth": 2
          },
          "yaxis": {
           "automargin": true,
           "gridcolor": "white",
           "linecolor": "white",
           "ticks": "",
           "title": {
            "standoff": 15
           },
           "zerolinecolor": "white",
           "zerolinewidth": 2
          }
         }
        },
        "title": {
         "text": "Receiver operating characteristic example"
        },
        "xaxis": {
         "title": {
          "text": "False Positive Rate"
         }
        },
        "yaxis": {
         "title": {
          "text": "True Positive Rate"
         }
        }
       }
      }
     },
     "metadata": {}
    }
   ],
   "source": [
    "random_predict = np.random.uniform(-1,0,length)\n",
    "mpl.plotRoc(ty_test.numpy(), random_predict)"
   ]
  },
  {
   "cell_type": "code",
   "execution_count": 66,
   "metadata": {},
   "outputs": [
    {
     "output_type": "execute_result",
     "data": {
      "text/plain": "     dir      pred    y\n77  -1.0  0.401234  0.0\n162 -1.0  0.331771  0.0\n191  1.0  0.381621  0.0\n200  1.0  0.317177  0.0\n219 -1.0  0.277780  0.0\n..   ...       ...  ...\n198 -1.0  0.290495  0.0\n210  1.0  0.277293  0.0\n212 -1.0  0.274960  0.0\n230 -1.0  0.265975  0.0\n239 -1.0  0.246960  0.0\n\n[219 rows x 3 columns]",
      "text/html": "<div>\n<style scoped>\n    .dataframe tbody tr th:only-of-type {\n        vertical-align: middle;\n    }\n\n    .dataframe tbody tr th {\n        vertical-align: top;\n    }\n\n    .dataframe thead th {\n        text-align: right;\n    }\n</style>\n<table border=\"1\" class=\"dataframe\">\n  <thead>\n    <tr style=\"text-align: right;\">\n      <th></th>\n      <th>dir</th>\n      <th>pred</th>\n      <th>y</th>\n    </tr>\n  </thead>\n  <tbody>\n    <tr>\n      <th>77</th>\n      <td>-1.0</td>\n      <td>0.401234</td>\n      <td>0.0</td>\n    </tr>\n    <tr>\n      <th>162</th>\n      <td>-1.0</td>\n      <td>0.331771</td>\n      <td>0.0</td>\n    </tr>\n    <tr>\n      <th>191</th>\n      <td>1.0</td>\n      <td>0.381621</td>\n      <td>0.0</td>\n    </tr>\n    <tr>\n      <th>200</th>\n      <td>1.0</td>\n      <td>0.317177</td>\n      <td>0.0</td>\n    </tr>\n    <tr>\n      <th>219</th>\n      <td>-1.0</td>\n      <td>0.277780</td>\n      <td>0.0</td>\n    </tr>\n    <tr>\n      <th>...</th>\n      <td>...</td>\n      <td>...</td>\n      <td>...</td>\n    </tr>\n    <tr>\n      <th>198</th>\n      <td>-1.0</td>\n      <td>0.290495</td>\n      <td>0.0</td>\n    </tr>\n    <tr>\n      <th>210</th>\n      <td>1.0</td>\n      <td>0.277293</td>\n      <td>0.0</td>\n    </tr>\n    <tr>\n      <th>212</th>\n      <td>-1.0</td>\n      <td>0.274960</td>\n      <td>0.0</td>\n    </tr>\n    <tr>\n      <th>230</th>\n      <td>-1.0</td>\n      <td>0.265975</td>\n      <td>0.0</td>\n    </tr>\n    <tr>\n      <th>239</th>\n      <td>-1.0</td>\n      <td>0.246960</td>\n      <td>0.0</td>\n    </tr>\n  </tbody>\n</table>\n<p>219 rows × 3 columns</p>\n</div>"
     },
     "metadata": {},
     "execution_count": 66
    }
   ],
   "source": [
    "x_test_df['pred'] = y_prob\n",
    "x_test_df['y'] = ty_test.numpy()\n",
    "f = x_test_df.dir != x_test_df.y\n",
    "x_test_df[f][['dir', 'pred', 'y']]\n",
    "f2 = x_test_df[f][['dir', 'pred', 'y']].y == 0\n",
    "x_test_df[f][['dir', 'pred', 'y']][f2]"
   ]
  },
  {
   "cell_type": "code",
   "execution_count": 67,
   "metadata": {},
   "outputs": [
    {
     "output_type": "execute_result",
     "data": {
      "text/plain": "     dir      pred    y\n85   1.0  1.000000  1.0\n44   1.0  0.501015  1.0\n304  1.0  1.000000  1.0\n309 -1.0  1.000000  1.0\n35  -1.0  0.571680  1.0\n36   1.0  0.586312  0.0\n64  -1.0  0.632428  1.0\n89   1.0  0.510790  1.0\n4    1.0  0.535598  0.0\n11  -1.0  0.501270  1.0\n13   1.0  0.507392  0.0\n24  -1.0  0.524438  0.0\n29  -1.0  0.649386  1.0\n24  -1.0  0.517896  0.0\n11  -1.0  0.986683  0.0\n33  -1.0  0.926844  1.0\n75  -1.0  0.675817  1.0\n9   -1.0  0.906716  0.0\n27  -1.0  0.554542  1.0\n250  1.0  1.000000  0.0\n251 -1.0  1.000000  0.0\n303  1.0  1.000000  0.0\n306 -1.0  1.000000  1.0\n46  -1.0  0.547449  1.0\n47   1.0  0.549714  0.0\n51  -1.0  0.519729  0.0\n60   1.0  0.543353  1.0\n7    1.0  0.507463  0.0\n26   1.0  0.554351  0.0\n40  -1.0  0.500724  1.0\n122  1.0  0.605566  0.0\n20   1.0  0.510625  0.0\n21  -1.0  0.510102  1.0\n24   1.0  0.507182  0.0\n26  -1.0  0.505770  1.0",
      "text/html": "<div>\n<style scoped>\n    .dataframe tbody tr th:only-of-type {\n        vertical-align: middle;\n    }\n\n    .dataframe tbody tr th {\n        vertical-align: top;\n    }\n\n    .dataframe thead th {\n        text-align: right;\n    }\n</style>\n<table border=\"1\" class=\"dataframe\">\n  <thead>\n    <tr style=\"text-align: right;\">\n      <th></th>\n      <th>dir</th>\n      <th>pred</th>\n      <th>y</th>\n    </tr>\n  </thead>\n  <tbody>\n    <tr>\n      <th>85</th>\n      <td>1.0</td>\n      <td>1.000000</td>\n      <td>1.0</td>\n    </tr>\n    <tr>\n      <th>44</th>\n      <td>1.0</td>\n      <td>0.501015</td>\n      <td>1.0</td>\n    </tr>\n    <tr>\n      <th>304</th>\n      <td>1.0</td>\n      <td>1.000000</td>\n      <td>1.0</td>\n    </tr>\n    <tr>\n      <th>309</th>\n      <td>-1.0</td>\n      <td>1.000000</td>\n      <td>1.0</td>\n    </tr>\n    <tr>\n      <th>35</th>\n      <td>-1.0</td>\n      <td>0.571680</td>\n      <td>1.0</td>\n    </tr>\n    <tr>\n      <th>36</th>\n      <td>1.0</td>\n      <td>0.586312</td>\n      <td>0.0</td>\n    </tr>\n    <tr>\n      <th>64</th>\n      <td>-1.0</td>\n      <td>0.632428</td>\n      <td>1.0</td>\n    </tr>\n    <tr>\n      <th>89</th>\n      <td>1.0</td>\n      <td>0.510790</td>\n      <td>1.0</td>\n    </tr>\n    <tr>\n      <th>4</th>\n      <td>1.0</td>\n      <td>0.535598</td>\n      <td>0.0</td>\n    </tr>\n    <tr>\n      <th>11</th>\n      <td>-1.0</td>\n      <td>0.501270</td>\n      <td>1.0</td>\n    </tr>\n    <tr>\n      <th>13</th>\n      <td>1.0</td>\n      <td>0.507392</td>\n      <td>0.0</td>\n    </tr>\n    <tr>\n      <th>24</th>\n      <td>-1.0</td>\n      <td>0.524438</td>\n      <td>0.0</td>\n    </tr>\n    <tr>\n      <th>29</th>\n      <td>-1.0</td>\n      <td>0.649386</td>\n      <td>1.0</td>\n    </tr>\n    <tr>\n      <th>24</th>\n      <td>-1.0</td>\n      <td>0.517896</td>\n      <td>0.0</td>\n    </tr>\n    <tr>\n      <th>11</th>\n      <td>-1.0</td>\n      <td>0.986683</td>\n      <td>0.0</td>\n    </tr>\n    <tr>\n      <th>33</th>\n      <td>-1.0</td>\n      <td>0.926844</td>\n      <td>1.0</td>\n    </tr>\n    <tr>\n      <th>75</th>\n      <td>-1.0</td>\n      <td>0.675817</td>\n      <td>1.0</td>\n    </tr>\n    <tr>\n      <th>9</th>\n      <td>-1.0</td>\n      <td>0.906716</td>\n      <td>0.0</td>\n    </tr>\n    <tr>\n      <th>27</th>\n      <td>-1.0</td>\n      <td>0.554542</td>\n      <td>1.0</td>\n    </tr>\n    <tr>\n      <th>250</th>\n      <td>1.0</td>\n      <td>1.000000</td>\n      <td>0.0</td>\n    </tr>\n    <tr>\n      <th>251</th>\n      <td>-1.0</td>\n      <td>1.000000</td>\n      <td>0.0</td>\n    </tr>\n    <tr>\n      <th>303</th>\n      <td>1.0</td>\n      <td>1.000000</td>\n      <td>0.0</td>\n    </tr>\n    <tr>\n      <th>306</th>\n      <td>-1.0</td>\n      <td>1.000000</td>\n      <td>1.0</td>\n    </tr>\n    <tr>\n      <th>46</th>\n      <td>-1.0</td>\n      <td>0.547449</td>\n      <td>1.0</td>\n    </tr>\n    <tr>\n      <th>47</th>\n      <td>1.0</td>\n      <td>0.549714</td>\n      <td>0.0</td>\n    </tr>\n    <tr>\n      <th>51</th>\n      <td>-1.0</td>\n      <td>0.519729</td>\n      <td>0.0</td>\n    </tr>\n    <tr>\n      <th>60</th>\n      <td>1.0</td>\n      <td>0.543353</td>\n      <td>1.0</td>\n    </tr>\n    <tr>\n      <th>7</th>\n      <td>1.0</td>\n      <td>0.507463</td>\n      <td>0.0</td>\n    </tr>\n    <tr>\n      <th>26</th>\n      <td>1.0</td>\n      <td>0.554351</td>\n      <td>0.0</td>\n    </tr>\n    <tr>\n      <th>40</th>\n      <td>-1.0</td>\n      <td>0.500724</td>\n      <td>1.0</td>\n    </tr>\n    <tr>\n      <th>122</th>\n      <td>1.0</td>\n      <td>0.605566</td>\n      <td>0.0</td>\n    </tr>\n    <tr>\n      <th>20</th>\n      <td>1.0</td>\n      <td>0.510625</td>\n      <td>0.0</td>\n    </tr>\n    <tr>\n      <th>21</th>\n      <td>-1.0</td>\n      <td>0.510102</td>\n      <td>1.0</td>\n    </tr>\n    <tr>\n      <th>24</th>\n      <td>1.0</td>\n      <td>0.507182</td>\n      <td>0.0</td>\n    </tr>\n    <tr>\n      <th>26</th>\n      <td>-1.0</td>\n      <td>0.505770</td>\n      <td>1.0</td>\n    </tr>\n  </tbody>\n</table>\n</div>"
     },
     "metadata": {},
     "execution_count": 67
    }
   ],
   "source": [
    "f = x_test_df['pred'] > 0.5\n",
    "x_test_df[f][['dir', 'pred', 'y']]"
   ]
  },
  {
   "cell_type": "code",
   "execution_count": null,
   "metadata": {},
   "outputs": [],
   "source": []
  }
 ]
}