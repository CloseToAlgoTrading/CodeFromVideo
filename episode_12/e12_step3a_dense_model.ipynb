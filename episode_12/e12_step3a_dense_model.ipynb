{
 "nbformat": 4,
 "nbformat_minor": 2,
 "metadata": {
  "language_info": {
   "name": "python",
   "codemirror_mode": {
    "name": "ipython",
    "version": 3
   },
   "version": "3.7.6-final"
  },
  "orig_nbformat": 2,
  "file_extension": ".py",
  "mimetype": "text/x-python",
  "name": "python",
  "npconvert_exporter": "python",
  "pygments_lexer": "ipython3",
  "version": 3,
  "kernelspec": {
   "name": "python37664bit2822b0e59c1b455ba332c9c4454de530",
   "display_name": "Python 3.7.6 64-bit"
  }
 },
 "cells": [
  {
   "cell_type": "markdown",
   "metadata": {},
   "source": [
    "# Train Model"
   ]
  },
  {
   "cell_type": "code",
   "execution_count": 1,
   "metadata": {},
   "outputs": [],
   "source": [
    "from __future__ import absolute_import, division, print_function, unicode_literals\n",
    "import tensorflow as tf\n",
    "\n",
    "import mydatalabeling as mdl\n",
    "import myplotlib as mpl\n",
    "import mytalib as mtal\n",
    "\n",
    "%matplotlib inline\n",
    "import matplotlib.pyplot as plt\n",
    "import plotly.offline as py\n",
    "import plotly.graph_objs as go\n",
    "import plotly.express as px\n",
    "import plotly.figure_factory as ff\n",
    "from plotly.subplots import make_subplots\n",
    "\n",
    "import pandas as pd\n",
    "import numpy as np\n",
    "import multiprocessing as mp"
   ]
  },
  {
   "cell_type": "code",
   "execution_count": 2,
   "metadata": {},
   "outputs": [
    {
     "output_type": "display_data",
     "data": {
      "text/plain": "Index(['Nr', 'date', 'open', 'high', 'low', 'close', 'sum_vol', 'time',\n       'fastma', 'slowema', 'RSI_close_30', 'dir', 'touch_tp', 'cross_idx',\n       'raw_return'],\n      dtype='object')"
     },
     "metadata": {}
    },
    {
     "output_type": "execute_result",
     "data": {
      "text/plain": "   Nr       date    open    high     low   close  sum_vol      time  fastma  \\\n0   0 2017-01-03  0.0000  0.0000 -0.0100  0.0000     1232  09:30:08  0.0000   \n1   5 2017-01-03 -0.0195  0.0400 -0.0195  0.0000     1062  09:30:15  0.0000   \n2  11 2017-01-03 -0.0200 -0.0200 -0.1299 -0.1299     1196  09:31:04 -0.1299   \n3  16 2017-01-03 -0.1102 -0.1092 -0.1102 -0.1092     1066  09:32:07 -0.1092   \n4  18 2017-01-03 -0.1200 -0.0950 -0.1200 -0.0991     1319  09:32:08 -0.0991   \n\n   slowema  RSI_close_30  dir  touch_tp  cross_idx raw_return  \n0   0.0000        0.0000  0.0       0.0        0.0        NaN  \n1   0.0000        0.0000  0.0       0.0        0.0        NaN  \n2  -0.1299       -0.1299  0.0       0.0        0.0        NaN  \n3  -0.1092       -0.1092  0.0       0.0        0.0        NaN  \n4  -0.0991       -0.0991  0.0       0.0        0.0        NaN  ",
      "text/html": "<div>\n<style scoped>\n    .dataframe tbody tr th:only-of-type {\n        vertical-align: middle;\n    }\n\n    .dataframe tbody tr th {\n        vertical-align: top;\n    }\n\n    .dataframe thead th {\n        text-align: right;\n    }\n</style>\n<table border=\"1\" class=\"dataframe\">\n  <thead>\n    <tr style=\"text-align: right;\">\n      <th></th>\n      <th>Nr</th>\n      <th>date</th>\n      <th>open</th>\n      <th>high</th>\n      <th>low</th>\n      <th>close</th>\n      <th>sum_vol</th>\n      <th>time</th>\n      <th>fastma</th>\n      <th>slowema</th>\n      <th>RSI_close_30</th>\n      <th>dir</th>\n      <th>touch_tp</th>\n      <th>cross_idx</th>\n      <th>raw_return</th>\n    </tr>\n  </thead>\n  <tbody>\n    <tr>\n      <th>0</th>\n      <td>0</td>\n      <td>2017-01-03</td>\n      <td>0.0000</td>\n      <td>0.0000</td>\n      <td>-0.0100</td>\n      <td>0.0000</td>\n      <td>1232</td>\n      <td>09:30:08</td>\n      <td>0.0000</td>\n      <td>0.0000</td>\n      <td>0.0000</td>\n      <td>0.0</td>\n      <td>0.0</td>\n      <td>0.0</td>\n      <td>NaN</td>\n    </tr>\n    <tr>\n      <th>1</th>\n      <td>5</td>\n      <td>2017-01-03</td>\n      <td>-0.0195</td>\n      <td>0.0400</td>\n      <td>-0.0195</td>\n      <td>0.0000</td>\n      <td>1062</td>\n      <td>09:30:15</td>\n      <td>0.0000</td>\n      <td>0.0000</td>\n      <td>0.0000</td>\n      <td>0.0</td>\n      <td>0.0</td>\n      <td>0.0</td>\n      <td>NaN</td>\n    </tr>\n    <tr>\n      <th>2</th>\n      <td>11</td>\n      <td>2017-01-03</td>\n      <td>-0.0200</td>\n      <td>-0.0200</td>\n      <td>-0.1299</td>\n      <td>-0.1299</td>\n      <td>1196</td>\n      <td>09:31:04</td>\n      <td>-0.1299</td>\n      <td>-0.1299</td>\n      <td>-0.1299</td>\n      <td>0.0</td>\n      <td>0.0</td>\n      <td>0.0</td>\n      <td>NaN</td>\n    </tr>\n    <tr>\n      <th>3</th>\n      <td>16</td>\n      <td>2017-01-03</td>\n      <td>-0.1102</td>\n      <td>-0.1092</td>\n      <td>-0.1102</td>\n      <td>-0.1092</td>\n      <td>1066</td>\n      <td>09:32:07</td>\n      <td>-0.1092</td>\n      <td>-0.1092</td>\n      <td>-0.1092</td>\n      <td>0.0</td>\n      <td>0.0</td>\n      <td>0.0</td>\n      <td>NaN</td>\n    </tr>\n    <tr>\n      <th>4</th>\n      <td>18</td>\n      <td>2017-01-03</td>\n      <td>-0.1200</td>\n      <td>-0.0950</td>\n      <td>-0.1200</td>\n      <td>-0.0991</td>\n      <td>1319</td>\n      <td>09:32:08</td>\n      <td>-0.0991</td>\n      <td>-0.0991</td>\n      <td>-0.0991</td>\n      <td>0.0</td>\n      <td>0.0</td>\n      <td>0.0</td>\n      <td>NaN</td>\n    </tr>\n  </tbody>\n</table>\n</div>"
     },
     "metadata": {},
     "execution_count": 2
    }
   ],
   "source": [
    "df_all = pd.read_pickle('final_ds_labeled_small.pkl')\n",
    "display(df_all.columns)\n",
    "df_all.head()"
   ]
  },
  {
   "cell_type": "markdown",
   "metadata": {},
   "source": [
    "# Prepare dataset"
   ]
  },
  {
   "cell_type": "code",
   "execution_count": 3,
   "metadata": {},
   "outputs": [
    {
     "output_type": "stream",
     "name": "stdout",
     "text": "CPU times: user 8 µs, sys: 0 ns, total: 8 µs\nWall time: 15 µs\n"
    }
   ],
   "source": [
    "%%time\n",
    "rdf = df_all\n",
    ""
   ]
  },
  {
   "cell_type": "code",
   "execution_count": 4,
   "metadata": {},
   "outputs": [
    {
     "output_type": "execute_result",
     "data": {
      "text/plain": "-1.0    1616\n 1.0    1406\nName: touch_tp, dtype: int64"
     },
     "metadata": {},
     "execution_count": 4
    }
   ],
   "source": [
    "#only events\n",
    "f = rdf.touch_tp != 0.0\n",
    "rdf = rdf[f]\n",
    "rdf.touch_tp.value_counts()"
   ]
  },
  {
   "cell_type": "code",
   "execution_count": 5,
   "metadata": {},
   "outputs": [
    {
     "output_type": "execute_result",
     "data": {
      "text/plain": "    Nr       date  open  high   low  close  sum_vol      time  fastma  \\\n14  80 2017-01-03 -0.02 -0.01 -0.02  -0.02     1000  09:37:00  -0.017   \n15  86 2017-01-03 -0.02  0.01 -0.02   0.01     1000  09:37:18  -0.003   \n\n    slowema  RSI_close_30  dir  touch_tp  cross_idx raw_return  \n14    -0.02         -0.02  1.0       0.0      115.0      -0.09  \n15     0.01          0.01 -1.0       1.0      101.0       0.06  ",
      "text/html": "<div>\n<style scoped>\n    .dataframe tbody tr th:only-of-type {\n        vertical-align: middle;\n    }\n\n    .dataframe tbody tr th {\n        vertical-align: top;\n    }\n\n    .dataframe thead th {\n        text-align: right;\n    }\n</style>\n<table border=\"1\" class=\"dataframe\">\n  <thead>\n    <tr style=\"text-align: right;\">\n      <th></th>\n      <th>Nr</th>\n      <th>date</th>\n      <th>open</th>\n      <th>high</th>\n      <th>low</th>\n      <th>close</th>\n      <th>sum_vol</th>\n      <th>time</th>\n      <th>fastma</th>\n      <th>slowema</th>\n      <th>RSI_close_30</th>\n      <th>dir</th>\n      <th>touch_tp</th>\n      <th>cross_idx</th>\n      <th>raw_return</th>\n    </tr>\n  </thead>\n  <tbody>\n    <tr>\n      <th>14</th>\n      <td>80</td>\n      <td>2017-01-03</td>\n      <td>-0.02</td>\n      <td>-0.01</td>\n      <td>-0.02</td>\n      <td>-0.02</td>\n      <td>1000</td>\n      <td>09:37:00</td>\n      <td>-0.017</td>\n      <td>-0.02</td>\n      <td>-0.02</td>\n      <td>1.0</td>\n      <td>0.0</td>\n      <td>115.0</td>\n      <td>-0.09</td>\n    </tr>\n    <tr>\n      <th>15</th>\n      <td>86</td>\n      <td>2017-01-03</td>\n      <td>-0.02</td>\n      <td>0.01</td>\n      <td>-0.02</td>\n      <td>0.01</td>\n      <td>1000</td>\n      <td>09:37:18</td>\n      <td>-0.003</td>\n      <td>0.01</td>\n      <td>0.01</td>\n      <td>-1.0</td>\n      <td>1.0</td>\n      <td>101.0</td>\n      <td>0.06</td>\n    </tr>\n  </tbody>\n</table>\n</div>"
     },
     "metadata": {},
     "execution_count": 5
    }
   ],
   "source": [
    "#replace labels -1 -> 0\n",
    "rdf.loc[:,'touch_tp']= rdf.loc[:,'touch_tp'].replace([-1.0], 0.0)\n",
    "\n",
    "rdf.head(2)"
   ]
  },
  {
   "cell_type": "markdown",
   "metadata": {},
   "source": [
    "# Create dataset for RNN Model"
   ]
  },
  {
   "cell_type": "code",
   "execution_count": 6,
   "metadata": {},
   "outputs": [
    {
     "output_type": "stream",
     "name": "stdout",
     "text": "2017-01-03 00:00:00 2017-12-29 00:00:00\n"
    }
   ],
   "source": [
    "print(rdf.date.min(), rdf.date.max())"
   ]
  },
  {
   "cell_type": "code",
   "execution_count": 7,
   "metadata": {},
   "outputs": [
    {
     "output_type": "stream",
     "name": "stdout",
     "text": "weight_for_0 0.95\nweight_for_1 1.05\n"
    }
   ],
   "source": [
    "#select columns \n",
    "y_col = 'touch_tp'\n",
    "x_cols = ['Nr', 'open', 'high', 'low', 'close', 'sum_vol', 'fastma', 'slowema', 'RSI_close_30', 'dir']\n",
    "#x_cols = ['close', 'Nr']\n",
    "\n",
    "#split to train test dataset\n",
    "#train dataset from 2009 to 2017\n",
    "f_train = rdf.date < \"2017-07-01\"\n",
    "x_train_df = rdf.loc[f_train, x_cols]\n",
    "y_train_df = rdf.loc[f_train, y_col]\n",
    "\n",
    "#validation from 2018 to 2019\n",
    "f_val = (rdf.date > \"2017-09-01\") \n",
    "\n",
    "x_val_df = rdf.loc[f_val,x_cols]\n",
    "y_val_df = rdf.loc[f_val,y_col]\n",
    "\n",
    "#test from 2017 to 2018\n",
    "f_test = (rdf.date > \"2017-07-01\") & (rdf.date < \"2017-09-01\")\n",
    "\n",
    "x_test_df = rdf.loc[f_test,x_cols]\n",
    "y_test_df = rdf.loc[f_test,y_col]\n",
    "\n",
    "\n",
    "#calculate weight\n",
    "wc = y_train_df.value_counts()\n",
    "\n",
    "weight_for_0 = (1 / wc[0])*(wc[0]+wc[1])/2.0\n",
    "weight_for_1 = (1 / wc[1])*(wc[0]+wc[1])/2.0\n",
    "\n",
    "print('weight_for_0 {:.2f}'.format(weight_for_0))\n",
    "print('weight_for_1 {:.2f}'.format(weight_for_1))\n",
    "\n",
    "class_weight = {0: weight_for_0, 1: weight_for_1}"
   ]
  },
  {
   "cell_type": "code",
   "execution_count": 8,
   "metadata": {},
   "outputs": [
    {
     "output_type": "stream",
     "name": "stdout",
     "text": "x_train_df.shape: (1768, 10)\ny_train_df.shape: (1768,)\nx_val_df.shape  : (824, 10)\ny_val_df.shape  : (824,)\nx_test_df.shape : (426, 10)\ny_test_df.shape : (426,)\n"
    }
   ],
   "source": [
    "print('x_train_df.shape:',x_train_df.shape)\n",
    "print('y_train_df.shape:',y_train_df.shape)\n",
    "print('x_val_df.shape  :',x_val_df.shape  )\n",
    "print('y_val_df.shape  :',y_val_df.shape  )\n",
    "print('x_test_df.shape :',x_test_df.shape )\n",
    "print('y_test_df.shape :',y_test_df.shape )"
   ]
  },
  {
   "cell_type": "markdown",
   "metadata": {},
   "source": [
    "#### Next code is a magic.. because I'm to stupid for tensorflow %)\n",
    "#### The way that I found to convert my data is very strange"
   ]
  },
  {
   "cell_type": "code",
   "execution_count": 9,
   "metadata": {},
   "outputs": [],
   "source": [
    "def _to_tensor(arg): \n",
    "  arg = tf.convert_to_tensor(arg, dtype=tf.float32) \n",
    "  return arg \n",
    "\n",
    "def my_scale_0_to_1(x):\n",
    "    current_min = tf.reduce_min(x)\n",
    "    current_max = tf.reduce_max(x)\n",
    "    return tf.divide(tf.subtract(x, current_min), tf.subtract(current_max, current_min))\n",
    ""
   ]
  },
  {
   "cell_type": "code",
   "execution_count": 10,
   "metadata": {},
   "outputs": [
    {
     "output_type": "stream",
     "name": "stdout",
     "text": "open\nhigh\nlow\nclose\nsum_vol\nfastma\nslowema\nRSI_close_30\n"
    }
   ],
   "source": [
    "dx_train = {}\n",
    "dx_eval = {}\n",
    "dx_test = {}\n",
    "\n",
    "#x_rnn_cols = ['open', 'high', 'low', 'close', 'sum_vol', 'fastma', 'slowema', 'RSI_close_30']\n",
    "#x_rnn_cols = [ 'close']\n",
    "x_rnn_cols = []\n",
    "#x_cols = ['Nr']\n",
    "x_cols = ['open', 'high', 'low', 'close', 'sum_vol', 'fastma', 'slowema', 'RSI_close_30']\n",
    "\n",
    "\n",
    "for c in x_rnn_cols:\n",
    "    print(c)\n",
    "    dx_train[c] = my_scale_0_to_1(tf.squeeze(_to_tensor(list(x_train_df.loc[:,[c]].values)),1))\n",
    "    dx_eval[c] = my_scale_0_to_1(tf.squeeze(_to_tensor(list(x_val_df.loc[:,[c]].values)),1))\n",
    "    dx_test[c] = my_scale_0_to_1(tf.squeeze(_to_tensor(list(x_test_df.loc[:,[c]].values)),1))\n",
    "\n",
    "for c in x_cols:\n",
    "    print(c)\n",
    "    dx_train[c] = my_scale_0_to_1(my_scale_0_to_1(_to_tensor(list(x_train_df[c].values))))\n",
    "    dx_eval[c] = my_scale_0_to_1(my_scale_0_to_1(_to_tensor(list(x_val_df[c].values))))\n",
    "    dx_test[c] = my_scale_0_to_1(my_scale_0_to_1(_to_tensor(list(x_test_df[c].values))))\n",
    "\n",
    "ty_train = _to_tensor(y_train_df.values)\n",
    "ty_eval = _to_tensor(y_val_df.values)\n",
    "ty_test = _to_tensor(y_test_df.values)"
   ]
  },
  {
   "cell_type": "code",
   "execution_count": 11,
   "metadata": {},
   "outputs": [],
   "source": [
    "BATCH_SIZE = 1000\n",
    "BUFFER_SIZE = 10000\n",
    "\n",
    "train_tf = tf.data.Dataset.from_tensor_slices((dx_train, ty_train))\n",
    "train_tf = train_tf.cache().shuffle(BUFFER_SIZE).batch(BATCH_SIZE).repeat()\n",
    "\n",
    "val_tf = tf.data.Dataset.from_tensor_slices((dx_eval,ty_eval))\n",
    "val_tf = val_tf.batch(BATCH_SIZE).repeat()\n",
    "\n",
    "#test_tf = tf.data.Dataset.from_tensor_slices((dx_test, ty_test))\n",
    "#test_tf = test_tf.batch(len(list(test_tf)))\n",
    "test_tf = tf.data.Dataset.from_tensor_slices(dx_test)"
   ]
  },
  {
   "cell_type": "code",
   "execution_count": 12,
   "metadata": {},
   "outputs": [
    {
     "output_type": "stream",
     "name": "stdout",
     "text": "{'open': TensorShape([1000]), 'high': TensorShape([1000]), 'low': TensorShape([1000]), 'close': TensorShape([1000]), 'sum_vol': TensorShape([1000]), 'fastma': TensorShape([1000]), 'slowema': TensorShape([1000]), 'RSI_close_30': TensorShape([1000])}\n"
    }
   ],
   "source": [
    "dx_shapes = {}\n",
    "for feature_batch, y in train_tf.take(1):\n",
    "  for key, value in feature_batch.items():\n",
    "    #print(\"{}: {} -> {}\".format(key, value.shape[-2:],y.shape))\n",
    "    dx_shapes[key] = value.shape[-2:]\n",
    "print(dx_shapes)"
   ]
  },
  {
   "cell_type": "markdown",
   "metadata": {},
   "source": [
    "# Create RNN Model"
   ]
  },
  {
   "cell_type": "code",
   "execution_count": 13,
   "metadata": {},
   "outputs": [
    {
     "output_type": "stream",
     "name": "stdout",
     "text": "Tensor(\"open:0\", shape=(None, 1), dtype=float32)\nTensor(\"high:0\", shape=(None, 1), dtype=float32)\nTensor(\"low:0\", shape=(None, 1), dtype=float32)\nTensor(\"close:0\", shape=(None, 1), dtype=float32)\nTensor(\"sum_vol:0\", shape=(None, 1), dtype=float32)\nTensor(\"fastma:0\", shape=(None, 1), dtype=float32)\nTensor(\"slowema:0\", shape=(None, 1), dtype=float32)\nTensor(\"RSI_close_30:0\", shape=(None, 1), dtype=float32)\n---input rnn []\n---input [<tf.Tensor 'open:0' shape=(None, 1) dtype=float32>, <tf.Tensor 'high:0' shape=(None, 1) dtype=float32>, <tf.Tensor 'low:0' shape=(None, 1) dtype=float32>, <tf.Tensor 'close:0' shape=(None, 1) dtype=float32>, <tf.Tensor 'sum_vol:0' shape=(None, 1) dtype=float32>, <tf.Tensor 'fastma:0' shape=(None, 1) dtype=float32>, <tf.Tensor 'slowema:0' shape=(None, 1) dtype=float32>, <tf.Tensor 'RSI_close_30:0' shape=(None, 1) dtype=float32>]\n(None, 8)\n"
    }
   ],
   "source": [
    "#inputs \n",
    "#feature_columns = []\n",
    "feature_layer_inputs_rnn = {}\n",
    "feature_layer_inputs = {}\n",
    "\n",
    "\n",
    "for key in x_rnn_cols:#dx_shapes.keys():\n",
    "    #feature_columns.append(tf.feature_column.numeric_column(key))\n",
    "    feature_layer_inputs_rnn[key] = tf.keras.Input(shape=dx_shapes[key], name=key)\n",
    "    print(feature_layer_inputs_rnn[key])\n",
    "    \n",
    "for key in x_cols:#dx_shapes.keys():\n",
    "    #feature_columns.append(tf.feature_column.numeric_column(key))\n",
    "    feature_layer_inputs[key] = tf.keras.Input(shape=(1,), name=key)\n",
    "    print(feature_layer_inputs[key])\n",
    "    \n",
    "list_of_lstm_inputs = [v for v in feature_layer_inputs_rnn.values()]\n",
    "list_of_Num_inputs = [v for v in feature_layer_inputs.values()]\n",
    "all_inputs = list_of_lstm_inputs + list_of_Num_inputs\n",
    "\n",
    "opt = tf.keras.optimizers\n",
    "l = tf.keras.layers\n",
    "\n",
    "#feature_columns_input = tf.keras.layers.DenseFeatures(feature_columns)\n",
    "#feature_layer_outputs = feature_columns_input(feature_layer_inputs)\n",
    "#print('f',feature_columns_input)\n",
    "#print(feature_layer_outputs)\n",
    "print('---input rnn', list_of_lstm_inputs)\n",
    "print('---input', list_of_Num_inputs)\n",
    "\n",
    "#all_tstm_inputs = tf.concat(values=list_of_lstm_inputs, axis=-1, name='all_tstm_inputs')\n",
    "#print(all_tstm_inputs.shape)\n",
    "all_num_inputs = tf.concat(values=list_of_Num_inputs, axis=-1, name='all_num_inputs')\n",
    "print(all_num_inputs.shape)\n",
    "\n",
    "#d1 = l.LSTM(5, activation='relu')(all_tstm_inputs)\n",
    "d2 = l.Dense(10, activation='relu')(all_num_inputs)\n",
    "#d2 = l.Dense(5, activation='relu')(d2)\n",
    "#d1_d2_conc = tf.concat(values=[d1,d2], axis=-1, name = 'd1_d2_conc')\n",
    "#output = l.Dense(2, activation='softmax')(d1_d2_conc)\n",
    "output = l.Dense(1, activation='sigmoid')(d2)\n",
    "\n",
    "\n",
    "model = tf.keras.Model(inputs=all_inputs, outputs=output)\n",
    "\n",
    "\n",
    "METRICS = [\n",
    "      #tf.keras.metrics.TruePositives(name='tp'),\n",
    "      #tf.keras.metrics.FalsePositives(name='fp'),\n",
    "      #tf.keras.metrics.TrueNegatives(name='tn'),\n",
    "      #tf.keras.metrics.FalseNegatives(name='fn'), \n",
    "      #tf.keras.metrics.BinaryAccuracy(name='accuracy'),\n",
    "      #tf.keras.metrics.Precision(name='precision'),\n",
    "      #tf.keras.metrics.Recall(name='recall'),\n",
    "      tf.keras.metrics.AUC(name='auc'),\n",
    "      tf.keras.metrics.SparseCategoricalAccuracy(name='accuracy')\n",
    "]\n",
    "# + [tf.keras.metrics.Recall(class_id=i) for i in range(2)]\n",
    "\n",
    "\n",
    "\n",
    "model.compile(\n",
    "    #loss='sparse_categorical_crossentropy',\n",
    "    loss='binary_crossentropy',\n",
    "    optimizer=opt.Adam(lr=0.001),\n",
    "    metrics=METRICS)"
   ]
  },
  {
   "cell_type": "code",
   "execution_count": 14,
   "metadata": {},
   "outputs": [
    {
     "output_type": "stream",
     "name": "stdout",
     "text": "Model: \"model\"\n__________________________________________________________________________________________________\nLayer (type)                    Output Shape         Param #     Connected to                     \n==================================================================================================\nopen (InputLayer)               [(None, 1)]          0                                            \n__________________________________________________________________________________________________\nhigh (InputLayer)               [(None, 1)]          0                                            \n__________________________________________________________________________________________________\nlow (InputLayer)                [(None, 1)]          0                                            \n__________________________________________________________________________________________________\nclose (InputLayer)              [(None, 1)]          0                                            \n__________________________________________________________________________________________________\nsum_vol (InputLayer)            [(None, 1)]          0                                            \n__________________________________________________________________________________________________\nfastma (InputLayer)             [(None, 1)]          0                                            \n__________________________________________________________________________________________________\nslowema (InputLayer)            [(None, 1)]          0                                            \n__________________________________________________________________________________________________\nRSI_close_30 (InputLayer)       [(None, 1)]          0                                            \n__________________________________________________________________________________________________\ntf_op_layer_all_num_inputs (Ten [(None, 8)]          0           open[0][0]                       \n                                                                 high[0][0]                       \n                                                                 low[0][0]                        \n                                                                 close[0][0]                      \n                                                                 sum_vol[0][0]                    \n                                                                 fastma[0][0]                     \n                                                                 slowema[0][0]                    \n                                                                 RSI_close_30[0][0]               \n__________________________________________________________________________________________________\ndense (Dense)                   (None, 10)           90          tf_op_layer_all_num_inputs[0][0] \n__________________________________________________________________________________________________\ndense_1 (Dense)                 (None, 1)            11          dense[0][0]                      \n==================================================================================================\nTotal params: 101\nTrainable params: 101\nNon-trainable params: 0\n__________________________________________________________________________________________________\n"
    }
   ],
   "source": [
    "model.summary()"
   ]
  },
  {
   "cell_type": "code",
   "execution_count": 15,
   "metadata": {},
   "outputs": [
    {
     "output_type": "execute_result",
     "data": {
      "image/png": "[encoded data removed]",
      "text/plain": "<IPython.core.display.Image object>"
     },
     "metadata": {},
     "execution_count": 15
    }
   ],
   "source": [
    "tf.keras.utils.plot_model(model, show_shapes=True,show_layer_names=True,)"
   ]
  },
  {
   "cell_type": "code",
   "execution_count": 16,
   "metadata": {},
   "outputs": [
    {
     "output_type": "stream",
     "name": "stdout",
     "text": "(824, 1)\n[0 0 0 0 0 0 0 0 0 0 0 0 0 0 0 0 0 0 0 0 0 0 0 0 0 0 0 0 0 0 0 0 0 0 0 0 0\n 0 0 0 0 0 0 0 0 0 0 0 0 0 0 0 0 0 0 0 0 0 0 0 0 0 0 0 0 0 0 0 0 0 0 0 0 0\n 0 0 0 0 0 0 0 0 0 0 0 0 0 0 0 0 0 0 0 0 0 0 0 0 0 0 0 0 0 0 0 0 0 0 0 0 0\n 0 0 0 0 0 0 0 0 0 0 0 0 0 0 0 0 0 0 0 0 0 0 0 0 0 0 0 0 0 0 0 0 0 0 0 0 0\n 0 0 0 0 0 0 0 0 0 0 0 0 0 0 0 0 0 0 0 0 0 0 0 0 0 0 0 0 0 0 0 0 0 0 0 0 0\n 0 0 0 0 0 0 0 0 0 0 0 0 0 0 0 0 0 0 0 0 0 0 0 0 0 0 0 0 0 0 0 0 0 0 0 0 0\n 0 0 0 0 0 0 0 0 0 0 0 0 0 0 0 0 0 0 0 0 0 0 0 0 0 0 0 0 0 0 0 0 0 0 0 0 0\n 0 0 0 0 0 0 0 0 0 0 0 0 0 0 0 0 0 0 0 0 0 0 0 0 0 0 0 0 0 0 0 0 0 0 0 0 0\n 0 0 0 0 0 0 0 0 0 0 0 0 0 0 0 0 0 0 0 0 0 0 0 0 0 0 0 0 0 0 0 0 0 0 0 0 0\n 0 0 0 0 0 0 0 0 0 0 0 0 0 0 0 0 0 0 0 0 0 0 0 0 0 0 0 0 0 0 0 0 0 0 0 0 0\n 0 0 0 0 0 0 0 0 0 0 0 0 0 0 0 0 0 0 0 0 0 0 0 0 0 0 0 0 0 0 0 0 0 0 0 0 0\n 0 0 0 0 0 0 0 0 0 0 0 0 0 0 0 0 0 0 0 0 0 0 0 0 0 0 0 0 0 0 0 0 0 0 0 0 0\n 0 0 0 0 0 0 0 0 0 0 0 0 0 0 0 0 0 0 0 0 0 0 0 0 0 0 0 0 0 0 0 0 0 0 0 0 0\n 0 0 0 0 0 0 0 0 0 0 0 0 0 0 0 0 0 0 0 0 0 0 0 0 0 0 0 0 0 0 0 0 0 0 0 0 0\n 0 0 0 0 0 0 0 0 0 0 0 0 0 0 0 0 0 0 0 0 0 0 0 0 0 0 0 0 0 0 0 0 0 0 0 0 0\n 0 0 0 0 0 0 0 0 0 0 0 0 0 0 0 0 0 0 0 0 0 0 0 0 0 0 0 0 0 0 0 0 0 0 0 0 0\n 0 0 0 0 0 0 0 0 0 0 0 0 0 0 0 0 0 0 0 0 0 0 0 0 0 0 0 0 0 0 0 0 0 0 0 0 0\n 0 0 0 0 0 0 0 0 0 0 0 0 0 0 0 0 0 0 0 0 0 0 0 0 0 0 0 0 0 0 0 0 0 0 0 0 0\n 0 0 0 0 0 0 0 0 0 0 0 0 0 0 0 0 0 0 0 0 0 0 0 0 0 0 0 0 0 0 0 0 0 0 0 0 0\n 0 0 0 0 0 0 0 0 0 0 0 0 0 0 0 0 0 0 0 0 0 0 0 0 0 0 0 0 0 0 0 0 0 0 0 0 0\n 0 0 0 0 0 0 0 0 0 0 0 0 0 0 0 0 0 0 0 0 0 0 0 0 0 0 0 0 0 0 0 0 0 0 0 0 0\n 0 0 0 0 0 0 0 0 0 0 0 0 0 0 0 0 0 0 0 0 0 0 0 0 0 0 0 0 0 0 0 0 0 0 0 0 0\n 0 0 0 0 0 0 0 0 0 0]\n"
    }
   ],
   "source": [
    "#check if is working\n",
    "for x, y in val_tf.take(1):\n",
    "    #print(x,y)\n",
    "    print(model.predict(x).shape)\n",
    "    y_prob = model.predict(x)\n",
    "    y_classes = y_prob.argmax(axis=-1)\n",
    "    print(y_classes)"
   ]
  },
  {
   "cell_type": "markdown",
   "metadata": {},
   "source": [
    "### Train the model"
   ]
  },
  {
   "cell_type": "code",
   "execution_count": 17,
   "metadata": {},
   "outputs": [
    {
     "output_type": "stream",
     "name": "stdout",
     "text": "Train for 200 steps, validate for 50 steps\nEpoch 1/10\n200/200 [==============================] - 3s 13ms/step - loss: 0.6893 - auc: 0.5663 - accuracy: 0.5255 - val_loss: 0.6854 - val_auc: 0.5793 - val_accuracy: 0.5570\nEpoch 2/10\n200/200 [==============================] - 2s 8ms/step - loss: 0.6875 - auc: 0.5725 - accuracy: 0.5255 - val_loss: 0.6850 - val_auc: 0.5755 - val_accuracy: 0.5570\nEpoch 3/10\n200/200 [==============================] - 2s 8ms/step - loss: 0.6862 - auc: 0.5727 - accuracy: 0.5255 - val_loss: 0.6850 - val_auc: 0.5749 - val_accuracy: 0.5570\nEpoch 4/10\n200/200 [==============================] - 2s 9ms/step - loss: 0.6854 - auc: 0.5735 - accuracy: 0.5255 - val_loss: 0.6854 - val_auc: 0.5757 - val_accuracy: 0.5570\nEpoch 5/10\n200/200 [==============================] - 2s 8ms/step - loss: 0.6850 - auc: 0.5737 - accuracy: 0.5255 - val_loss: 0.6863 - val_auc: 0.5752 - val_accuracy: 0.5570\nEpoch 6/10\n200/200 [==============================] - 2s 8ms/step - loss: 0.6848 - auc: 0.5736 - accuracy: 0.5255 - val_loss: 0.6867 - val_auc: 0.5746 - val_accuracy: 0.5570\nEpoch 7/10\n200/200 [==============================] - 2s 9ms/step - loss: 0.6848 - auc: 0.5737 - accuracy: 0.5255 - val_loss: 0.6872 - val_auc: 0.5751 - val_accuracy: 0.5570\nEpoch 8/10\n200/200 [==============================] - 2s 8ms/step - loss: 0.6846 - auc: 0.5734 - accuracy: 0.5255 - val_loss: 0.6873 - val_auc: 0.5752 - val_accuracy: 0.5570\nEpoch 9/10\n200/200 [==============================] - 2s 8ms/step - loss: 0.6846 - auc: 0.5735 - accuracy: 0.5255 - val_loss: 0.6879 - val_auc: 0.5754 - val_accuracy: 0.5570\nEpoch 10/10\n200/200 [==============================] - 2s 8ms/step - loss: 0.6846 - auc: 0.5737 - accuracy: 0.5255 - val_loss: 0.6880 - val_auc: 0.5748 - val_accuracy: 0.5570\n"
    }
   ],
   "source": [
    "EVALUATION_INTERVAL = 200\n",
    "EPOCHS = 10\n",
    "\n",
    "history = model.fit(train_tf, epochs=EPOCHS,\n",
    "                      steps_per_epoch=EVALUATION_INTERVAL,\n",
    "                      validation_data=val_tf, \n",
    "                      validation_steps=50,\n",
    "                      class_weight=class_weight)"
   ]
  },
  {
   "cell_type": "code",
   "execution_count": 18,
   "metadata": {},
   "outputs": [
    {
     "output_type": "display_data",
     "data": {
      "text/plain": "<Figure size 1080x576 with 1 Axes>",
      "image/svg+xml": "<?xml version=\"1.0\" encoding=\"utf-8\" standalone=\"no\"?>\n<!DOCTYPE svg PUBLIC \"-//W3C//DTD SVG 1.1//EN\"\n  \"http://www.w3.org/Graphics/SVG/1.1/DTD/svg11.dtd\">\n<!-- Created with matplotlib (https://matplotlib.org/) -->\n<svg height=\"469.757344pt\" version=\"1.1\" viewBox=\"0 0 877.484375 469.757344\" width=\"877.484375pt\" xmlns=\"http://www.w3.org/2000/svg\" xmlns:xlink=\"http://www.w3.org/1999/xlink\">\n <defs>\n  <style type=\"text/css\">\n*{stroke-linecap:butt;stroke-linejoin:round;}\n  </style>\n </defs>\n <g id=\"figure_1\">\n  <g id=\"patch_1\">\n   <path d=\"M 0 469.757344 \nL 877.484375 469.757344 \nL 877.484375 0 \nL 0 0 \nz\n\" style=\"fill:none;\"/>\n  </g>\n  <g id=\"axes_1\">\n   <g id=\"patch_2\">\n    <path d=\"M 30.103125 445.879219 \nL 867.103125 445.879219 \nL 867.103125 10.999219 \nL 30.103125 10.999219 \nz\n\" style=\"fill:#ffffff;\"/>\n   </g>\n   <g id=\"matplotlib.axis_1\">\n    <g id=\"xtick_1\">\n     <g id=\"line2d_1\">\n      <path clip-path=\"url(#p20df8a0ec8)\" d=\"M 30.103125 445.879219 \nL 30.103125 10.999219 \n\" style=\"fill:none;stroke:#b0b0b0;stroke-linecap:square;stroke-width:0.8;\"/>\n     </g>\n     <g id=\"line2d_2\">\n      <defs>\n       <path d=\"M 0 0 \nL 0 3.5 \n\" id=\"m04634043ad\" style=\"stroke:#000000;stroke-width:0.8;\"/>\n      </defs>\n      <g>\n       <use style=\"stroke:#000000;stroke-width:0.8;\" x=\"30.103125\" xlink:href=\"#m04634043ad\" y=\"445.879219\"/>\n      </g>\n     </g>\n     <g id=\"text_1\">\n      <!-- 0 -->\n      <defs>\n       <path d=\"M 31.78125 66.40625 \nQ 24.171875 66.40625 20.328125 58.90625 \nQ 16.5 51.421875 16.5 36.375 \nQ 16.5 21.390625 20.328125 13.890625 \nQ 24.171875 6.390625 31.78125 6.390625 \nQ 39.453125 6.390625 43.28125 13.890625 \nQ 47.125 21.390625 47.125 36.375 \nQ 47.125 51.421875 43.28125 58.90625 \nQ 39.453125 66.40625 31.78125 66.40625 \nz\nM 31.78125 74.21875 \nQ 44.046875 74.21875 50.515625 64.515625 \nQ 56.984375 54.828125 56.984375 36.375 \nQ 56.984375 17.96875 50.515625 8.265625 \nQ 44.046875 -1.421875 31.78125 -1.421875 \nQ 19.53125 -1.421875 13.0625 8.265625 \nQ 6.59375 17.96875 6.59375 36.375 \nQ 6.59375 54.828125 13.0625 64.515625 \nQ 19.53125 74.21875 31.78125 74.21875 \nz\n\" id=\"DejaVuSans-48\"/>\n      </defs>\n      <g transform=\"translate(26.921875 460.477656)scale(0.1 -0.1)\">\n       <use xlink:href=\"#DejaVuSans-48\"/>\n      </g>\n     </g>\n    </g>\n    <g id=\"xtick_2\">\n     <g id=\"line2d_3\">\n      <path clip-path=\"url(#p20df8a0ec8)\" d=\"M 123.103125 445.879219 \nL 123.103125 10.999219 \n\" style=\"fill:none;stroke:#b0b0b0;stroke-linecap:square;stroke-width:0.8;\"/>\n     </g>\n     <g id=\"line2d_4\">\n      <g>\n       <use style=\"stroke:#000000;stroke-width:0.8;\" x=\"123.103125\" xlink:href=\"#m04634043ad\" y=\"445.879219\"/>\n      </g>\n     </g>\n     <g id=\"text_2\">\n      <!-- 1 -->\n      <defs>\n       <path d=\"M 12.40625 8.296875 \nL 28.515625 8.296875 \nL 28.515625 63.921875 \nL 10.984375 60.40625 \nL 10.984375 69.390625 \nL 28.421875 72.90625 \nL 38.28125 72.90625 \nL 38.28125 8.296875 \nL 54.390625 8.296875 \nL 54.390625 0 \nL 12.40625 0 \nz\n\" id=\"DejaVuSans-49\"/>\n      </defs>\n      <g transform=\"translate(119.921875 460.477656)scale(0.1 -0.1)\">\n       <use xlink:href=\"#DejaVuSans-49\"/>\n      </g>\n     </g>\n    </g>\n    <g id=\"xtick_3\">\n     <g id=\"line2d_5\">\n      <path clip-path=\"url(#p20df8a0ec8)\" d=\"M 216.103125 445.879219 \nL 216.103125 10.999219 \n\" style=\"fill:none;stroke:#b0b0b0;stroke-linecap:square;stroke-width:0.8;\"/>\n     </g>\n     <g id=\"line2d_6\">\n      <g>\n       <use style=\"stroke:#000000;stroke-width:0.8;\" x=\"216.103125\" xlink:href=\"#m04634043ad\" y=\"445.879219\"/>\n      </g>\n     </g>\n     <g id=\"text_3\">\n      <!-- 2 -->\n      <defs>\n       <path d=\"M 19.1875 8.296875 \nL 53.609375 8.296875 \nL 53.609375 0 \nL 7.328125 0 \nL 7.328125 8.296875 \nQ 12.9375 14.109375 22.625 23.890625 \nQ 32.328125 33.6875 34.8125 36.53125 \nQ 39.546875 41.84375 41.421875 45.53125 \nQ 43.3125 49.21875 43.3125 52.78125 \nQ 43.3125 58.59375 39.234375 62.25 \nQ 35.15625 65.921875 28.609375 65.921875 \nQ 23.96875 65.921875 18.8125 64.3125 \nQ 13.671875 62.703125 7.8125 59.421875 \nL 7.8125 69.390625 \nQ 13.765625 71.78125 18.9375 73 \nQ 24.125 74.21875 28.421875 74.21875 \nQ 39.75 74.21875 46.484375 68.546875 \nQ 53.21875 62.890625 53.21875 53.421875 \nQ 53.21875 48.921875 51.53125 44.890625 \nQ 49.859375 40.875 45.40625 35.40625 \nQ 44.1875 33.984375 37.640625 27.21875 \nQ 31.109375 20.453125 19.1875 8.296875 \nz\n\" id=\"DejaVuSans-50\"/>\n      </defs>\n      <g transform=\"translate(212.921875 460.477656)scale(0.1 -0.1)\">\n       <use xlink:href=\"#DejaVuSans-50\"/>\n      </g>\n     </g>\n    </g>\n    <g id=\"xtick_4\">\n     <g id=\"line2d_7\">\n      <path clip-path=\"url(#p20df8a0ec8)\" d=\"M 309.103125 445.879219 \nL 309.103125 10.999219 \n\" style=\"fill:none;stroke:#b0b0b0;stroke-linecap:square;stroke-width:0.8;\"/>\n     </g>\n     <g id=\"line2d_8\">\n      <g>\n       <use style=\"stroke:#000000;stroke-width:0.8;\" x=\"309.103125\" xlink:href=\"#m04634043ad\" y=\"445.879219\"/>\n      </g>\n     </g>\n     <g id=\"text_4\">\n      <!-- 3 -->\n      <defs>\n       <path d=\"M 40.578125 39.3125 \nQ 47.65625 37.796875 51.625 33 \nQ 55.609375 28.21875 55.609375 21.1875 \nQ 55.609375 10.40625 48.1875 4.484375 \nQ 40.765625 -1.421875 27.09375 -1.421875 \nQ 22.515625 -1.421875 17.65625 -0.515625 \nQ 12.796875 0.390625 7.625 2.203125 \nL 7.625 11.71875 \nQ 11.71875 9.328125 16.59375 8.109375 \nQ 21.484375 6.890625 26.8125 6.890625 \nQ 36.078125 6.890625 40.9375 10.546875 \nQ 45.796875 14.203125 45.796875 21.1875 \nQ 45.796875 27.640625 41.28125 31.265625 \nQ 36.765625 34.90625 28.71875 34.90625 \nL 20.21875 34.90625 \nL 20.21875 43.015625 \nL 29.109375 43.015625 \nQ 36.375 43.015625 40.234375 45.921875 \nQ 44.09375 48.828125 44.09375 54.296875 \nQ 44.09375 59.90625 40.109375 62.90625 \nQ 36.140625 65.921875 28.71875 65.921875 \nQ 24.65625 65.921875 20.015625 65.03125 \nQ 15.375 64.15625 9.8125 62.3125 \nL 9.8125 71.09375 \nQ 15.4375 72.65625 20.34375 73.4375 \nQ 25.25 74.21875 29.59375 74.21875 \nQ 40.828125 74.21875 47.359375 69.109375 \nQ 53.90625 64.015625 53.90625 55.328125 \nQ 53.90625 49.265625 50.4375 45.09375 \nQ 46.96875 40.921875 40.578125 39.3125 \nz\n\" id=\"DejaVuSans-51\"/>\n      </defs>\n      <g transform=\"translate(305.921875 460.477656)scale(0.1 -0.1)\">\n       <use xlink:href=\"#DejaVuSans-51\"/>\n      </g>\n     </g>\n    </g>\n    <g id=\"xtick_5\">\n     <g id=\"line2d_9\">\n      <path clip-path=\"url(#p20df8a0ec8)\" d=\"M 402.103125 445.879219 \nL 402.103125 10.999219 \n\" style=\"fill:none;stroke:#b0b0b0;stroke-linecap:square;stroke-width:0.8;\"/>\n     </g>\n     <g id=\"line2d_10\">\n      <g>\n       <use style=\"stroke:#000000;stroke-width:0.8;\" x=\"402.103125\" xlink:href=\"#m04634043ad\" y=\"445.879219\"/>\n      </g>\n     </g>\n     <g id=\"text_5\">\n      <!-- 4 -->\n      <defs>\n       <path d=\"M 37.796875 64.3125 \nL 12.890625 25.390625 \nL 37.796875 25.390625 \nz\nM 35.203125 72.90625 \nL 47.609375 72.90625 \nL 47.609375 25.390625 \nL 58.015625 25.390625 \nL 58.015625 17.1875 \nL 47.609375 17.1875 \nL 47.609375 0 \nL 37.796875 0 \nL 37.796875 17.1875 \nL 4.890625 17.1875 \nL 4.890625 26.703125 \nz\n\" id=\"DejaVuSans-52\"/>\n      </defs>\n      <g transform=\"translate(398.921875 460.477656)scale(0.1 -0.1)\">\n       <use xlink:href=\"#DejaVuSans-52\"/>\n      </g>\n     </g>\n    </g>\n    <g id=\"xtick_6\">\n     <g id=\"line2d_11\">\n      <path clip-path=\"url(#p20df8a0ec8)\" d=\"M 495.103125 445.879219 \nL 495.103125 10.999219 \n\" style=\"fill:none;stroke:#b0b0b0;stroke-linecap:square;stroke-width:0.8;\"/>\n     </g>\n     <g id=\"line2d_12\">\n      <g>\n       <use style=\"stroke:#000000;stroke-width:0.8;\" x=\"495.103125\" xlink:href=\"#m04634043ad\" y=\"445.879219\"/>\n      </g>\n     </g>\n     <g id=\"text_6\">\n      <!-- 5 -->\n      <defs>\n       <path d=\"M 10.796875 72.90625 \nL 49.515625 72.90625 \nL 49.515625 64.59375 \nL 19.828125 64.59375 \nL 19.828125 46.734375 \nQ 21.96875 47.46875 24.109375 47.828125 \nQ 26.265625 48.1875 28.421875 48.1875 \nQ 40.625 48.1875 47.75 41.5 \nQ 54.890625 34.8125 54.890625 23.390625 \nQ 54.890625 11.625 47.5625 5.09375 \nQ 40.234375 -1.421875 26.90625 -1.421875 \nQ 22.3125 -1.421875 17.546875 -0.640625 \nQ 12.796875 0.140625 7.71875 1.703125 \nL 7.71875 11.625 \nQ 12.109375 9.234375 16.796875 8.0625 \nQ 21.484375 6.890625 26.703125 6.890625 \nQ 35.15625 6.890625 40.078125 11.328125 \nQ 45.015625 15.765625 45.015625 23.390625 \nQ 45.015625 31 40.078125 35.4375 \nQ 35.15625 39.890625 26.703125 39.890625 \nQ 22.75 39.890625 18.8125 39.015625 \nQ 14.890625 38.140625 10.796875 36.28125 \nz\n\" id=\"DejaVuSans-53\"/>\n      </defs>\n      <g transform=\"translate(491.921875 460.477656)scale(0.1 -0.1)\">\n       <use xlink:href=\"#DejaVuSans-53\"/>\n      </g>\n     </g>\n    </g>\n    <g id=\"xtick_7\">\n     <g id=\"line2d_13\">\n      <path clip-path=\"url(#p20df8a0ec8)\" d=\"M 588.103125 445.879219 \nL 588.103125 10.999219 \n\" style=\"fill:none;stroke:#b0b0b0;stroke-linecap:square;stroke-width:0.8;\"/>\n     </g>\n     <g id=\"line2d_14\">\n      <g>\n       <use style=\"stroke:#000000;stroke-width:0.8;\" x=\"588.103125\" xlink:href=\"#m04634043ad\" y=\"445.879219\"/>\n      </g>\n     </g>\n     <g id=\"text_7\">\n      <!-- 6 -->\n      <defs>\n       <path d=\"M 33.015625 40.375 \nQ 26.375 40.375 22.484375 35.828125 \nQ 18.609375 31.296875 18.609375 23.390625 \nQ 18.609375 15.53125 22.484375 10.953125 \nQ 26.375 6.390625 33.015625 6.390625 \nQ 39.65625 6.390625 43.53125 10.953125 \nQ 47.40625 15.53125 47.40625 23.390625 \nQ 47.40625 31.296875 43.53125 35.828125 \nQ 39.65625 40.375 33.015625 40.375 \nz\nM 52.59375 71.296875 \nL 52.59375 62.3125 \nQ 48.875 64.0625 45.09375 64.984375 \nQ 41.3125 65.921875 37.59375 65.921875 \nQ 27.828125 65.921875 22.671875 59.328125 \nQ 17.53125 52.734375 16.796875 39.40625 \nQ 19.671875 43.65625 24.015625 45.921875 \nQ 28.375 48.1875 33.59375 48.1875 \nQ 44.578125 48.1875 50.953125 41.515625 \nQ 57.328125 34.859375 57.328125 23.390625 \nQ 57.328125 12.15625 50.6875 5.359375 \nQ 44.046875 -1.421875 33.015625 -1.421875 \nQ 20.359375 -1.421875 13.671875 8.265625 \nQ 6.984375 17.96875 6.984375 36.375 \nQ 6.984375 53.65625 15.1875 63.9375 \nQ 23.390625 74.21875 37.203125 74.21875 \nQ 40.921875 74.21875 44.703125 73.484375 \nQ 48.484375 72.75 52.59375 71.296875 \nz\n\" id=\"DejaVuSans-54\"/>\n      </defs>\n      <g transform=\"translate(584.921875 460.477656)scale(0.1 -0.1)\">\n       <use xlink:href=\"#DejaVuSans-54\"/>\n      </g>\n     </g>\n    </g>\n    <g id=\"xtick_8\">\n     <g id=\"line2d_15\">\n      <path clip-path=\"url(#p20df8a0ec8)\" d=\"M 681.103125 445.879219 \nL 681.103125 10.999219 \n\" style=\"fill:none;stroke:#b0b0b0;stroke-linecap:square;stroke-width:0.8;\"/>\n     </g>\n     <g id=\"line2d_16\">\n      <g>\n       <use style=\"stroke:#000000;stroke-width:0.8;\" x=\"681.103125\" xlink:href=\"#m04634043ad\" y=\"445.879219\"/>\n      </g>\n     </g>\n     <g id=\"text_8\">\n      <!-- 7 -->\n      <defs>\n       <path d=\"M 8.203125 72.90625 \nL 55.078125 72.90625 \nL 55.078125 68.703125 \nL 28.609375 0 \nL 18.3125 0 \nL 43.21875 64.59375 \nL 8.203125 64.59375 \nz\n\" id=\"DejaVuSans-55\"/>\n      </defs>\n      <g transform=\"translate(677.921875 460.477656)scale(0.1 -0.1)\">\n       <use xlink:href=\"#DejaVuSans-55\"/>\n      </g>\n     </g>\n    </g>\n    <g id=\"xtick_9\">\n     <g id=\"line2d_17\">\n      <path clip-path=\"url(#p20df8a0ec8)\" d=\"M 774.103125 445.879219 \nL 774.103125 10.999219 \n\" style=\"fill:none;stroke:#b0b0b0;stroke-linecap:square;stroke-width:0.8;\"/>\n     </g>\n     <g id=\"line2d_18\">\n      <g>\n       <use style=\"stroke:#000000;stroke-width:0.8;\" x=\"774.103125\" xlink:href=\"#m04634043ad\" y=\"445.879219\"/>\n      </g>\n     </g>\n     <g id=\"text_9\">\n      <!-- 8 -->\n      <defs>\n       <path d=\"M 31.78125 34.625 \nQ 24.75 34.625 20.71875 30.859375 \nQ 16.703125 27.09375 16.703125 20.515625 \nQ 16.703125 13.921875 20.71875 10.15625 \nQ 24.75 6.390625 31.78125 6.390625 \nQ 38.8125 6.390625 42.859375 10.171875 \nQ 46.921875 13.96875 46.921875 20.515625 \nQ 46.921875 27.09375 42.890625 30.859375 \nQ 38.875 34.625 31.78125 34.625 \nz\nM 21.921875 38.8125 \nQ 15.578125 40.375 12.03125 44.71875 \nQ 8.5 49.078125 8.5 55.328125 \nQ 8.5 64.0625 14.71875 69.140625 \nQ 20.953125 74.21875 31.78125 74.21875 \nQ 42.671875 74.21875 48.875 69.140625 \nQ 55.078125 64.0625 55.078125 55.328125 \nQ 55.078125 49.078125 51.53125 44.71875 \nQ 48 40.375 41.703125 38.8125 \nQ 48.828125 37.15625 52.796875 32.3125 \nQ 56.78125 27.484375 56.78125 20.515625 \nQ 56.78125 9.90625 50.3125 4.234375 \nQ 43.84375 -1.421875 31.78125 -1.421875 \nQ 19.734375 -1.421875 13.25 4.234375 \nQ 6.78125 9.90625 6.78125 20.515625 \nQ 6.78125 27.484375 10.78125 32.3125 \nQ 14.796875 37.15625 21.921875 38.8125 \nz\nM 18.3125 54.390625 \nQ 18.3125 48.734375 21.84375 45.5625 \nQ 25.390625 42.390625 31.78125 42.390625 \nQ 38.140625 42.390625 41.71875 45.5625 \nQ 45.3125 48.734375 45.3125 54.390625 \nQ 45.3125 60.0625 41.71875 63.234375 \nQ 38.140625 66.40625 31.78125 66.40625 \nQ 25.390625 66.40625 21.84375 63.234375 \nQ 18.3125 60.0625 18.3125 54.390625 \nz\n\" id=\"DejaVuSans-56\"/>\n      </defs>\n      <g transform=\"translate(770.921875 460.477656)scale(0.1 -0.1)\">\n       <use xlink:href=\"#DejaVuSans-56\"/>\n      </g>\n     </g>\n    </g>\n    <g id=\"xtick_10\">\n     <g id=\"line2d_19\">\n      <path clip-path=\"url(#p20df8a0ec8)\" d=\"M 867.103125 445.879219 \nL 867.103125 10.999219 \n\" style=\"fill:none;stroke:#b0b0b0;stroke-linecap:square;stroke-width:0.8;\"/>\n     </g>\n     <g id=\"line2d_20\">\n      <g>\n       <use style=\"stroke:#000000;stroke-width:0.8;\" x=\"867.103125\" xlink:href=\"#m04634043ad\" y=\"445.879219\"/>\n      </g>\n     </g>\n     <g id=\"text_10\">\n      <!-- 9 -->\n      <defs>\n       <path d=\"M 10.984375 1.515625 \nL 10.984375 10.5 \nQ 14.703125 8.734375 18.5 7.8125 \nQ 22.3125 6.890625 25.984375 6.890625 \nQ 35.75 6.890625 40.890625 13.453125 \nQ 46.046875 20.015625 46.78125 33.40625 \nQ 43.953125 29.203125 39.59375 26.953125 \nQ 35.25 24.703125 29.984375 24.703125 \nQ 19.046875 24.703125 12.671875 31.3125 \nQ 6.296875 37.9375 6.296875 49.421875 \nQ 6.296875 60.640625 12.9375 67.421875 \nQ 19.578125 74.21875 30.609375 74.21875 \nQ 43.265625 74.21875 49.921875 64.515625 \nQ 56.59375 54.828125 56.59375 36.375 \nQ 56.59375 19.140625 48.40625 8.859375 \nQ 40.234375 -1.421875 26.421875 -1.421875 \nQ 22.703125 -1.421875 18.890625 -0.6875 \nQ 15.09375 0.046875 10.984375 1.515625 \nz\nM 30.609375 32.421875 \nQ 37.25 32.421875 41.125 36.953125 \nQ 45.015625 41.5 45.015625 49.421875 \nQ 45.015625 57.28125 41.125 61.84375 \nQ 37.25 66.40625 30.609375 66.40625 \nQ 23.96875 66.40625 20.09375 61.84375 \nQ 16.21875 57.28125 16.21875 49.421875 \nQ 16.21875 41.5 20.09375 36.953125 \nQ 23.96875 32.421875 30.609375 32.421875 \nz\n\" id=\"DejaVuSans-57\"/>\n      </defs>\n      <g transform=\"translate(863.921875 460.477656)scale(0.1 -0.1)\">\n       <use xlink:href=\"#DejaVuSans-57\"/>\n      </g>\n     </g>\n    </g>\n   </g>\n   <g id=\"matplotlib.axis_2\">\n    <g id=\"ytick_1\">\n     <g id=\"line2d_21\">\n      <path clip-path=\"url(#p20df8a0ec8)\" d=\"M 30.103125 445.879219 \nL 867.103125 445.879219 \n\" style=\"fill:none;stroke:#b0b0b0;stroke-linecap:square;stroke-width:0.8;\"/>\n     </g>\n     <g id=\"line2d_22\">\n      <defs>\n       <path d=\"M 0 0 \nL -3.5 0 \n\" id=\"m0e62bb00c1\" style=\"stroke:#000000;stroke-width:0.8;\"/>\n      </defs>\n      <g>\n       <use style=\"stroke:#000000;stroke-width:0.8;\" x=\"30.103125\" xlink:href=\"#m0e62bb00c1\" y=\"445.879219\"/>\n      </g>\n     </g>\n     <g id=\"text_11\">\n      <!-- 0.0 -->\n      <defs>\n       <path d=\"M 10.6875 12.40625 \nL 21 12.40625 \nL 21 0 \nL 10.6875 0 \nz\n\" id=\"DejaVuSans-46\"/>\n      </defs>\n      <g transform=\"translate(7.2 449.678437)scale(0.1 -0.1)\">\n       <use xlink:href=\"#DejaVuSans-48\"/>\n       <use x=\"63.623047\" xlink:href=\"#DejaVuSans-46\"/>\n       <use x=\"95.410156\" xlink:href=\"#DejaVuSans-48\"/>\n      </g>\n     </g>\n    </g>\n    <g id=\"ytick_2\">\n     <g id=\"line2d_23\">\n      <path clip-path=\"url(#p20df8a0ec8)\" d=\"M 30.103125 358.903219 \nL 867.103125 358.903219 \n\" style=\"fill:none;stroke:#b0b0b0;stroke-linecap:square;stroke-width:0.8;\"/>\n     </g>\n     <g id=\"line2d_24\">\n      <g>\n       <use style=\"stroke:#000000;stroke-width:0.8;\" x=\"30.103125\" xlink:href=\"#m0e62bb00c1\" y=\"358.903219\"/>\n      </g>\n     </g>\n     <g id=\"text_12\">\n      <!-- 0.2 -->\n      <g transform=\"translate(7.2 362.702437)scale(0.1 -0.1)\">\n       <use xlink:href=\"#DejaVuSans-48\"/>\n       <use x=\"63.623047\" xlink:href=\"#DejaVuSans-46\"/>\n       <use x=\"95.410156\" xlink:href=\"#DejaVuSans-50\"/>\n      </g>\n     </g>\n    </g>\n    <g id=\"ytick_3\">\n     <g id=\"line2d_25\">\n      <path clip-path=\"url(#p20df8a0ec8)\" d=\"M 30.103125 271.927219 \nL 867.103125 271.927219 \n\" style=\"fill:none;stroke:#b0b0b0;stroke-linecap:square;stroke-width:0.8;\"/>\n     </g>\n     <g id=\"line2d_26\">\n      <g>\n       <use style=\"stroke:#000000;stroke-width:0.8;\" x=\"30.103125\" xlink:href=\"#m0e62bb00c1\" y=\"271.927219\"/>\n      </g>\n     </g>\n     <g id=\"text_13\">\n      <!-- 0.4 -->\n      <g transform=\"translate(7.2 275.726437)scale(0.1 -0.1)\">\n       <use xlink:href=\"#DejaVuSans-48\"/>\n       <use x=\"63.623047\" xlink:href=\"#DejaVuSans-46\"/>\n       <use x=\"95.410156\" xlink:href=\"#DejaVuSans-52\"/>\n      </g>\n     </g>\n    </g>\n    <g id=\"ytick_4\">\n     <g id=\"line2d_27\">\n      <path clip-path=\"url(#p20df8a0ec8)\" d=\"M 30.103125 184.951219 \nL 867.103125 184.951219 \n\" style=\"fill:none;stroke:#b0b0b0;stroke-linecap:square;stroke-width:0.8;\"/>\n     </g>\n     <g id=\"line2d_28\">\n      <g>\n       <use style=\"stroke:#000000;stroke-width:0.8;\" x=\"30.103125\" xlink:href=\"#m0e62bb00c1\" y=\"184.951219\"/>\n      </g>\n     </g>\n     <g id=\"text_14\">\n      <!-- 0.6 -->\n      <g transform=\"translate(7.2 188.750437)scale(0.1 -0.1)\">\n       <use xlink:href=\"#DejaVuSans-48\"/>\n       <use x=\"63.623047\" xlink:href=\"#DejaVuSans-46\"/>\n       <use x=\"95.410156\" xlink:href=\"#DejaVuSans-54\"/>\n      </g>\n     </g>\n    </g>\n    <g id=\"ytick_5\">\n     <g id=\"line2d_29\">\n      <path clip-path=\"url(#p20df8a0ec8)\" d=\"M 30.103125 97.975219 \nL 867.103125 97.975219 \n\" style=\"fill:none;stroke:#b0b0b0;stroke-linecap:square;stroke-width:0.8;\"/>\n     </g>\n     <g id=\"line2d_30\">\n      <g>\n       <use style=\"stroke:#000000;stroke-width:0.8;\" x=\"30.103125\" xlink:href=\"#m0e62bb00c1\" y=\"97.975219\"/>\n      </g>\n     </g>\n     <g id=\"text_15\">\n      <!-- 0.8 -->\n      <g transform=\"translate(7.2 101.774437)scale(0.1 -0.1)\">\n       <use xlink:href=\"#DejaVuSans-48\"/>\n       <use x=\"63.623047\" xlink:href=\"#DejaVuSans-46\"/>\n       <use x=\"95.410156\" xlink:href=\"#DejaVuSans-56\"/>\n      </g>\n     </g>\n    </g>\n    <g id=\"ytick_6\">\n     <g id=\"line2d_31\">\n      <path clip-path=\"url(#p20df8a0ec8)\" d=\"M 30.103125 10.999219 \nL 867.103125 10.999219 \n\" style=\"fill:none;stroke:#b0b0b0;stroke-linecap:square;stroke-width:0.8;\"/>\n     </g>\n     <g id=\"line2d_32\">\n      <g>\n       <use style=\"stroke:#000000;stroke-width:0.8;\" x=\"30.103125\" xlink:href=\"#m0e62bb00c1\" y=\"10.999219\"/>\n      </g>\n     </g>\n     <g id=\"text_16\">\n      <!-- 1.0 -->\n      <g transform=\"translate(7.2 14.798437)scale(0.1 -0.1)\">\n       <use xlink:href=\"#DejaVuSans-49\"/>\n       <use x=\"63.623047\" xlink:href=\"#DejaVuSans-46\"/>\n       <use x=\"95.410156\" xlink:href=\"#DejaVuSans-48\"/>\n      </g>\n     </g>\n    </g>\n   </g>\n   <g id=\"line2d_33\">\n    <path clip-path=\"url(#p20df8a0ec8)\" d=\"M 30.103125 146.135855 \nL 123.103125 146.919185 \nL 216.103125 147.458407 \nL 309.103125 147.808835 \nL 402.103125 147.985963 \nL 495.103125 148.071467 \nL 588.103125 148.116095 \nL 681.103125 148.140557 \nL 774.103125 148.157968 \nL 867.103125 148.171039 \n\" style=\"fill:none;stroke:#1f77b4;stroke-linecap:square;stroke-width:1.5;\"/>\n   </g>\n   <g id=\"patch_3\">\n    <path d=\"M 30.103125 445.879219 \nL 30.103125 10.999219 \n\" style=\"fill:none;stroke:#000000;stroke-linecap:square;stroke-linejoin:miter;stroke-width:0.8;\"/>\n   </g>\n   <g id=\"patch_4\">\n    <path d=\"M 867.103125 445.879219 \nL 867.103125 10.999219 \n\" style=\"fill:none;stroke:#000000;stroke-linecap:square;stroke-linejoin:miter;stroke-width:0.8;\"/>\n   </g>\n   <g id=\"patch_5\">\n    <path d=\"M 30.103125 445.879219 \nL 867.103125 445.879219 \n\" style=\"fill:none;stroke:#000000;stroke-linecap:square;stroke-linejoin:miter;stroke-width:0.8;\"/>\n   </g>\n   <g id=\"patch_6\">\n    <path d=\"M 30.103125 10.999219 \nL 867.103125 10.999219 \n\" style=\"fill:none;stroke:#000000;stroke-linecap:square;stroke-linejoin:miter;stroke-width:0.8;\"/>\n   </g>\n   <g id=\"legend_1\">\n    <g id=\"patch_7\">\n     <path d=\"M 821.740625 33.677344 \nL 860.103125 33.677344 \nQ 862.103125 33.677344 862.103125 31.677344 \nL 862.103125 17.999219 \nQ 862.103125 15.999219 860.103125 15.999219 \nL 821.740625 15.999219 \nQ 819.740625 15.999219 819.740625 17.999219 \nL 819.740625 31.677344 \nQ 819.740625 33.677344 821.740625 33.677344 \nz\n\" style=\"fill:#ffffff;opacity:0.8;stroke:#cccccc;stroke-linejoin:miter;\"/>\n    </g>\n    <g id=\"line2d_34\">\n     <path d=\"M 823.740625 24.097656 \nL 843.740625 24.097656 \n\" style=\"fill:none;stroke:#1f77b4;stroke-linecap:square;stroke-width:1.5;\"/>\n    </g>\n    <g id=\"line2d_35\"/>\n    <g id=\"text_17\">\n     <!-- 0 -->\n     <g transform=\"translate(851.740625 27.597656)scale(0.1 -0.1)\">\n      <use xlink:href=\"#DejaVuSans-48\"/>\n     </g>\n    </g>\n   </g>\n  </g>\n </g>\n <defs>\n  <clipPath id=\"p20df8a0ec8\">\n   <rect height=\"434.88\" width=\"837\" x=\"30.103125\" y=\"10.999219\"/>\n  </clipPath>\n </defs>\n</svg>\n",
      "image/png": "[encoded data removed]"
     },
     "metadata": {
      "needs_background": "light"
     }
    }
   ],
   "source": [
    "#plot the history\n",
    "pd.DataFrame.from_dict(history.history['loss']).plot(figsize=(15, 8))\n",
    "plt.grid(True)\n",
    "plt.gca().set_ylim(0, 1) # set the vertical range to [0-1]\n",
    "plt.show()"
   ]
  },
  {
   "cell_type": "markdown",
   "metadata": {},
   "source": [
    "### Predict test data"
   ]
  },
  {
   "cell_type": "code",
   "execution_count": 19,
   "metadata": {},
   "outputs": [
    {
     "output_type": "stream",
     "name": "stdout",
     "text": "1/1 [==============================] - 0s 40ms/step\n"
    }
   ],
   "source": [
    "y_prob = model.predict(x=test_tf.batch(batch_size=1000), steps=1, verbose=True)"
   ]
  },
  {
   "cell_type": "code",
   "execution_count": 20,
   "metadata": {},
   "outputs": [],
   "source": [
    "# plotroc curve"
   ]
  },
  {
   "cell_type": "code",
   "execution_count": 21,
   "metadata": {},
   "outputs": [],
   "source": [
    "from  sklearn.metrics import roc_curve, auc\n",
    "def plotRoc(y, y_proba):\n",
    "\n",
    "    fpr, tpr, _ = roc_curve(y, y_proba)\n",
    "    roc_auc = auc(fpr, tpr)\n",
    "\n",
    "    lw = 2\n",
    "    trace1 = go.Scatter(x=fpr, y=tpr, \n",
    "                        mode='lines', \n",
    "                        line=dict(color='darkorange', width=lw),\n",
    "                        name='ROC curve (area = %0.2f)' % roc_auc\n",
    "                    )\n",
    "\n",
    "    trace2 = go.Scatter(x=[0, 1], y=[0, 1], \n",
    "                        mode='lines', \n",
    "                        line=dict(color='navy', width=lw, dash='dash'),\n",
    "                        showlegend=False)\n",
    "\n",
    "    layout = go.Layout(title='Receiver operating characteristic example',\n",
    "                    xaxis=dict(title='False Positive Rate'),\n",
    "                    yaxis=dict(title='True Positive Rate'))\n",
    "\n",
    "    fig = go.Figure(data=[trace1, trace2], layout=layout)\n",
    "    fig.show()"
   ]
  },
  {
   "cell_type": "code",
   "execution_count": 22,
   "metadata": {},
   "outputs": [
    {
     "output_type": "display_data",
     "data": {
      "application/vnd.plotly.v1+json": {
       "config": {
        "plotlyServerURL": "https://plot.ly"
       },
       "data": [
        {
         "line": {
          "color": "darkorange",
          "width": 2
         },
         "mode": "lines",
         "name": "ROC curve (area = 0.54)",
         "type": "scatter",
         "x": [
          0,
          0.0043859649122807015,
          0.008771929824561403,
          0.008771929824561403,
          0.03070175438596491,
          0.03070175438596491,
          0.043859649122807015,
          0.043859649122807015,
          0.05263157894736842,
          0.05263157894736842,
          0.05701754385964912,
          0.05701754385964912,
          0.06140350877192982,
          0.06140350877192982,
          0.06578947368421052,
          0.06578947368421052,
          0.07456140350877193,
          0.07456140350877193,
          0.09210526315789473,
          0.09210526315789473,
          0.10964912280701754,
          0.10964912280701754,
          0.11403508771929824,
          0.11403508771929824,
          0.11842105263157894,
          0.11842105263157894,
          0.12280701754385964,
          0.12280701754385964,
          0.12719298245614036,
          0.12719298245614036,
          0.13157894736842105,
          0.13157894736842105,
          0.14035087719298245,
          0.14035087719298245,
          0.14473684210526316,
          0.14473684210526316,
          0.14912280701754385,
          0.14912280701754385,
          0.16666666666666666,
          0.16666666666666666,
          0.17105263157894737,
          0.17105263157894737,
          0.17543859649122806,
          0.17543859649122806,
          0.18421052631578946,
          0.18421052631578946,
          0.18859649122807018,
          0.18859649122807018,
          0.19298245614035087,
          0.19298245614035087,
          0.19736842105263158,
          0.19736842105263158,
          0.2149122807017544,
          0.2149122807017544,
          0.21929824561403508,
          0.21929824561403508,
          0.2412280701754386,
          0.2412280701754386,
          0.24561403508771928,
          0.24561403508771928,
          0.25,
          0.25,
          0.2543859649122807,
          0.2543859649122807,
          0.25877192982456143,
          0.25877192982456143,
          0.2631578947368421,
          0.2631578947368421,
          0.2807017543859649,
          0.2807017543859649,
          0.2850877192982456,
          0.2850877192982456,
          0.3026315789473684,
          0.3026315789473684,
          0.3201754385964912,
          0.3201754385964912,
          0.32456140350877194,
          0.32456140350877194,
          0.32894736842105265,
          0.32894736842105265,
          0.3333333333333333,
          0.3333333333333333,
          0.33771929824561403,
          0.33771929824561403,
          0.34649122807017546,
          0.34649122807017546,
          0.35526315789473684,
          0.35526315789473684,
          0.3684210526315789,
          0.3684210526315789,
          0.39035087719298245,
          0.39035087719298245,
          0.40350877192982454,
          0.40350877192982454,
          0.43859649122807015,
          0.43859649122807015,
          0.4649122807017544,
          0.4649122807017544,
          0.4692982456140351,
          0.4692982456140351,
          0.4780701754385965,
          0.4780701754385965,
          0.49122807017543857,
          0.49122807017543857,
          0.5175438596491229,
          0.5175438596491229,
          0.5263157894736842,
          0.5263157894736842,
          0.5307017543859649,
          0.5307017543859649,
          0.5350877192982456,
          0.5350877192982456,
          0.543859649122807,
          0.543859649122807,
          0.5614035087719298,
          0.5614035087719298,
          0.5745614035087719,
          0.5745614035087719,
          0.5833333333333334,
          0.5833333333333334,
          0.6359649122807017,
          0.6359649122807017,
          0.6403508771929824,
          0.6403508771929824,
          0.6447368421052632,
          0.6447368421052632,
          0.6578947368421053,
          0.6578947368421053,
          0.6622807017543859,
          0.6622807017543859,
          0.6710526315789473,
          0.6710526315789473,
          0.6885964912280702,
          0.6885964912280702,
          0.6973684210526315,
          0.6973684210526315,
          0.7192982456140351,
          0.7192982456140351,
          0.7280701754385965,
          0.7280701754385965,
          0.7324561403508771,
          0.7324561403508771,
          0.7412280701754386,
          0.7412280701754386,
          0.7543859649122807,
          0.7543859649122807,
          0.7587719298245614,
          0.7587719298245614,
          0.7675438596491229,
          0.7675438596491229,
          0.7894736842105263,
          0.7894736842105263,
          0.7982456140350878,
          0.7982456140350878,
          0.8070175438596491,
          0.8070175438596491,
          0.8114035087719298,
          0.8114035087719298,
          0.8201754385964912,
          0.8201754385964912,
          0.8289473684210527,
          0.8289473684210527,
          0.8464912280701754,
          0.8464912280701754,
          0.8508771929824561,
          0.8508771929824561,
          0.8640350877192983,
          0.8640350877192983,
          0.868421052631579,
          0.868421052631579,
          0.8728070175438597,
          0.8728070175438597,
          0.8771929824561403,
          0.8771929824561403,
          0.8903508771929824,
          0.8903508771929824,
          0.8947368421052632,
          0.8947368421052632,
          0.8991228070175439,
          0.8991228070175439,
          0.9078947368421053,
          0.9078947368421053,
          0.9122807017543859,
          0.9122807017543859,
          0.9254385964912281,
          0.9254385964912281,
          0.9385964912280702,
          0.9385964912280702,
          0.9429824561403509,
          0.9429824561403509,
          0.956140350877193,
          0.956140350877193,
          0.9692982456140351,
          0.9692982456140351,
          0.9736842105263158,
          0.9736842105263158,
          0.9780701754385965,
          0.9780701754385965,
          0.9912280701754386,
          0.9912280701754386,
          1
         ],
         "y": [
          0,
          0,
          0,
          0.020202020202020204,
          0.020202020202020204,
          0.03535353535353535,
          0.03535353535353535,
          0.06060606060606061,
          0.06060606060606061,
          0.0707070707070707,
          0.0707070707070707,
          0.08080808080808081,
          0.08080808080808081,
          0.10101010101010101,
          0.10101010101010101,
          0.11616161616161616,
          0.11616161616161616,
          0.12626262626262627,
          0.12626262626262627,
          0.13636363636363635,
          0.13636363636363635,
          0.14646464646464646,
          0.14646464646464646,
          0.15151515151515152,
          0.15151515151515152,
          0.16161616161616163,
          0.16161616161616163,
          0.16666666666666666,
          0.16666666666666666,
          0.1919191919191919,
          0.1919191919191919,
          0.20202020202020202,
          0.20202020202020202,
          0.20707070707070707,
          0.20707070707070707,
          0.21212121212121213,
          0.21212121212121213,
          0.22727272727272727,
          0.22727272727272727,
          0.23737373737373738,
          0.23737373737373738,
          0.2474747474747475,
          0.2474747474747475,
          0.25252525252525254,
          0.25252525252525254,
          0.2676767676767677,
          0.2676767676767677,
          0.2727272727272727,
          0.2727272727272727,
          0.2777777777777778,
          0.2777777777777778,
          0.2828282828282828,
          0.2828282828282828,
          0.2878787878787879,
          0.2878787878787879,
          0.29292929292929293,
          0.29292929292929293,
          0.30808080808080807,
          0.30808080808080807,
          0.3181818181818182,
          0.3181818181818182,
          0.32323232323232326,
          0.32323232323232326,
          0.3282828282828283,
          0.3282828282828283,
          0.36363636363636365,
          0.36363636363636365,
          0.3787878787878788,
          0.3787878787878788,
          0.3838383838383838,
          0.3838383838383838,
          0.3888888888888889,
          0.3888888888888889,
          0.398989898989899,
          0.398989898989899,
          0.40404040404040403,
          0.40404040404040403,
          0.41414141414141414,
          0.41414141414141414,
          0.41919191919191917,
          0.41919191919191917,
          0.42424242424242425,
          0.42424242424242425,
          0.4292929292929293,
          0.4292929292929293,
          0.4393939393939394,
          0.4393939393939394,
          0.4444444444444444,
          0.4444444444444444,
          0.45454545454545453,
          0.45454545454545453,
          0.46464646464646464,
          0.46464646464646464,
          0.48484848484848486,
          0.48484848484848486,
          0.494949494949495,
          0.494949494949495,
          0.5,
          0.5,
          0.5252525252525253,
          0.5252525252525253,
          0.5303030303030303,
          0.5303030303030303,
          0.5505050505050505,
          0.5505050505050505,
          0.5606060606060606,
          0.5606060606060606,
          0.5656565656565656,
          0.5656565656565656,
          0.5858585858585859,
          0.5858585858585859,
          0.601010101010101,
          0.601010101010101,
          0.6060606060606061,
          0.6060606060606061,
          0.6363636363636364,
          0.6363636363636364,
          0.6414141414141414,
          0.6414141414141414,
          0.6717171717171717,
          0.6717171717171717,
          0.6767676767676768,
          0.6767676767676768,
          0.6818181818181818,
          0.6818181818181818,
          0.7070707070707071,
          0.7070707070707071,
          0.7121212121212122,
          0.7121212121212122,
          0.7171717171717171,
          0.7171717171717171,
          0.7222222222222222,
          0.7222222222222222,
          0.7323232323232324,
          0.7323232323232324,
          0.7373737373737373,
          0.7373737373737373,
          0.7424242424242424,
          0.7424242424242424,
          0.7676767676767676,
          0.7676767676767676,
          0.7727272727272727,
          0.7727272727272727,
          0.7777777777777778,
          0.7777777777777778,
          0.7929292929292929,
          0.7929292929292929,
          0.797979797979798,
          0.797979797979798,
          0.8080808080808081,
          0.8080808080808081,
          0.8181818181818182,
          0.8181818181818182,
          0.8232323232323232,
          0.8232323232323232,
          0.8282828282828283,
          0.8282828282828283,
          0.8333333333333334,
          0.8333333333333334,
          0.8434343434343434,
          0.8434343434343434,
          0.8484848484848485,
          0.8484848484848485,
          0.8535353535353535,
          0.8535353535353535,
          0.8636363636363636,
          0.8636363636363636,
          0.8686868686868687,
          0.8686868686868687,
          0.8737373737373737,
          0.8737373737373737,
          0.8838383838383839,
          0.8838383838383839,
          0.8888888888888888,
          0.8888888888888888,
          0.8939393939393939,
          0.8939393939393939,
          0.898989898989899,
          0.898989898989899,
          0.9090909090909091,
          0.9090909090909091,
          0.9141414141414141,
          0.9141414141414141,
          0.9191919191919192,
          0.9191919191919192,
          0.9242424242424242,
          0.9242424242424242,
          0.9343434343434344,
          0.9343434343434344,
          0.9393939393939394,
          0.9393939393939394,
          0.9494949494949495,
          0.9494949494949495,
          0.9545454545454546,
          0.9545454545454546,
          0.9747474747474747,
          0.9747474747474747,
          0.9949494949494949,
          0.9949494949494949,
          1,
          1
         ]
        },
        {
         "line": {
          "color": "navy",
          "dash": "dash",
          "width": 2
         },
         "mode": "lines",
         "showlegend": false,
         "type": "scatter",
         "x": [
          0,
          1
         ],
         "y": [
          0,
          1
         ]
        }
       ],
       "layout": {
        "template": {
         "data": {
          "bar": [
           {
            "error_x": {
             "color": "#2a3f5f"
            },
            "error_y": {
             "color": "#2a3f5f"
            },
            "marker": {
             "line": {
              "color": "#E5ECF6",
              "width": 0.5
             }
            },
            "type": "bar"
           }
          ],
          "barpolar": [
           {
            "marker": {
             "line": {
              "color": "#E5ECF6",
              "width": 0.5
             }
            },
            "type": "barpolar"
           }
          ],
          "carpet": [
           {
            "aaxis": {
             "endlinecolor": "#2a3f5f",
             "gridcolor": "white",
             "linecolor": "white",
             "minorgridcolor": "white",
             "startlinecolor": "#2a3f5f"
            },
            "baxis": {
             "endlinecolor": "#2a3f5f",
             "gridcolor": "white",
             "linecolor": "white",
             "minorgridcolor": "white",
             "startlinecolor": "#2a3f5f"
            },
            "type": "carpet"
           }
          ],
          "choropleth": [
           {
            "colorbar": {
             "outlinewidth": 0,
             "ticks": ""
            },
            "type": "choropleth"
           }
          ],
          "contour": [
           {
            "colorbar": {
             "outlinewidth": 0,
             "ticks": ""
            },
            "colorscale": [
             [
              0,
              "#0d0887"
             ],
             [
              0.1111111111111111,
              "#46039f"
             ],
             [
              0.2222222222222222,
              "#7201a8"
             ],
             [
              0.3333333333333333,
              "#9c179e"
             ],
             [
              0.4444444444444444,
              "#bd3786"
             ],
             [
              0.5555555555555556,
              "#d8576b"
             ],
             [
              0.6666666666666666,
              "#ed7953"
             ],
             [
              0.7777777777777778,
              "#fb9f3a"
             ],
             [
              0.8888888888888888,
              "#fdca26"
             ],
             [
              1,
              "#f0f921"
             ]
            ],
            "type": "contour"
           }
          ],
          "contourcarpet": [
           {
            "colorbar": {
             "outlinewidth": 0,
             "ticks": ""
            },
            "type": "contourcarpet"
           }
          ],
          "heatmap": [
           {
            "colorbar": {
             "outlinewidth": 0,
             "ticks": ""
            },
            "colorscale": [
             [
              0,
              "#0d0887"
             ],
             [
              0.1111111111111111,
              "#46039f"
             ],
             [
              0.2222222222222222,
              "#7201a8"
             ],
             [
              0.3333333333333333,
              "#9c179e"
             ],
             [
              0.4444444444444444,
              "#bd3786"
             ],
             [
              0.5555555555555556,
              "#d8576b"
             ],
             [
              0.6666666666666666,
              "#ed7953"
             ],
             [
              0.7777777777777778,
              "#fb9f3a"
             ],
             [
              0.8888888888888888,
              "#fdca26"
             ],
             [
              1,
              "#f0f921"
             ]
            ],
            "type": "heatmap"
           }
          ],
          "heatmapgl": [
           {
            "colorbar": {
             "outlinewidth": 0,
             "ticks": ""
            },
            "colorscale": [
             [
              0,
              "#0d0887"
             ],
             [
              0.1111111111111111,
              "#46039f"
             ],
             [
              0.2222222222222222,
              "#7201a8"
             ],
             [
              0.3333333333333333,
              "#9c179e"
             ],
             [
              0.4444444444444444,
              "#bd3786"
             ],
             [
              0.5555555555555556,
              "#d8576b"
             ],
             [
              0.6666666666666666,
              "#ed7953"
             ],
             [
              0.7777777777777778,
              "#fb9f3a"
             ],
             [
              0.8888888888888888,
              "#fdca26"
             ],
             [
              1,
              "#f0f921"
             ]
            ],
            "type": "heatmapgl"
           }
          ],
          "histogram": [
           {
            "marker": {
             "colorbar": {
              "outlinewidth": 0,
              "ticks": ""
             }
            },
            "type": "histogram"
           }
          ],
          "histogram2d": [
           {
            "colorbar": {
             "outlinewidth": 0,
             "ticks": ""
            },
            "colorscale": [
             [
              0,
              "#0d0887"
             ],
             [
              0.1111111111111111,
              "#46039f"
             ],
             [
              0.2222222222222222,
              "#7201a8"
             ],
             [
              0.3333333333333333,
              "#9c179e"
             ],
             [
              0.4444444444444444,
              "#bd3786"
             ],
             [
              0.5555555555555556,
              "#d8576b"
             ],
             [
              0.6666666666666666,
              "#ed7953"
             ],
             [
              0.7777777777777778,
              "#fb9f3a"
             ],
             [
              0.8888888888888888,
              "#fdca26"
             ],
             [
              1,
              "#f0f921"
             ]
            ],
            "type": "histogram2d"
           }
          ],
          "histogram2dcontour": [
           {
            "colorbar": {
             "outlinewidth": 0,
             "ticks": ""
            },
            "colorscale": [
             [
              0,
              "#0d0887"
             ],
             [
              0.1111111111111111,
              "#46039f"
             ],
             [
              0.2222222222222222,
              "#7201a8"
             ],
             [
              0.3333333333333333,
              "#9c179e"
             ],
             [
              0.4444444444444444,
              "#bd3786"
             ],
             [
              0.5555555555555556,
              "#d8576b"
             ],
             [
              0.6666666666666666,
              "#ed7953"
             ],
             [
              0.7777777777777778,
              "#fb9f3a"
             ],
             [
              0.8888888888888888,
              "#fdca26"
             ],
             [
              1,
              "#f0f921"
             ]
            ],
            "type": "histogram2dcontour"
           }
          ],
          "mesh3d": [
           {
            "colorbar": {
             "outlinewidth": 0,
             "ticks": ""
            },
            "type": "mesh3d"
           }
          ],
          "parcoords": [
           {
            "line": {
             "colorbar": {
              "outlinewidth": 0,
              "ticks": ""
             }
            },
            "type": "parcoords"
           }
          ],
          "pie": [
           {
            "automargin": true,
            "type": "pie"
           }
          ],
          "scatter": [
           {
            "marker": {
             "colorbar": {
              "outlinewidth": 0,
              "ticks": ""
             }
            },
            "type": "scatter"
           }
          ],
          "scatter3d": [
           {
            "line": {
             "colorbar": {
              "outlinewidth": 0,
              "ticks": ""
             }
            },
            "marker": {
             "colorbar": {
              "outlinewidth": 0,
              "ticks": ""
             }
            },
            "type": "scatter3d"
           }
          ],
          "scattercarpet": [
           {
            "marker": {
             "colorbar": {
              "outlinewidth": 0,
              "ticks": ""
             }
            },
            "type": "scattercarpet"
           }
          ],
          "scattergeo": [
           {
            "marker": {
             "colorbar": {
              "outlinewidth": 0,
              "ticks": ""
             }
            },
            "type": "scattergeo"
           }
          ],
          "scattergl": [
           {
            "marker": {
             "colorbar": {
              "outlinewidth": 0,
              "ticks": ""
             }
            },
            "type": "scattergl"
           }
          ],
          "scattermapbox": [
           {
            "marker": {
             "colorbar": {
              "outlinewidth": 0,
              "ticks": ""
             }
            },
            "type": "scattermapbox"
           }
          ],
          "scatterpolar": [
           {
            "marker": {
             "colorbar": {
              "outlinewidth": 0,
              "ticks": ""
             }
            },
            "type": "scatterpolar"
           }
          ],
          "scatterpolargl": [
           {
            "marker": {
             "colorbar": {
              "outlinewidth": 0,
              "ticks": ""
             }
            },
            "type": "scatterpolargl"
           }
          ],
          "scatterternary": [
           {
            "marker": {
             "colorbar": {
              "outlinewidth": 0,
              "ticks": ""
             }
            },
            "type": "scatterternary"
           }
          ],
          "surface": [
           {
            "colorbar": {
             "outlinewidth": 0,
             "ticks": ""
            },
            "colorscale": [
             [
              0,
              "#0d0887"
             ],
             [
              0.1111111111111111,
              "#46039f"
             ],
             [
              0.2222222222222222,
              "#7201a8"
             ],
             [
              0.3333333333333333,
              "#9c179e"
             ],
             [
              0.4444444444444444,
              "#bd3786"
             ],
             [
              0.5555555555555556,
              "#d8576b"
             ],
             [
              0.6666666666666666,
              "#ed7953"
             ],
             [
              0.7777777777777778,
              "#fb9f3a"
             ],
             [
              0.8888888888888888,
              "#fdca26"
             ],
             [
              1,
              "#f0f921"
             ]
            ],
            "type": "surface"
           }
          ],
          "table": [
           {
            "cells": {
             "fill": {
              "color": "#EBF0F8"
             },
             "line": {
              "color": "white"
             }
            },
            "header": {
             "fill": {
              "color": "#C8D4E3"
             },
             "line": {
              "color": "white"
             }
            },
            "type": "table"
           }
          ]
         },
         "layout": {
          "annotationdefaults": {
           "arrowcolor": "#2a3f5f",
           "arrowhead": 0,
           "arrowwidth": 1
          },
          "coloraxis": {
           "colorbar": {
            "outlinewidth": 0,
            "ticks": ""
           }
          },
          "colorscale": {
           "diverging": [
            [
             0,
             "#8e0152"
            ],
            [
             0.1,
             "#c51b7d"
            ],
            [
             0.2,
             "#de77ae"
            ],
            [
             0.3,
             "#f1b6da"
            ],
            [
             0.4,
             "#fde0ef"
            ],
            [
             0.5,
             "#f7f7f7"
            ],
            [
             0.6,
             "#e6f5d0"
            ],
            [
             0.7,
             "#b8e186"
            ],
            [
             0.8,
             "#7fbc41"
            ],
            [
             0.9,
             "#4d9221"
            ],
            [
             1,
             "#276419"
            ]
           ],
           "sequential": [
            [
             0,
             "#0d0887"
            ],
            [
             0.1111111111111111,
             "#46039f"
            ],
            [
             0.2222222222222222,
             "#7201a8"
            ],
            [
             0.3333333333333333,
             "#9c179e"
            ],
            [
             0.4444444444444444,
             "#bd3786"
            ],
            [
             0.5555555555555556,
             "#d8576b"
            ],
            [
             0.6666666666666666,
             "#ed7953"
            ],
            [
             0.7777777777777778,
             "#fb9f3a"
            ],
            [
             0.8888888888888888,
             "#fdca26"
            ],
            [
             1,
             "#f0f921"
            ]
           ],
           "sequentialminus": [
            [
             0,
             "#0d0887"
            ],
            [
             0.1111111111111111,
             "#46039f"
            ],
            [
             0.2222222222222222,
             "#7201a8"
            ],
            [
             0.3333333333333333,
             "#9c179e"
            ],
            [
             0.4444444444444444,
             "#bd3786"
            ],
            [
             0.5555555555555556,
             "#d8576b"
            ],
            [
             0.6666666666666666,
             "#ed7953"
            ],
            [
             0.7777777777777778,
             "#fb9f3a"
            ],
            [
             0.8888888888888888,
             "#fdca26"
            ],
            [
             1,
             "#f0f921"
            ]
           ]
          },
          "colorway": [
           "#636efa",
           "#EF553B",
           "#00cc96",
           "#ab63fa",
           "#FFA15A",
           "#19d3f3",
           "#FF6692",
           "#B6E880",
           "#FF97FF",
           "#FECB52"
          ],
          "font": {
           "color": "#2a3f5f"
          },
          "geo": {
           "bgcolor": "white",
           "lakecolor": "white",
           "landcolor": "#E5ECF6",
           "showlakes": true,
           "showland": true,
           "subunitcolor": "white"
          },
          "hoverlabel": {
           "align": "left"
          },
          "hovermode": "closest",
          "mapbox": {
           "style": "light"
          },
          "paper_bgcolor": "white",
          "plot_bgcolor": "#E5ECF6",
          "polar": {
           "angularaxis": {
            "gridcolor": "white",
            "linecolor": "white",
            "ticks": ""
           },
           "bgcolor": "#E5ECF6",
           "radialaxis": {
            "gridcolor": "white",
            "linecolor": "white",
            "ticks": ""
           }
          },
          "scene": {
           "xaxis": {
            "backgroundcolor": "#E5ECF6",
            "gridcolor": "white",
            "gridwidth": 2,
            "linecolor": "white",
            "showbackground": true,
            "ticks": "",
            "zerolinecolor": "white"
           },
           "yaxis": {
            "backgroundcolor": "#E5ECF6",
            "gridcolor": "white",
            "gridwidth": 2,
            "linecolor": "white",
            "showbackground": true,
            "ticks": "",
            "zerolinecolor": "white"
           },
           "zaxis": {
            "backgroundcolor": "#E5ECF6",
            "gridcolor": "white",
            "gridwidth": 2,
            "linecolor": "white",
            "showbackground": true,
            "ticks": "",
            "zerolinecolor": "white"
           }
          },
          "shapedefaults": {
           "line": {
            "color": "#2a3f5f"
           }
          },
          "ternary": {
           "aaxis": {
            "gridcolor": "white",
            "linecolor": "white",
            "ticks": ""
           },
           "baxis": {
            "gridcolor": "white",
            "linecolor": "white",
            "ticks": ""
           },
           "bgcolor": "#E5ECF6",
           "caxis": {
            "gridcolor": "white",
            "linecolor": "white",
            "ticks": ""
           }
          },
          "title": {
           "x": 0.05
          },
          "xaxis": {
           "automargin": true,
           "gridcolor": "white",
           "linecolor": "white",
           "ticks": "",
           "title": {
            "standoff": 15
           },
           "zerolinecolor": "white",
           "zerolinewidth": 2
          },
          "yaxis": {
           "automargin": true,
           "gridcolor": "white",
           "linecolor": "white",
           "ticks": "",
           "title": {
            "standoff": 15
           },
           "zerolinecolor": "white",
           "zerolinewidth": 2
          }
         }
        },
        "title": {
         "text": "Receiver operating characteristic example"
        },
        "xaxis": {
         "title": {
          "text": "False Positive Rate"
         }
        },
        "yaxis": {
         "title": {
          "text": "True Positive Rate"
         }
        }
       }
      }
     },
     "metadata": {}
    }
   ],
   "source": [
    "plotRoc(ty_test.numpy(), y_prob.flatten())"
   ]
  },
  {
   "cell_type": "code",
   "execution_count": 23,
   "metadata": {},
   "outputs": [
    {
     "output_type": "execute_result",
     "data": {
      "text/plain": "       dir      pred    y\n50859 -1.0  0.256540  1.0\n50913 -1.0  0.307045  1.0\n51074 -1.0  0.565543  1.0\n51143 -1.0  0.563747  1.0\n51211 -1.0  0.559659  1.0\n...    ...       ...  ...\n61448 -1.0  0.412263  1.0\n61453 -1.0  0.414365  1.0\n61534 -1.0  0.409484  1.0\n61566 -1.0  0.423687  1.0\n61759 -1.0  0.367748  1.0\n\n[97 rows x 3 columns]",
      "text/html": "<div>\n<style scoped>\n    .dataframe tbody tr th:only-of-type {\n        vertical-align: middle;\n    }\n\n    .dataframe tbody tr th {\n        vertical-align: top;\n    }\n\n    .dataframe thead th {\n        text-align: right;\n    }\n</style>\n<table border=\"1\" class=\"dataframe\">\n  <thead>\n    <tr style=\"text-align: right;\">\n      <th></th>\n      <th>dir</th>\n      <th>pred</th>\n      <th>y</th>\n    </tr>\n  </thead>\n  <tbody>\n    <tr>\n      <th>50859</th>\n      <td>-1.0</td>\n      <td>0.256540</td>\n      <td>1.0</td>\n    </tr>\n    <tr>\n      <th>50913</th>\n      <td>-1.0</td>\n      <td>0.307045</td>\n      <td>1.0</td>\n    </tr>\n    <tr>\n      <th>51074</th>\n      <td>-1.0</td>\n      <td>0.565543</td>\n      <td>1.0</td>\n    </tr>\n    <tr>\n      <th>51143</th>\n      <td>-1.0</td>\n      <td>0.563747</td>\n      <td>1.0</td>\n    </tr>\n    <tr>\n      <th>51211</th>\n      <td>-1.0</td>\n      <td>0.559659</td>\n      <td>1.0</td>\n    </tr>\n    <tr>\n      <th>...</th>\n      <td>...</td>\n      <td>...</td>\n      <td>...</td>\n    </tr>\n    <tr>\n      <th>61448</th>\n      <td>-1.0</td>\n      <td>0.412263</td>\n      <td>1.0</td>\n    </tr>\n    <tr>\n      <th>61453</th>\n      <td>-1.0</td>\n      <td>0.414365</td>\n      <td>1.0</td>\n    </tr>\n    <tr>\n      <th>61534</th>\n      <td>-1.0</td>\n      <td>0.409484</td>\n      <td>1.0</td>\n    </tr>\n    <tr>\n      <th>61566</th>\n      <td>-1.0</td>\n      <td>0.423687</td>\n      <td>1.0</td>\n    </tr>\n    <tr>\n      <th>61759</th>\n      <td>-1.0</td>\n      <td>0.367748</td>\n      <td>1.0</td>\n    </tr>\n  </tbody>\n</table>\n<p>97 rows × 3 columns</p>\n</div>"
     },
     "metadata": {},
     "execution_count": 23
    }
   ],
   "source": [
    "x_test_df['pred'] = y_prob\n",
    "x_test_df['y'] = ty_test.numpy()\n",
    "f = x_test_df.dir != x_test_df.y\n",
    "x_test_df[f][['dir', 'pred', 'y']]\n",
    "f2 = x_test_df[f][['dir', 'pred', 'y']].y == 1\n",
    "x_test_df[f][['dir', 'pred', 'y']][f2]"
   ]
  },
  {
   "cell_type": "code",
   "execution_count": 24,
   "metadata": {},
   "outputs": [
    {
     "output_type": "execute_result",
     "data": {
      "text/plain": "1.0    50\n0.0    42\nName: y, dtype: int64"
     },
     "metadata": {},
     "execution_count": 24
    }
   ],
   "source": [
    "f = x_test_df['pred'] > 0.5\n",
    "x_test_df[f][['dir', 'pred', 'y']].y.value_counts()"
   ]
  },
  {
   "cell_type": "code",
   "execution_count": null,
   "metadata": {},
   "outputs": [],
   "source": []
  }
 ]
}